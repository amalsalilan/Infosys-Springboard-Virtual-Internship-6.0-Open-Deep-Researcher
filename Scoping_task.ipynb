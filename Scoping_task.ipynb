{
  "nbformat": 4,
  "nbformat_minor": 0,
  "metadata": {
    "colab": {
      "provenance": []
    },
    "kernelspec": {
      "name": "python3",
      "display_name": "Python 3"
    },
    "language_info": {
      "name": "python"
    }
  },
  "cells": [
    {
      "cell_type": "code",
      "source": [
        "!pip install langchain langgraph rich python-dotenv pydantic typing_extensions tenacity tavily-python sqlite-utils"
      ],
      "metadata": {
        "id": "NCa-37-utt9V",
        "colab": {
          "base_uri": "https://localhost:8080/"
        },
        "outputId": "612b107d-d8e7-4d90-825d-9d1bdc8838e4"
      },
      "execution_count": null,
      "outputs": [
        {
          "output_type": "stream",
          "name": "stdout",
          "text": [
            "Requirement already satisfied: langchain in /usr/local/lib/python3.12/dist-packages (0.3.27)\n",
            "Requirement already satisfied: langgraph in /usr/local/lib/python3.12/dist-packages (0.6.7)\n",
            "Requirement already satisfied: rich in /usr/local/lib/python3.12/dist-packages (13.9.4)\n",
            "Requirement already satisfied: python-dotenv in /usr/local/lib/python3.12/dist-packages (1.1.1)\n",
            "Requirement already satisfied: pydantic in /usr/local/lib/python3.12/dist-packages (2.11.7)\n",
            "Requirement already satisfied: typing_extensions in /usr/local/lib/python3.12/dist-packages (4.15.0)\n",
            "Requirement already satisfied: tenacity in /usr/local/lib/python3.12/dist-packages (8.5.0)\n",
            "Requirement already satisfied: tavily-python in /usr/local/lib/python3.12/dist-packages (0.7.11)\n",
            "Requirement already satisfied: sqlite-utils in /usr/local/lib/python3.12/dist-packages (3.38)\n",
            "Requirement already satisfied: langchain-core<1.0.0,>=0.3.72 in /usr/local/lib/python3.12/dist-packages (from langchain) (0.3.75)\n",
            "Requirement already satisfied: langchain-text-splitters<1.0.0,>=0.3.9 in /usr/local/lib/python3.12/dist-packages (from langchain) (0.3.11)\n",
            "Requirement already satisfied: langsmith>=0.1.17 in /usr/local/lib/python3.12/dist-packages (from langchain) (0.4.23)\n",
            "Requirement already satisfied: SQLAlchemy<3,>=1.4 in /usr/local/lib/python3.12/dist-packages (from langchain) (2.0.43)\n",
            "Requirement already satisfied: requests<3,>=2 in /usr/local/lib/python3.12/dist-packages (from langchain) (2.32.4)\n",
            "Requirement already satisfied: PyYAML>=5.3 in /usr/local/lib/python3.12/dist-packages (from langchain) (6.0.2)\n",
            "Requirement already satisfied: langgraph-checkpoint<3.0.0,>=2.1.0 in /usr/local/lib/python3.12/dist-packages (from langgraph) (2.1.1)\n",
            "Requirement already satisfied: langgraph-prebuilt<0.7.0,>=0.6.0 in /usr/local/lib/python3.12/dist-packages (from langgraph) (0.6.4)\n",
            "Requirement already satisfied: langgraph-sdk<0.3.0,>=0.2.2 in /usr/local/lib/python3.12/dist-packages (from langgraph) (0.2.6)\n",
            "Requirement already satisfied: xxhash>=3.5.0 in /usr/local/lib/python3.12/dist-packages (from langgraph) (3.5.0)\n",
            "Requirement already satisfied: markdown-it-py>=2.2.0 in /usr/local/lib/python3.12/dist-packages (from rich) (4.0.0)\n",
            "Requirement already satisfied: pygments<3.0.0,>=2.13.0 in /usr/local/lib/python3.12/dist-packages (from rich) (2.19.2)\n",
            "Requirement already satisfied: annotated-types>=0.6.0 in /usr/local/lib/python3.12/dist-packages (from pydantic) (0.7.0)\n",
            "Requirement already satisfied: pydantic-core==2.33.2 in /usr/local/lib/python3.12/dist-packages (from pydantic) (2.33.2)\n",
            "Requirement already satisfied: typing-inspection>=0.4.0 in /usr/local/lib/python3.12/dist-packages (from pydantic) (0.4.1)\n",
            "Requirement already satisfied: tiktoken>=0.5.1 in /usr/local/lib/python3.12/dist-packages (from tavily-python) (0.11.0)\n",
            "Requirement already satisfied: httpx in /usr/local/lib/python3.12/dist-packages (from tavily-python) (0.28.1)\n",
            "Requirement already satisfied: sqlite-fts4 in /usr/local/lib/python3.12/dist-packages (from sqlite-utils) (1.0.3)\n",
            "Requirement already satisfied: click in /usr/local/lib/python3.12/dist-packages (from sqlite-utils) (8.2.1)\n",
            "Requirement already satisfied: click-default-group>=1.2.3 in /usr/local/lib/python3.12/dist-packages (from sqlite-utils) (1.2.4)\n",
            "Requirement already satisfied: tabulate in /usr/local/lib/python3.12/dist-packages (from sqlite-utils) (0.9.0)\n",
            "Requirement already satisfied: python-dateutil in /usr/local/lib/python3.12/dist-packages (from sqlite-utils) (2.9.0.post0)\n",
            "Requirement already satisfied: pluggy in /usr/local/lib/python3.12/dist-packages (from sqlite-utils) (1.6.0)\n",
            "Requirement already satisfied: jsonpatch<2.0,>=1.33 in /usr/local/lib/python3.12/dist-packages (from langchain-core<1.0.0,>=0.3.72->langchain) (1.33)\n",
            "Requirement already satisfied: packaging>=23.2 in /usr/local/lib/python3.12/dist-packages (from langchain-core<1.0.0,>=0.3.72->langchain) (25.0)\n",
            "Requirement already satisfied: ormsgpack>=1.10.0 in /usr/local/lib/python3.12/dist-packages (from langgraph-checkpoint<3.0.0,>=2.1.0->langgraph) (1.10.0)\n",
            "Requirement already satisfied: orjson>=3.10.1 in /usr/local/lib/python3.12/dist-packages (from langgraph-sdk<0.3.0,>=0.2.2->langgraph) (3.11.3)\n",
            "Requirement already satisfied: anyio in /usr/local/lib/python3.12/dist-packages (from httpx->tavily-python) (4.10.0)\n",
            "Requirement already satisfied: certifi in /usr/local/lib/python3.12/dist-packages (from httpx->tavily-python) (2025.8.3)\n",
            "Requirement already satisfied: httpcore==1.* in /usr/local/lib/python3.12/dist-packages (from httpx->tavily-python) (1.0.9)\n",
            "Requirement already satisfied: idna in /usr/local/lib/python3.12/dist-packages (from httpx->tavily-python) (3.10)\n",
            "Requirement already satisfied: h11>=0.16 in /usr/local/lib/python3.12/dist-packages (from httpcore==1.*->httpx->tavily-python) (0.16.0)\n",
            "Requirement already satisfied: requests-toolbelt>=1.0.0 in /usr/local/lib/python3.12/dist-packages (from langsmith>=0.1.17->langchain) (1.0.0)\n",
            "Requirement already satisfied: zstandard>=0.23.0 in /usr/local/lib/python3.12/dist-packages (from langsmith>=0.1.17->langchain) (0.24.0)\n",
            "Requirement already satisfied: mdurl~=0.1 in /usr/local/lib/python3.12/dist-packages (from markdown-it-py>=2.2.0->rich) (0.1.2)\n",
            "Requirement already satisfied: charset_normalizer<4,>=2 in /usr/local/lib/python3.12/dist-packages (from requests<3,>=2->langchain) (3.4.3)\n",
            "Requirement already satisfied: urllib3<3,>=1.21.1 in /usr/local/lib/python3.12/dist-packages (from requests<3,>=2->langchain) (2.5.0)\n",
            "Requirement already satisfied: greenlet>=1 in /usr/local/lib/python3.12/dist-packages (from SQLAlchemy<3,>=1.4->langchain) (3.2.4)\n",
            "Requirement already satisfied: regex>=2022.1.18 in /usr/local/lib/python3.12/dist-packages (from tiktoken>=0.5.1->tavily-python) (2024.11.6)\n",
            "Requirement already satisfied: six>=1.5 in /usr/local/lib/python3.12/dist-packages (from python-dateutil->sqlite-utils) (1.17.0)\n",
            "Requirement already satisfied: jsonpointer>=1.9 in /usr/local/lib/python3.12/dist-packages (from jsonpatch<2.0,>=1.33->langchain-core<1.0.0,>=0.3.72->langchain) (3.0.0)\n",
            "Requirement already satisfied: sniffio>=1.1 in /usr/local/lib/python3.12/dist-packages (from anyio->httpx->tavily-python) (1.3.1)\n"
          ]
        }
      ]
    },
    {
      "cell_type": "code",
      "source": [
        "!pip -q install -U langchain langchain-google-genai pydantic python-dotenv"
      ],
      "metadata": {
        "id": "D63VF1uOzOgh"
      },
      "execution_count": null,
      "outputs": []
    },
    {
      "cell_type": "code",
      "metadata": {
        "colab": {
          "base_uri": "https://localhost:8080/"
        },
        "id": "85602239",
        "outputId": "e19ea180-5a94-4fe8-cfd3-5b57b7ed5d92"
      },
      "source": [
        "!pip install langgraph-checkpoint-sqlite"
      ],
      "execution_count": null,
      "outputs": [
        {
          "output_type": "stream",
          "name": "stdout",
          "text": [
            "Requirement already satisfied: langgraph-checkpoint-sqlite in /usr/local/lib/python3.12/dist-packages (2.0.11)\n",
            "Requirement already satisfied: aiosqlite>=0.20 in /usr/local/lib/python3.12/dist-packages (from langgraph-checkpoint-sqlite) (0.21.0)\n",
            "Requirement already satisfied: langgraph-checkpoint<3.0.0,>=2.0.21 in /usr/local/lib/python3.12/dist-packages (from langgraph-checkpoint-sqlite) (2.1.1)\n",
            "Requirement already satisfied: sqlite-vec>=0.1.6 in /usr/local/lib/python3.12/dist-packages (from langgraph-checkpoint-sqlite) (0.1.6)\n",
            "Requirement already satisfied: typing_extensions>=4.0 in /usr/local/lib/python3.12/dist-packages (from aiosqlite>=0.20->langgraph-checkpoint-sqlite) (4.15.0)\n",
            "Requirement already satisfied: langchain-core>=0.2.38 in /usr/local/lib/python3.12/dist-packages (from langgraph-checkpoint<3.0.0,>=2.0.21->langgraph-checkpoint-sqlite) (0.3.75)\n",
            "Requirement already satisfied: ormsgpack>=1.10.0 in /usr/local/lib/python3.12/dist-packages (from langgraph-checkpoint<3.0.0,>=2.0.21->langgraph-checkpoint-sqlite) (1.10.0)\n",
            "Requirement already satisfied: langsmith>=0.3.45 in /usr/local/lib/python3.12/dist-packages (from langchain-core>=0.2.38->langgraph-checkpoint<3.0.0,>=2.0.21->langgraph-checkpoint-sqlite) (0.4.23)\n",
            "Requirement already satisfied: tenacity!=8.4.0,<10.0.0,>=8.1.0 in /usr/local/lib/python3.12/dist-packages (from langchain-core>=0.2.38->langgraph-checkpoint<3.0.0,>=2.0.21->langgraph-checkpoint-sqlite) (8.5.0)\n",
            "Requirement already satisfied: jsonpatch<2.0,>=1.33 in /usr/local/lib/python3.12/dist-packages (from langchain-core>=0.2.38->langgraph-checkpoint<3.0.0,>=2.0.21->langgraph-checkpoint-sqlite) (1.33)\n",
            "Requirement already satisfied: PyYAML>=5.3 in /usr/local/lib/python3.12/dist-packages (from langchain-core>=0.2.38->langgraph-checkpoint<3.0.0,>=2.0.21->langgraph-checkpoint-sqlite) (6.0.2)\n",
            "Requirement already satisfied: packaging>=23.2 in /usr/local/lib/python3.12/dist-packages (from langchain-core>=0.2.38->langgraph-checkpoint<3.0.0,>=2.0.21->langgraph-checkpoint-sqlite) (25.0)\n",
            "Requirement already satisfied: pydantic>=2.7.4 in /usr/local/lib/python3.12/dist-packages (from langchain-core>=0.2.38->langgraph-checkpoint<3.0.0,>=2.0.21->langgraph-checkpoint-sqlite) (2.11.7)\n",
            "Requirement already satisfied: jsonpointer>=1.9 in /usr/local/lib/python3.12/dist-packages (from jsonpatch<2.0,>=1.33->langchain-core>=0.2.38->langgraph-checkpoint<3.0.0,>=2.0.21->langgraph-checkpoint-sqlite) (3.0.0)\n",
            "Requirement already satisfied: httpx<1,>=0.23.0 in /usr/local/lib/python3.12/dist-packages (from langsmith>=0.3.45->langchain-core>=0.2.38->langgraph-checkpoint<3.0.0,>=2.0.21->langgraph-checkpoint-sqlite) (0.28.1)\n",
            "Requirement already satisfied: orjson>=3.9.14 in /usr/local/lib/python3.12/dist-packages (from langsmith>=0.3.45->langchain-core>=0.2.38->langgraph-checkpoint<3.0.0,>=2.0.21->langgraph-checkpoint-sqlite) (3.11.3)\n",
            "Requirement already satisfied: requests-toolbelt>=1.0.0 in /usr/local/lib/python3.12/dist-packages (from langsmith>=0.3.45->langchain-core>=0.2.38->langgraph-checkpoint<3.0.0,>=2.0.21->langgraph-checkpoint-sqlite) (1.0.0)\n",
            "Requirement already satisfied: requests>=2.0.0 in /usr/local/lib/python3.12/dist-packages (from langsmith>=0.3.45->langchain-core>=0.2.38->langgraph-checkpoint<3.0.0,>=2.0.21->langgraph-checkpoint-sqlite) (2.32.4)\n",
            "Requirement already satisfied: zstandard>=0.23.0 in /usr/local/lib/python3.12/dist-packages (from langsmith>=0.3.45->langchain-core>=0.2.38->langgraph-checkpoint<3.0.0,>=2.0.21->langgraph-checkpoint-sqlite) (0.24.0)\n",
            "Requirement already satisfied: annotated-types>=0.6.0 in /usr/local/lib/python3.12/dist-packages (from pydantic>=2.7.4->langchain-core>=0.2.38->langgraph-checkpoint<3.0.0,>=2.0.21->langgraph-checkpoint-sqlite) (0.7.0)\n",
            "Requirement already satisfied: pydantic-core==2.33.2 in /usr/local/lib/python3.12/dist-packages (from pydantic>=2.7.4->langchain-core>=0.2.38->langgraph-checkpoint<3.0.0,>=2.0.21->langgraph-checkpoint-sqlite) (2.33.2)\n",
            "Requirement already satisfied: typing-inspection>=0.4.0 in /usr/local/lib/python3.12/dist-packages (from pydantic>=2.7.4->langchain-core>=0.2.38->langgraph-checkpoint<3.0.0,>=2.0.21->langgraph-checkpoint-sqlite) (0.4.1)\n",
            "Requirement already satisfied: anyio in /usr/local/lib/python3.12/dist-packages (from httpx<1,>=0.23.0->langsmith>=0.3.45->langchain-core>=0.2.38->langgraph-checkpoint<3.0.0,>=2.0.21->langgraph-checkpoint-sqlite) (4.10.0)\n",
            "Requirement already satisfied: certifi in /usr/local/lib/python3.12/dist-packages (from httpx<1,>=0.23.0->langsmith>=0.3.45->langchain-core>=0.2.38->langgraph-checkpoint<3.0.0,>=2.0.21->langgraph-checkpoint-sqlite) (2025.8.3)\n",
            "Requirement already satisfied: httpcore==1.* in /usr/local/lib/python3.12/dist-packages (from httpx<1,>=0.23.0->langsmith>=0.3.45->langchain-core>=0.2.38->langgraph-checkpoint<3.0.0,>=2.0.21->langgraph-checkpoint-sqlite) (1.0.9)\n",
            "Requirement already satisfied: idna in /usr/local/lib/python3.12/dist-packages (from httpx<1,>=0.23.0->langsmith>=0.3.45->langchain-core>=0.2.38->langgraph-checkpoint<3.0.0,>=2.0.21->langgraph-checkpoint-sqlite) (3.10)\n",
            "Requirement already satisfied: h11>=0.16 in /usr/local/lib/python3.12/dist-packages (from httpcore==1.*->httpx<1,>=0.23.0->langsmith>=0.3.45->langchain-core>=0.2.38->langgraph-checkpoint<3.0.0,>=2.0.21->langgraph-checkpoint-sqlite) (0.16.0)\n",
            "Requirement already satisfied: charset_normalizer<4,>=2 in /usr/local/lib/python3.12/dist-packages (from requests>=2.0.0->langsmith>=0.3.45->langchain-core>=0.2.38->langgraph-checkpoint<3.0.0,>=2.0.21->langgraph-checkpoint-sqlite) (3.4.3)\n",
            "Requirement already satisfied: urllib3<3,>=1.21.1 in /usr/local/lib/python3.12/dist-packages (from requests>=2.0.0->langsmith>=0.3.45->langchain-core>=0.2.38->langgraph-checkpoint<3.0.0,>=2.0.21->langgraph-checkpoint-sqlite) (2.5.0)\n",
            "Requirement already satisfied: sniffio>=1.1 in /usr/local/lib/python3.12/dist-packages (from anyio->httpx<1,>=0.23.0->langsmith>=0.3.45->langchain-core>=0.2.38->langgraph-checkpoint<3.0.0,>=2.0.21->langgraph-checkpoint-sqlite) (1.3.1)\n"
          ]
        }
      ]
    },
    {
      "cell_type": "code",
      "source": [
        "# Importing Libraries\n",
        "from rich.console import Console\n",
        "from rich.panel import Panel\n",
        "from rich.text import Text\n",
        "from rich.markdown import Markdown\n",
        "from rich.table import Table\n",
        "import json, time, sqlite3, os, operator\n",
        "from typing_extensions import Optional, Annotated, Sequence, Literal\n",
        "from pydantic import BaseModel, Field\n",
        "from langchain_core.messages import BaseMessage, HumanMessage, AIMessage, get_buffer_string\n",
        "from langgraph.graph import MessagesState, StateGraph, START, END\n",
        "from langgraph.graph.message import add_messages\n",
        "from langgraph.types import Command\n",
        "from datetime import datetime\n",
        "from langchain.chat_models import init_chat_model\n",
        "from IPython.display import Image, display\n",
        "from langgraph.checkpoint.memory import InMemorySaver"
      ],
      "metadata": {
        "id": "nWgvTiR78-rS"
      },
      "execution_count": null,
      "outputs": []
    },
    {
      "cell_type": "code",
      "source": [
        "console = Console()\n",
        "os.environ['GOOGLE_API_KEY'] = \"Your_API_Key\"\n",
        "model = init_chat_model(\"gemini-2.5-flash-lite\", model_provider=\"google_genai\", temperature=0)"
      ],
      "metadata": {
        "id": "5ehFLOCK9I4z"
      },
      "execution_count": null,
      "outputs": []
    },
    {
      "cell_type": "code",
      "source": [
        "# UI Helper\n",
        "def show_prompt(prompt_text: str, title: str = \"Prompt\", border_style: str = \"blue\"):\n",
        "    \"\"\"Display a prompt with rich formatting and XML tag highlighting.\"\"\"\n",
        "    formatted_text = Text(prompt_text)\n",
        "    formatted_text.highlight_regex(r'<[^>]+>', style=\"bold blue\")\n",
        "    formatted_text.highlight_regex(r'##[^#\\n]+', style=\"bold magenta\")\n",
        "    formatted_text.highlight_regex(r'###[^#\\n]+', style=\"bold cyan\")\n",
        "\n",
        "    console.print(Panel(\n",
        "        formatted_text,\n",
        "        title=f\"[bold green]{title}[/bold green]\",\n",
        "        border_style=border_style,\n",
        "        padding=(1, 2)\n",
        "    ))\n",
        "\n",
        "def format_message_content(message):\n",
        "    \"\"\"Convert message content (text + tool calls) to displayable string.\"\"\"\n",
        "    parts, tool_calls_processed = [], False\n",
        "    if isinstance(message.content, str):\n",
        "        parts.append(message.content)\n",
        "    elif isinstance(message.content, list):\n",
        "        for item in message.content:\n",
        "            if item.get('type') == 'text':\n",
        "                parts.append(item['text'])\n",
        "            elif item.get('type') == 'tool_use':\n",
        "                parts.append(f\"\\n🔧 Tool Call: {item['name']}\")\n",
        "                parts.append(f\"   Args: {json.dumps(item['input'], indent=2)}\")\n",
        "                tool_calls_processed = True\n",
        "    else:\n",
        "        parts.append(str(message.content))\n",
        "\n",
        "    # Handle OpenAI style tool calls\n",
        "    if not tool_calls_processed and hasattr(message, 'tool_calls') and message.tool_calls:\n",
        "        for tool_call in message.tool_calls:\n",
        "            parts.append(f\"\\n🔧 Tool Call: {tool_call['name']}\")\n",
        "            parts.append(f\"   Args: {json.dumps(tool_call['args'], indent=2)}\")\n",
        "\n",
        "    return \"\\n\".join(parts)\n",
        "\n",
        "def format_messages(messages):\n",
        "    \"\"\"Display messages with Rich panels by type.\"\"\"\n",
        "    for m in messages:\n",
        "        msg_type = m.__class__.__name__.replace('Message', '')\n",
        "        content = format_message_content(m)\n",
        "        border_styles = {\"Human\": \"blue\", \"Ai\": \"green\", \"Tool\": \"yellow\"}\n",
        "        title_icons = {\"Human\": \" Human\", \"Ai\": \" Assistant\", \"Tool\": \" Tool Output\"}\n",
        "        console.print(Panel(content, title=title_icons.get(msg_type, \" Other\"), border_style=border_styles.get(msg_type, \"white\")))\n",
        "\n"
      ],
      "metadata": {
        "id": "tiGrlVnn93rv"
      },
      "execution_count": null,
      "outputs": []
    },
    {
      "cell_type": "code",
      "source": [
        "# METRICS UTILITIES\n",
        "def get_conversation_metrics(messages):\n",
        "    human_msgs = [m for m in messages if m.__class__.__name__==\"HumanMessage\"]\n",
        "    ai_msgs = [m for m in messages if m.__class__.__name__==\"AIMessage\"]\n",
        "    return {\n",
        "        \"total_messages\": len(messages),\n",
        "        \"human_count\": len(human_msgs),\n",
        "        \"ai_count\": len(ai_msgs),\n",
        "        \"avg_human_length\": sum(len(m.content) for m in human_msgs)/max(1,len(human_msgs)),\n",
        "        \"avg_ai_length\": sum(len(m.content) for m in ai_msgs)/max(1,len(ai_msgs)),\n",
        "    }\n",
        "\n",
        "def specificity_score(text):\n",
        "    keywords = [\"specific\",\"example\",\"detail\",\"data\",\"report\"]\n",
        "    return sum(k in text.lower() for k in keywords)/len(keywords)\n",
        "\n",
        "def log_metrics(run_id, metrics: dict):\n",
        "    conn = sqlite3.connect(\"research_agent.sqlite\")\n",
        "    c = conn.cursor()\n",
        "    c.execute(\"\"\"CREATE TABLE IF NOT EXISTS metrics\n",
        "                 (run_id TEXT, key TEXT, value REAL)\"\"\")\n",
        "    for k,v in metrics.items():\n",
        "        c.execute(\"INSERT INTO metrics VALUES (?,?,?)\", (run_id, k, v))\n",
        "    conn.commit()\n",
        "    conn.close()\n",
        "\n",
        "def show_metrics(metrics):\n",
        "    table = Table(title=\"Run Metrics\")\n",
        "    table.add_column(\"Metric\", style=\"cyan\")\n",
        "    table.add_column(\"Value\", style=\"magenta\")\n",
        "    for k,v in metrics.items():\n",
        "        val = str(round(v,2) if isinstance(v,(int,float)) else v)\n",
        "        table.add_row(k, val)\n",
        "    console.print(table)\n",
        "\n",
        "def timed_invoke(model, msgs):\n",
        "    start = time.time()\n",
        "    response = model.invoke(msgs)\n",
        "    elapsed = round(time.time() - start, 2)\n",
        "    return response, elapsed\n",
        "\n"
      ],
      "metadata": {
        "id": "TvdJt8Rk-kWl"
      },
      "execution_count": null,
      "outputs": []
    },
    {
      "cell_type": "code",
      "source": [
        "# PROMPT STRINGS\n",
        "clarify_with_user_instructions = \"\"\"\n",
        "These are the messages that have been exchanged so far from the user asking for the report:\n",
        "<Messages>\n",
        "{messages}\n",
        "</Messages>\n",
        "\n",
        "Today's date is {date}.\n",
        "\n",
        "Assess whether you need to ask a clarifying question, or if the user has already provided enough information for you to start research.\n",
        "IMPORTANT: If you can see in the messages history that you have already asked a clarifying question, you almost always do not need to ask another one. Only ask another question if ABSOLUTELY NECESSARY.\n",
        "\n",
        "If there are acronyms, abbreviations, or unknown terms, ask the user to clarify.\n",
        "If you need to ask a question, follow these guidelines:\n",
        "- Be concise while gathering all necessary information\n",
        "- Make sure to gather all the information needed to carry out the research task in a concise, well-structured manner.\n",
        "- Use bullet points or numbered lists if appropriate for clarity. Make sure that this uses markdown formatting and will be rendered correctly if the string output is passed to a markdown renderer.\n",
        "- Don't ask for unnecessary information, or information that the user has already provided. If you can see that the user has already provided the information, do not ask for it again.\n",
        "\n",
        "Respond in valid JSON format with these exact keys:\n",
        "\"need_clarification\": boolean,\n",
        "\"question\": \"<question to ask the user to clarify the report scope>\",\n",
        "\"verification\": \"<verification message that we will start research>\"\n",
        "\n",
        "If you need to ask a clarifying question, return:\n",
        "\"need_clarification\": true,\n",
        "\"question\": \"<your clarifying question>\",\n",
        "\"verification\": \"\"\n",
        "\n",
        "If you do not need to ask a clarifying question, return:\n",
        "\"need_clarification\": false,\n",
        "\"question\": \"\",\n",
        "\"verification\": \"<acknowledgement message that you will now start research based on the provided information>\"\n",
        "\n",
        "For the verification message when no clarification is needed:\n",
        "- Acknowledge that you have sufficient information to proceed\n",
        "- Briefly summarize the key aspects of what you understand from their request\n",
        "- Confirm that you will now begin the research process\n",
        "- Keep the message concise and professional\n",
        "\"\"\"\n",
        "\n",
        "transform_messages_into_research_topic_prompt = \"\"\"You will be given a set of messages that have been exchanged so far between yourself and the user.\n",
        "Your job is to translate these messages into a more detailed and concrete research question that will be used to guide the research.\n",
        "\n",
        "The messages that have been exchanged so far between yourself and the user are:\n",
        "<Messages>\n",
        "{messages}\n",
        "</Messages>\n",
        "\n",
        "Today's date is {date}.\n",
        "\n",
        "You will return a single research question that will be used to guide the research.\n",
        "\n",
        "Guidelines:\n",
        "1. Maximize Specificity and Detail\n",
        "- Include all known user preferences and explicitly list key attributes or dimensions to consider.\n",
        "- It is important that all details from the user are included in the instructions.\n",
        "\n",
        "2. Handle Unstated Dimensions Carefully\n",
        "- When research quality requires considering additional dimensions that the user hasn't specified, acknowledge them as open considerations rather than assumed preferences.\n",
        "- Example: Instead of assuming \"budget-friendly options,\" say \"consider all price ranges unless cost constraints are specified.\"\n",
        "- Only mention dimensions that are genuinely necessary for comprehensive research in that domain.\n",
        "\n",
        "3. Avoid Unwarranted Assumptions\n",
        "- Never invent specific user preferences, constraints, or requirements that weren't stated.\n",
        "- If the user hasn't provided a particular detail, explicitly note this lack of specification.\n",
        "- Guide the researcher to treat unspecified aspects as flexible rather than making assumptions.\n",
        "\n",
        "4. Distinguish Between Research Scope and User Preferences\n",
        "- Research scope: What topics/dimensions should be investigated (can be broader than user's explicit mentions)\n",
        "- User preferences: Specific constraints, requirements, or preferences (must only include what user stated)\n",
        "- Example: \"Research coffee quality factors (including bean sourcing, roasting methods, brewing techniques) for San Francisco coffee shops, with primary focus on taste as specified by the user.\"\n",
        "\n",
        "5. Use the First Person\n",
        "- Phrase the request from the perspective of the user.\n",
        "\n",
        "6. Sources\n",
        "- If specific sources should be prioritized, specify them in the research question.\n",
        "- For product and travel research, prefer linking directly to official or primary websites (e.g., official brand sites, manufacturer pages, or reputable e-commerce platforms like Amazon for user reviews) rather than aggregator sites or SEO-heavy blogs.\n",
        "- For academic or scientific queries, prefer linking directly to the original paper or official journal publication rather than survey papers or secondary summaries.\n",
        "- For people, try linking directly to their LinkedIn profile, or their personal website if they have one.\n",
        "- If the query is in a specific language, prioritize sources published in that language.\n",
        "\"\"\"\n",
        "show_prompt(clarify_with_user_instructions, \"Clarify with User Instructions\")"
      ],
      "metadata": {
        "colab": {
          "base_uri": "https://localhost:8080/",
          "height": 809
        },
        "id": "npU_crvW-0co",
        "outputId": "eb6101e9-d33e-4e6f-e0a5-b643db899fac"
      },
      "execution_count": null,
      "outputs": [
        {
          "output_type": "display_data",
          "data": {
            "text/plain": [
              "\u001b[34m╭─\u001b[0m\u001b[34m───────────────────────────────────────\u001b[0m\u001b[34m \u001b[0m\u001b[1;32mClarify with User Instructions\u001b[0m\u001b[34m \u001b[0m\u001b[34m────────────────────────────────────────\u001b[0m\u001b[34m─╮\u001b[0m\n",
              "\u001b[34m│\u001b[0m                                                                                                                 \u001b[34m│\u001b[0m\n",
              "\u001b[34m│\u001b[0m                                                                                                                 \u001b[34m│\u001b[0m\n",
              "\u001b[34m│\u001b[0m  These are the messages that have been exchanged so far from the user asking for the report:                    \u001b[34m│\u001b[0m\n",
              "\u001b[34m│\u001b[0m  \u001b[1;34m<Messages>\u001b[0m                                                                                                     \u001b[34m│\u001b[0m\n",
              "\u001b[34m│\u001b[0m  {messages}                                                                                                     \u001b[34m│\u001b[0m\n",
              "\u001b[34m│\u001b[0m  \u001b[1;34m</Messages>\u001b[0m                                                                                                    \u001b[34m│\u001b[0m\n",
              "\u001b[34m│\u001b[0m                                                                                                                 \u001b[34m│\u001b[0m\n",
              "\u001b[34m│\u001b[0m  Today's date is {date}.                                                                                        \u001b[34m│\u001b[0m\n",
              "\u001b[34m│\u001b[0m                                                                                                                 \u001b[34m│\u001b[0m\n",
              "\u001b[34m│\u001b[0m  Assess whether you need to ask a clarifying question, or if the user has already provided enough information   \u001b[34m│\u001b[0m\n",
              "\u001b[34m│\u001b[0m  for you to start research.                                                                                     \u001b[34m│\u001b[0m\n",
              "\u001b[34m│\u001b[0m  IMPORTANT: If you can see in the messages history that you have already asked a clarifying question, you       \u001b[34m│\u001b[0m\n",
              "\u001b[34m│\u001b[0m  almost always do not need to ask another one. Only ask another question if ABSOLUTELY NECESSARY.               \u001b[34m│\u001b[0m\n",
              "\u001b[34m│\u001b[0m                                                                                                                 \u001b[34m│\u001b[0m\n",
              "\u001b[34m│\u001b[0m  If there are acronyms, abbreviations, or unknown terms, ask the user to clarify.                               \u001b[34m│\u001b[0m\n",
              "\u001b[34m│\u001b[0m  If you need to ask a question, follow these guidelines:                                                        \u001b[34m│\u001b[0m\n",
              "\u001b[34m│\u001b[0m  - Be concise while gathering all necessary information                                                         \u001b[34m│\u001b[0m\n",
              "\u001b[34m│\u001b[0m  - Make sure to gather all the information needed to carry out the research task in a concise, well-structured  \u001b[34m│\u001b[0m\n",
              "\u001b[34m│\u001b[0m  manner.                                                                                                        \u001b[34m│\u001b[0m\n",
              "\u001b[34m│\u001b[0m  - Use bullet points or numbered lists if appropriate for clarity. Make sure that this uses markdown            \u001b[34m│\u001b[0m\n",
              "\u001b[34m│\u001b[0m  formatting and will be rendered correctly if the string output is passed to a markdown renderer.               \u001b[34m│\u001b[0m\n",
              "\u001b[34m│\u001b[0m  - Don't ask for unnecessary information, or information that the user has already provided. If you can see     \u001b[34m│\u001b[0m\n",
              "\u001b[34m│\u001b[0m  that the user has already provided the information, do not ask for it again.                                   \u001b[34m│\u001b[0m\n",
              "\u001b[34m│\u001b[0m                                                                                                                 \u001b[34m│\u001b[0m\n",
              "\u001b[34m│\u001b[0m  Respond in valid JSON format with these exact keys:                                                            \u001b[34m│\u001b[0m\n",
              "\u001b[34m│\u001b[0m  \"need_clarification\": boolean,                                                                                 \u001b[34m│\u001b[0m\n",
              "\u001b[34m│\u001b[0m  \"question\": \"\u001b[1;34m<question to ask the user to clarify the report scope>\u001b[0m\",                                          \u001b[34m│\u001b[0m\n",
              "\u001b[34m│\u001b[0m  \"verification\": \"\u001b[1;34m<verification message that we will start research>\u001b[0m\"                                           \u001b[34m│\u001b[0m\n",
              "\u001b[34m│\u001b[0m                                                                                                                 \u001b[34m│\u001b[0m\n",
              "\u001b[34m│\u001b[0m  If you need to ask a clarifying question, return:                                                              \u001b[34m│\u001b[0m\n",
              "\u001b[34m│\u001b[0m  \"need_clarification\": true,                                                                                    \u001b[34m│\u001b[0m\n",
              "\u001b[34m│\u001b[0m  \"question\": \"\u001b[1;34m<your clarifying question>\u001b[0m\",                                                                      \u001b[34m│\u001b[0m\n",
              "\u001b[34m│\u001b[0m  \"verification\": \"\"                                                                                             \u001b[34m│\u001b[0m\n",
              "\u001b[34m│\u001b[0m                                                                                                                 \u001b[34m│\u001b[0m\n",
              "\u001b[34m│\u001b[0m  If you do not need to ask a clarifying question, return:                                                       \u001b[34m│\u001b[0m\n",
              "\u001b[34m│\u001b[0m  \"need_clarification\": false,                                                                                   \u001b[34m│\u001b[0m\n",
              "\u001b[34m│\u001b[0m  \"question\": \"\",                                                                                                \u001b[34m│\u001b[0m\n",
              "\u001b[34m│\u001b[0m  \"verification\": \"\u001b[1;34m<acknowledgement message that you will now start research based on the provided \u001b[0m              \u001b[34m│\u001b[0m\n",
              "\u001b[34m│\u001b[0m  \u001b[1;34minformation>\u001b[0m\"                                                                                                  \u001b[34m│\u001b[0m\n",
              "\u001b[34m│\u001b[0m                                                                                                                 \u001b[34m│\u001b[0m\n",
              "\u001b[34m│\u001b[0m  For the verification message when no clarification is needed:                                                  \u001b[34m│\u001b[0m\n",
              "\u001b[34m│\u001b[0m  - Acknowledge that you have sufficient information to proceed                                                  \u001b[34m│\u001b[0m\n",
              "\u001b[34m│\u001b[0m  - Briefly summarize the key aspects of what you understand from their request                                  \u001b[34m│\u001b[0m\n",
              "\u001b[34m│\u001b[0m  - Confirm that you will now begin the research process                                                         \u001b[34m│\u001b[0m\n",
              "\u001b[34m│\u001b[0m  - Keep the message concise and professional                                                                    \u001b[34m│\u001b[0m\n",
              "\u001b[34m│\u001b[0m                                                                                                                 \u001b[34m│\u001b[0m\n",
              "\u001b[34m│\u001b[0m                                                                                                                 \u001b[34m│\u001b[0m\n",
              "\u001b[34m╰─────────────────────────────────────────────────────────────────────────────────────────────────────────────────╯\u001b[0m\n"
            ],
            "text/html": [
              "<pre style=\"white-space:pre;overflow-x:auto;line-height:normal;font-family:Menlo,'DejaVu Sans Mono',consolas,'Courier New',monospace\"><span style=\"color: #000080; text-decoration-color: #000080\">╭──────────────────────────────────────── </span><span style=\"color: #008000; text-decoration-color: #008000; font-weight: bold\">Clarify with User Instructions</span><span style=\"color: #000080; text-decoration-color: #000080\"> ─────────────────────────────────────────╮</span>\n",
              "<span style=\"color: #000080; text-decoration-color: #000080\">│</span>                                                                                                                 <span style=\"color: #000080; text-decoration-color: #000080\">│</span>\n",
              "<span style=\"color: #000080; text-decoration-color: #000080\">│</span>                                                                                                                 <span style=\"color: #000080; text-decoration-color: #000080\">│</span>\n",
              "<span style=\"color: #000080; text-decoration-color: #000080\">│</span>  These are the messages that have been exchanged so far from the user asking for the report:                    <span style=\"color: #000080; text-decoration-color: #000080\">│</span>\n",
              "<span style=\"color: #000080; text-decoration-color: #000080\">│</span>  <span style=\"color: #000080; text-decoration-color: #000080; font-weight: bold\">&lt;Messages&gt;</span>                                                                                                     <span style=\"color: #000080; text-decoration-color: #000080\">│</span>\n",
              "<span style=\"color: #000080; text-decoration-color: #000080\">│</span>  {messages}                                                                                                     <span style=\"color: #000080; text-decoration-color: #000080\">│</span>\n",
              "<span style=\"color: #000080; text-decoration-color: #000080\">│</span>  <span style=\"color: #000080; text-decoration-color: #000080; font-weight: bold\">&lt;/Messages&gt;</span>                                                                                                    <span style=\"color: #000080; text-decoration-color: #000080\">│</span>\n",
              "<span style=\"color: #000080; text-decoration-color: #000080\">│</span>                                                                                                                 <span style=\"color: #000080; text-decoration-color: #000080\">│</span>\n",
              "<span style=\"color: #000080; text-decoration-color: #000080\">│</span>  Today's date is {date}.                                                                                        <span style=\"color: #000080; text-decoration-color: #000080\">│</span>\n",
              "<span style=\"color: #000080; text-decoration-color: #000080\">│</span>                                                                                                                 <span style=\"color: #000080; text-decoration-color: #000080\">│</span>\n",
              "<span style=\"color: #000080; text-decoration-color: #000080\">│</span>  Assess whether you need to ask a clarifying question, or if the user has already provided enough information   <span style=\"color: #000080; text-decoration-color: #000080\">│</span>\n",
              "<span style=\"color: #000080; text-decoration-color: #000080\">│</span>  for you to start research.                                                                                     <span style=\"color: #000080; text-decoration-color: #000080\">│</span>\n",
              "<span style=\"color: #000080; text-decoration-color: #000080\">│</span>  IMPORTANT: If you can see in the messages history that you have already asked a clarifying question, you       <span style=\"color: #000080; text-decoration-color: #000080\">│</span>\n",
              "<span style=\"color: #000080; text-decoration-color: #000080\">│</span>  almost always do not need to ask another one. Only ask another question if ABSOLUTELY NECESSARY.               <span style=\"color: #000080; text-decoration-color: #000080\">│</span>\n",
              "<span style=\"color: #000080; text-decoration-color: #000080\">│</span>                                                                                                                 <span style=\"color: #000080; text-decoration-color: #000080\">│</span>\n",
              "<span style=\"color: #000080; text-decoration-color: #000080\">│</span>  If there are acronyms, abbreviations, or unknown terms, ask the user to clarify.                               <span style=\"color: #000080; text-decoration-color: #000080\">│</span>\n",
              "<span style=\"color: #000080; text-decoration-color: #000080\">│</span>  If you need to ask a question, follow these guidelines:                                                        <span style=\"color: #000080; text-decoration-color: #000080\">│</span>\n",
              "<span style=\"color: #000080; text-decoration-color: #000080\">│</span>  - Be concise while gathering all necessary information                                                         <span style=\"color: #000080; text-decoration-color: #000080\">│</span>\n",
              "<span style=\"color: #000080; text-decoration-color: #000080\">│</span>  - Make sure to gather all the information needed to carry out the research task in a concise, well-structured  <span style=\"color: #000080; text-decoration-color: #000080\">│</span>\n",
              "<span style=\"color: #000080; text-decoration-color: #000080\">│</span>  manner.                                                                                                        <span style=\"color: #000080; text-decoration-color: #000080\">│</span>\n",
              "<span style=\"color: #000080; text-decoration-color: #000080\">│</span>  - Use bullet points or numbered lists if appropriate for clarity. Make sure that this uses markdown            <span style=\"color: #000080; text-decoration-color: #000080\">│</span>\n",
              "<span style=\"color: #000080; text-decoration-color: #000080\">│</span>  formatting and will be rendered correctly if the string output is passed to a markdown renderer.               <span style=\"color: #000080; text-decoration-color: #000080\">│</span>\n",
              "<span style=\"color: #000080; text-decoration-color: #000080\">│</span>  - Don't ask for unnecessary information, or information that the user has already provided. If you can see     <span style=\"color: #000080; text-decoration-color: #000080\">│</span>\n",
              "<span style=\"color: #000080; text-decoration-color: #000080\">│</span>  that the user has already provided the information, do not ask for it again.                                   <span style=\"color: #000080; text-decoration-color: #000080\">│</span>\n",
              "<span style=\"color: #000080; text-decoration-color: #000080\">│</span>                                                                                                                 <span style=\"color: #000080; text-decoration-color: #000080\">│</span>\n",
              "<span style=\"color: #000080; text-decoration-color: #000080\">│</span>  Respond in valid JSON format with these exact keys:                                                            <span style=\"color: #000080; text-decoration-color: #000080\">│</span>\n",
              "<span style=\"color: #000080; text-decoration-color: #000080\">│</span>  \"need_clarification\": boolean,                                                                                 <span style=\"color: #000080; text-decoration-color: #000080\">│</span>\n",
              "<span style=\"color: #000080; text-decoration-color: #000080\">│</span>  \"question\": \"<span style=\"color: #000080; text-decoration-color: #000080; font-weight: bold\">&lt;question to ask the user to clarify the report scope&gt;</span>\",                                          <span style=\"color: #000080; text-decoration-color: #000080\">│</span>\n",
              "<span style=\"color: #000080; text-decoration-color: #000080\">│</span>  \"verification\": \"<span style=\"color: #000080; text-decoration-color: #000080; font-weight: bold\">&lt;verification message that we will start research&gt;</span>\"                                           <span style=\"color: #000080; text-decoration-color: #000080\">│</span>\n",
              "<span style=\"color: #000080; text-decoration-color: #000080\">│</span>                                                                                                                 <span style=\"color: #000080; text-decoration-color: #000080\">│</span>\n",
              "<span style=\"color: #000080; text-decoration-color: #000080\">│</span>  If you need to ask a clarifying question, return:                                                              <span style=\"color: #000080; text-decoration-color: #000080\">│</span>\n",
              "<span style=\"color: #000080; text-decoration-color: #000080\">│</span>  \"need_clarification\": true,                                                                                    <span style=\"color: #000080; text-decoration-color: #000080\">│</span>\n",
              "<span style=\"color: #000080; text-decoration-color: #000080\">│</span>  \"question\": \"<span style=\"color: #000080; text-decoration-color: #000080; font-weight: bold\">&lt;your clarifying question&gt;</span>\",                                                                      <span style=\"color: #000080; text-decoration-color: #000080\">│</span>\n",
              "<span style=\"color: #000080; text-decoration-color: #000080\">│</span>  \"verification\": \"\"                                                                                             <span style=\"color: #000080; text-decoration-color: #000080\">│</span>\n",
              "<span style=\"color: #000080; text-decoration-color: #000080\">│</span>                                                                                                                 <span style=\"color: #000080; text-decoration-color: #000080\">│</span>\n",
              "<span style=\"color: #000080; text-decoration-color: #000080\">│</span>  If you do not need to ask a clarifying question, return:                                                       <span style=\"color: #000080; text-decoration-color: #000080\">│</span>\n",
              "<span style=\"color: #000080; text-decoration-color: #000080\">│</span>  \"need_clarification\": false,                                                                                   <span style=\"color: #000080; text-decoration-color: #000080\">│</span>\n",
              "<span style=\"color: #000080; text-decoration-color: #000080\">│</span>  \"question\": \"\",                                                                                                <span style=\"color: #000080; text-decoration-color: #000080\">│</span>\n",
              "<span style=\"color: #000080; text-decoration-color: #000080\">│</span>  \"verification\": \"<span style=\"color: #000080; text-decoration-color: #000080; font-weight: bold\">&lt;acknowledgement message that you will now start research based on the provided </span>              <span style=\"color: #000080; text-decoration-color: #000080\">│</span>\n",
              "<span style=\"color: #000080; text-decoration-color: #000080\">│</span>  <span style=\"color: #000080; text-decoration-color: #000080; font-weight: bold\">information&gt;</span>\"                                                                                                  <span style=\"color: #000080; text-decoration-color: #000080\">│</span>\n",
              "<span style=\"color: #000080; text-decoration-color: #000080\">│</span>                                                                                                                 <span style=\"color: #000080; text-decoration-color: #000080\">│</span>\n",
              "<span style=\"color: #000080; text-decoration-color: #000080\">│</span>  For the verification message when no clarification is needed:                                                  <span style=\"color: #000080; text-decoration-color: #000080\">│</span>\n",
              "<span style=\"color: #000080; text-decoration-color: #000080\">│</span>  - Acknowledge that you have sufficient information to proceed                                                  <span style=\"color: #000080; text-decoration-color: #000080\">│</span>\n",
              "<span style=\"color: #000080; text-decoration-color: #000080\">│</span>  - Briefly summarize the key aspects of what you understand from their request                                  <span style=\"color: #000080; text-decoration-color: #000080\">│</span>\n",
              "<span style=\"color: #000080; text-decoration-color: #000080\">│</span>  - Confirm that you will now begin the research process                                                         <span style=\"color: #000080; text-decoration-color: #000080\">│</span>\n",
              "<span style=\"color: #000080; text-decoration-color: #000080\">│</span>  - Keep the message concise and professional                                                                    <span style=\"color: #000080; text-decoration-color: #000080\">│</span>\n",
              "<span style=\"color: #000080; text-decoration-color: #000080\">│</span>                                                                                                                 <span style=\"color: #000080; text-decoration-color: #000080\">│</span>\n",
              "<span style=\"color: #000080; text-decoration-color: #000080\">│</span>                                                                                                                 <span style=\"color: #000080; text-decoration-color: #000080\">│</span>\n",
              "<span style=\"color: #000080; text-decoration-color: #000080\">╰─────────────────────────────────────────────────────────────────────────────────────────────────────────────────╯</span>\n",
              "</pre>\n"
            ]
          },
          "metadata": {}
        }
      ]
    },
    {
      "cell_type": "code",
      "source": [
        "# STATE & SCHEMAS\n",
        "class AgentInputState(MessagesState): pass\n",
        "\n",
        "class AgentState(MessagesState):\n",
        "    research_brief: Optional[str]\n",
        "    supervisor_messages: Annotated[Sequence[BaseMessage], add_messages]\n",
        "    raw_notes: Annotated[list[str], operator.add] = []\n",
        "    notes: Annotated[list[str], operator.add] = []\n",
        "    final_report: str\n",
        "\n",
        "class ClarifyWithUser(BaseModel):\n",
        "    need_clarification: bool\n",
        "    question: str\n",
        "    verification: str\n",
        "\n",
        "class ResearchQuestion(BaseModel):\n",
        "    research_brief: str"
      ],
      "metadata": {
        "id": "CEHYBVbu_UOI"
      },
      "execution_count": null,
      "outputs": []
    },
    {
      "cell_type": "code",
      "source": [
        "# UTILITY\n",
        "def get_today_str() -> str:\n",
        "    dt = datetime.now()\n",
        "    return f\"{dt.strftime('%a %b')} {dt.day}, {dt.strftime('%Y')}\""
      ],
      "metadata": {
        "id": "UbcGbfTF_m4P"
      },
      "execution_count": null,
      "outputs": []
    },
    {
      "cell_type": "code",
      "source": [
        "def clarify_with_user(state: AgentState) -> Command[Literal[\"write_research_brief\", \"__end__\"]]:\n",
        "    structured_output_model = model.with_structured_output(ClarifyWithUser)\n",
        "    response, latency = timed_invoke(structured_output_model, [\n",
        "        HumanMessage(content=clarify_with_user_instructions.format(\n",
        "            messages=get_buffer_string(messages=state[\"messages\"]),\n",
        "            date=get_today_str()\n",
        "        ))\n",
        "    ])\n",
        "\n",
        "    # Collect metrics\n",
        "    metrics = get_conversation_metrics(state[\"messages\"])\n",
        "    metrics[\"latency\"] = latency\n",
        "    log_metrics(\"clarify\", metrics)\n",
        "    show_metrics(metrics)\n",
        "\n",
        "    if response.need_clarification:\n",
        "        return Command(goto=END, update={\"messages\": [AIMessage(content=response.question)]})\n",
        "    else:\n",
        "        return Command(goto=\"write_research_brief\", update={\"messages\": [AIMessage(content=response.verification)]})\n",
        "\n",
        "def write_research_brief(state: AgentState):\n",
        "    structured_output_model = model.with_structured_output(ResearchQuestion)\n",
        "    response, latency = timed_invoke(structured_output_model, [\n",
        "        HumanMessage(content=transform_messages_into_research_topic_prompt.format(\n",
        "            messages=get_buffer_string(state.get(\"messages\", [])),\n",
        "            date=get_today_str()\n",
        "        ))\n",
        "    ])\n",
        "\n",
        "    # Collect metrics\n",
        "    metrics = {\"specificity_score\": specificity_score(response.research_brief), \"latency\": latency}\n",
        "    log_metrics(\"research_brief\", metrics)\n",
        "    show_metrics(metrics)\n",
        "\n",
        "    return {\n",
        "        \"research_brief\": response.research_brief,\n",
        "        \"supervisor_messages\": [HumanMessage(content=f\"{response.research_brief}.\")]\n",
        "    }\n",
        "\n"
      ],
      "metadata": {
        "id": "1_cJVfTz_qdz"
      },
      "execution_count": null,
      "outputs": []
    },
    {
      "cell_type": "code",
      "source": [
        "#  GRAPH CONSTRUCTION\n",
        "deep_researcher_builder = StateGraph(AgentState, input_schema=AgentInputState)\n",
        "deep_researcher_builder.add_node(\"clarify_with_user\", clarify_with_user)\n",
        "deep_researcher_builder.add_node(\"write_research_brief\", write_research_brief)\n",
        "deep_researcher_builder.add_edge(START, \"clarify_with_user\")\n",
        "deep_researcher_builder.add_edge(\"write_research_brief\", END)"
      ],
      "metadata": {
        "colab": {
          "base_uri": "https://localhost:8080/"
        },
        "id": "Ye_K38TQ_7iD",
        "outputId": "4e151d10-66ee-4c46-aa7a-224e71c17ebc"
      },
      "execution_count": null,
      "outputs": [
        {
          "output_type": "execute_result",
          "data": {
            "text/plain": [
              "<langgraph.graph.state.StateGraph at 0x7fbb1f55d850>"
            ]
          },
          "metadata": {},
          "execution_count": 71
        }
      ]
    },
    {
      "cell_type": "code",
      "source": [
        "# Compile graph\n",
        "checkpointer = InMemorySaver()\n",
        "scope = deep_researcher_builder.compile(checkpointer=checkpointer)\n",
        "display(Image(scope.get_graph(xray=True).draw_mermaid_png()))"
      ],
      "metadata": {
        "colab": {
          "base_uri": "https://localhost:8080/",
          "height": 350
        },
        "id": "W4X1aRRtAPl_",
        "outputId": "765c56e8-c63d-47d3-cf9a-0b8f1a3a5eff"
      },
      "execution_count": null,
      "outputs": [
        {
          "output_type": "display_data",
          "data": {
            "image/png": "[encoded data removed]",
            "text/plain": [
              "<IPython.core.display.Image object>"
            ]
          },
          "metadata": {}
        }
      ]
    },
    {
      "cell_type": "code",
      "source": [
        "# EXECUTION / DEMO\n",
        "thread = {\"configurable\": {\"thread_id\": \"1\"}}\n",
        "result = scope.invoke({\"messages\": [HumanMessage(content=\"I want to research the best coffee shops in San Francisco.\")]}, config=thread)\n",
        "format_messages(result['messages'])\n",
        "\n",
        "result = scope.invoke({\"messages\": [HumanMessage(content=\"Let's examine coffee quality to assess the best coffee shops in San Francisco.\")]}, config=thread)\n",
        "format_messages(result['messages'])\n",
        "Markdown(result[\"research_brief\"])"
      ],
      "metadata": {
        "colab": {
          "base_uri": "https://localhost:8080/",
          "height": 987
        },
        "id": "WITqmHObAZc9",
        "outputId": "e5661d09-cf8e-4f34-cb91-e516533e9366"
      },
      "execution_count": null,
      "outputs": [
        {
          "output_type": "display_data",
          "data": {
            "text/plain": [
              "\u001b[3m        Run Metrics         \u001b[0m\n",
              "┏━━━━━━━━━━━━━━━━━━┳━━━━━━━┓\n",
              "┃\u001b[1m \u001b[0m\u001b[1mMetric          \u001b[0m\u001b[1m \u001b[0m┃\u001b[1m \u001b[0m\u001b[1mValue\u001b[0m\u001b[1m \u001b[0m┃\n",
              "┡━━━━━━━━━━━━━━━━━━╇━━━━━━━┩\n",
              "│\u001b[36m \u001b[0m\u001b[36mtotal_messages  \u001b[0m\u001b[36m \u001b[0m│\u001b[35m \u001b[0m\u001b[35m1    \u001b[0m\u001b[35m \u001b[0m│\n",
              "│\u001b[36m \u001b[0m\u001b[36mhuman_count     \u001b[0m\u001b[36m \u001b[0m│\u001b[35m \u001b[0m\u001b[35m1    \u001b[0m\u001b[35m \u001b[0m│\n",
              "│\u001b[36m \u001b[0m\u001b[36mai_count        \u001b[0m\u001b[36m \u001b[0m│\u001b[35m \u001b[0m\u001b[35m0    \u001b[0m\u001b[35m \u001b[0m│\n",
              "│\u001b[36m \u001b[0m\u001b[36mavg_human_length\u001b[0m\u001b[36m \u001b[0m│\u001b[35m \u001b[0m\u001b[35m58.0 \u001b[0m\u001b[35m \u001b[0m│\n",
              "│\u001b[36m \u001b[0m\u001b[36mavg_ai_length   \u001b[0m\u001b[36m \u001b[0m│\u001b[35m \u001b[0m\u001b[35m0.0  \u001b[0m\u001b[35m \u001b[0m│\n",
              "│\u001b[36m \u001b[0m\u001b[36mlatency         \u001b[0m\u001b[36m \u001b[0m│\u001b[35m \u001b[0m\u001b[35m0.56 \u001b[0m\u001b[35m \u001b[0m│\n",
              "└──────────────────┴───────┘\n"
            ],
            "text/html": [
              "<pre style=\"white-space:pre;overflow-x:auto;line-height:normal;font-family:Menlo,'DejaVu Sans Mono',consolas,'Courier New',monospace\"><span style=\"font-style: italic\">        Run Metrics         </span>\n",
              "┏━━━━━━━━━━━━━━━━━━┳━━━━━━━┓\n",
              "┃<span style=\"font-weight: bold\"> Metric           </span>┃<span style=\"font-weight: bold\"> Value </span>┃\n",
              "┡━━━━━━━━━━━━━━━━━━╇━━━━━━━┩\n",
              "│<span style=\"color: #008080; text-decoration-color: #008080\"> total_messages   </span>│<span style=\"color: #800080; text-decoration-color: #800080\"> 1     </span>│\n",
              "│<span style=\"color: #008080; text-decoration-color: #008080\"> human_count      </span>│<span style=\"color: #800080; text-decoration-color: #800080\"> 1     </span>│\n",
              "│<span style=\"color: #008080; text-decoration-color: #008080\"> ai_count         </span>│<span style=\"color: #800080; text-decoration-color: #800080\"> 0     </span>│\n",
              "│<span style=\"color: #008080; text-decoration-color: #008080\"> avg_human_length </span>│<span style=\"color: #800080; text-decoration-color: #800080\"> 58.0  </span>│\n",
              "│<span style=\"color: #008080; text-decoration-color: #008080\"> avg_ai_length    </span>│<span style=\"color: #800080; text-decoration-color: #800080\"> 0.0   </span>│\n",
              "│<span style=\"color: #008080; text-decoration-color: #008080\"> latency          </span>│<span style=\"color: #800080; text-decoration-color: #800080\"> 0.56  </span>│\n",
              "└──────────────────┴───────┘\n",
              "</pre>\n"
            ]
          },
          "metadata": {}
        },
        {
          "output_type": "display_data",
          "data": {
            "text/plain": [
              "\u001b[3m         Run Metrics         \u001b[0m\n",
              "┏━━━━━━━━━━━━━━━━━━━┳━━━━━━━┓\n",
              "┃\u001b[1m \u001b[0m\u001b[1mMetric           \u001b[0m\u001b[1m \u001b[0m┃\u001b[1m \u001b[0m\u001b[1mValue\u001b[0m\u001b[1m \u001b[0m┃\n",
              "┡━━━━━━━━━━━━━━━━━━━╇━━━━━━━┩\n",
              "│\u001b[36m \u001b[0m\u001b[36mspecificity_score\u001b[0m\u001b[36m \u001b[0m│\u001b[35m \u001b[0m\u001b[35m0.0  \u001b[0m\u001b[35m \u001b[0m│\n",
              "│\u001b[36m \u001b[0m\u001b[36mlatency          \u001b[0m\u001b[36m \u001b[0m│\u001b[35m \u001b[0m\u001b[35m0.55 \u001b[0m\u001b[35m \u001b[0m│\n",
              "└───────────────────┴───────┘\n"
            ],
            "text/html": [
              "<pre style=\"white-space:pre;overflow-x:auto;line-height:normal;font-family:Menlo,'DejaVu Sans Mono',consolas,'Courier New',monospace\"><span style=\"font-style: italic\">         Run Metrics         </span>\n",
              "┏━━━━━━━━━━━━━━━━━━━┳━━━━━━━┓\n",
              "┃<span style=\"font-weight: bold\"> Metric            </span>┃<span style=\"font-weight: bold\"> Value </span>┃\n",
              "┡━━━━━━━━━━━━━━━━━━━╇━━━━━━━┩\n",
              "│<span style=\"color: #008080; text-decoration-color: #008080\"> specificity_score </span>│<span style=\"color: #800080; text-decoration-color: #800080\"> 0.0   </span>│\n",
              "│<span style=\"color: #008080; text-decoration-color: #008080\"> latency           </span>│<span style=\"color: #800080; text-decoration-color: #800080\"> 0.55  </span>│\n",
              "└───────────────────┴───────┘\n",
              "</pre>\n"
            ]
          },
          "metadata": {}
        },
        {
          "output_type": "display_data",
          "data": {
            "text/plain": [
              "\u001b[34m╭─\u001b[0m\u001b[34m───────────────────────────────────────────────────\u001b[0m\u001b[34m  Human \u001b[0m\u001b[34m────────────────────────────────────────────────────\u001b[0m\u001b[34m─╮\u001b[0m\n",
              "\u001b[34m│\u001b[0m I want to research the best coffee shops in San Francisco.                                                      \u001b[34m│\u001b[0m\n",
              "\u001b[34m╰─────────────────────────────────────────────────────────────────────────────────────────────────────────────────╯\u001b[0m\n"
            ],
            "text/html": [
              "<pre style=\"white-space:pre;overflow-x:auto;line-height:normal;font-family:Menlo,'DejaVu Sans Mono',consolas,'Courier New',monospace\"><span style=\"color: #000080; text-decoration-color: #000080\">╭────────────────────────────────────────────────────  Human ─────────────────────────────────────────────────────╮</span>\n",
              "<span style=\"color: #000080; text-decoration-color: #000080\">│</span> I want to research the best coffee shops in San Francisco.                                                      <span style=\"color: #000080; text-decoration-color: #000080\">│</span>\n",
              "<span style=\"color: #000080; text-decoration-color: #000080\">╰─────────────────────────────────────────────────────────────────────────────────────────────────────────────────╯</span>\n",
              "</pre>\n"
            ]
          },
          "metadata": {}
        },
        {
          "output_type": "display_data",
          "data": {
            "text/plain": [
              "\u001b[37m╭─\u001b[0m\u001b[37m───────────────────────────────────────────────────\u001b[0m\u001b[37m  Other \u001b[0m\u001b[37m────────────────────────────────────────────────────\u001b[0m\u001b[37m─╮\u001b[0m\n",
              "\u001b[37m│\u001b[0m I have enough information to start researching the best coffee shops in San Francisco. I will now begin the     \u001b[37m│\u001b[0m\n",
              "\u001b[37m│\u001b[0m research.                                                                                                       \u001b[37m│\u001b[0m\n",
              "\u001b[37m╰─────────────────────────────────────────────────────────────────────────────────────────────────────────────────╯\u001b[0m\n"
            ],
            "text/html": [
              "<pre style=\"white-space:pre;overflow-x:auto;line-height:normal;font-family:Menlo,'DejaVu Sans Mono',consolas,'Courier New',monospace\"><span style=\"color: #c0c0c0; text-decoration-color: #c0c0c0\">╭────────────────────────────────────────────────────  Other ─────────────────────────────────────────────────────╮</span>\n",
              "<span style=\"color: #c0c0c0; text-decoration-color: #c0c0c0\">│</span> I have enough information to start researching the best coffee shops in San Francisco. I will now begin the     <span style=\"color: #c0c0c0; text-decoration-color: #c0c0c0\">│</span>\n",
              "<span style=\"color: #c0c0c0; text-decoration-color: #c0c0c0\">│</span> research.                                                                                                       <span style=\"color: #c0c0c0; text-decoration-color: #c0c0c0\">│</span>\n",
              "<span style=\"color: #c0c0c0; text-decoration-color: #c0c0c0\">╰─────────────────────────────────────────────────────────────────────────────────────────────────────────────────╯</span>\n",
              "</pre>\n"
            ]
          },
          "metadata": {}
        },
        {
          "output_type": "display_data",
          "data": {
            "text/plain": [
              "\u001b[3m        Run Metrics         \u001b[0m\n",
              "┏━━━━━━━━━━━━━━━━━━┳━━━━━━━┓\n",
              "┃\u001b[1m \u001b[0m\u001b[1mMetric          \u001b[0m\u001b[1m \u001b[0m┃\u001b[1m \u001b[0m\u001b[1mValue\u001b[0m\u001b[1m \u001b[0m┃\n",
              "┡━━━━━━━━━━━━━━━━━━╇━━━━━━━┩\n",
              "│\u001b[36m \u001b[0m\u001b[36mtotal_messages  \u001b[0m\u001b[36m \u001b[0m│\u001b[35m \u001b[0m\u001b[35m3    \u001b[0m\u001b[35m \u001b[0m│\n",
              "│\u001b[36m \u001b[0m\u001b[36mhuman_count     \u001b[0m\u001b[36m \u001b[0m│\u001b[35m \u001b[0m\u001b[35m2    \u001b[0m\u001b[35m \u001b[0m│\n",
              "│\u001b[36m \u001b[0m\u001b[36mai_count        \u001b[0m\u001b[36m \u001b[0m│\u001b[35m \u001b[0m\u001b[35m1    \u001b[0m\u001b[35m \u001b[0m│\n",
              "│\u001b[36m \u001b[0m\u001b[36mavg_human_length\u001b[0m\u001b[36m \u001b[0m│\u001b[35m \u001b[0m\u001b[35m68.0 \u001b[0m\u001b[35m \u001b[0m│\n",
              "│\u001b[36m \u001b[0m\u001b[36mavg_ai_length   \u001b[0m\u001b[36m \u001b[0m│\u001b[35m \u001b[0m\u001b[35m117.0\u001b[0m\u001b[35m \u001b[0m│\n",
              "│\u001b[36m \u001b[0m\u001b[36mlatency         \u001b[0m\u001b[36m \u001b[0m│\u001b[35m \u001b[0m\u001b[35m0.46 \u001b[0m\u001b[35m \u001b[0m│\n",
              "└──────────────────┴───────┘\n"
            ],
            "text/html": [
              "<pre style=\"white-space:pre;overflow-x:auto;line-height:normal;font-family:Menlo,'DejaVu Sans Mono',consolas,'Courier New',monospace\"><span style=\"font-style: italic\">        Run Metrics         </span>\n",
              "┏━━━━━━━━━━━━━━━━━━┳━━━━━━━┓\n",
              "┃<span style=\"font-weight: bold\"> Metric           </span>┃<span style=\"font-weight: bold\"> Value </span>┃\n",
              "┡━━━━━━━━━━━━━━━━━━╇━━━━━━━┩\n",
              "│<span style=\"color: #008080; text-decoration-color: #008080\"> total_messages   </span>│<span style=\"color: #800080; text-decoration-color: #800080\"> 3     </span>│\n",
              "│<span style=\"color: #008080; text-decoration-color: #008080\"> human_count      </span>│<span style=\"color: #800080; text-decoration-color: #800080\"> 2     </span>│\n",
              "│<span style=\"color: #008080; text-decoration-color: #008080\"> ai_count         </span>│<span style=\"color: #800080; text-decoration-color: #800080\"> 1     </span>│\n",
              "│<span style=\"color: #008080; text-decoration-color: #008080\"> avg_human_length </span>│<span style=\"color: #800080; text-decoration-color: #800080\"> 68.0  </span>│\n",
              "│<span style=\"color: #008080; text-decoration-color: #008080\"> avg_ai_length    </span>│<span style=\"color: #800080; text-decoration-color: #800080\"> 117.0 </span>│\n",
              "│<span style=\"color: #008080; text-decoration-color: #008080\"> latency          </span>│<span style=\"color: #800080; text-decoration-color: #800080\"> 0.46  </span>│\n",
              "└──────────────────┴───────┘\n",
              "</pre>\n"
            ]
          },
          "metadata": {}
        },
        {
          "output_type": "display_data",
          "data": {
            "text/plain": [
              "\u001b[3m         Run Metrics         \u001b[0m\n",
              "┏━━━━━━━━━━━━━━━━━━━┳━━━━━━━┓\n",
              "┃\u001b[1m \u001b[0m\u001b[1mMetric           \u001b[0m\u001b[1m \u001b[0m┃\u001b[1m \u001b[0m\u001b[1mValue\u001b[0m\u001b[1m \u001b[0m┃\n",
              "┡━━━━━━━━━━━━━━━━━━━╇━━━━━━━┩\n",
              "│\u001b[36m \u001b[0m\u001b[36mspecificity_score\u001b[0m\u001b[36m \u001b[0m│\u001b[35m \u001b[0m\u001b[35m0.2  \u001b[0m\u001b[35m \u001b[0m│\n",
              "│\u001b[36m \u001b[0m\u001b[36mlatency          \u001b[0m\u001b[36m \u001b[0m│\u001b[35m \u001b[0m\u001b[35m0.45 \u001b[0m\u001b[35m \u001b[0m│\n",
              "└───────────────────┴───────┘\n"
            ],
            "text/html": [
              "<pre style=\"white-space:pre;overflow-x:auto;line-height:normal;font-family:Menlo,'DejaVu Sans Mono',consolas,'Courier New',monospace\"><span style=\"font-style: italic\">         Run Metrics         </span>\n",
              "┏━━━━━━━━━━━━━━━━━━━┳━━━━━━━┓\n",
              "┃<span style=\"font-weight: bold\"> Metric            </span>┃<span style=\"font-weight: bold\"> Value </span>┃\n",
              "┡━━━━━━━━━━━━━━━━━━━╇━━━━━━━┩\n",
              "│<span style=\"color: #008080; text-decoration-color: #008080\"> specificity_score </span>│<span style=\"color: #800080; text-decoration-color: #800080\"> 0.2   </span>│\n",
              "│<span style=\"color: #008080; text-decoration-color: #008080\"> latency           </span>│<span style=\"color: #800080; text-decoration-color: #800080\"> 0.45  </span>│\n",
              "└───────────────────┴───────┘\n",
              "</pre>\n"
            ]
          },
          "metadata": {}
        },
        {
          "output_type": "display_data",
          "data": {
            "text/plain": [
              "\u001b[34m╭─\u001b[0m\u001b[34m───────────────────────────────────────────────────\u001b[0m\u001b[34m  Human \u001b[0m\u001b[34m────────────────────────────────────────────────────\u001b[0m\u001b[34m─╮\u001b[0m\n",
              "\u001b[34m│\u001b[0m I want to research the best coffee shops in San Francisco.                                                      \u001b[34m│\u001b[0m\n",
              "\u001b[34m╰─────────────────────────────────────────────────────────────────────────────────────────────────────────────────╯\u001b[0m\n"
            ],
            "text/html": [
              "<pre style=\"white-space:pre;overflow-x:auto;line-height:normal;font-family:Menlo,'DejaVu Sans Mono',consolas,'Courier New',monospace\"><span style=\"color: #000080; text-decoration-color: #000080\">╭────────────────────────────────────────────────────  Human ─────────────────────────────────────────────────────╮</span>\n",
              "<span style=\"color: #000080; text-decoration-color: #000080\">│</span> I want to research the best coffee shops in San Francisco.                                                      <span style=\"color: #000080; text-decoration-color: #000080\">│</span>\n",
              "<span style=\"color: #000080; text-decoration-color: #000080\">╰─────────────────────────────────────────────────────────────────────────────────────────────────────────────────╯</span>\n",
              "</pre>\n"
            ]
          },
          "metadata": {}
        },
        {
          "output_type": "display_data",
          "data": {
            "text/plain": [
              "\u001b[37m╭─\u001b[0m\u001b[37m───────────────────────────────────────────────────\u001b[0m\u001b[37m  Other \u001b[0m\u001b[37m────────────────────────────────────────────────────\u001b[0m\u001b[37m─╮\u001b[0m\n",
              "\u001b[37m│\u001b[0m I have enough information to start researching the best coffee shops in San Francisco. I will now begin the     \u001b[37m│\u001b[0m\n",
              "\u001b[37m│\u001b[0m research.                                                                                                       \u001b[37m│\u001b[0m\n",
              "\u001b[37m╰─────────────────────────────────────────────────────────────────────────────────────────────────────────────────╯\u001b[0m\n"
            ],
            "text/html": [
              "<pre style=\"white-space:pre;overflow-x:auto;line-height:normal;font-family:Menlo,'DejaVu Sans Mono',consolas,'Courier New',monospace\"><span style=\"color: #c0c0c0; text-decoration-color: #c0c0c0\">╭────────────────────────────────────────────────────  Other ─────────────────────────────────────────────────────╮</span>\n",
              "<span style=\"color: #c0c0c0; text-decoration-color: #c0c0c0\">│</span> I have enough information to start researching the best coffee shops in San Francisco. I will now begin the     <span style=\"color: #c0c0c0; text-decoration-color: #c0c0c0\">│</span>\n",
              "<span style=\"color: #c0c0c0; text-decoration-color: #c0c0c0\">│</span> research.                                                                                                       <span style=\"color: #c0c0c0; text-decoration-color: #c0c0c0\">│</span>\n",
              "<span style=\"color: #c0c0c0; text-decoration-color: #c0c0c0\">╰─────────────────────────────────────────────────────────────────────────────────────────────────────────────────╯</span>\n",
              "</pre>\n"
            ]
          },
          "metadata": {}
        },
        {
          "output_type": "display_data",
          "data": {
            "text/plain": [
              "\u001b[34m╭─\u001b[0m\u001b[34m───────────────────────────────────────────────────\u001b[0m\u001b[34m  Human \u001b[0m\u001b[34m────────────────────────────────────────────────────\u001b[0m\u001b[34m─╮\u001b[0m\n",
              "\u001b[34m│\u001b[0m Let's examine coffee quality to assess the best coffee shops in San Francisco.                                  \u001b[34m│\u001b[0m\n",
              "\u001b[34m╰─────────────────────────────────────────────────────────────────────────────────────────────────────────────────╯\u001b[0m\n"
            ],
            "text/html": [
              "<pre style=\"white-space:pre;overflow-x:auto;line-height:normal;font-family:Menlo,'DejaVu Sans Mono',consolas,'Courier New',monospace\"><span style=\"color: #000080; text-decoration-color: #000080\">╭────────────────────────────────────────────────────  Human ─────────────────────────────────────────────────────╮</span>\n",
              "<span style=\"color: #000080; text-decoration-color: #000080\">│</span> Let's examine coffee quality to assess the best coffee shops in San Francisco.                                  <span style=\"color: #000080; text-decoration-color: #000080\">│</span>\n",
              "<span style=\"color: #000080; text-decoration-color: #000080\">╰─────────────────────────────────────────────────────────────────────────────────────────────────────────────────╯</span>\n",
              "</pre>\n"
            ]
          },
          "metadata": {}
        },
        {
          "output_type": "display_data",
          "data": {
            "text/plain": [
              "\u001b[37m╭─\u001b[0m\u001b[37m───────────────────────────────────────────────────\u001b[0m\u001b[37m  Other \u001b[0m\u001b[37m────────────────────────────────────────────────────\u001b[0m\u001b[37m─╮\u001b[0m\n",
              "\u001b[37m│\u001b[0m I have enough information to start researching the best coffee shops in San Francisco, focusing on coffee       \u001b[37m│\u001b[0m\n",
              "\u001b[37m│\u001b[0m quality. I will now begin the research.                                                                         \u001b[37m│\u001b[0m\n",
              "\u001b[37m╰─────────────────────────────────────────────────────────────────────────────────────────────────────────────────╯\u001b[0m\n"
            ],
            "text/html": [
              "<pre style=\"white-space:pre;overflow-x:auto;line-height:normal;font-family:Menlo,'DejaVu Sans Mono',consolas,'Courier New',monospace\"><span style=\"color: #c0c0c0; text-decoration-color: #c0c0c0\">╭────────────────────────────────────────────────────  Other ─────────────────────────────────────────────────────╮</span>\n",
              "<span style=\"color: #c0c0c0; text-decoration-color: #c0c0c0\">│</span> I have enough information to start researching the best coffee shops in San Francisco, focusing on coffee       <span style=\"color: #c0c0c0; text-decoration-color: #c0c0c0\">│</span>\n",
              "<span style=\"color: #c0c0c0; text-decoration-color: #c0c0c0\">│</span> quality. I will now begin the research.                                                                         <span style=\"color: #c0c0c0; text-decoration-color: #c0c0c0\">│</span>\n",
              "<span style=\"color: #c0c0c0; text-decoration-color: #c0c0c0\">╰─────────────────────────────────────────────────────────────────────────────────────────────────────────────────╯</span>\n",
              "</pre>\n"
            ]
          },
          "metadata": {}
        },
        {
          "output_type": "execute_result",
          "data": {
            "text/plain": [
              "I want to research the best coffee shops in San Francisco, with a specific focus on coffee quality. This includes  \n",
              "examining factors such as bean sourcing, roasting methods, and brewing techniques. I have not specified any        \n",
              "constraints on price range or other preferences, so please consider all options.                                   \n"
            ],
            "text/html": [
              "<pre style=\"white-space:pre;overflow-x:auto;line-height:normal;font-family:Menlo,'DejaVu Sans Mono',consolas,'Courier New',monospace\">I want to research the best coffee shops in San Francisco, with a specific focus on coffee quality. This includes  \n",
              "examining factors such as bean sourcing, roasting methods, and brewing techniques. I have not specified any        \n",
              "constraints on price range or other preferences, so please consider all options.                                   \n",
              "</pre>\n"
            ]
          },
          "metadata": {},
          "execution_count": 73
        }
      ]
    },
    {
      "cell_type": "code",
      "source": [
        "Markdown(result[\"research_brief\"])"
      ],
      "metadata": {
        "colab": {
          "base_uri": "https://localhost:8080/",
          "height": 65
        },
        "id": "TUsUdK9WAtKG",
        "outputId": "bfc6ac96-ec1a-4aad-b335-48532248ed76"
      },
      "execution_count": null,
      "outputs": [
        {
          "output_type": "execute_result",
          "data": {
            "text/plain": [
              "I want to research the best coffee shops in San Francisco, with a specific focus on coffee quality. This includes  \n",
              "examining factors such as bean sourcing, roasting methods, and brewing techniques. I have not specified any        \n",
              "constraints on price range or other preferences, so please consider all options.                                   \n"
            ],
            "text/html": [
              "<pre style=\"white-space:pre;overflow-x:auto;line-height:normal;font-family:Menlo,'DejaVu Sans Mono',consolas,'Courier New',monospace\">I want to research the best coffee shops in San Francisco, with a specific focus on coffee quality. This includes  \n",
              "examining factors such as bean sourcing, roasting methods, and brewing techniques. I have not specified any        \n",
              "constraints on price range or other preferences, so please consider all options.                                   \n",
              "</pre>\n"
            ]
          },
          "metadata": {},
          "execution_count": 74
        }
      ]
    },
    {
      "cell_type": "code",
      "source": [
        "# Function to run the scope with metrics logging\n",
        "def run_with_metrics(run_id, scope, messages, config):\n",
        "    start_time = time.time()\n",
        "    # Execute the graph\n",
        "    result = scope.invoke({\"messages\": messages}, config=config)\n",
        "    end_time = time.time()\n",
        "    latency = round(end_time - start_time, 2)\n",
        "\n",
        "\n",
        "    metrics = get_conversation_metrics(result['messages'])\n",
        "    metrics[\"latency\"] = latency\n",
        "    log_metrics(f\"{run_id}_{datetime.now().strftime('%Y%m%d%H%M%S')}\", metrics)\n",
        "    show_metrics(metrics)\n",
        "\n",
        "    return result"
      ],
      "metadata": {
        "id": "wdYCIqnmDJ1o"
      },
      "execution_count": null,
      "outputs": []
    },
    {
      "cell_type": "code",
      "source": [
        "# INTERACTIVE CHATBOT LOOP\n",
        "thread = {\"configurable\": {\"thread_id\": \"chatbot_001\"}}\n",
        "conversation_history = []\n",
        "\n",
        "console.print(\"[bold green]Research Agent Chatbot is running! Type 'exit' to quit.[/bold green]\\n\")\n",
        "\n",
        "while True:\n",
        "    # user input\n",
        "    user_input = input(\" You: \")\n",
        "    if user_input.lower() in [\"exit\", \"quit\"]:\n",
        "        console.print(\"[bold red]Chatbot session ended.[/bold red]\")\n",
        "        break\n",
        "\n",
        "\n",
        "    human_msg = HumanMessage(content=user_input)\n",
        "    conversation_history.append(human_msg)\n",
        "\n",
        "    # metrics\n",
        "    result = run_with_metrics(\n",
        "        run_id=\"chatbot_run\",\n",
        "        scope=scope,\n",
        "        messages=conversation_history,\n",
        "        config=thread\n",
        "    )\n",
        "\n",
        "\n",
        "    format_messages(result['messages'])\n",
        "\n",
        "\n",
        "    conversation_history.extend([m for m in result['messages'] if isinstance(m, AIMessage)])\n",
        "\n",
        "\n",
        "    if \"research_brief\" in result:\n",
        "        console.print(\"\\n[bold blue] Research Brief Generated:[/bold blue]\")\n",
        "        display(Markdown(result[\"research_brief\"]))\n"
      ],
      "metadata": {
        "colab": {
          "base_uri": "https://localhost:8080/",
          "height": 1000
        },
        "id": "L5DX0gPnCGm-",
        "outputId": "c69a2fd3-2e24-4920-a203-89ad93c0ac3b"
      },
      "execution_count": null,
      "outputs": [
        {
          "output_type": "display_data",
          "data": {
            "text/plain": [
              "\u001b[1;32mResearch Agent Chatbot is running! Type \u001b[0m\u001b[1;32m'exit'\u001b[0m\u001b[1;32m to quit.\u001b[0m\n",
              "\n"
            ],
            "text/html": [
              "<pre style=\"white-space:pre;overflow-x:auto;line-height:normal;font-family:Menlo,'DejaVu Sans Mono',consolas,'Courier New',monospace\"><span style=\"color: #008000; text-decoration-color: #008000; font-weight: bold\">Research Agent Chatbot is running! Type </span><span style=\"color: #008000; text-decoration-color: #008000; font-weight: bold\">'exit'</span><span style=\"color: #008000; text-decoration-color: #008000; font-weight: bold\"> to quit.</span>\n",
              "\n",
              "</pre>\n"
            ]
          },
          "metadata": {}
        },
        {
          "name": "stdout",
          "output_type": "stream",
          "text": [
            " You: which is the best rice in india\n"
          ]
        },
        {
          "output_type": "display_data",
          "data": {
            "text/plain": [
              "\u001b[3m        Run Metrics         \u001b[0m\n",
              "┏━━━━━━━━━━━━━━━━━━┳━━━━━━━┓\n",
              "┃\u001b[1m \u001b[0m\u001b[1mMetric          \u001b[0m\u001b[1m \u001b[0m┃\u001b[1m \u001b[0m\u001b[1mValue\u001b[0m\u001b[1m \u001b[0m┃\n",
              "┡━━━━━━━━━━━━━━━━━━╇━━━━━━━┩\n",
              "│\u001b[36m \u001b[0m\u001b[36mtotal_messages  \u001b[0m\u001b[36m \u001b[0m│\u001b[35m \u001b[0m\u001b[35m1    \u001b[0m\u001b[35m \u001b[0m│\n",
              "│\u001b[36m \u001b[0m\u001b[36mhuman_count     \u001b[0m\u001b[36m \u001b[0m│\u001b[35m \u001b[0m\u001b[35m1    \u001b[0m\u001b[35m \u001b[0m│\n",
              "│\u001b[36m \u001b[0m\u001b[36mai_count        \u001b[0m\u001b[36m \u001b[0m│\u001b[35m \u001b[0m\u001b[35m0    \u001b[0m\u001b[35m \u001b[0m│\n",
              "│\u001b[36m \u001b[0m\u001b[36mavg_human_length\u001b[0m\u001b[36m \u001b[0m│\u001b[35m \u001b[0m\u001b[35m31.0 \u001b[0m\u001b[35m \u001b[0m│\n",
              "│\u001b[36m \u001b[0m\u001b[36mavg_ai_length   \u001b[0m\u001b[36m \u001b[0m│\u001b[35m \u001b[0m\u001b[35m0.0  \u001b[0m\u001b[35m \u001b[0m│\n",
              "│\u001b[36m \u001b[0m\u001b[36mlatency         \u001b[0m\u001b[36m \u001b[0m│\u001b[35m \u001b[0m\u001b[35m0.47 \u001b[0m\u001b[35m \u001b[0m│\n",
              "└──────────────────┴───────┘\n"
            ],
            "text/html": [
              "<pre style=\"white-space:pre;overflow-x:auto;line-height:normal;font-family:Menlo,'DejaVu Sans Mono',consolas,'Courier New',monospace\"><span style=\"font-style: italic\">        Run Metrics         </span>\n",
              "┏━━━━━━━━━━━━━━━━━━┳━━━━━━━┓\n",
              "┃<span style=\"font-weight: bold\"> Metric           </span>┃<span style=\"font-weight: bold\"> Value </span>┃\n",
              "┡━━━━━━━━━━━━━━━━━━╇━━━━━━━┩\n",
              "│<span style=\"color: #008080; text-decoration-color: #008080\"> total_messages   </span>│<span style=\"color: #800080; text-decoration-color: #800080\"> 1     </span>│\n",
              "│<span style=\"color: #008080; text-decoration-color: #008080\"> human_count      </span>│<span style=\"color: #800080; text-decoration-color: #800080\"> 1     </span>│\n",
              "│<span style=\"color: #008080; text-decoration-color: #008080\"> ai_count         </span>│<span style=\"color: #800080; text-decoration-color: #800080\"> 0     </span>│\n",
              "│<span style=\"color: #008080; text-decoration-color: #008080\"> avg_human_length </span>│<span style=\"color: #800080; text-decoration-color: #800080\"> 31.0  </span>│\n",
              "│<span style=\"color: #008080; text-decoration-color: #008080\"> avg_ai_length    </span>│<span style=\"color: #800080; text-decoration-color: #800080\"> 0.0   </span>│\n",
              "│<span style=\"color: #008080; text-decoration-color: #008080\"> latency          </span>│<span style=\"color: #800080; text-decoration-color: #800080\"> 0.47  </span>│\n",
              "└──────────────────┴───────┘\n",
              "</pre>\n"
            ]
          },
          "metadata": {}
        },
        {
          "output_type": "display_data",
          "data": {
            "text/plain": [
              "\u001b[3m         Run Metrics         \u001b[0m\n",
              "┏━━━━━━━━━━━━━━━━━━━┳━━━━━━━┓\n",
              "┃\u001b[1m \u001b[0m\u001b[1mMetric           \u001b[0m\u001b[1m \u001b[0m┃\u001b[1m \u001b[0m\u001b[1mValue\u001b[0m\u001b[1m \u001b[0m┃\n",
              "┡━━━━━━━━━━━━━━━━━━━╇━━━━━━━┩\n",
              "│\u001b[36m \u001b[0m\u001b[36mspecificity_score\u001b[0m\u001b[36m \u001b[0m│\u001b[35m \u001b[0m\u001b[35m0.2  \u001b[0m\u001b[35m \u001b[0m│\n",
              "│\u001b[36m \u001b[0m\u001b[36mlatency          \u001b[0m\u001b[36m \u001b[0m│\u001b[35m \u001b[0m\u001b[35m0.62 \u001b[0m\u001b[35m \u001b[0m│\n",
              "└───────────────────┴───────┘\n"
            ],
            "text/html": [
              "<pre style=\"white-space:pre;overflow-x:auto;line-height:normal;font-family:Menlo,'DejaVu Sans Mono',consolas,'Courier New',monospace\"><span style=\"font-style: italic\">         Run Metrics         </span>\n",
              "┏━━━━━━━━━━━━━━━━━━━┳━━━━━━━┓\n",
              "┃<span style=\"font-weight: bold\"> Metric            </span>┃<span style=\"font-weight: bold\"> Value </span>┃\n",
              "┡━━━━━━━━━━━━━━━━━━━╇━━━━━━━┩\n",
              "│<span style=\"color: #008080; text-decoration-color: #008080\"> specificity_score </span>│<span style=\"color: #800080; text-decoration-color: #800080\"> 0.2   </span>│\n",
              "│<span style=\"color: #008080; text-decoration-color: #008080\"> latency           </span>│<span style=\"color: #800080; text-decoration-color: #800080\"> 0.62  </span>│\n",
              "└───────────────────┴───────┘\n",
              "</pre>\n"
            ]
          },
          "metadata": {}
        },
        {
          "output_type": "display_data",
          "data": {
            "text/plain": [
              "\u001b[3m        Run Metrics         \u001b[0m\n",
              "┏━━━━━━━━━━━━━━━━━━┳━━━━━━━┓\n",
              "┃\u001b[1m \u001b[0m\u001b[1mMetric          \u001b[0m\u001b[1m \u001b[0m┃\u001b[1m \u001b[0m\u001b[1mValue\u001b[0m\u001b[1m \u001b[0m┃\n",
              "┡━━━━━━━━━━━━━━━━━━╇━━━━━━━┩\n",
              "│\u001b[36m \u001b[0m\u001b[36mtotal_messages  \u001b[0m\u001b[36m \u001b[0m│\u001b[35m \u001b[0m\u001b[35m2    \u001b[0m\u001b[35m \u001b[0m│\n",
              "│\u001b[36m \u001b[0m\u001b[36mhuman_count     \u001b[0m\u001b[36m \u001b[0m│\u001b[35m \u001b[0m\u001b[35m1    \u001b[0m\u001b[35m \u001b[0m│\n",
              "│\u001b[36m \u001b[0m\u001b[36mai_count        \u001b[0m\u001b[36m \u001b[0m│\u001b[35m \u001b[0m\u001b[35m1    \u001b[0m\u001b[35m \u001b[0m│\n",
              "│\u001b[36m \u001b[0m\u001b[36mavg_human_length\u001b[0m\u001b[36m \u001b[0m│\u001b[35m \u001b[0m\u001b[35m31.0 \u001b[0m\u001b[35m \u001b[0m│\n",
              "│\u001b[36m \u001b[0m\u001b[36mavg_ai_length   \u001b[0m\u001b[36m \u001b[0m│\u001b[35m \u001b[0m\u001b[35m137.0\u001b[0m\u001b[35m \u001b[0m│\n",
              "│\u001b[36m \u001b[0m\u001b[36mlatency         \u001b[0m\u001b[36m \u001b[0m│\u001b[35m \u001b[0m\u001b[35m1.13 \u001b[0m\u001b[35m \u001b[0m│\n",
              "└──────────────────┴───────┘\n"
            ],
            "text/html": [
              "<pre style=\"white-space:pre;overflow-x:auto;line-height:normal;font-family:Menlo,'DejaVu Sans Mono',consolas,'Courier New',monospace\"><span style=\"font-style: italic\">        Run Metrics         </span>\n",
              "┏━━━━━━━━━━━━━━━━━━┳━━━━━━━┓\n",
              "┃<span style=\"font-weight: bold\"> Metric           </span>┃<span style=\"font-weight: bold\"> Value </span>┃\n",
              "┡━━━━━━━━━━━━━━━━━━╇━━━━━━━┩\n",
              "│<span style=\"color: #008080; text-decoration-color: #008080\"> total_messages   </span>│<span style=\"color: #800080; text-decoration-color: #800080\"> 2     </span>│\n",
              "│<span style=\"color: #008080; text-decoration-color: #008080\"> human_count      </span>│<span style=\"color: #800080; text-decoration-color: #800080\"> 1     </span>│\n",
              "│<span style=\"color: #008080; text-decoration-color: #008080\"> ai_count         </span>│<span style=\"color: #800080; text-decoration-color: #800080\"> 1     </span>│\n",
              "│<span style=\"color: #008080; text-decoration-color: #008080\"> avg_human_length </span>│<span style=\"color: #800080; text-decoration-color: #800080\"> 31.0  </span>│\n",
              "│<span style=\"color: #008080; text-decoration-color: #008080\"> avg_ai_length    </span>│<span style=\"color: #800080; text-decoration-color: #800080\"> 137.0 </span>│\n",
              "│<span style=\"color: #008080; text-decoration-color: #008080\"> latency          </span>│<span style=\"color: #800080; text-decoration-color: #800080\"> 1.13  </span>│\n",
              "└──────────────────┴───────┘\n",
              "</pre>\n"
            ]
          },
          "metadata": {}
        },
        {
          "output_type": "display_data",
          "data": {
            "text/plain": [
              "\u001b[34m╭─\u001b[0m\u001b[34m───────────────────────────────────────────────────\u001b[0m\u001b[34m  Human \u001b[0m\u001b[34m────────────────────────────────────────────────────\u001b[0m\u001b[34m─╮\u001b[0m\n",
              "\u001b[34m│\u001b[0m which is the best rice in india                                                                                 \u001b[34m│\u001b[0m\n",
              "\u001b[34m╰─────────────────────────────────────────────────────────────────────────────────────────────────────────────────╯\u001b[0m\n"
            ],
            "text/html": [
              "<pre style=\"white-space:pre;overflow-x:auto;line-height:normal;font-family:Menlo,'DejaVu Sans Mono',consolas,'Courier New',monospace\"><span style=\"color: #000080; text-decoration-color: #000080\">╭────────────────────────────────────────────────────  Human ─────────────────────────────────────────────────────╮</span>\n",
              "<span style=\"color: #000080; text-decoration-color: #000080\">│</span> which is the best rice in india                                                                                 <span style=\"color: #000080; text-decoration-color: #000080\">│</span>\n",
              "<span style=\"color: #000080; text-decoration-color: #000080\">╰─────────────────────────────────────────────────────────────────────────────────────────────────────────────────╯</span>\n",
              "</pre>\n"
            ]
          },
          "metadata": {}
        },
        {
          "output_type": "display_data",
          "data": {
            "text/plain": [
              "\u001b[37m╭─\u001b[0m\u001b[37m───────────────────────────────────────────────────\u001b[0m\u001b[37m  Other \u001b[0m\u001b[37m────────────────────────────────────────────────────\u001b[0m\u001b[37m─╮\u001b[0m\n",
              "\u001b[37m│\u001b[0m Thank you for your request. I have enough information to start researching the best rice in India. I will begin \u001b[37m│\u001b[0m\n",
              "\u001b[37m│\u001b[0m the research process now.                                                                                       \u001b[37m│\u001b[0m\n",
              "\u001b[37m╰─────────────────────────────────────────────────────────────────────────────────────────────────────────────────╯\u001b[0m\n"
            ],
            "text/html": [
              "<pre style=\"white-space:pre;overflow-x:auto;line-height:normal;font-family:Menlo,'DejaVu Sans Mono',consolas,'Courier New',monospace\"><span style=\"color: #c0c0c0; text-decoration-color: #c0c0c0\">╭────────────────────────────────────────────────────  Other ─────────────────────────────────────────────────────╮</span>\n",
              "<span style=\"color: #c0c0c0; text-decoration-color: #c0c0c0\">│</span> Thank you for your request. I have enough information to start researching the best rice in India. I will begin <span style=\"color: #c0c0c0; text-decoration-color: #c0c0c0\">│</span>\n",
              "<span style=\"color: #c0c0c0; text-decoration-color: #c0c0c0\">│</span> the research process now.                                                                                       <span style=\"color: #c0c0c0; text-decoration-color: #c0c0c0\">│</span>\n",
              "<span style=\"color: #c0c0c0; text-decoration-color: #c0c0c0\">╰─────────────────────────────────────────────────────────────────────────────────────────────────────────────────╯</span>\n",
              "</pre>\n"
            ]
          },
          "metadata": {}
        },
        {
          "output_type": "display_data",
          "data": {
            "text/plain": [
              "\n",
              "\u001b[1;34m Research Brief Generated:\u001b[0m\n"
            ],
            "text/html": [
              "<pre style=\"white-space:pre;overflow-x:auto;line-height:normal;font-family:Menlo,'DejaVu Sans Mono',consolas,'Courier New',monospace\">\n",
              "<span style=\"color: #000080; text-decoration-color: #000080; font-weight: bold\"> Research Brief Generated:</span>\n",
              "</pre>\n"
            ]
          },
          "metadata": {}
        },
        {
          "output_type": "display_data",
          "data": {
            "text/plain": [
              "I want to find out which type of rice is considered the best in India. I am open to all types of rice and price    \n",
              "ranges, and I do not have any specific preferences or constraints at this time. Please provide a comprehensive     \n",
              "overview of the top rice varieties available in India, considering factors such as taste, texture, aroma, culinary \n",
              "uses, and regional popularity.                                                                                     \n"
            ],
            "text/html": [
              "<pre style=\"white-space:pre;overflow-x:auto;line-height:normal;font-family:Menlo,'DejaVu Sans Mono',consolas,'Courier New',monospace\">I want to find out which type of rice is considered the best in India. I am open to all types of rice and price    \n",
              "ranges, and I do not have any specific preferences or constraints at this time. Please provide a comprehensive     \n",
              "overview of the top rice varieties available in India, considering factors such as taste, texture, aroma, culinary \n",
              "uses, and regional popularity.                                                                                     \n",
              "</pre>\n"
            ]
          },
          "metadata": {}
        },
        {
          "name": "stdout",
          "output_type": "stream",
          "text": [
            " You: sona masuri rice\n"
          ]
        },
        {
          "output_type": "display_data",
          "data": {
            "text/plain": [
              "\u001b[3m        Run Metrics         \u001b[0m\n",
              "┏━━━━━━━━━━━━━━━━━━┳━━━━━━━┓\n",
              "┃\u001b[1m \u001b[0m\u001b[1mMetric          \u001b[0m\u001b[1m \u001b[0m┃\u001b[1m \u001b[0m\u001b[1mValue\u001b[0m\u001b[1m \u001b[0m┃\n",
              "┡━━━━━━━━━━━━━━━━━━╇━━━━━━━┩\n",
              "│\u001b[36m \u001b[0m\u001b[36mtotal_messages  \u001b[0m\u001b[36m \u001b[0m│\u001b[35m \u001b[0m\u001b[35m3    \u001b[0m\u001b[35m \u001b[0m│\n",
              "│\u001b[36m \u001b[0m\u001b[36mhuman_count     \u001b[0m\u001b[36m \u001b[0m│\u001b[35m \u001b[0m\u001b[35m2    \u001b[0m\u001b[35m \u001b[0m│\n",
              "│\u001b[36m \u001b[0m\u001b[36mai_count        \u001b[0m\u001b[36m \u001b[0m│\u001b[35m \u001b[0m\u001b[35m1    \u001b[0m\u001b[35m \u001b[0m│\n",
              "│\u001b[36m \u001b[0m\u001b[36mavg_human_length\u001b[0m\u001b[36m \u001b[0m│\u001b[35m \u001b[0m\u001b[35m23.5 \u001b[0m\u001b[35m \u001b[0m│\n",
              "│\u001b[36m \u001b[0m\u001b[36mavg_ai_length   \u001b[0m\u001b[36m \u001b[0m│\u001b[35m \u001b[0m\u001b[35m137.0\u001b[0m\u001b[35m \u001b[0m│\n",
              "│\u001b[36m \u001b[0m\u001b[36mlatency         \u001b[0m\u001b[36m \u001b[0m│\u001b[35m \u001b[0m\u001b[35m0.4  \u001b[0m\u001b[35m \u001b[0m│\n",
              "└──────────────────┴───────┘\n"
            ],
            "text/html": [
              "<pre style=\"white-space:pre;overflow-x:auto;line-height:normal;font-family:Menlo,'DejaVu Sans Mono',consolas,'Courier New',monospace\"><span style=\"font-style: italic\">        Run Metrics         </span>\n",
              "┏━━━━━━━━━━━━━━━━━━┳━━━━━━━┓\n",
              "┃<span style=\"font-weight: bold\"> Metric           </span>┃<span style=\"font-weight: bold\"> Value </span>┃\n",
              "┡━━━━━━━━━━━━━━━━━━╇━━━━━━━┩\n",
              "│<span style=\"color: #008080; text-decoration-color: #008080\"> total_messages   </span>│<span style=\"color: #800080; text-decoration-color: #800080\"> 3     </span>│\n",
              "│<span style=\"color: #008080; text-decoration-color: #008080\"> human_count      </span>│<span style=\"color: #800080; text-decoration-color: #800080\"> 2     </span>│\n",
              "│<span style=\"color: #008080; text-decoration-color: #008080\"> ai_count         </span>│<span style=\"color: #800080; text-decoration-color: #800080\"> 1     </span>│\n",
              "│<span style=\"color: #008080; text-decoration-color: #008080\"> avg_human_length </span>│<span style=\"color: #800080; text-decoration-color: #800080\"> 23.5  </span>│\n",
              "│<span style=\"color: #008080; text-decoration-color: #008080\"> avg_ai_length    </span>│<span style=\"color: #800080; text-decoration-color: #800080\"> 137.0 </span>│\n",
              "│<span style=\"color: #008080; text-decoration-color: #008080\"> latency          </span>│<span style=\"color: #800080; text-decoration-color: #800080\"> 0.4   </span>│\n",
              "└──────────────────┴───────┘\n",
              "</pre>\n"
            ]
          },
          "metadata": {}
        },
        {
          "output_type": "display_data",
          "data": {
            "text/plain": [
              "\u001b[3m         Run Metrics         \u001b[0m\n",
              "┏━━━━━━━━━━━━━━━━━━━┳━━━━━━━┓\n",
              "┃\u001b[1m \u001b[0m\u001b[1mMetric           \u001b[0m\u001b[1m \u001b[0m┃\u001b[1m \u001b[0m\u001b[1mValue\u001b[0m\u001b[1m \u001b[0m┃\n",
              "┡━━━━━━━━━━━━━━━━━━━╇━━━━━━━┩\n",
              "│\u001b[36m \u001b[0m\u001b[36mspecificity_score\u001b[0m\u001b[36m \u001b[0m│\u001b[35m \u001b[0m\u001b[35m0.0  \u001b[0m\u001b[35m \u001b[0m│\n",
              "│\u001b[36m \u001b[0m\u001b[36mlatency          \u001b[0m\u001b[36m \u001b[0m│\u001b[35m \u001b[0m\u001b[35m0.57 \u001b[0m\u001b[35m \u001b[0m│\n",
              "└───────────────────┴───────┘\n"
            ],
            "text/html": [
              "<pre style=\"white-space:pre;overflow-x:auto;line-height:normal;font-family:Menlo,'DejaVu Sans Mono',consolas,'Courier New',monospace\"><span style=\"font-style: italic\">         Run Metrics         </span>\n",
              "┏━━━━━━━━━━━━━━━━━━━┳━━━━━━━┓\n",
              "┃<span style=\"font-weight: bold\"> Metric            </span>┃<span style=\"font-weight: bold\"> Value </span>┃\n",
              "┡━━━━━━━━━━━━━━━━━━━╇━━━━━━━┩\n",
              "│<span style=\"color: #008080; text-decoration-color: #008080\"> specificity_score </span>│<span style=\"color: #800080; text-decoration-color: #800080\"> 0.0   </span>│\n",
              "│<span style=\"color: #008080; text-decoration-color: #008080\"> latency           </span>│<span style=\"color: #800080; text-decoration-color: #800080\"> 0.57  </span>│\n",
              "└───────────────────┴───────┘\n",
              "</pre>\n"
            ]
          },
          "metadata": {}
        },
        {
          "output_type": "display_data",
          "data": {
            "text/plain": [
              "\u001b[3m        Run Metrics         \u001b[0m\n",
              "┏━━━━━━━━━━━━━━━━━━┳━━━━━━━┓\n",
              "┃\u001b[1m \u001b[0m\u001b[1mMetric          \u001b[0m\u001b[1m \u001b[0m┃\u001b[1m \u001b[0m\u001b[1mValue\u001b[0m\u001b[1m \u001b[0m┃\n",
              "┡━━━━━━━━━━━━━━━━━━╇━━━━━━━┩\n",
              "│\u001b[36m \u001b[0m\u001b[36mtotal_messages  \u001b[0m\u001b[36m \u001b[0m│\u001b[35m \u001b[0m\u001b[35m4    \u001b[0m\u001b[35m \u001b[0m│\n",
              "│\u001b[36m \u001b[0m\u001b[36mhuman_count     \u001b[0m\u001b[36m \u001b[0m│\u001b[35m \u001b[0m\u001b[35m2    \u001b[0m\u001b[35m \u001b[0m│\n",
              "│\u001b[36m \u001b[0m\u001b[36mai_count        \u001b[0m\u001b[36m \u001b[0m│\u001b[35m \u001b[0m\u001b[35m2    \u001b[0m\u001b[35m \u001b[0m│\n",
              "│\u001b[36m \u001b[0m\u001b[36mavg_human_length\u001b[0m\u001b[36m \u001b[0m│\u001b[35m \u001b[0m\u001b[35m23.5 \u001b[0m\u001b[35m \u001b[0m│\n",
              "│\u001b[36m \u001b[0m\u001b[36mavg_ai_length   \u001b[0m\u001b[36m \u001b[0m│\u001b[35m \u001b[0m\u001b[35m139.5\u001b[0m\u001b[35m \u001b[0m│\n",
              "│\u001b[36m \u001b[0m\u001b[36mlatency         \u001b[0m\u001b[36m \u001b[0m│\u001b[35m \u001b[0m\u001b[35m0.99 \u001b[0m\u001b[35m \u001b[0m│\n",
              "└──────────────────┴───────┘\n"
            ],
            "text/html": [
              "<pre style=\"white-space:pre;overflow-x:auto;line-height:normal;font-family:Menlo,'DejaVu Sans Mono',consolas,'Courier New',monospace\"><span style=\"font-style: italic\">        Run Metrics         </span>\n",
              "┏━━━━━━━━━━━━━━━━━━┳━━━━━━━┓\n",
              "┃<span style=\"font-weight: bold\"> Metric           </span>┃<span style=\"font-weight: bold\"> Value </span>┃\n",
              "┡━━━━━━━━━━━━━━━━━━╇━━━━━━━┩\n",
              "│<span style=\"color: #008080; text-decoration-color: #008080\"> total_messages   </span>│<span style=\"color: #800080; text-decoration-color: #800080\"> 4     </span>│\n",
              "│<span style=\"color: #008080; text-decoration-color: #008080\"> human_count      </span>│<span style=\"color: #800080; text-decoration-color: #800080\"> 2     </span>│\n",
              "│<span style=\"color: #008080; text-decoration-color: #008080\"> ai_count         </span>│<span style=\"color: #800080; text-decoration-color: #800080\"> 2     </span>│\n",
              "│<span style=\"color: #008080; text-decoration-color: #008080\"> avg_human_length </span>│<span style=\"color: #800080; text-decoration-color: #800080\"> 23.5  </span>│\n",
              "│<span style=\"color: #008080; text-decoration-color: #008080\"> avg_ai_length    </span>│<span style=\"color: #800080; text-decoration-color: #800080\"> 139.5 </span>│\n",
              "│<span style=\"color: #008080; text-decoration-color: #008080\"> latency          </span>│<span style=\"color: #800080; text-decoration-color: #800080\"> 0.99  </span>│\n",
              "└──────────────────┴───────┘\n",
              "</pre>\n"
            ]
          },
          "metadata": {}
        },
        {
          "output_type": "display_data",
          "data": {
            "text/plain": [
              "\u001b[34m╭─\u001b[0m\u001b[34m───────────────────────────────────────────────────\u001b[0m\u001b[34m  Human \u001b[0m\u001b[34m────────────────────────────────────────────────────\u001b[0m\u001b[34m─╮\u001b[0m\n",
              "\u001b[34m│\u001b[0m which is the best rice in india                                                                                 \u001b[34m│\u001b[0m\n",
              "\u001b[34m╰─────────────────────────────────────────────────────────────────────────────────────────────────────────────────╯\u001b[0m\n"
            ],
            "text/html": [
              "<pre style=\"white-space:pre;overflow-x:auto;line-height:normal;font-family:Menlo,'DejaVu Sans Mono',consolas,'Courier New',monospace\"><span style=\"color: #000080; text-decoration-color: #000080\">╭────────────────────────────────────────────────────  Human ─────────────────────────────────────────────────────╮</span>\n",
              "<span style=\"color: #000080; text-decoration-color: #000080\">│</span> which is the best rice in india                                                                                 <span style=\"color: #000080; text-decoration-color: #000080\">│</span>\n",
              "<span style=\"color: #000080; text-decoration-color: #000080\">╰─────────────────────────────────────────────────────────────────────────────────────────────────────────────────╯</span>\n",
              "</pre>\n"
            ]
          },
          "metadata": {}
        },
        {
          "output_type": "display_data",
          "data": {
            "text/plain": [
              "\u001b[37m╭─\u001b[0m\u001b[37m───────────────────────────────────────────────────\u001b[0m\u001b[37m  Other \u001b[0m\u001b[37m────────────────────────────────────────────────────\u001b[0m\u001b[37m─╮\u001b[0m\n",
              "\u001b[37m│\u001b[0m Thank you for your request. I have enough information to start researching the best rice in India. I will begin \u001b[37m│\u001b[0m\n",
              "\u001b[37m│\u001b[0m the research process now.                                                                                       \u001b[37m│\u001b[0m\n",
              "\u001b[37m╰─────────────────────────────────────────────────────────────────────────────────────────────────────────────────╯\u001b[0m\n"
            ],
            "text/html": [
              "<pre style=\"white-space:pre;overflow-x:auto;line-height:normal;font-family:Menlo,'DejaVu Sans Mono',consolas,'Courier New',monospace\"><span style=\"color: #c0c0c0; text-decoration-color: #c0c0c0\">╭────────────────────────────────────────────────────  Other ─────────────────────────────────────────────────────╮</span>\n",
              "<span style=\"color: #c0c0c0; text-decoration-color: #c0c0c0\">│</span> Thank you for your request. I have enough information to start researching the best rice in India. I will begin <span style=\"color: #c0c0c0; text-decoration-color: #c0c0c0\">│</span>\n",
              "<span style=\"color: #c0c0c0; text-decoration-color: #c0c0c0\">│</span> the research process now.                                                                                       <span style=\"color: #c0c0c0; text-decoration-color: #c0c0c0\">│</span>\n",
              "<span style=\"color: #c0c0c0; text-decoration-color: #c0c0c0\">╰─────────────────────────────────────────────────────────────────────────────────────────────────────────────────╯</span>\n",
              "</pre>\n"
            ]
          },
          "metadata": {}
        },
        {
          "output_type": "display_data",
          "data": {
            "text/plain": [
              "\u001b[34m╭─\u001b[0m\u001b[34m───────────────────────────────────────────────────\u001b[0m\u001b[34m  Human \u001b[0m\u001b[34m────────────────────────────────────────────────────\u001b[0m\u001b[34m─╮\u001b[0m\n",
              "\u001b[34m│\u001b[0m sona masuri rice                                                                                                \u001b[34m│\u001b[0m\n",
              "\u001b[34m╰─────────────────────────────────────────────────────────────────────────────────────────────────────────────────╯\u001b[0m\n"
            ],
            "text/html": [
              "<pre style=\"white-space:pre;overflow-x:auto;line-height:normal;font-family:Menlo,'DejaVu Sans Mono',consolas,'Courier New',monospace\"><span style=\"color: #000080; text-decoration-color: #000080\">╭────────────────────────────────────────────────────  Human ─────────────────────────────────────────────────────╮</span>\n",
              "<span style=\"color: #000080; text-decoration-color: #000080\">│</span> sona masuri rice                                                                                                <span style=\"color: #000080; text-decoration-color: #000080\">│</span>\n",
              "<span style=\"color: #000080; text-decoration-color: #000080\">╰─────────────────────────────────────────────────────────────────────────────────────────────────────────────────╯</span>\n",
              "</pre>\n"
            ]
          },
          "metadata": {}
        },
        {
          "output_type": "display_data",
          "data": {
            "text/plain": [
              "\u001b[37m╭─\u001b[0m\u001b[37m───────────────────────────────────────────────────\u001b[0m\u001b[37m  Other \u001b[0m\u001b[37m────────────────────────────────────────────────────\u001b[0m\u001b[37m─╮\u001b[0m\n",
              "\u001b[37m│\u001b[0m Thank you for providing the rice type. I have enough information to start researching Sona Masuri rice. I will  \u001b[37m│\u001b[0m\n",
              "\u001b[37m│\u001b[0m begin the research process now.                                                                                 \u001b[37m│\u001b[0m\n",
              "\u001b[37m╰─────────────────────────────────────────────────────────────────────────────────────────────────────────────────╯\u001b[0m\n"
            ],
            "text/html": [
              "<pre style=\"white-space:pre;overflow-x:auto;line-height:normal;font-family:Menlo,'DejaVu Sans Mono',consolas,'Courier New',monospace\"><span style=\"color: #c0c0c0; text-decoration-color: #c0c0c0\">╭────────────────────────────────────────────────────  Other ─────────────────────────────────────────────────────╮</span>\n",
              "<span style=\"color: #c0c0c0; text-decoration-color: #c0c0c0\">│</span> Thank you for providing the rice type. I have enough information to start researching Sona Masuri rice. I will  <span style=\"color: #c0c0c0; text-decoration-color: #c0c0c0\">│</span>\n",
              "<span style=\"color: #c0c0c0; text-decoration-color: #c0c0c0\">│</span> begin the research process now.                                                                                 <span style=\"color: #c0c0c0; text-decoration-color: #c0c0c0\">│</span>\n",
              "<span style=\"color: #c0c0c0; text-decoration-color: #c0c0c0\">╰─────────────────────────────────────────────────────────────────────────────────────────────────────────────────╯</span>\n",
              "</pre>\n"
            ]
          },
          "metadata": {}
        },
        {
          "output_type": "display_data",
          "data": {
            "text/plain": [
              "\n",
              "\u001b[1;34m Research Brief Generated:\u001b[0m\n"
            ],
            "text/html": [
              "<pre style=\"white-space:pre;overflow-x:auto;line-height:normal;font-family:Menlo,'DejaVu Sans Mono',consolas,'Courier New',monospace\">\n",
              "<span style=\"color: #000080; text-decoration-color: #000080; font-weight: bold\"> Research Brief Generated:</span>\n",
              "</pre>\n"
            ]
          },
          "metadata": {}
        },
        {
          "output_type": "display_data",
          "data": {
            "text/plain": [
              "I want to research Sona Masuri rice. I am interested in learning about its quality, characteristics, and any unique\n",
              "attributes that make it stand out. I have not specified any particular region within India or any other            \n",
              "constraints, so please consider all aspects of Sona Masuri rice.                                                   \n"
            ],
            "text/html": [
              "<pre style=\"white-space:pre;overflow-x:auto;line-height:normal;font-family:Menlo,'DejaVu Sans Mono',consolas,'Courier New',monospace\">I want to research Sona Masuri rice. I am interested in learning about its quality, characteristics, and any unique\n",
              "attributes that make it stand out. I have not specified any particular region within India or any other            \n",
              "constraints, so please consider all aspects of Sona Masuri rice.                                                   \n",
              "</pre>\n"
            ]
          },
          "metadata": {}
        },
        {
          "name": "stdout",
          "output_type": "stream",
          "text": [
            " You: exit\n"
          ]
        },
        {
          "output_type": "display_data",
          "data": {
            "text/plain": [
              "\u001b[1;31mChatbot session ended.\u001b[0m\n"
            ],
            "text/html": [
              "<pre style=\"white-space:pre;overflow-x:auto;line-height:normal;font-family:Menlo,'DejaVu Sans Mono',consolas,'Courier New',monospace\"><span style=\"color: #800000; text-decoration-color: #800000; font-weight: bold\">Chatbot session ended.</span>\n",
              "</pre>\n"
            ]
          },
          "metadata": {}
        }
      ]
    }
  ]
}