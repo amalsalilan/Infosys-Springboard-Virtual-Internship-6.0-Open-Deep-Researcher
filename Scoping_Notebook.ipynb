{
  "nbformat": 4,
  "nbformat_minor": 0,
  "metadata": {
    "colab": {
      "provenance": []
    },
    "kernelspec": {
      "name": "python3",
      "display_name": "Python 3"
    },
    "language_info": {
      "name": "python"
    }
  },
  "cells": [
    {
      "cell_type": "code",
      "execution_count": null,
      "metadata": {
        "id": "p86d5ZbG7y0C"
      },
      "outputs": [],
      "source": [
        "!pip install langgraph langchain-core langchain typing_extensions pydantic rich google-generativeai graphviz langchain-google-genai"
      ]
    },
    {
      "cell_type": "code",
      "source": [
        "!pip install google-genai"
      ],
      "metadata": {
        "id": "AyOwCIdM7_Td"
      },
      "execution_count": null,
      "outputs": []
    },
    {
      "cell_type": "code",
      "source": [
        "from rich.console import Console\n",
        "from rich.panel import Panel\n",
        "from rich.text import Text\n",
        "import json\n",
        "from datetime import date\n",
        "from langchain_core.tools import tool\n",
        "from langchain.chat_models import init_chat_model\n",
        "from langchain_core.messages import BaseMessage, HumanMessage, AIMessage, get_buffer_string, ToolMessage\n",
        "from langgraph.graph import StateGraph, START, END\n",
        "from langgraph.types import Command\n",
        "from typing_extensions import Optional, Annotated, List, Sequence, Literal\n",
        "from langgraph.graph import MessagesState\n",
        "from langgraph.graph.message import add_messages\n",
        "from pydantic import BaseModel, Field\n",
        "import operator\n",
        "\n",
        "console = Console()"
      ],
      "metadata": {
        "id": "qA7WPTuV8B7O"
      },
      "execution_count": 3,
      "outputs": []
    },
    {
      "cell_type": "code",
      "source": [
        "# TOOL DEFINITION\n",
        "@tool\n",
        "def get_today_date() -> str:\n",
        "    \"\"\"Return today's date in dd/mm/yy format.\"\"\"\n",
        "    return date.today().strftime(\"%d/%m/%y\")\n",
        "\n",
        "def show_prompt(prompt_text: str, title: str = \"Prompt\", border_style: str = \"blue\"):\n",
        "    \"\"\"\n",
        "    Display a prompt with rich formatting and XML tag highlighting.\n",
        "\n",
        "    Args:\n",
        "        prompt_text: The prompt string to display\n",
        "        title: Title for the panel (default: \"Prompt\")\n",
        "        border_style: Border color style (default: \"blue\")\n",
        "    \"\"\"\n",
        "    # Create a formatted display of the prompt\n",
        "    formatted_text = Text(prompt_text)\n",
        "    formatted_text.highlight_regex(r'<[^>]+>', style=\"bold blue\")  # Highlight XML tags\n",
        "    formatted_text.highlight_regex(r'##[^#\\n]+', style=\"bold magenta\")  # Highlight headers\n",
        "    formatted_text.highlight_regex(r'###[^#\\n]+', style=\"bold cyan\")  # Highlight sub-headers\n",
        "\n",
        "    # Display in a panel for better presentation\n",
        "    console.print(Panel(\n",
        "        formatted_text,\n",
        "        title=f\"[bold green]{title}[/bold green]\",\n",
        "        border_style=border_style,\n",
        "        padding=(1, 2)\n",
        "    ))\n",
        "\n",
        "def format_message_content(message):\n",
        "    \"\"\"Convert message content to displayable string\"\"\"\n",
        "    parts = []\n",
        "    tool_calls_processed = False\n",
        "\n",
        "    # Handle main content\n",
        "    if isinstance(message.content, str):\n",
        "        parts.append(message.content)\n",
        "    elif isinstance(message.content, list):\n",
        "        # Handle complex content like tool calls (Anthropic format)\n",
        "        for item in message.content:\n",
        "            if item.get('type') == 'text':\n",
        "                parts.append(item['text'])\n",
        "            elif item.get('type') == 'tool_use':\n",
        "                parts.append(f\"\\n Tool Call: {item['name']}\")\n",
        "                parts.append(f\"   Args: {json.dumps(item['input'], indent=2)}\")\n",
        "                parts.append(f\"   ID: {item.get('id', 'N/A')}\")\n",
        "                tool_calls_processed = True\n",
        "    else:\n",
        "        parts.append(str(message.content))\n",
        "\n",
        "    # Handle tool calls attached to the message (OpenAI format) - only if not already processed\n",
        "    if not tool_calls_processed and hasattr(message, 'tool_calls') and message.tool_calls:\n",
        "        for tool_call in message.tool_calls:\n",
        "            parts.append(f\"\\n Tool Call: {tool_call['name']}\")\n",
        "            parts.append(f\"   Args: {json.dumps(tool_call['args'], indent=2)}\")\n",
        "            parts.append(f\"   ID: {tool_call['id']}\")\n",
        "\n",
        "    return \"\\n\".join(parts)\n",
        "\n",
        "def format_messages(messages):\n",
        "    \"\"\"Format and display a list of messages with Rich formatting\"\"\"\n",
        "    for m in messages:\n",
        "        msg_type = m.__class__.__name__.replace('Message', '')\n",
        "        content = format_message_content(m)\n",
        "\n",
        "        if msg_type == 'Human':\n",
        "            console.print(Panel(content, title=\"Human\", border_style=\"blue\"))\n",
        "        elif msg_type == 'Ai':\n",
        "            console.print(Panel(content, title=\"Assistant\", border_style=\"green\"))\n",
        "        elif msg_type == 'Tool':\n",
        "            console.print(Panel(content, title=\"Tool Output\", border_style=\"yellow\"))\n",
        "        else:\n",
        "            console.print(Panel(content, title=f\" {msg_type}\", border_style=\"white\"))"
      ],
      "metadata": {
        "id": "0UM9Ga7P8Ik8"
      },
      "execution_count": 13,
      "outputs": []
    },
    {
      "cell_type": "code",
      "source": [
        "# STATE CLASSES\n",
        "class AgentInputState(MessagesState):\n",
        "    \"\"\"Input state for the full agent- only contain messages from the user input \"\"\"\n",
        "    pass\n",
        "\n",
        "class AgentState(MessagesState):\n",
        "    \"\"\"Main state for the full multiagent research system.\n",
        "    Extends MessagesState with additional fields for research coordination.\n",
        "    Note: some fields are duplicated across different state classes for proper\n",
        "    state management between subgraph and main workflow\"\"\"\n",
        "\n",
        "    research_brief: Optional[str]\n",
        "    supervisor_messages: Annotated[Sequence[BaseMessage], add_messages]\n",
        "    raw_notes: Annotated[list[str], operator.add] = []\n",
        "    notes: Annotated[list[str], operator.add] = []\n",
        "    final_report: str\n",
        "\n",
        "class ClarifyWithUser(BaseModel):\n",
        "    \"\"\"Schema for user clarification decision and questions.\"\"\"\n",
        "\n",
        "    need_clarification: bool = Field(\n",
        "        description=\"Whether the user needs to be asked a clarifying question.\",\n",
        "    )\n",
        "    question: str = Field(\n",
        "        description=\"A question to ask the user to clarify the report scope\",\n",
        "    )\n",
        "    verification: str = Field(\n",
        "        description=\"Verify message that we will start research after the user has provided the necessary information.\",\n",
        "    )\n",
        "\n",
        "class ResearchQuestion(BaseModel):\n",
        "    \"\"\"Schema for structured research brief generation.\"\"\"\n",
        "\n",
        "    research_brief: str = Field(\n",
        "        description=\"A research question that will be used to guide the research.\",\n",
        "    )"
      ],
      "metadata": {
        "id": "pxzmws9l8L2B"
      },
      "execution_count": 14,
      "outputs": []
    },
    {
      "cell_type": "code",
      "source": [
        "# PROMPT TEMPLATES\n",
        "clarify_with_user_instructions = \"\"\"\n",
        "These are the messages that have been exchanged so far from the user asking for the report:\n",
        "<Messages>\n",
        "{messages}\n",
        "</Messages>\n",
        "\n",
        "Today's date is {date}.\n",
        "\n",
        "Assess whether you need to ask a clarifying question, or if the user has already provided enough information for you to start research.\n",
        "IMPORTANT: If you can see in the messages history that you have already asked a clarifying question, you almost always do not need to ask another one. Only ask another question if ABSOLUTELY NECESSARY.\n",
        "\n",
        "If there are acronyms, abbreviations, or unknown terms, ask the user to clarify.\n",
        "If you need to ask a question, follow these guidelines:\n",
        "- Be concise while gathering all necessary information\n",
        "- Make sure to gather all the information needed to carry out the research task in a concise, well-structured manner.\n",
        "- Use bullet points or numbered lists if appropriate for clarity. Make sure that this uses markdown formatting and will be rendered correctly if the string output is passed to a markdown renderer.\n",
        "- Don't ask for unnecessary information, or information that the user has already provided. If you can see that the user has already provided the information, do not ask for it again.\n",
        "\n",
        "Respond in valid JSON format with these exact keys:\n",
        "\"need_clarification\": boolean,\n",
        "\"question\": \"<question to ask the user to clarify the report scope>\",\n",
        "\"verification\": \"<verification message that we will start research>\"\n",
        "\n",
        "If you need to ask a clarifying question, return:\n",
        "\"need_clarification\": true,\n",
        "\"question\": \"<your clarifying question>\",\n",
        "\"verification\": \"\"\n",
        "\n",
        "If you do not need to ask a clarifying question, return:\n",
        "\"need_clarification\": false,\n",
        "\"question\": \"\",\n",
        "\"verification\": \"<acknowledgement message that you will now start research based on the provided information>\"\n",
        "\n",
        "For the verification message when no clarification is needed:\n",
        "- Acknowledge that you have sufficient information to proceed\n",
        "- Briefly summarize the key aspects of what you understand from their request\n",
        "- Confirm that you will now begin the research process\n",
        "- Keep the message concise and professional\n",
        "\"\"\"\n",
        "\n",
        "transform_messages_into_research_topic_prompt = \"\"\"You will be given a set of messages that have been exchanged so far between yourself and the user.\n",
        "Your job is to translate these messages into a detailed and comprehensive research brief that will be used to guide the research.\n",
        "\n",
        "The messages that have been exchanged so far between yourself and the user are:\n",
        "<Messages>\n",
        "{messages}\n",
        "</Messages>\n",
        "\n",
        "Today's date is {date}.\n",
        "\n",
        "You will return a comprehensive research brief in markdown format that includes:\n",
        "- A main research question\n",
        "- Key areas to investigate\n",
        "- Specific aspects and dimensions to cover\n",
        "- Research methodology guidance\n",
        "\n",
        "Structure your response as a detailed research brief, not just a single question.\n",
        "\n",
        "Guidelines:\n",
        "1. Maximize Specificity and Detail\n",
        "- Include all known user preferences and explicitly list key attributes or dimensions to consider.\n",
        "- It is important that all details from the user are included in the instructions.\n",
        "\n",
        "2. Handle Unstated Dimensions Carefully\n",
        "- When research quality requires considering additional dimensions that the user hasn't specified, acknowledge them as open considerations rather than assumed preferences.\n",
        "- Example: Instead of assuming \"budget-friendly options,\" say \"consider all price ranges unless cost constraints are specified.\"\n",
        "- Only mention dimensions that are genuinely necessary for comprehensive research in that domain.\n",
        "\n",
        "3. Avoid Unwarranted Assumptions\n",
        "- Never invent specific user preferences, constraints, or requirements that weren't stated.\n",
        "- If the user hasn't provided a particular detail, explicitly note this lack of specification.\n",
        "- Guide the researcher to treat unspecified aspects as flexible rather than making assumptions.\n",
        "\n",
        "4. Distinguish Between Research Scope and User Preferences\n",
        "- Research scope: What topics/dimensions should be investigated (can be broader than user's explicit mentions)\n",
        "- User preferences: Specific constraints, requirements, or preferences (must only include what user stated)\n",
        "- Example: \"Research coffee quality factors (including bean sourcing, roasting methods, brewing techniques) for San Francisco coffee shops, with primary focus on taste as specified by the user.\"\n",
        "\n",
        "5. Use the First Person\n",
        "- Phrase the request from the perspective of the user.\n",
        "\n",
        "6. Sources\n",
        "- If specific sources should be prioritized, specify them in the research question.\n",
        "- For product and travel research, prefer linking directly to official or primary websites (e.g., official brand sites, manufacturer pages, or reputable e-commerce platforms like Amazon for user reviews) rather than aggregator sites or SEO-heavy blogs.\n",
        "- For academic or scientific queries, prefer linking directly to the original paper or official journal publication rather than survey papers or secondary summaries.\n",
        "- For people, try linking directly to their LinkedIn profile, or their personal website if they have one.\n",
        "- If the query is in a specific language, prioritize sources published in that language.\n",
        "\"\"\""
      ],
      "metadata": {
        "id": "GsiD6cV58ROw"
      },
      "execution_count": 15,
      "outputs": []
    },
    {
      "cell_type": "code",
      "source": [
        "# CONFIGURATION\n",
        "  # Replace with actual API key\n",
        "import os\n",
        "from getpass import getpass\n",
        "from langchain_google_genai import ChatGoogleGenerativeAI\n",
        "\n",
        "# Prompt the user to enter the API key without showing it\n",
        "api_key = getpass(\"Enter your Google API Key: \")\n",
        "\n",
        "# Set it as an environment variable\n",
        "os.environ['GOOGLE_API_KEY'] = api_key\n",
        "# Use a generally available model name\n",
        "model = init_chat_model(\"gemini-2.5-flash\", model_provider=\"google_genai\", temperature=0)"
      ],
      "metadata": {
        "id": "T6V4vObE8R0S"
      },
      "execution_count": null,
      "outputs": []
    },
    {
      "cell_type": "code",
      "source": [
        "# HELPER FUNCTIONS\n",
        "from langchain_core.messages import ToolMessage # Import ToolMessage\n",
        "\n",
        "def get_current_date_from_messages(messages: list) -> str:\n",
        "    \"\"\"Extract today's date from tool call results in messages\"\"\"\n",
        "    for message in reversed(messages):  # Start from most recent\n",
        "        if isinstance(message, ToolMessage):\n",
        "            # The content should be the date string from get_today_date tool\n",
        "            return message.content\n",
        "\n",
        "    # If no tool message found, return error message - tool must be called first\n",
        "    return \"Date not available - tool not called\""
      ],
      "metadata": {
        "id": "3lyBXpnA8Uzh"
      },
      "execution_count": 17,
      "outputs": []
    },
    {
      "cell_type": "code",
      "source": [
        "# WORKFLOW NODES\n",
        "def get_date_node(state: AgentState):\n",
        "    \"\"\"Node that calls the get_today_date tool\"\"\"\n",
        "    # Create a model with the date tool\n",
        "    model_with_tools = model.bind_tools([get_today_date])\n",
        "\n",
        "    # Call the tool to get today's date\n",
        "    response = model_with_tools.invoke([\n",
        "        HumanMessage(content=\"What is today's date? Please use the get_today_date tool.\")\n",
        "    ])\n",
        "\n",
        "    # Handle tool calls in the response\n",
        "    messages_to_add = [response]\n",
        "\n",
        "    if response.tool_calls:\n",
        "        for tool_call in response.tool_calls:\n",
        "            if tool_call[\"name\"] == \"get_today_date\":\n",
        "                tool_result = get_today_date.invoke({})\n",
        "                messages_to_add.append(\n",
        "                    ToolMessage(content=tool_result, tool_call_id=tool_call[\"id\"])\n",
        "                )\n",
        "\n",
        "    return {\"messages\": messages_to_add}\n",
        "\n",
        "def clarify_with_user(state: AgentState) -> Command[Literal[\"write_research_brief\", \"__end__\"]]:\n",
        "    \"\"\"\n",
        "    Determine if the user's request contains sufficient information to proceed with research.\n",
        "\n",
        "    Uses structured output to make deterministic decisions and avoid hallucination.\n",
        "    Routes to either research brief generation or ends with a clarification question.\n",
        "    \"\"\"\n",
        "    # Get current date from the messages\n",
        "    current_date = get_current_date_from_messages(state[\"messages\"])\n",
        "\n",
        "    # Set up structured output model\n",
        "    structured_output_model = model.with_structured_output(ClarifyWithUser)\n",
        "\n",
        "    # Invoke the model with clarification instructions\n",
        "    response = structured_output_model.invoke([\n",
        "        HumanMessage(content=clarify_with_user_instructions.format(\n",
        "            messages=get_buffer_string(messages=state[\"messages\"]),\n",
        "            date=current_date\n",
        "        ))\n",
        "    ])\n",
        "\n",
        "    # Route based on clarification need\n",
        "    if response.need_clarification:\n",
        "        return Command(\n",
        "            goto=END,\n",
        "            update={\"messages\": [AIMessage(content=response.question)]}\n",
        "        )\n",
        "    else:\n",
        "        return Command(\n",
        "            goto=\"write_research_brief\",\n",
        "            update={\"messages\": [AIMessage(content=response.verification)]}\n",
        "        )\n",
        "\n",
        "def write_research_brief(state: AgentState):\n",
        "    \"\"\"\n",
        "    Transform the conversation history into a comprehensive research brief.\n",
        "\n",
        "    Uses structured output to ensure the brief follows the required format\n",
        "    and contains all necessary details for effective research.\n",
        "    \"\"\"\n",
        "    # Get current date from the messages\n",
        "    current_date = get_current_date_from_messages(state[\"messages\"])\n",
        "\n",
        "    # Set up structured output model\n",
        "    structured_output_model = model.with_structured_output(ResearchQuestion)\n",
        "\n",
        "    # Generate research brief from conversation history with date included in prompt\n",
        "    response = structured_output_model.invoke([\n",
        "        HumanMessage(content=transform_messages_into_research_topic_prompt.format(\n",
        "            messages=get_buffer_string(state.get(\"messages\", [])),\n",
        "            date=current_date\n",
        "        ))\n",
        "    ])\n",
        "\n",
        "    # Ensure the date is included in the research brief if not already there\n",
        "    research_brief_with_date = response.research_brief\n",
        "    if f\"**Research Date:** {current_date}\" not in research_brief_with_date and f\"Research Date: {current_date}\" not in research_brief_with_date:\n",
        "        # If the LLM didn't include the date, prepend it\n",
        "        if research_brief_with_date.startswith(\"# \"):\n",
        "            # Insert date after the main heading\n",
        "            lines = research_brief_with_date.split('\\n', 2)\n",
        "            if len(lines) >= 2:\n",
        "                research_brief_with_date = f\"{lines[0]}\\n\\n**Research Date:** {current_date}\\n\\n{lines[1] if len(lines) > 1 else ''}\"\n",
        "        else:\n",
        "            # Prepend date at the beginning\n",
        "            research_brief_with_date = f\"**Research Date:** {current_date}\\n\\n{research_brief_with_date}\"\n",
        "\n",
        "    # Update state with generated research brief and pass it to the supervisor\n",
        "    return {\n",
        "        \"research_brief\": research_brief_with_date,\n",
        "        \"supervisor_messages\": [HumanMessage(content=f\"{research_brief_with_date}.\")]\n",
        "    }"
      ],
      "metadata": {
        "id": "Y5Tc1IK08XcO"
      },
      "execution_count": 18,
      "outputs": []
    },
    {
      "cell_type": "code",
      "source": [
        "#  GRAPH CONSTRUCTION\n",
        "# Build the scoping workflow\n",
        "deep_researcher_builder = StateGraph(AgentState, input_schema=AgentInputState)\n",
        "\n",
        "# Add workflow nodes\n",
        "deep_researcher_builder.add_node(\"get_date\", get_date_node)\n",
        "deep_researcher_builder.add_node(\"clarify_with_user\", clarify_with_user)\n",
        "deep_researcher_builder.add_node(\"write_research_brief\", write_research_brief)\n",
        "\n",
        "# Add workflow edges\n",
        "deep_researcher_builder.add_edge(START, \"get_date\")\n",
        "deep_researcher_builder.add_edge(\"get_date\", \"clarify_with_user\")\n",
        "deep_researcher_builder.add_edge(\"write_research_brief\", END)\n",
        "\n",
        "# Compile the workflow\n",
        "scope_research = deep_researcher_builder.compile()"
      ],
      "metadata": {
        "id": "dwB7ECfn8azp"
      },
      "execution_count": 19,
      "outputs": []
    },
    {
      "cell_type": "code",
      "source": [
        "#  EXAMPLE USAGE\n",
        "if __name__ == \"__main__\":\n",
        "    from langgraph.checkpoint.memory import InMemorySaver\n",
        "\n",
        "    checkpointer = InMemorySaver()\n",
        "    scope = deep_researcher_builder.compile(checkpointer=checkpointer)\n",
        "\n",
        "    # Example conversation thread\n",
        "    thread = {\"configurable\": {\"thread_id\": \"1\"}}\n",
        "    result = scope.invoke(\n",
        "        {\"messages\": [HumanMessage(content=\"Ocean plastic pollution\")]},\n",
        "        config=thread\n",
        "    )\n",
        "\n",
        "    print(\"=== CONVERSATION RESULT ===\")\n",
        "    format_messages(result['messages'])\n",
        "\n",
        "    if 'research_brief' in result:\n",
        "        print(\"\\n=== RESEARCH BRIEF ===\")\n",
        "        from rich.markdown import Markdown\n",
        "        console.print(Markdown(result['research_brief']))"
      ],
      "metadata": {
        "colab": {
          "base_uri": "https://localhost:8080/",
          "height": 329
        },
        "id": "yBNDW4b38hys",
        "outputId": "54acdcfe-a7ee-449e-a1e0-114f07f8d29e"
      },
      "execution_count": 20,
      "outputs": [
        {
          "output_type": "stream",
          "name": "stdout",
          "text": [
            "=== CONVERSATION RESULT ===\n"
          ]
        },
        {
          "output_type": "display_data",
          "data": {
            "text/plain": [
              "\u001b[34m╭─\u001b[0m\u001b[34m────────────────────────────────────────────────────\u001b[0m\u001b[34m Human \u001b[0m\u001b[34m────────────────────────────────────────────────────\u001b[0m\u001b[34m─╮\u001b[0m\n",
              "\u001b[34m│\u001b[0m Ocean plastic pollution                                                                                         \u001b[34m│\u001b[0m\n",
              "\u001b[34m╰─────────────────────────────────────────────────────────────────────────────────────────────────────────────────╯\u001b[0m\n"
            ],
            "text/html": [
              "<pre style=\"white-space:pre;overflow-x:auto;line-height:normal;font-family:Menlo,'DejaVu Sans Mono',consolas,'Courier New',monospace\"><span style=\"color: #000080; text-decoration-color: #000080\">╭───────────────────────────────────────────────────── Human ─────────────────────────────────────────────────────╮</span>\n",
              "<span style=\"color: #000080; text-decoration-color: #000080\">│</span> Ocean plastic pollution                                                                                         <span style=\"color: #000080; text-decoration-color: #000080\">│</span>\n",
              "<span style=\"color: #000080; text-decoration-color: #000080\">╰─────────────────────────────────────────────────────────────────────────────────────────────────────────────────╯</span>\n",
              "</pre>\n"
            ]
          },
          "metadata": {}
        },
        {
          "output_type": "display_data",
          "data": {
            "text/plain": [
              "\u001b[37m╭─\u001b[0m\u001b[37m─────────────────────────────────────────────────────\u001b[0m\u001b[37m  AI \u001b[0m\u001b[37m─────────────────────────────────────────────────────\u001b[0m\u001b[37m─╮\u001b[0m\n",
              "\u001b[37m│\u001b[0m                                                                                                                 \u001b[37m│\u001b[0m\n",
              "\u001b[37m│\u001b[0m                                                                                                                 \u001b[37m│\u001b[0m\n",
              "\u001b[37m│\u001b[0m  Tool Call: get_today_date                                                                                      \u001b[37m│\u001b[0m\n",
              "\u001b[37m│\u001b[0m    Args: {}                                                                                                     \u001b[37m│\u001b[0m\n",
              "\u001b[37m│\u001b[0m    ID: cbec5d71-3116-465e-8953-d67fa5a892c7                                                                     \u001b[37m│\u001b[0m\n",
              "\u001b[37m╰─────────────────────────────────────────────────────────────────────────────────────────────────────────────────╯\u001b[0m\n"
            ],
            "text/html": [
              "<pre style=\"white-space:pre;overflow-x:auto;line-height:normal;font-family:Menlo,'DejaVu Sans Mono',consolas,'Courier New',monospace\"><span style=\"color: #c0c0c0; text-decoration-color: #c0c0c0\">╭──────────────────────────────────────────────────────  AI ──────────────────────────────────────────────────────╮</span>\n",
              "<span style=\"color: #c0c0c0; text-decoration-color: #c0c0c0\">│</span>                                                                                                                 <span style=\"color: #c0c0c0; text-decoration-color: #c0c0c0\">│</span>\n",
              "<span style=\"color: #c0c0c0; text-decoration-color: #c0c0c0\">│</span>                                                                                                                 <span style=\"color: #c0c0c0; text-decoration-color: #c0c0c0\">│</span>\n",
              "<span style=\"color: #c0c0c0; text-decoration-color: #c0c0c0\">│</span>  Tool Call: get_today_date                                                                                      <span style=\"color: #c0c0c0; text-decoration-color: #c0c0c0\">│</span>\n",
              "<span style=\"color: #c0c0c0; text-decoration-color: #c0c0c0\">│</span>    Args: {}                                                                                                     <span style=\"color: #c0c0c0; text-decoration-color: #c0c0c0\">│</span>\n",
              "<span style=\"color: #c0c0c0; text-decoration-color: #c0c0c0\">│</span>    ID: cbec5d71-3116-465e-8953-d67fa5a892c7                                                                     <span style=\"color: #c0c0c0; text-decoration-color: #c0c0c0\">│</span>\n",
              "<span style=\"color: #c0c0c0; text-decoration-color: #c0c0c0\">╰─────────────────────────────────────────────────────────────────────────────────────────────────────────────────╯</span>\n",
              "</pre>\n"
            ]
          },
          "metadata": {}
        },
        {
          "output_type": "display_data",
          "data": {
            "text/plain": [
              "\u001b[33m╭─\u001b[0m\u001b[33m─────────────────────────────────────────────────\u001b[0m\u001b[33m Tool Output \u001b[0m\u001b[33m─────────────────────────────────────────────────\u001b[0m\u001b[33m─╮\u001b[0m\n",
              "\u001b[33m│\u001b[0m 17/09/25                                                                                                        \u001b[33m│\u001b[0m\n",
              "\u001b[33m╰─────────────────────────────────────────────────────────────────────────────────────────────────────────────────╯\u001b[0m\n"
            ],
            "text/html": [
              "<pre style=\"white-space:pre;overflow-x:auto;line-height:normal;font-family:Menlo,'DejaVu Sans Mono',consolas,'Courier New',monospace\"><span style=\"color: #808000; text-decoration-color: #808000\">╭────────────────────────────────────────────────── Tool Output ──────────────────────────────────────────────────╮</span>\n",
              "<span style=\"color: #808000; text-decoration-color: #808000\">│</span> 17/09/25                                                                                                        <span style=\"color: #808000; text-decoration-color: #808000\">│</span>\n",
              "<span style=\"color: #808000; text-decoration-color: #808000\">╰─────────────────────────────────────────────────────────────────────────────────────────────────────────────────╯</span>\n",
              "</pre>\n"
            ]
          },
          "metadata": {}
        },
        {
          "output_type": "display_data",
          "data": {
            "text/plain": [
              "\u001b[37m╭─\u001b[0m\u001b[37m─────────────────────────────────────────────────────\u001b[0m\u001b[37m  AI \u001b[0m\u001b[37m─────────────────────────────────────────────────────\u001b[0m\u001b[37m─╮\u001b[0m\n",
              "\u001b[37m│\u001b[0m To provide the most relevant report on ocean plastic pollution, could you please specify what aspects you'd     \u001b[37m│\u001b[0m\n",
              "\u001b[37m│\u001b[0m like to focus on? For example, are you interested in its causes, environmental impacts, solutions, or specific  \u001b[37m│\u001b[0m\n",
              "\u001b[37m│\u001b[0m geographical areas?                                                                                             \u001b[37m│\u001b[0m\n",
              "\u001b[37m╰─────────────────────────────────────────────────────────────────────────────────────────────────────────────────╯\u001b[0m\n"
            ],
            "text/html": [
              "<pre style=\"white-space:pre;overflow-x:auto;line-height:normal;font-family:Menlo,'DejaVu Sans Mono',consolas,'Courier New',monospace\"><span style=\"color: #c0c0c0; text-decoration-color: #c0c0c0\">╭──────────────────────────────────────────────────────  AI ──────────────────────────────────────────────────────╮</span>\n",
              "<span style=\"color: #c0c0c0; text-decoration-color: #c0c0c0\">│</span> To provide the most relevant report on ocean plastic pollution, could you please specify what aspects you'd     <span style=\"color: #c0c0c0; text-decoration-color: #c0c0c0\">│</span>\n",
              "<span style=\"color: #c0c0c0; text-decoration-color: #c0c0c0\">│</span> like to focus on? For example, are you interested in its causes, environmental impacts, solutions, or specific  <span style=\"color: #c0c0c0; text-decoration-color: #c0c0c0\">│</span>\n",
              "<span style=\"color: #c0c0c0; text-decoration-color: #c0c0c0\">│</span> geographical areas?                                                                                             <span style=\"color: #c0c0c0; text-decoration-color: #c0c0c0\">│</span>\n",
              "<span style=\"color: #c0c0c0; text-decoration-color: #c0c0c0\">╰─────────────────────────────────────────────────────────────────────────────────────────────────────────────────╯</span>\n",
              "</pre>\n"
            ]
          },
          "metadata": {}
        }
      ]
    },
    {
      "cell_type": "code",
      "source": [
        "result = scope.invoke(\n",
        "        {\"messages\": [HumanMessage(content=\"environmental impacts\")]},\n",
        "        config=thread\n",
        "    )\n",
        "\n",
        "print(\"=== CONVERSATION RESULT ===\")\n",
        "format_messages(result['messages'])"
      ],
      "metadata": {
        "colab": {
          "base_uri": "https://localhost:8080/",
          "height": 591
        },
        "id": "PNGF33bs-ZFu",
        "outputId": "a8aededf-5c37-4a21-a0e1-54ea15a94463"
      },
      "execution_count": 22,
      "outputs": [
        {
          "output_type": "stream",
          "name": "stdout",
          "text": [
            "=== CONVERSATION RESULT ===\n"
          ]
        },
        {
          "output_type": "display_data",
          "data": {
            "text/plain": [
              "\u001b[34m╭─\u001b[0m\u001b[34m────────────────────────────────────────────────────\u001b[0m\u001b[34m Human \u001b[0m\u001b[34m────────────────────────────────────────────────────\u001b[0m\u001b[34m─╮\u001b[0m\n",
              "\u001b[34m│\u001b[0m Ocean plastic pollution                                                                                         \u001b[34m│\u001b[0m\n",
              "\u001b[34m╰─────────────────────────────────────────────────────────────────────────────────────────────────────────────────╯\u001b[0m\n"
            ],
            "text/html": [
              "<pre style=\"white-space:pre;overflow-x:auto;line-height:normal;font-family:Menlo,'DejaVu Sans Mono',consolas,'Courier New',monospace\"><span style=\"color: #000080; text-decoration-color: #000080\">╭───────────────────────────────────────────────────── Human ─────────────────────────────────────────────────────╮</span>\n",
              "<span style=\"color: #000080; text-decoration-color: #000080\">│</span> Ocean plastic pollution                                                                                         <span style=\"color: #000080; text-decoration-color: #000080\">│</span>\n",
              "<span style=\"color: #000080; text-decoration-color: #000080\">╰─────────────────────────────────────────────────────────────────────────────────────────────────────────────────╯</span>\n",
              "</pre>\n"
            ]
          },
          "metadata": {}
        },
        {
          "output_type": "display_data",
          "data": {
            "text/plain": [
              "\u001b[37m╭─\u001b[0m\u001b[37m─────────────────────────────────────────────────────\u001b[0m\u001b[37m  AI \u001b[0m\u001b[37m─────────────────────────────────────────────────────\u001b[0m\u001b[37m─╮\u001b[0m\n",
              "\u001b[37m│\u001b[0m                                                                                                                 \u001b[37m│\u001b[0m\n",
              "\u001b[37m│\u001b[0m                                                                                                                 \u001b[37m│\u001b[0m\n",
              "\u001b[37m│\u001b[0m  Tool Call: get_today_date                                                                                      \u001b[37m│\u001b[0m\n",
              "\u001b[37m│\u001b[0m    Args: {}                                                                                                     \u001b[37m│\u001b[0m\n",
              "\u001b[37m│\u001b[0m    ID: cbec5d71-3116-465e-8953-d67fa5a892c7                                                                     \u001b[37m│\u001b[0m\n",
              "\u001b[37m╰─────────────────────────────────────────────────────────────────────────────────────────────────────────────────╯\u001b[0m\n"
            ],
            "text/html": [
              "<pre style=\"white-space:pre;overflow-x:auto;line-height:normal;font-family:Menlo,'DejaVu Sans Mono',consolas,'Courier New',monospace\"><span style=\"color: #c0c0c0; text-decoration-color: #c0c0c0\">╭──────────────────────────────────────────────────────  AI ──────────────────────────────────────────────────────╮</span>\n",
              "<span style=\"color: #c0c0c0; text-decoration-color: #c0c0c0\">│</span>                                                                                                                 <span style=\"color: #c0c0c0; text-decoration-color: #c0c0c0\">│</span>\n",
              "<span style=\"color: #c0c0c0; text-decoration-color: #c0c0c0\">│</span>                                                                                                                 <span style=\"color: #c0c0c0; text-decoration-color: #c0c0c0\">│</span>\n",
              "<span style=\"color: #c0c0c0; text-decoration-color: #c0c0c0\">│</span>  Tool Call: get_today_date                                                                                      <span style=\"color: #c0c0c0; text-decoration-color: #c0c0c0\">│</span>\n",
              "<span style=\"color: #c0c0c0; text-decoration-color: #c0c0c0\">│</span>    Args: {}                                                                                                     <span style=\"color: #c0c0c0; text-decoration-color: #c0c0c0\">│</span>\n",
              "<span style=\"color: #c0c0c0; text-decoration-color: #c0c0c0\">│</span>    ID: cbec5d71-3116-465e-8953-d67fa5a892c7                                                                     <span style=\"color: #c0c0c0; text-decoration-color: #c0c0c0\">│</span>\n",
              "<span style=\"color: #c0c0c0; text-decoration-color: #c0c0c0\">╰─────────────────────────────────────────────────────────────────────────────────────────────────────────────────╯</span>\n",
              "</pre>\n"
            ]
          },
          "metadata": {}
        },
        {
          "output_type": "display_data",
          "data": {
            "text/plain": [
              "\u001b[33m╭─\u001b[0m\u001b[33m─────────────────────────────────────────────────\u001b[0m\u001b[33m Tool Output \u001b[0m\u001b[33m─────────────────────────────────────────────────\u001b[0m\u001b[33m─╮\u001b[0m\n",
              "\u001b[33m│\u001b[0m 17/09/25                                                                                                        \u001b[33m│\u001b[0m\n",
              "\u001b[33m╰─────────────────────────────────────────────────────────────────────────────────────────────────────────────────╯\u001b[0m\n"
            ],
            "text/html": [
              "<pre style=\"white-space:pre;overflow-x:auto;line-height:normal;font-family:Menlo,'DejaVu Sans Mono',consolas,'Courier New',monospace\"><span style=\"color: #808000; text-decoration-color: #808000\">╭────────────────────────────────────────────────── Tool Output ──────────────────────────────────────────────────╮</span>\n",
              "<span style=\"color: #808000; text-decoration-color: #808000\">│</span> 17/09/25                                                                                                        <span style=\"color: #808000; text-decoration-color: #808000\">│</span>\n",
              "<span style=\"color: #808000; text-decoration-color: #808000\">╰─────────────────────────────────────────────────────────────────────────────────────────────────────────────────╯</span>\n",
              "</pre>\n"
            ]
          },
          "metadata": {}
        },
        {
          "output_type": "display_data",
          "data": {
            "text/plain": [
              "\u001b[37m╭─\u001b[0m\u001b[37m─────────────────────────────────────────────────────\u001b[0m\u001b[37m  AI \u001b[0m\u001b[37m─────────────────────────────────────────────────────\u001b[0m\u001b[37m─╮\u001b[0m\n",
              "\u001b[37m│\u001b[0m To provide the most relevant report on ocean plastic pollution, could you please specify what aspects you'd     \u001b[37m│\u001b[0m\n",
              "\u001b[37m│\u001b[0m like to focus on? For example, are you interested in its causes, environmental impacts, solutions, or specific  \u001b[37m│\u001b[0m\n",
              "\u001b[37m│\u001b[0m geographical areas?                                                                                             \u001b[37m│\u001b[0m\n",
              "\u001b[37m╰─────────────────────────────────────────────────────────────────────────────────────────────────────────────────╯\u001b[0m\n"
            ],
            "text/html": [
              "<pre style=\"white-space:pre;overflow-x:auto;line-height:normal;font-family:Menlo,'DejaVu Sans Mono',consolas,'Courier New',monospace\"><span style=\"color: #c0c0c0; text-decoration-color: #c0c0c0\">╭──────────────────────────────────────────────────────  AI ──────────────────────────────────────────────────────╮</span>\n",
              "<span style=\"color: #c0c0c0; text-decoration-color: #c0c0c0\">│</span> To provide the most relevant report on ocean plastic pollution, could you please specify what aspects you'd     <span style=\"color: #c0c0c0; text-decoration-color: #c0c0c0\">│</span>\n",
              "<span style=\"color: #c0c0c0; text-decoration-color: #c0c0c0\">│</span> like to focus on? For example, are you interested in its causes, environmental impacts, solutions, or specific  <span style=\"color: #c0c0c0; text-decoration-color: #c0c0c0\">│</span>\n",
              "<span style=\"color: #c0c0c0; text-decoration-color: #c0c0c0\">│</span> geographical areas?                                                                                             <span style=\"color: #c0c0c0; text-decoration-color: #c0c0c0\">│</span>\n",
              "<span style=\"color: #c0c0c0; text-decoration-color: #c0c0c0\">╰─────────────────────────────────────────────────────────────────────────────────────────────────────────────────╯</span>\n",
              "</pre>\n"
            ]
          },
          "metadata": {}
        },
        {
          "output_type": "display_data",
          "data": {
            "text/plain": [
              "\u001b[34m╭─\u001b[0m\u001b[34m────────────────────────────────────────────────────\u001b[0m\u001b[34m Human \u001b[0m\u001b[34m────────────────────────────────────────────────────\u001b[0m\u001b[34m─╮\u001b[0m\n",
              "\u001b[34m│\u001b[0m environmental impacts                                                                                           \u001b[34m│\u001b[0m\n",
              "\u001b[34m╰─────────────────────────────────────────────────────────────────────────────────────────────────────────────────╯\u001b[0m\n"
            ],
            "text/html": [
              "<pre style=\"white-space:pre;overflow-x:auto;line-height:normal;font-family:Menlo,'DejaVu Sans Mono',consolas,'Courier New',monospace\"><span style=\"color: #000080; text-decoration-color: #000080\">╭───────────────────────────────────────────────────── Human ─────────────────────────────────────────────────────╮</span>\n",
              "<span style=\"color: #000080; text-decoration-color: #000080\">│</span> environmental impacts                                                                                           <span style=\"color: #000080; text-decoration-color: #000080\">│</span>\n",
              "<span style=\"color: #000080; text-decoration-color: #000080\">╰─────────────────────────────────────────────────────────────────────────────────────────────────────────────────╯</span>\n",
              "</pre>\n"
            ]
          },
          "metadata": {}
        },
        {
          "output_type": "display_data",
          "data": {
            "text/plain": [
              "\u001b[37m╭─\u001b[0m\u001b[37m─────────────────────────────────────────────────────\u001b[0m\u001b[37m  AI \u001b[0m\u001b[37m─────────────────────────────────────────────────────\u001b[0m\u001b[37m─╮\u001b[0m\n",
              "\u001b[37m│\u001b[0m                                                                                                                 \u001b[37m│\u001b[0m\n",
              "\u001b[37m│\u001b[0m                                                                                                                 \u001b[37m│\u001b[0m\n",
              "\u001b[37m│\u001b[0m  Tool Call: get_today_date                                                                                      \u001b[37m│\u001b[0m\n",
              "\u001b[37m│\u001b[0m    Args: {}                                                                                                     \u001b[37m│\u001b[0m\n",
              "\u001b[37m│\u001b[0m    ID: bc60b1e5-7ca9-4add-b86d-363db7468821                                                                     \u001b[37m│\u001b[0m\n",
              "\u001b[37m╰─────────────────────────────────────────────────────────────────────────────────────────────────────────────────╯\u001b[0m\n"
            ],
            "text/html": [
              "<pre style=\"white-space:pre;overflow-x:auto;line-height:normal;font-family:Menlo,'DejaVu Sans Mono',consolas,'Courier New',monospace\"><span style=\"color: #c0c0c0; text-decoration-color: #c0c0c0\">╭──────────────────────────────────────────────────────  AI ──────────────────────────────────────────────────────╮</span>\n",
              "<span style=\"color: #c0c0c0; text-decoration-color: #c0c0c0\">│</span>                                                                                                                 <span style=\"color: #c0c0c0; text-decoration-color: #c0c0c0\">│</span>\n",
              "<span style=\"color: #c0c0c0; text-decoration-color: #c0c0c0\">│</span>                                                                                                                 <span style=\"color: #c0c0c0; text-decoration-color: #c0c0c0\">│</span>\n",
              "<span style=\"color: #c0c0c0; text-decoration-color: #c0c0c0\">│</span>  Tool Call: get_today_date                                                                                      <span style=\"color: #c0c0c0; text-decoration-color: #c0c0c0\">│</span>\n",
              "<span style=\"color: #c0c0c0; text-decoration-color: #c0c0c0\">│</span>    Args: {}                                                                                                     <span style=\"color: #c0c0c0; text-decoration-color: #c0c0c0\">│</span>\n",
              "<span style=\"color: #c0c0c0; text-decoration-color: #c0c0c0\">│</span>    ID: bc60b1e5-7ca9-4add-b86d-363db7468821                                                                     <span style=\"color: #c0c0c0; text-decoration-color: #c0c0c0\">│</span>\n",
              "<span style=\"color: #c0c0c0; text-decoration-color: #c0c0c0\">╰─────────────────────────────────────────────────────────────────────────────────────────────────────────────────╯</span>\n",
              "</pre>\n"
            ]
          },
          "metadata": {}
        },
        {
          "output_type": "display_data",
          "data": {
            "text/plain": [
              "\u001b[33m╭─\u001b[0m\u001b[33m─────────────────────────────────────────────────\u001b[0m\u001b[33m Tool Output \u001b[0m\u001b[33m─────────────────────────────────────────────────\u001b[0m\u001b[33m─╮\u001b[0m\n",
              "\u001b[33m│\u001b[0m 17/09/25                                                                                                        \u001b[33m│\u001b[0m\n",
              "\u001b[33m╰─────────────────────────────────────────────────────────────────────────────────────────────────────────────────╯\u001b[0m\n"
            ],
            "text/html": [
              "<pre style=\"white-space:pre;overflow-x:auto;line-height:normal;font-family:Menlo,'DejaVu Sans Mono',consolas,'Courier New',monospace\"><span style=\"color: #808000; text-decoration-color: #808000\">╭────────────────────────────────────────────────── Tool Output ──────────────────────────────────────────────────╮</span>\n",
              "<span style=\"color: #808000; text-decoration-color: #808000\">│</span> 17/09/25                                                                                                        <span style=\"color: #808000; text-decoration-color: #808000\">│</span>\n",
              "<span style=\"color: #808000; text-decoration-color: #808000\">╰─────────────────────────────────────────────────────────────────────────────────────────────────────────────────╯</span>\n",
              "</pre>\n"
            ]
          },
          "metadata": {}
        },
        {
          "output_type": "display_data",
          "data": {
            "text/plain": [
              "\u001b[37m╭─\u001b[0m\u001b[37m─────────────────────────────────────────────────────\u001b[0m\u001b[37m  AI \u001b[0m\u001b[37m─────────────────────────────────────────────────────\u001b[0m\u001b[37m─╮\u001b[0m\n",
              "\u001b[37m│\u001b[0m Thank you for clarifying. I will now start researching the environmental impacts of ocean plastic pollution.    \u001b[37m│\u001b[0m\n",
              "\u001b[37m╰─────────────────────────────────────────────────────────────────────────────────────────────────────────────────╯\u001b[0m\n"
            ],
            "text/html": [
              "<pre style=\"white-space:pre;overflow-x:auto;line-height:normal;font-family:Menlo,'DejaVu Sans Mono',consolas,'Courier New',monospace\"><span style=\"color: #c0c0c0; text-decoration-color: #c0c0c0\">╭──────────────────────────────────────────────────────  AI ──────────────────────────────────────────────────────╮</span>\n",
              "<span style=\"color: #c0c0c0; text-decoration-color: #c0c0c0\">│</span> Thank you for clarifying. I will now start researching the environmental impacts of ocean plastic pollution.    <span style=\"color: #c0c0c0; text-decoration-color: #c0c0c0\">│</span>\n",
              "<span style=\"color: #c0c0c0; text-decoration-color: #c0c0c0\">╰─────────────────────────────────────────────────────────────────────────────────────────────────────────────────╯</span>\n",
              "</pre>\n"
            ]
          },
          "metadata": {}
        }
      ]
    },
    {
      "cell_type": "code",
      "source": [
        "from rich.markdown import Markdown\n",
        "console.print(Markdown(result['research_brief']))"
      ],
      "metadata": {
        "colab": {
          "base_uri": "https://localhost:8080/",
          "height": 737
        },
        "id": "U8bN56wl9FoK",
        "outputId": "f4a7b895-6e6c-4de6-f4ca-5043485f2850"
      },
      "execution_count": 23,
      "outputs": [
        {
          "output_type": "display_data",
          "data": {
            "text/plain": [
              "\u001b[1mResearch Date:\u001b[0m 17/09/25                                                                                            \n",
              "\n",
              "I require a comprehensive research brief focusing on the environmental impacts of ocean plastic pollution. The     \n",
              "research should address the main research question: 'What are the key environmental impacts of ocean plastic       \n",
              "pollution globally?'                                                                                               \n",
              "\n",
              "Key areas to investigate include:                                                                                  \n",
              "\n",
              "\u001b[1;33m • \u001b[0mImpacts on marine life (e.g., ingestion, entanglement, habitat destruction, disruption of food webs).           \n",
              "\u001b[1;33m • \u001b[0mImpacts on marine ecosystems and habitats (e.g., coral reefs, mangroves, seagrass beds).                        \n",
              "\u001b[1;33m • \u001b[0mPotential indirect impacts on human health through the marine food chain.                                       \n",
              "\u001b[1;33m • \u001b[0mImpacts on coastal environments and their associated services.                                                  \n",
              "\u001b[1;33m • \u001b[0mLong-term ecological consequences of plastic accumulation in oceans.                                            \n",
              "\n",
              "Specific aspects and dimensions to cover should include:                                                           \n",
              "\n",
              "\u001b[1;33m • \u001b[0m\u001b[1mMarine Life:\u001b[0m Detailed examination of how macroplastics, microplastics, and nanoplastics affect various marine   \n",
              "\u001b[1;33m   \u001b[0morganisms, from plankton and invertebrates to fish, marine mammals, and seabirds. This includes physical harm   \n",
              "\u001b[1;33m   \u001b[0m(entanglement, ingestion leading to starvation or internal injury), chemical contamination (leaching of toxins  \n",
              "\u001b[1;33m   \u001b[0mfrom plastics, bioaccumulation), and behavioral changes.                                                        \n",
              "\u001b[1;33m • \u001b[0m\u001b[1mMarine Ecosystems:\u001b[0m Analysis of the degradation and alteration of critical marine habitats due to plastic        \n",
              "\u001b[1;33m   \u001b[0maccumulation, such as coral reef smothering, damage to seagrass beds, and disruption of benthic communities.    \n",
              "\u001b[1;33m • \u001b[0m\u001b[1mHuman Health:\u001b[0m Investigation into the pathways of plastic and associated contaminants into the human diet via    \n",
              "\u001b[1;33m   \u001b[0mseafood consumption, and the potential health risks (e.g., endocrine disruption, carcinogenicity) associated    \n",
              "\u001b[1;33m   \u001b[0mwith these exposures.                                                                                           \n",
              "\u001b[1;33m • \u001b[0m\u001b[1mCoastal Environments:\u001b[0m Assessment of the aesthetic and ecological degradation of beaches and coastal zones,      \n",
              "\u001b[1;33m   \u001b[0mimpacts on coastal biodiversity, and potential economic consequences for tourism and fisheries.                 \n",
              "\u001b[1;33m • \u001b[0m\u001b[1mTypes of Plastic Pollution:\u001b[0m Differentiation between the impacts of macroplastics (larger debris), microplastics \n",
              "\u001b[1;33m   \u001b[0m(particles <5mm), and nanoplastics (particles <100nm), considering their distinct pathways and effects.         \n",
              "\u001b[1;33m • \u001b[0m\u001b[1mGeographical and Temporal Scope:\u001b[0m While the primary focus is global, the research should highlight specific      \n",
              "\u001b[1;33m   \u001b[0mregions or ecosystems that are particularly vulnerable or heavily impacted. The research should cover current   \n",
              "\u001b[1;33m   \u001b[0mimpacts and project potential long-term ecological changes.                                                     \n",
              "\n",
              "Research methodology guidance:                                                                                     \n",
              "\n",
              "\u001b[1;33m • \u001b[0mThe research should primarily involve a comprehensive literature review of peer-reviewed scientific articles,   \n",
              "\u001b[1;33m   \u001b[0mreports from reputable environmental organizations (e.g., UNEP, IUCN, WWF), and governmental scientific bodies. \n",
              "\u001b[1;33m • \u001b[0mPrioritize studies that offer robust empirical evidence and meta-analyses.                                      \n",
              "\u001b[1;33m • \u001b[0mCase studies of specific marine species or ecosystems severely affected by plastic pollution should be included \n",
              "\u001b[1;33m   \u001b[0mto illustrate impacts.                                                                                          \n",
              "\u001b[1;33m • \u001b[0mWhile the user's explicit focus is on environmental impacts, the research should acknowledge that the causes of \n",
              "\u001b[1;33m   \u001b[0mocean plastic pollution, potential solutions, and socio-economic impacts are related but fall outside the       \n",
              "\u001b[1;33m   \u001b[0mimmediate scope of this brief unless further specified by me. The research should remain strictly focused on the\n",
              "\u001b[1;33m   \u001b[0menvironmental consequences as requested.                                                                        \n"
            ],
            "text/html": [
              "<pre style=\"white-space:pre;overflow-x:auto;line-height:normal;font-family:Menlo,'DejaVu Sans Mono',consolas,'Courier New',monospace\"><span style=\"font-weight: bold\">Research Date:</span> 17/09/25                                                                                            \n",
              "\n",
              "I require a comprehensive research brief focusing on the environmental impacts of ocean plastic pollution. The     \n",
              "research should address the main research question: 'What are the key environmental impacts of ocean plastic       \n",
              "pollution globally?'                                                                                               \n",
              "\n",
              "Key areas to investigate include:                                                                                  \n",
              "\n",
              "<span style=\"color: #808000; text-decoration-color: #808000; font-weight: bold\"> • </span>Impacts on marine life (e.g., ingestion, entanglement, habitat destruction, disruption of food webs).           \n",
              "<span style=\"color: #808000; text-decoration-color: #808000; font-weight: bold\"> • </span>Impacts on marine ecosystems and habitats (e.g., coral reefs, mangroves, seagrass beds).                        \n",
              "<span style=\"color: #808000; text-decoration-color: #808000; font-weight: bold\"> • </span>Potential indirect impacts on human health through the marine food chain.                                       \n",
              "<span style=\"color: #808000; text-decoration-color: #808000; font-weight: bold\"> • </span>Impacts on coastal environments and their associated services.                                                  \n",
              "<span style=\"color: #808000; text-decoration-color: #808000; font-weight: bold\"> • </span>Long-term ecological consequences of plastic accumulation in oceans.                                            \n",
              "\n",
              "Specific aspects and dimensions to cover should include:                                                           \n",
              "\n",
              "<span style=\"color: #808000; text-decoration-color: #808000; font-weight: bold\"> • </span><span style=\"font-weight: bold\">Marine Life:</span> Detailed examination of how macroplastics, microplastics, and nanoplastics affect various marine   \n",
              "<span style=\"color: #808000; text-decoration-color: #808000; font-weight: bold\">   </span>organisms, from plankton and invertebrates to fish, marine mammals, and seabirds. This includes physical harm   \n",
              "<span style=\"color: #808000; text-decoration-color: #808000; font-weight: bold\">   </span>(entanglement, ingestion leading to starvation or internal injury), chemical contamination (leaching of toxins  \n",
              "<span style=\"color: #808000; text-decoration-color: #808000; font-weight: bold\">   </span>from plastics, bioaccumulation), and behavioral changes.                                                        \n",
              "<span style=\"color: #808000; text-decoration-color: #808000; font-weight: bold\"> • </span><span style=\"font-weight: bold\">Marine Ecosystems:</span> Analysis of the degradation and alteration of critical marine habitats due to plastic        \n",
              "<span style=\"color: #808000; text-decoration-color: #808000; font-weight: bold\">   </span>accumulation, such as coral reef smothering, damage to seagrass beds, and disruption of benthic communities.    \n",
              "<span style=\"color: #808000; text-decoration-color: #808000; font-weight: bold\"> • </span><span style=\"font-weight: bold\">Human Health:</span> Investigation into the pathways of plastic and associated contaminants into the human diet via    \n",
              "<span style=\"color: #808000; text-decoration-color: #808000; font-weight: bold\">   </span>seafood consumption, and the potential health risks (e.g., endocrine disruption, carcinogenicity) associated    \n",
              "<span style=\"color: #808000; text-decoration-color: #808000; font-weight: bold\">   </span>with these exposures.                                                                                           \n",
              "<span style=\"color: #808000; text-decoration-color: #808000; font-weight: bold\"> • </span><span style=\"font-weight: bold\">Coastal Environments:</span> Assessment of the aesthetic and ecological degradation of beaches and coastal zones,      \n",
              "<span style=\"color: #808000; text-decoration-color: #808000; font-weight: bold\">   </span>impacts on coastal biodiversity, and potential economic consequences for tourism and fisheries.                 \n",
              "<span style=\"color: #808000; text-decoration-color: #808000; font-weight: bold\"> • </span><span style=\"font-weight: bold\">Types of Plastic Pollution:</span> Differentiation between the impacts of macroplastics (larger debris), microplastics \n",
              "<span style=\"color: #808000; text-decoration-color: #808000; font-weight: bold\">   </span>(particles &lt;5mm), and nanoplastics (particles &lt;100nm), considering their distinct pathways and effects.         \n",
              "<span style=\"color: #808000; text-decoration-color: #808000; font-weight: bold\"> • </span><span style=\"font-weight: bold\">Geographical and Temporal Scope:</span> While the primary focus is global, the research should highlight specific      \n",
              "<span style=\"color: #808000; text-decoration-color: #808000; font-weight: bold\">   </span>regions or ecosystems that are particularly vulnerable or heavily impacted. The research should cover current   \n",
              "<span style=\"color: #808000; text-decoration-color: #808000; font-weight: bold\">   </span>impacts and project potential long-term ecological changes.                                                     \n",
              "\n",
              "Research methodology guidance:                                                                                     \n",
              "\n",
              "<span style=\"color: #808000; text-decoration-color: #808000; font-weight: bold\"> • </span>The research should primarily involve a comprehensive literature review of peer-reviewed scientific articles,   \n",
              "<span style=\"color: #808000; text-decoration-color: #808000; font-weight: bold\">   </span>reports from reputable environmental organizations (e.g., UNEP, IUCN, WWF), and governmental scientific bodies. \n",
              "<span style=\"color: #808000; text-decoration-color: #808000; font-weight: bold\"> • </span>Prioritize studies that offer robust empirical evidence and meta-analyses.                                      \n",
              "<span style=\"color: #808000; text-decoration-color: #808000; font-weight: bold\"> • </span>Case studies of specific marine species or ecosystems severely affected by plastic pollution should be included \n",
              "<span style=\"color: #808000; text-decoration-color: #808000; font-weight: bold\">   </span>to illustrate impacts.                                                                                          \n",
              "<span style=\"color: #808000; text-decoration-color: #808000; font-weight: bold\"> • </span>While the user's explicit focus is on environmental impacts, the research should acknowledge that the causes of \n",
              "<span style=\"color: #808000; text-decoration-color: #808000; font-weight: bold\">   </span>ocean plastic pollution, potential solutions, and socio-economic impacts are related but fall outside the       \n",
              "<span style=\"color: #808000; text-decoration-color: #808000; font-weight: bold\">   </span>immediate scope of this brief unless further specified by me. The research should remain strictly focused on the\n",
              "<span style=\"color: #808000; text-decoration-color: #808000; font-weight: bold\">   </span>environmental consequences as requested.                                                                        \n",
              "</pre>\n"
            ]
          },
          "metadata": {}
        }
      ]
    }
  ]
}
