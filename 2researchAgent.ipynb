{
 "cells": [
  {
   "cell_type": "code",
   "execution_count": 1,
   "id": "d91948b3-e40b-4c49-bd4c-a588d5a21a6a",
   "metadata": {},
   "outputs": [],
   "source": [
    "from rich.console import Console\n",
    "from rich.panel import Panel\n",
    "from rich.text import Text\n",
    "import json\n",
    "console = Console()"
   ]
  },
  {
   "cell_type": "code",
   "execution_count": null,
   "id": "209669ca-3e1a-41ce-931b-4a55317f34ab",
   "metadata": {},
   "outputs": [],
   "source": [
    "import os\n",
    "os.environ[\"TAVILY_API_KEY\"]='add api key here'\n",
    "os.environ['GOOGLE_API_KEY']=\"add api key here\"\n",
    "\n",
    "from langchain_core.rate_limiters import InMemoryRateLimiter\n",
    "\n",
    "rate_limiter = InMemoryRateLimiter(\n",
    "    requests_per_second=0.083,   # ~5 requests per minute\n",
    "    check_every_n_seconds=0.1,   # wake up every 100 ms to check\n",
    "    max_bucket_size=1            # allow only 1 request at a time (no bursts)\n",
    ")\n",
    "\n",
    "\n",
    "model=init_chat_model(\"gemini-2.5-pro\",model_provider=\"google_genai\",temperature=0,rate_limiter=rate_limiter)"
   ]
  }
 ],
 "metadata": {
  "kernelspec": {
   "display_name": "Python [conda env:base] *",
   "language": "python",
   "name": "conda-base-py"
  },
  "language_info": {
   "codemirror_mode": {
    "name": "ipython",
    "version": 3
   },
   "file_extension": ".py",
   "mimetype": "text/x-python",
   "name": "python",
   "nbconvert_exporter": "python",
   "pygments_lexer": "ipython3",
   "version": "3.13.5"
  }
 },
 "nbformat": 4,
 "nbformat_minor": 5
}
