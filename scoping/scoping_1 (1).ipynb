{
 "cells": [
  {
   "cell_type": "markdown",
   "id": "9ac49bfe",
   "metadata": {},
   "source": [
    "\n",
    "\n",
    "### Prompts\n",
    "\n",
    "A common challenge in deep research workflows is that users rarely provide sufficient context in their initial request. \n",
    "\n",
    "Requests often lack important details like:\n",
    "\n",
    "- **Scope and boundaries**: What should be included or excluded?\n",
    "- **Audience and purpose**: Who is this research for and why?\n",
    "- **Specific requirements**: Are there particular sources, timeframes, or constraints?\n",
    "- **Clarification of terms**: What do domain-specific terms or acronyms mean?\n",
    "\n",
    "Rather than making assumptions, we gather additional context through targeted clarification questions. \n",
    "\n",
    "This ensures we understand the user's true intent before investing time in research that might miss the mark.\n"
   ]
  },
  {
   "cell_type": "code",
   "execution_count": 1,
   "id": "1c251b96",
   "metadata": {},
   "outputs": [],
   "source": [
    "# ===== IMPORTS =====\n",
    "from rich.console import Console\n",
    "from rich.panel import Panel\n",
    "from rich.text import Text\n",
    "import json\n",
    "import operator\n",
    "from typing_extensions import Optional, Annotated, List, Sequence\n",
    "from langchain_core.messages import BaseMessage, HumanMessage, AIMessage, get_buffer_string\n",
    "from langgraph.graph import MessagesState, StateGraph, START, END\n",
    "from langgraph.graph.message import add_messages\n",
    "from pydantic import BaseModel, Field\n",
    "from typing_extensions import Literal\n",
    "from langgraph.types import Command\n",
    "from datetime import datetime\n",
    "from langchain.chat_models import init_chat_model\n",
    "from IPython.display import Image, display\n",
    "from langgraph.checkpoint.memory import InMemorySaver\n",
    "from rich.markdown import Markdown\n",
    "import os"
   ]
  },
  {
   "cell_type": "code",
   "execution_count": 2,
   "id": "2479677f",
   "metadata": {},
   "outputs": [],
   "source": [
    "# ===== GLOBALS / CONFIG =====\n",
    "\n",
    "#change to ther provider if you want (OpenAI,etc......)\n",
    "\n",
    "console = Console()\n",
    "os.environ['GOOGLE_API_KEY'] = \"YOUR_API_KEY_HERE\"\n",
    "model = init_chat_model(\"gemini-2.5-flash-lite\", model_provider=\"google_genai\", temperature=0)"
   ]
  },
  {
   "cell_type": "code",
   "execution_count": 3,
   "id": "debd4490",
   "metadata": {},
   "outputs": [],
   "source": [
    "# ===== UI HELPERS =====\n",
    "def show_prompt(prompt_text: str, title: str = \"Prompt\", border_style: str = \"blue\"):\n",
    "    \"\"\"\n",
    "    Display a prompt with rich formatting and XML tag highlighting.\n",
    "    \n",
    "    Args:\n",
    "        prompt_text: The prompt string to display\n",
    "        title: Title for the panel (default: \"Prompt\")\n",
    "        border_style: Border color style (default: \"blue\")\n",
    "    \"\"\"\n",
    "    # Create a formatted display of the prompt\n",
    "    formatted_text = Text(prompt_text)\n",
    "    formatted_text.highlight_regex(r'<[^>]+>', style=\"bold blue\")  # Highlight XML tags\n",
    "    formatted_text.highlight_regex(r'##[^#\\n]+', style=\"bold magenta\")  # Highlight headers\n",
    "    formatted_text.highlight_regex(r'###[^#\\n]+', style=\"bold cyan\")  # Highlight sub-headers\n",
    "\n",
    "    # Display in a panel for better presentation\n",
    "    console.print(Panel(\n",
    "        formatted_text, \n",
    "        title=f\"[bold green]{title}[/bold green]\",\n",
    "        border_style=border_style,\n",
    "        padding=(1, 2)\n",
    "    ))\n",
    "\n",
    "def format_message_content(message):\n",
    "    \"\"\"Convert message content to displayable string\"\"\"\n",
    "    parts = []\n",
    "    tool_calls_processed = False\n",
    "    \n",
    "    # Handle main content\n",
    "    if isinstance(message.content, str):\n",
    "        parts.append(message.content)\n",
    "    elif isinstance(message.content, list):\n",
    "        # Handle complex content like tool calls (Anthropic format)\n",
    "        for item in message.content:\n",
    "            if item.get('type') == 'text':\n",
    "                parts.append(item['text'])\n",
    "            elif item.get('type') == 'tool_use':\n",
    "                parts.append(f\"\\n🔧 Tool Call: {item['name']}\")\n",
    "                parts.append(f\"   Args: {json.dumps(item['input'], indent=2)}\")\n",
    "                parts.append(f\"   ID: {item.get('id', 'N/A')}\")\n",
    "                tool_calls_processed = True\n",
    "    else:\n",
    "        parts.append(str(message.content))\n",
    "    \n",
    "    # Handle tool calls attached to the message (OpenAI format) - only if not already processed\n",
    "    if not tool_calls_processed and hasattr(message, 'tool_calls') and message.tool_calls:\n",
    "        for tool_call in message.tool_calls:\n",
    "            parts.append(f\"\\n🔧 Tool Call: {tool_call['name']}\")\n",
    "            parts.append(f\"   Args: {json.dumps(tool_call['args'], indent=2)}\")\n",
    "            parts.append(f\"   ID: {tool_call['id']}\")\n",
    "    \n",
    "    return \"\\n\".join(parts)\n",
    "\n",
    "def format_messages(messages):\n",
    "    \"\"\"Format and display a list of messages with Rich formatting\"\"\"\n",
    "    for m in messages:\n",
    "        msg_type = m.__class__.__name__.replace('Message', '')\n",
    "        content = format_message_content(m)\n",
    "\n",
    "        if msg_type == 'Human':\n",
    "            console.print(Panel(content, title=\"🧑 Human\", border_style=\"blue\"))\n",
    "        elif msg_type == 'Ai':\n",
    "            console.print(Panel(content, title=\"🤖 Assistant\", border_style=\"green\"))\n",
    "        elif msg_type == 'Tool':\n",
    "            console.print(Panel(content, title=\"🔧 Tool Output\", border_style=\"yellow\"))\n",
    "        else:\n",
    "            console.print(Panel(content, title=f\"📝 {msg_type}\", border_style=\"white\"))\n",
    "\n",
    "            "
   ]
  },
  {
   "cell_type": "code",
   "execution_count": 4,
   "id": "09891b98",
   "metadata": {},
   "outputs": [],
   "source": [
    "# ===== PROMPT STRINGS =====\n",
    "clarify_with_user_instructions = \"\"\"\n",
    "These are the messages that have been exchanged so far from the user asking for the report:\n",
    "<Messages>\n",
    "{messages}\n",
    "</Messages>\n",
    "\n",
    "Today's date is {date}.\n",
    "\n",
    "Assess whether you need to ask a clarifying question, or if the user has already provided enough information for you to start research.\n",
    "IMPORTANT: If you can see in the messages history that you have already asked a clarifying question, you almost always do not need to ask another one. Only ask another question if ABSOLUTELY NECESSARY.\n",
    "\n",
    "If there are acronyms, abbreviations, or unknown terms, ask the user to clarify.\n",
    "If you need to ask a question, follow these guidelines:\n",
    "- Be concise while gathering all necessary information\n",
    "- Make sure to gather all the information needed to carry out the research task in a concise, well-structured manner.\n",
    "- Use bullet points or numbered lists if appropriate for clarity. Make sure that this uses markdown formatting and will be rendered correctly if the string output is passed to a markdown renderer.\n",
    "- Don't ask for unnecessary information, or information that the user has already provided. If you can see that the user has already provided the information, do not ask for it again.\n",
    "\n",
    "Respond in valid JSON format with these exact keys:\n",
    "\"need_clarification\": boolean,\n",
    "\"question\": \"<question to ask the user to clarify the report scope>\",\n",
    "\"verification\": \"<verification message that we will start research>\"\n",
    "\n",
    "If you need to ask a clarifying question, return:\n",
    "\"need_clarification\": true,\n",
    "\"question\": \"<your clarifying question>\",\n",
    "\"verification\": \"\"\n",
    "\n",
    "If you do not need to ask a clarifying question, return:\n",
    "\"need_clarification\": false,\n",
    "\"question\": \"\",\n",
    "\"verification\": \"<acknowledgement message that you will now start research based on the provided information>\"\n",
    "\n",
    "For the verification message when no clarification is needed:\n",
    "- Acknowledge that you have sufficient information to proceed\n",
    "- Briefly summarize the key aspects of what you understand from their request\n",
    "- Confirm that you will now begin the research process\n",
    "- Keep the message concise and professional\n",
    "\"\"\"\n",
    "\n",
    "transform_messages_into_research_topic_prompt = \"\"\"You will be given a set of messages that have been exchanged so far between yourself and the user. \n",
    "Your job is to translate these messages into a more detailed and concrete research question that will be used to guide the research.\n",
    "\n",
    "The messages that have been exchanged so far between yourself and the user are:\n",
    "<Messages>\n",
    "{messages}\n",
    "</Messages>\n",
    "\n",
    "Today's date is {date}.\n",
    "\n",
    "You will return a single research question that will be used to guide the research.\n",
    "\n",
    "Guidelines:\n",
    "1. Maximize Specificity and Detail\n",
    "- Include all known user preferences and explicitly list key attributes or dimensions to consider.\n",
    "- It is important that all details from the user are included in the instructions.\n",
    "\n",
    "2. Handle Unstated Dimensions Carefully\n",
    "- When research quality requires considering additional dimensions that the user hasn't specified, acknowledge them as open considerations rather than assumed preferences.\n",
    "- Example: Instead of assuming \"budget-friendly options,\" say \"consider all price ranges unless cost constraints are specified.\"\n",
    "- Only mention dimensions that are genuinely necessary for comprehensive research in that domain.\n",
    "\n",
    "3. Avoid Unwarranted Assumptions\n",
    "- Never invent specific user preferences, constraints, or requirements that weren't stated.\n",
    "- If the user hasn't provided a particular detail, explicitly note this lack of specification.\n",
    "- Guide the researcher to treat unspecified aspects as flexible rather than making assumptions.\n",
    "\n",
    "4. Distinguish Between Research Scope and User Preferences\n",
    "- Research scope: What topics/dimensions should be investigated (can be broader than user's explicit mentions)\n",
    "- User preferences: Specific constraints, requirements, or preferences (must only include what user stated)\n",
    "- Example: \"Research coffee quality factors (including bean sourcing, roasting methods, brewing techniques) for San Francisco coffee shops, with primary focus on taste as specified by the user.\"\n",
    "\n",
    "5. Use the First Person\n",
    "- Phrase the request from the perspective of the user.\n",
    "\n",
    "6. Sources\n",
    "- If specific sources should be prioritized, specify them in the research question.\n",
    "- For product and travel research, prefer linking directly to official or primary websites (e.g., official brand sites, manufacturer pages, or reputable e-commerce platforms like Amazon for user reviews) rather than aggregator sites or SEO-heavy blogs.\n",
    "- For academic or scientific queries, prefer linking directly to the original paper or official journal publication rather than survey papers or secondary summaries.\n",
    "- For people, try linking directly to their LinkedIn profile, or their personal website if they have one.\n",
    "- If the query is in a specific language, prioritize sources published in that language.\n",
    "\"\"\""
   ]
  },
  {
   "cell_type": "code",
   "execution_count": 5,
   "id": "b5a1b2e1",
   "metadata": {},
   "outputs": [
    {
     "data": {
      "text/html": [
       "<pre style=\"white-space:pre;overflow-x:auto;line-height:normal;font-family:Menlo,'DejaVu Sans Mono',consolas,'Courier New',monospace\"><span style=\"color: #000080; text-decoration-color: #000080\">╭──────────────────────────────────────── </span><span style=\"color: #008000; text-decoration-color: #008000; font-weight: bold\">Clarify with User Instructions</span><span style=\"color: #000080; text-decoration-color: #000080\"> ─────────────────────────────────────────╮</span>\n",
       "<span style=\"color: #000080; text-decoration-color: #000080\">│</span>                                                                                                                 <span style=\"color: #000080; text-decoration-color: #000080\">│</span>\n",
       "<span style=\"color: #000080; text-decoration-color: #000080\">│</span>                                                                                                                 <span style=\"color: #000080; text-decoration-color: #000080\">│</span>\n",
       "<span style=\"color: #000080; text-decoration-color: #000080\">│</span>  These are the messages that have been exchanged so far from the user asking for the report:                    <span style=\"color: #000080; text-decoration-color: #000080\">│</span>\n",
       "<span style=\"color: #000080; text-decoration-color: #000080\">│</span>  <span style=\"color: #000080; text-decoration-color: #000080; font-weight: bold\">&lt;Messages&gt;</span>                                                                                                     <span style=\"color: #000080; text-decoration-color: #000080\">│</span>\n",
       "<span style=\"color: #000080; text-decoration-color: #000080\">│</span>  {messages}                                                                                                     <span style=\"color: #000080; text-decoration-color: #000080\">│</span>\n",
       "<span style=\"color: #000080; text-decoration-color: #000080\">│</span>  <span style=\"color: #000080; text-decoration-color: #000080; font-weight: bold\">&lt;/Messages&gt;</span>                                                                                                    <span style=\"color: #000080; text-decoration-color: #000080\">│</span>\n",
       "<span style=\"color: #000080; text-decoration-color: #000080\">│</span>                                                                                                                 <span style=\"color: #000080; text-decoration-color: #000080\">│</span>\n",
       "<span style=\"color: #000080; text-decoration-color: #000080\">│</span>  Today's date is {date}.                                                                                        <span style=\"color: #000080; text-decoration-color: #000080\">│</span>\n",
       "<span style=\"color: #000080; text-decoration-color: #000080\">│</span>                                                                                                                 <span style=\"color: #000080; text-decoration-color: #000080\">│</span>\n",
       "<span style=\"color: #000080; text-decoration-color: #000080\">│</span>  Assess whether you need to ask a clarifying question, or if the user has already provided enough information   <span style=\"color: #000080; text-decoration-color: #000080\">│</span>\n",
       "<span style=\"color: #000080; text-decoration-color: #000080\">│</span>  for you to start research.                                                                                     <span style=\"color: #000080; text-decoration-color: #000080\">│</span>\n",
       "<span style=\"color: #000080; text-decoration-color: #000080\">│</span>  IMPORTANT: If you can see in the messages history that you have already asked a clarifying question, you       <span style=\"color: #000080; text-decoration-color: #000080\">│</span>\n",
       "<span style=\"color: #000080; text-decoration-color: #000080\">│</span>  almost always do not need to ask another one. Only ask another question if ABSOLUTELY NECESSARY.               <span style=\"color: #000080; text-decoration-color: #000080\">│</span>\n",
       "<span style=\"color: #000080; text-decoration-color: #000080\">│</span>                                                                                                                 <span style=\"color: #000080; text-decoration-color: #000080\">│</span>\n",
       "<span style=\"color: #000080; text-decoration-color: #000080\">│</span>  If there are acronyms, abbreviations, or unknown terms, ask the user to clarify.                               <span style=\"color: #000080; text-decoration-color: #000080\">│</span>\n",
       "<span style=\"color: #000080; text-decoration-color: #000080\">│</span>  If you need to ask a question, follow these guidelines:                                                        <span style=\"color: #000080; text-decoration-color: #000080\">│</span>\n",
       "<span style=\"color: #000080; text-decoration-color: #000080\">│</span>  - Be concise while gathering all necessary information                                                         <span style=\"color: #000080; text-decoration-color: #000080\">│</span>\n",
       "<span style=\"color: #000080; text-decoration-color: #000080\">│</span>  - Make sure to gather all the information needed to carry out the research task in a concise, well-structured  <span style=\"color: #000080; text-decoration-color: #000080\">│</span>\n",
       "<span style=\"color: #000080; text-decoration-color: #000080\">│</span>  manner.                                                                                                        <span style=\"color: #000080; text-decoration-color: #000080\">│</span>\n",
       "<span style=\"color: #000080; text-decoration-color: #000080\">│</span>  - Use bullet points or numbered lists if appropriate for clarity. Make sure that this uses markdown            <span style=\"color: #000080; text-decoration-color: #000080\">│</span>\n",
       "<span style=\"color: #000080; text-decoration-color: #000080\">│</span>  formatting and will be rendered correctly if the string output is passed to a markdown renderer.               <span style=\"color: #000080; text-decoration-color: #000080\">│</span>\n",
       "<span style=\"color: #000080; text-decoration-color: #000080\">│</span>  - Don't ask for unnecessary information, or information that the user has already provided. If you can see     <span style=\"color: #000080; text-decoration-color: #000080\">│</span>\n",
       "<span style=\"color: #000080; text-decoration-color: #000080\">│</span>  that the user has already provided the information, do not ask for it again.                                   <span style=\"color: #000080; text-decoration-color: #000080\">│</span>\n",
       "<span style=\"color: #000080; text-decoration-color: #000080\">│</span>                                                                                                                 <span style=\"color: #000080; text-decoration-color: #000080\">│</span>\n",
       "<span style=\"color: #000080; text-decoration-color: #000080\">│</span>  Respond in valid JSON format with these exact keys:                                                            <span style=\"color: #000080; text-decoration-color: #000080\">│</span>\n",
       "<span style=\"color: #000080; text-decoration-color: #000080\">│</span>  \"need_clarification\": boolean,                                                                                 <span style=\"color: #000080; text-decoration-color: #000080\">│</span>\n",
       "<span style=\"color: #000080; text-decoration-color: #000080\">│</span>  \"question\": \"<span style=\"color: #000080; text-decoration-color: #000080; font-weight: bold\">&lt;question to ask the user to clarify the report scope&gt;</span>\",                                          <span style=\"color: #000080; text-decoration-color: #000080\">│</span>\n",
       "<span style=\"color: #000080; text-decoration-color: #000080\">│</span>  \"verification\": \"<span style=\"color: #000080; text-decoration-color: #000080; font-weight: bold\">&lt;verification message that we will start research&gt;</span>\"                                           <span style=\"color: #000080; text-decoration-color: #000080\">│</span>\n",
       "<span style=\"color: #000080; text-decoration-color: #000080\">│</span>                                                                                                                 <span style=\"color: #000080; text-decoration-color: #000080\">│</span>\n",
       "<span style=\"color: #000080; text-decoration-color: #000080\">│</span>  If you need to ask a clarifying question, return:                                                              <span style=\"color: #000080; text-decoration-color: #000080\">│</span>\n",
       "<span style=\"color: #000080; text-decoration-color: #000080\">│</span>  \"need_clarification\": true,                                                                                    <span style=\"color: #000080; text-decoration-color: #000080\">│</span>\n",
       "<span style=\"color: #000080; text-decoration-color: #000080\">│</span>  \"question\": \"<span style=\"color: #000080; text-decoration-color: #000080; font-weight: bold\">&lt;your clarifying question&gt;</span>\",                                                                      <span style=\"color: #000080; text-decoration-color: #000080\">│</span>\n",
       "<span style=\"color: #000080; text-decoration-color: #000080\">│</span>  \"verification\": \"\"                                                                                             <span style=\"color: #000080; text-decoration-color: #000080\">│</span>\n",
       "<span style=\"color: #000080; text-decoration-color: #000080\">│</span>                                                                                                                 <span style=\"color: #000080; text-decoration-color: #000080\">│</span>\n",
       "<span style=\"color: #000080; text-decoration-color: #000080\">│</span>  If you do not need to ask a clarifying question, return:                                                       <span style=\"color: #000080; text-decoration-color: #000080\">│</span>\n",
       "<span style=\"color: #000080; text-decoration-color: #000080\">│</span>  \"need_clarification\": false,                                                                                   <span style=\"color: #000080; text-decoration-color: #000080\">│</span>\n",
       "<span style=\"color: #000080; text-decoration-color: #000080\">│</span>  \"question\": \"\",                                                                                                <span style=\"color: #000080; text-decoration-color: #000080\">│</span>\n",
       "<span style=\"color: #000080; text-decoration-color: #000080\">│</span>  \"verification\": \"<span style=\"color: #000080; text-decoration-color: #000080; font-weight: bold\">&lt;acknowledgement message that you will now start research based on the provided </span>              <span style=\"color: #000080; text-decoration-color: #000080\">│</span>\n",
       "<span style=\"color: #000080; text-decoration-color: #000080\">│</span>  <span style=\"color: #000080; text-decoration-color: #000080; font-weight: bold\">information&gt;</span>\"                                                                                                  <span style=\"color: #000080; text-decoration-color: #000080\">│</span>\n",
       "<span style=\"color: #000080; text-decoration-color: #000080\">│</span>                                                                                                                 <span style=\"color: #000080; text-decoration-color: #000080\">│</span>\n",
       "<span style=\"color: #000080; text-decoration-color: #000080\">│</span>  For the verification message when no clarification is needed:                                                  <span style=\"color: #000080; text-decoration-color: #000080\">│</span>\n",
       "<span style=\"color: #000080; text-decoration-color: #000080\">│</span>  - Acknowledge that you have sufficient information to proceed                                                  <span style=\"color: #000080; text-decoration-color: #000080\">│</span>\n",
       "<span style=\"color: #000080; text-decoration-color: #000080\">│</span>  - Briefly summarize the key aspects of what you understand from their request                                  <span style=\"color: #000080; text-decoration-color: #000080\">│</span>\n",
       "<span style=\"color: #000080; text-decoration-color: #000080\">│</span>  - Confirm that you will now begin the research process                                                         <span style=\"color: #000080; text-decoration-color: #000080\">│</span>\n",
       "<span style=\"color: #000080; text-decoration-color: #000080\">│</span>  - Keep the message concise and professional                                                                    <span style=\"color: #000080; text-decoration-color: #000080\">│</span>\n",
       "<span style=\"color: #000080; text-decoration-color: #000080\">│</span>                                                                                                                 <span style=\"color: #000080; text-decoration-color: #000080\">│</span>\n",
       "<span style=\"color: #000080; text-decoration-color: #000080\">│</span>                                                                                                                 <span style=\"color: #000080; text-decoration-color: #000080\">│</span>\n",
       "<span style=\"color: #000080; text-decoration-color: #000080\">╰─────────────────────────────────────────────────────────────────────────────────────────────────────────────────╯</span>\n",
       "</pre>\n"
      ],
      "text/plain": [
       "\u001b[34m╭─\u001b[0m\u001b[34m───────────────────────────────────────\u001b[0m\u001b[34m \u001b[0m\u001b[1;32mClarify with User Instructions\u001b[0m\u001b[34m \u001b[0m\u001b[34m────────────────────────────────────────\u001b[0m\u001b[34m─╮\u001b[0m\n",
       "\u001b[34m│\u001b[0m                                                                                                                 \u001b[34m│\u001b[0m\n",
       "\u001b[34m│\u001b[0m                                                                                                                 \u001b[34m│\u001b[0m\n",
       "\u001b[34m│\u001b[0m  These are the messages that have been exchanged so far from the user asking for the report:                    \u001b[34m│\u001b[0m\n",
       "\u001b[34m│\u001b[0m  \u001b[1;34m<Messages>\u001b[0m                                                                                                     \u001b[34m│\u001b[0m\n",
       "\u001b[34m│\u001b[0m  {messages}                                                                                                     \u001b[34m│\u001b[0m\n",
       "\u001b[34m│\u001b[0m  \u001b[1;34m</Messages>\u001b[0m                                                                                                    \u001b[34m│\u001b[0m\n",
       "\u001b[34m│\u001b[0m                                                                                                                 \u001b[34m│\u001b[0m\n",
       "\u001b[34m│\u001b[0m  Today's date is {date}.                                                                                        \u001b[34m│\u001b[0m\n",
       "\u001b[34m│\u001b[0m                                                                                                                 \u001b[34m│\u001b[0m\n",
       "\u001b[34m│\u001b[0m  Assess whether you need to ask a clarifying question, or if the user has already provided enough information   \u001b[34m│\u001b[0m\n",
       "\u001b[34m│\u001b[0m  for you to start research.                                                                                     \u001b[34m│\u001b[0m\n",
       "\u001b[34m│\u001b[0m  IMPORTANT: If you can see in the messages history that you have already asked a clarifying question, you       \u001b[34m│\u001b[0m\n",
       "\u001b[34m│\u001b[0m  almost always do not need to ask another one. Only ask another question if ABSOLUTELY NECESSARY.               \u001b[34m│\u001b[0m\n",
       "\u001b[34m│\u001b[0m                                                                                                                 \u001b[34m│\u001b[0m\n",
       "\u001b[34m│\u001b[0m  If there are acronyms, abbreviations, or unknown terms, ask the user to clarify.                               \u001b[34m│\u001b[0m\n",
       "\u001b[34m│\u001b[0m  If you need to ask a question, follow these guidelines:                                                        \u001b[34m│\u001b[0m\n",
       "\u001b[34m│\u001b[0m  - Be concise while gathering all necessary information                                                         \u001b[34m│\u001b[0m\n",
       "\u001b[34m│\u001b[0m  - Make sure to gather all the information needed to carry out the research task in a concise, well-structured  \u001b[34m│\u001b[0m\n",
       "\u001b[34m│\u001b[0m  manner.                                                                                                        \u001b[34m│\u001b[0m\n",
       "\u001b[34m│\u001b[0m  - Use bullet points or numbered lists if appropriate for clarity. Make sure that this uses markdown            \u001b[34m│\u001b[0m\n",
       "\u001b[34m│\u001b[0m  formatting and will be rendered correctly if the string output is passed to a markdown renderer.               \u001b[34m│\u001b[0m\n",
       "\u001b[34m│\u001b[0m  - Don't ask for unnecessary information, or information that the user has already provided. If you can see     \u001b[34m│\u001b[0m\n",
       "\u001b[34m│\u001b[0m  that the user has already provided the information, do not ask for it again.                                   \u001b[34m│\u001b[0m\n",
       "\u001b[34m│\u001b[0m                                                                                                                 \u001b[34m│\u001b[0m\n",
       "\u001b[34m│\u001b[0m  Respond in valid JSON format with these exact keys:                                                            \u001b[34m│\u001b[0m\n",
       "\u001b[34m│\u001b[0m  \"need_clarification\": boolean,                                                                                 \u001b[34m│\u001b[0m\n",
       "\u001b[34m│\u001b[0m  \"question\": \"\u001b[1;34m<question to ask the user to clarify the report scope>\u001b[0m\",                                          \u001b[34m│\u001b[0m\n",
       "\u001b[34m│\u001b[0m  \"verification\": \"\u001b[1;34m<verification message that we will start research>\u001b[0m\"                                           \u001b[34m│\u001b[0m\n",
       "\u001b[34m│\u001b[0m                                                                                                                 \u001b[34m│\u001b[0m\n",
       "\u001b[34m│\u001b[0m  If you need to ask a clarifying question, return:                                                              \u001b[34m│\u001b[0m\n",
       "\u001b[34m│\u001b[0m  \"need_clarification\": true,                                                                                    \u001b[34m│\u001b[0m\n",
       "\u001b[34m│\u001b[0m  \"question\": \"\u001b[1;34m<your clarifying question>\u001b[0m\",                                                                      \u001b[34m│\u001b[0m\n",
       "\u001b[34m│\u001b[0m  \"verification\": \"\"                                                                                             \u001b[34m│\u001b[0m\n",
       "\u001b[34m│\u001b[0m                                                                                                                 \u001b[34m│\u001b[0m\n",
       "\u001b[34m│\u001b[0m  If you do not need to ask a clarifying question, return:                                                       \u001b[34m│\u001b[0m\n",
       "\u001b[34m│\u001b[0m  \"need_clarification\": false,                                                                                   \u001b[34m│\u001b[0m\n",
       "\u001b[34m│\u001b[0m  \"question\": \"\",                                                                                                \u001b[34m│\u001b[0m\n",
       "\u001b[34m│\u001b[0m  \"verification\": \"\u001b[1;34m<acknowledgement message that you will now start research based on the provided \u001b[0m              \u001b[34m│\u001b[0m\n",
       "\u001b[34m│\u001b[0m  \u001b[1;34minformation>\u001b[0m\"                                                                                                  \u001b[34m│\u001b[0m\n",
       "\u001b[34m│\u001b[0m                                                                                                                 \u001b[34m│\u001b[0m\n",
       "\u001b[34m│\u001b[0m  For the verification message when no clarification is needed:                                                  \u001b[34m│\u001b[0m\n",
       "\u001b[34m│\u001b[0m  - Acknowledge that you have sufficient information to proceed                                                  \u001b[34m│\u001b[0m\n",
       "\u001b[34m│\u001b[0m  - Briefly summarize the key aspects of what you understand from their request                                  \u001b[34m│\u001b[0m\n",
       "\u001b[34m│\u001b[0m  - Confirm that you will now begin the research process                                                         \u001b[34m│\u001b[0m\n",
       "\u001b[34m│\u001b[0m  - Keep the message concise and professional                                                                    \u001b[34m│\u001b[0m\n",
       "\u001b[34m│\u001b[0m                                                                                                                 \u001b[34m│\u001b[0m\n",
       "\u001b[34m│\u001b[0m                                                                                                                 \u001b[34m│\u001b[0m\n",
       "\u001b[34m╰─────────────────────────────────────────────────────────────────────────────────────────────────────────────────╯\u001b[0m\n"
      ]
     },
     "metadata": {},
     "output_type": "display_data"
    }
   ],
   "source": [
    "# Show the clarify prompt (kept as-is)\n",
    "show_prompt(clarify_with_user_instructions, \"Clarify with User Instructions\")"
   ]
  },
  {
   "cell_type": "code",
   "execution_count": 6,
   "id": "cb2a327e",
   "metadata": {},
   "outputs": [],
   "source": [
    "# ===== STATE & SCHEMAS =====\n",
    "class AgentInputState(MessagesState):\n",
    "    \"\"\"Input state for the full agent- only contain messages from the user input \"\"\"\n",
    "    pass\n",
    "\n",
    "class AgentState(MessagesState):\n",
    "    \"\"\"Main state for the full multiagent reasearch system.\n",
    "    Extenends MessagesState with additional fields for reearch coordination.\n",
    "    Note:some fileds are duplicated accorss different state classess for proper\n",
    "    state managemebt between subhraph and main workflow\"\"\"\n",
    "    \n",
    "    research_brief: Optional[str]\n",
    "    supervisor_messages: Annotated[Sequence[BaseMessage], add_messages]\n",
    "    raw_notes: Annotated[list[str], operator.add] = []\n",
    "    notes: Annotated[list[str], operator.add] = []\n",
    "    final_report: str\n",
    "\n",
    "class ClarifyWithUser(BaseModel):\n",
    "    \"\"\"Schema for user clarification decision and questions.\"\"\"\n",
    "    \n",
    "    need_clarification: bool = Field(\n",
    "        description=\"Whether the user needs to be asked a clarifying question.\",\n",
    "    )\n",
    "    question: str = Field(\n",
    "        description=\"A question to ask the user to clarify the report scope\",\n",
    "    )\n",
    "    verification: str = Field(\n",
    "        description=\"Verify message that we will start research after the user has provided the necessary information.\",\n",
    "    )\n",
    "\n",
    "class ResearchQuestion(BaseModel):\n",
    "    \"\"\"Schema for structured research brief generation.\"\"\"\n",
    "    \n",
    "    research_brief: str = Field(\n",
    "        description=\"A research question that will be used to guide the research.\",\n",
    "    ) "
   ]
  },
  {
   "cell_type": "code",
   "execution_count": 7,
   "id": "30f1d1b2",
   "metadata": {},
   "outputs": [],
   "source": [
    "# ===== UTILITY FUNCTIONS =====\n",
    "from datetime import datetime\n",
    "\n",
    "def get_today_str() -> str:\n",
    "    \"\"\"Get current date in a human-readable format, cross-platform.\"\"\"\n",
    "    dt = datetime.now()\n",
    "    # Build the string manually so day has no leading zero on all OSes\n",
    "    return f\"{dt.strftime('%a %b')} {dt.day}, {dt.strftime('%Y')}\""
   ]
  },
  {
   "cell_type": "code",
   "execution_count": 8,
   "id": "9f7619a6",
   "metadata": {},
   "outputs": [],
   "source": [
    "# ===== WORKFLOW NODES =====\n",
    "def clarify_with_user(state: AgentState) -> Command[Literal[\"write_research_brief\", \"__end__\"]]:\n",
    "    \"\"\"\n",
    "    Determine if the user's request contains sufficient information to proceed with research.\n",
    "    \n",
    "    Uses structured output to make deterministic decisions and avoid hallucination.\n",
    "    Routes to either research brief generation or ends with a clarification question.\n",
    "    \"\"\"\n",
    "    # Set up structured output model\n",
    "    structured_output_model = model.with_structured_output(ClarifyWithUser)\n",
    "\n",
    "    # Invoke the model with clarification instructions\n",
    "    response = structured_output_model.invoke([\n",
    "        HumanMessage(content=clarify_with_user_instructions.format(\n",
    "            messages=get_buffer_string(messages=state[\"messages\"]), \n",
    "            date=get_today_str()\n",
    "        ))\n",
    "    ])\n",
    "    \n",
    "    # Route based on clarification need\n",
    "    if response.need_clarification:\n",
    "        return Command(\n",
    "            goto=END, \n",
    "            update={\"messages\": [AIMessage(content=response.question)]}\n",
    "        )\n",
    "    else:\n",
    "        return Command(\n",
    "            goto=\"write_research_brief\", \n",
    "            update={\"messages\": [AIMessage(content=response.verification)]}\n",
    "        )\n",
    "        \n",
    "# Function for saving the research brief        \n",
    "def save_research_brief(brief: str, folder: str = \"outputs\"):\n",
    "    \"\"\"Save the research brief to a timestamped .md file.\"\"\"\n",
    "    os.makedirs(folder, exist_ok=True)\n",
    "    timestamp = datetime.now().strftime(\"%Y%m%d_%H%M%S\")\n",
    "    filename = os.path.join(folder, f\"research_brief_{timestamp}.md\")\n",
    "    with open(filename, \"w\", encoding=\"utf-8\") as f:\n",
    "        f.write(brief)\n",
    "    print(f\"✅ Research brief saved to {filename}\")\n",
    "   \n",
    "# Function for summerize conversation \n",
    "def summarize_conversation(state: AgentState):\n",
    "    \"\"\"\n",
    "    Summarize the user conversation into key points before creating a research brief.\n",
    "    \"\"\"\n",
    "    summary_prompt = f\"\"\"\n",
    "    Summarize the following conversation into the key requirements\n",
    "    and preferences stated by the user:\n",
    "\n",
    "    {get_buffer_string(state.get(\"messages\", []))}\n",
    "    \"\"\"\n",
    "    \n",
    "    response = model.invoke([HumanMessage(content=summary_prompt)])\n",
    "    \n",
    "    return {\"notes\": [response.content]}\n",
    "    \n",
    "def write_research_brief(state: AgentState):\n",
    "    \"\"\"\n",
    "    Transform the conversation history into a comprehensive research brief.\n",
    "    \n",
    "    Uses structured output to ensure the brief follows the required format\n",
    "    and contains all necessary details for effective research.\n",
    "    \"\"\"\n",
    "    # Set up structured output model\n",
    "    structured_output_model = model.with_structured_output(ResearchQuestion)\n",
    "    \n",
    "    # Generate research brief from conversation history\n",
    "    response = structured_output_model.invoke([\n",
    "        HumanMessage(content=transform_messages_into_research_topic_prompt.format(\n",
    "            messages=get_buffer_string(state.get(\"messages\", [])),\n",
    "            date=get_today_str()\n",
    "        ))\n",
    "    ])\n",
    "    # Save the research brief\n",
    "    save_research_brief(response.research_brief)\n",
    "        \n",
    "    # Update state with generated research brief and pass it to the supervisor\n",
    "    return {\n",
    "        \"research_brief\": response.research_brief,\n",
    "        \"supervisor_messages\": [HumanMessage(content=f\"{response.research_brief}.\")]\n",
    "    }"
   ]
  },
  {
   "cell_type": "code",
   "execution_count": 9,
   "id": "6e13b5d9",
   "metadata": {},
   "outputs": [],
   "source": [
    "# ===== GRAPH CONSTRUCTION =====\n",
    "deep_researcher_builder = StateGraph(AgentState, input_schema=AgentInputState)\n",
    "\n",
    "# Add workflow nodes\n",
    "deep_researcher_builder.add_node(\"clarify_with_user\", clarify_with_user)\n",
    "deep_researcher_builder.add_node(\"summarize_conversation\", summarize_conversation)\n",
    "deep_researcher_builder.add_node(\"write_research_brief\", write_research_brief)\n",
    "\n",
    "# Add workflow edges\n",
    "deep_researcher_builder.add_edge(START, \"clarify_with_user\")\n",
    "deep_researcher_builder.add_edge(\"clarify_with_user\", \"summarize_conversation\")\n",
    "deep_researcher_builder.add_edge(\"summarize_conversation\", \"write_research_brief\")\n",
    "deep_researcher_builder.add_edge(\"write_research_brief\", END)\n",
    "\n",
    "# Compile the workflow\n",
    "scope_research = deep_researcher_builder.compile()"
   ]
  },
  {
   "cell_type": "code",
   "execution_count": 10,
   "id": "6b896fb7",
   "metadata": {},
   "outputs": [
    {
     "data": {
      "image/png": "[encoded data removed]",
      "text/plain": [
       "<IPython.core.display.Image object>"
      ]
     },
     "metadata": {},
     "output_type": "display_data"
    }
   ],
   "source": [
    "# ===== EXECUTION / DEMO =====\n",
    "checkpointer = InMemorySaver()\n",
    "scope = deep_researcher_builder.compile(checkpointer=checkpointer)\n",
    "display(Image(scope.get_graph(xray=True).draw_mermaid_png()))"
   ]
  },
  {
   "cell_type": "code",
   "execution_count": 14,
   "id": "cada01a7",
   "metadata": {},
   "outputs": [
    {
     "name": "stdout",
     "output_type": "stream",
     "text": [
      "✅ Research brief saved to outputs\\research_brief_20250909_204515.md\n"
     ]
    },
    {
     "data": {
      "text/html": [
       "<pre style=\"white-space:pre;overflow-x:auto;line-height:normal;font-family:Menlo,'DejaVu Sans Mono',consolas,'Courier New',monospace\"><span style=\"color: #000080; text-decoration-color: #000080\">╭─────────────────────────────────────────────────── 🧑 Human ────────────────────────────────────────────────────╮</span>\n",
       "<span style=\"color: #000080; text-decoration-color: #000080\">│</span> I want to research about the best vegan protien source available in India.                                      <span style=\"color: #000080; text-decoration-color: #000080\">│</span>\n",
       "<span style=\"color: #000080; text-decoration-color: #000080\">╰─────────────────────────────────────────────────────────────────────────────────────────────────────────────────╯</span>\n",
       "</pre>\n"
      ],
      "text/plain": [
       "\u001b[34m╭─\u001b[0m\u001b[34m──────────────────────────────────────────────────\u001b[0m\u001b[34m 🧑 Human \u001b[0m\u001b[34m───────────────────────────────────────────────────\u001b[0m\u001b[34m─╮\u001b[0m\n",
       "\u001b[34m│\u001b[0m I want to research about the best vegan protien source available in India.                                      \u001b[34m│\u001b[0m\n",
       "\u001b[34m╰─────────────────────────────────────────────────────────────────────────────────────────────────────────────────╯\u001b[0m\n"
      ]
     },
     "metadata": {},
     "output_type": "display_data"
    },
    {
     "data": {
      "text/html": [
       "<pre style=\"white-space:pre;overflow-x:auto;line-height:normal;font-family:Menlo,'DejaVu Sans Mono',consolas,'Courier New',monospace\"><span style=\"color: #c0c0c0; text-decoration-color: #c0c0c0\">╭───────────────────────────────────────────────────── 📝 AI ─────────────────────────────────────────────────────╮</span>\n",
       "<span style=\"color: #c0c0c0; text-decoration-color: #c0c0c0\">│</span> Thank you for providing the details. I will now research the best vegan protein sources available in India.     <span style=\"color: #c0c0c0; text-decoration-color: #c0c0c0\">│</span>\n",
       "<span style=\"color: #c0c0c0; text-decoration-color: #c0c0c0\">╰─────────────────────────────────────────────────────────────────────────────────────────────────────────────────╯</span>\n",
       "</pre>\n"
      ],
      "text/plain": [
       "\u001b[37m╭─\u001b[0m\u001b[37m────────────────────────────────────────────────────\u001b[0m\u001b[37m 📝 AI \u001b[0m\u001b[37m────────────────────────────────────────────────────\u001b[0m\u001b[37m─╮\u001b[0m\n",
       "\u001b[37m│\u001b[0m Thank you for providing the details. I will now research the best vegan protein sources available in India.     \u001b[37m│\u001b[0m\n",
       "\u001b[37m╰─────────────────────────────────────────────────────────────────────────────────────────────────────────────────╯\u001b[0m\n"
      ]
     },
     "metadata": {},
     "output_type": "display_data"
    },
    {
     "data": {
      "text/html": [
       "<pre style=\"white-space:pre;overflow-x:auto;line-height:normal;font-family:Menlo,'DejaVu Sans Mono',consolas,'Courier New',monospace\"><span style=\"color: #000080; text-decoration-color: #000080\">╭─────────────────────────────────────────────────── 🧑 Human ────────────────────────────────────────────────────╮</span>\n",
       "<span style=\"color: #000080; text-decoration-color: #000080\">│</span> Let's examine vegan food quality to assess the best vegan protein source in India.                              <span style=\"color: #000080; text-decoration-color: #000080\">│</span>\n",
       "<span style=\"color: #000080; text-decoration-color: #000080\">╰─────────────────────────────────────────────────────────────────────────────────────────────────────────────────╯</span>\n",
       "</pre>\n"
      ],
      "text/plain": [
       "\u001b[34m╭─\u001b[0m\u001b[34m──────────────────────────────────────────────────\u001b[0m\u001b[34m 🧑 Human \u001b[0m\u001b[34m───────────────────────────────────────────────────\u001b[0m\u001b[34m─╮\u001b[0m\n",
       "\u001b[34m│\u001b[0m Let's examine vegan food quality to assess the best vegan protein source in India.                              \u001b[34m│\u001b[0m\n",
       "\u001b[34m╰─────────────────────────────────────────────────────────────────────────────────────────────────────────────────╯\u001b[0m\n"
      ]
     },
     "metadata": {},
     "output_type": "display_data"
    },
    {
     "data": {
      "text/html": [
       "<pre style=\"white-space:pre;overflow-x:auto;line-height:normal;font-family:Menlo,'DejaVu Sans Mono',consolas,'Courier New',monospace\"><span style=\"color: #c0c0c0; text-decoration-color: #c0c0c0\">╭───────────────────────────────────────────────────── 📝 AI ─────────────────────────────────────────────────────╮</span>\n",
       "<span style=\"color: #c0c0c0; text-decoration-color: #c0c0c0\">│</span> Thank you for the clarification. I have sufficient information to proceed with researching the best vegan       <span style=\"color: #c0c0c0; text-decoration-color: #c0c0c0\">│</span>\n",
       "<span style=\"color: #c0c0c0; text-decoration-color: #c0c0c0\">│</span> protein sources in India, considering food quality. I will now begin the research.                              <span style=\"color: #c0c0c0; text-decoration-color: #c0c0c0\">│</span>\n",
       "<span style=\"color: #c0c0c0; text-decoration-color: #c0c0c0\">╰─────────────────────────────────────────────────────────────────────────────────────────────────────────────────╯</span>\n",
       "</pre>\n"
      ],
      "text/plain": [
       "\u001b[37m╭─\u001b[0m\u001b[37m────────────────────────────────────────────────────\u001b[0m\u001b[37m 📝 AI \u001b[0m\u001b[37m────────────────────────────────────────────────────\u001b[0m\u001b[37m─╮\u001b[0m\n",
       "\u001b[37m│\u001b[0m Thank you for the clarification. I have sufficient information to proceed with researching the best vegan       \u001b[37m│\u001b[0m\n",
       "\u001b[37m│\u001b[0m protein sources in India, considering food quality. I will now begin the research.                              \u001b[37m│\u001b[0m\n",
       "\u001b[37m╰─────────────────────────────────────────────────────────────────────────────────────────────────────────────────╯\u001b[0m\n"
      ]
     },
     "metadata": {},
     "output_type": "display_data"
    },
    {
     "data": {
      "text/html": [
       "<pre style=\"white-space:pre;overflow-x:auto;line-height:normal;font-family:Menlo,'DejaVu Sans Mono',consolas,'Courier New',monospace\"><span style=\"color: #000080; text-decoration-color: #000080\">╭─────────────────────────────────────────────────── 🧑 Human ────────────────────────────────────────────────────╮</span>\n",
       "<span style=\"color: #000080; text-decoration-color: #000080\">│</span> I want to research about the best book available in India.                                                      <span style=\"color: #000080; text-decoration-color: #000080\">│</span>\n",
       "<span style=\"color: #000080; text-decoration-color: #000080\">╰─────────────────────────────────────────────────────────────────────────────────────────────────────────────────╯</span>\n",
       "</pre>\n"
      ],
      "text/plain": [
       "\u001b[34m╭─\u001b[0m\u001b[34m──────────────────────────────────────────────────\u001b[0m\u001b[34m 🧑 Human \u001b[0m\u001b[34m───────────────────────────────────────────────────\u001b[0m\u001b[34m─╮\u001b[0m\n",
       "\u001b[34m│\u001b[0m I want to research about the best book available in India.                                                      \u001b[34m│\u001b[0m\n",
       "\u001b[34m╰─────────────────────────────────────────────────────────────────────────────────────────────────────────────────╯\u001b[0m\n"
      ]
     },
     "metadata": {},
     "output_type": "display_data"
    },
    {
     "data": {
      "text/html": [
       "<pre style=\"white-space:pre;overflow-x:auto;line-height:normal;font-family:Menlo,'DejaVu Sans Mono',consolas,'Courier New',monospace\"><span style=\"color: #c0c0c0; text-decoration-color: #c0c0c0\">╭───────────────────────────────────────────────────── 📝 AI ─────────────────────────────────────────────────────╮</span>\n",
       "<span style=\"color: #c0c0c0; text-decoration-color: #c0c0c0\">│</span> Could you please specify what kind of book you are interested in? For example, are you looking for fiction,     <span style=\"color: #c0c0c0; text-decoration-color: #c0c0c0\">│</span>\n",
       "<span style=\"color: #c0c0c0; text-decoration-color: #c0c0c0\">│</span> non-fiction, a specific genre, or something else?                                                               <span style=\"color: #c0c0c0; text-decoration-color: #c0c0c0\">│</span>\n",
       "<span style=\"color: #c0c0c0; text-decoration-color: #c0c0c0\">╰─────────────────────────────────────────────────────────────────────────────────────────────────────────────────╯</span>\n",
       "</pre>\n"
      ],
      "text/plain": [
       "\u001b[37m╭─\u001b[0m\u001b[37m────────────────────────────────────────────────────\u001b[0m\u001b[37m 📝 AI \u001b[0m\u001b[37m────────────────────────────────────────────────────\u001b[0m\u001b[37m─╮\u001b[0m\n",
       "\u001b[37m│\u001b[0m Could you please specify what kind of book you are interested in? For example, are you looking for fiction,     \u001b[37m│\u001b[0m\n",
       "\u001b[37m│\u001b[0m non-fiction, a specific genre, or something else?                                                               \u001b[37m│\u001b[0m\n",
       "\u001b[37m╰─────────────────────────────────────────────────────────────────────────────────────────────────────────────────╯\u001b[0m\n"
      ]
     },
     "metadata": {},
     "output_type": "display_data"
    }
   ],
   "source": [
    "thread = {\"configurable\": {\"thread_id\": \"1\"}}\n",
    "result = scope.invoke({\"messages\": [HumanMessage(content=\"I want to research about the best book available in India.\")]}, config=thread)\n",
    "format_messages(result['messages'])"
   ]
  },
  {
   "cell_type": "code",
   "execution_count": 15,
   "id": "9f942e11",
   "metadata": {},
   "outputs": [
    {
     "name": "stdout",
     "output_type": "stream",
     "text": [
      "✅ Research brief saved to outputs\\research_brief_20250909_204625.md\n",
      "✅ Research brief saved to outputs\\research_brief_20250909_204627.md\n"
     ]
    },
    {
     "data": {
      "text/html": [
       "<pre style=\"white-space:pre;overflow-x:auto;line-height:normal;font-family:Menlo,'DejaVu Sans Mono',consolas,'Courier New',monospace\"><span style=\"color: #000080; text-decoration-color: #000080\">╭─────────────────────────────────────────────────── 🧑 Human ────────────────────────────────────────────────────╮</span>\n",
       "<span style=\"color: #000080; text-decoration-color: #000080\">│</span> I want to research about the best vegan protien source available in India.                                      <span style=\"color: #000080; text-decoration-color: #000080\">│</span>\n",
       "<span style=\"color: #000080; text-decoration-color: #000080\">╰─────────────────────────────────────────────────────────────────────────────────────────────────────────────────╯</span>\n",
       "</pre>\n"
      ],
      "text/plain": [
       "\u001b[34m╭─\u001b[0m\u001b[34m──────────────────────────────────────────────────\u001b[0m\u001b[34m 🧑 Human \u001b[0m\u001b[34m───────────────────────────────────────────────────\u001b[0m\u001b[34m─╮\u001b[0m\n",
       "\u001b[34m│\u001b[0m I want to research about the best vegan protien source available in India.                                      \u001b[34m│\u001b[0m\n",
       "\u001b[34m╰─────────────────────────────────────────────────────────────────────────────────────────────────────────────────╯\u001b[0m\n"
      ]
     },
     "metadata": {},
     "output_type": "display_data"
    },
    {
     "data": {
      "text/html": [
       "<pre style=\"white-space:pre;overflow-x:auto;line-height:normal;font-family:Menlo,'DejaVu Sans Mono',consolas,'Courier New',monospace\"><span style=\"color: #c0c0c0; text-decoration-color: #c0c0c0\">╭───────────────────────────────────────────────────── 📝 AI ─────────────────────────────────────────────────────╮</span>\n",
       "<span style=\"color: #c0c0c0; text-decoration-color: #c0c0c0\">│</span> Thank you for providing the details. I will now research the best vegan protein sources available in India.     <span style=\"color: #c0c0c0; text-decoration-color: #c0c0c0\">│</span>\n",
       "<span style=\"color: #c0c0c0; text-decoration-color: #c0c0c0\">╰─────────────────────────────────────────────────────────────────────────────────────────────────────────────────╯</span>\n",
       "</pre>\n"
      ],
      "text/plain": [
       "\u001b[37m╭─\u001b[0m\u001b[37m────────────────────────────────────────────────────\u001b[0m\u001b[37m 📝 AI \u001b[0m\u001b[37m────────────────────────────────────────────────────\u001b[0m\u001b[37m─╮\u001b[0m\n",
       "\u001b[37m│\u001b[0m Thank you for providing the details. I will now research the best vegan protein sources available in India.     \u001b[37m│\u001b[0m\n",
       "\u001b[37m╰─────────────────────────────────────────────────────────────────────────────────────────────────────────────────╯\u001b[0m\n"
      ]
     },
     "metadata": {},
     "output_type": "display_data"
    },
    {
     "data": {
      "text/html": [
       "<pre style=\"white-space:pre;overflow-x:auto;line-height:normal;font-family:Menlo,'DejaVu Sans Mono',consolas,'Courier New',monospace\"><span style=\"color: #000080; text-decoration-color: #000080\">╭─────────────────────────────────────────────────── 🧑 Human ────────────────────────────────────────────────────╮</span>\n",
       "<span style=\"color: #000080; text-decoration-color: #000080\">│</span> Let's examine vegan food quality to assess the best vegan protein source in India.                              <span style=\"color: #000080; text-decoration-color: #000080\">│</span>\n",
       "<span style=\"color: #000080; text-decoration-color: #000080\">╰─────────────────────────────────────────────────────────────────────────────────────────────────────────────────╯</span>\n",
       "</pre>\n"
      ],
      "text/plain": [
       "\u001b[34m╭─\u001b[0m\u001b[34m──────────────────────────────────────────────────\u001b[0m\u001b[34m 🧑 Human \u001b[0m\u001b[34m───────────────────────────────────────────────────\u001b[0m\u001b[34m─╮\u001b[0m\n",
       "\u001b[34m│\u001b[0m Let's examine vegan food quality to assess the best vegan protein source in India.                              \u001b[34m│\u001b[0m\n",
       "\u001b[34m╰─────────────────────────────────────────────────────────────────────────────────────────────────────────────────╯\u001b[0m\n"
      ]
     },
     "metadata": {},
     "output_type": "display_data"
    },
    {
     "data": {
      "text/html": [
       "<pre style=\"white-space:pre;overflow-x:auto;line-height:normal;font-family:Menlo,'DejaVu Sans Mono',consolas,'Courier New',monospace\"><span style=\"color: #c0c0c0; text-decoration-color: #c0c0c0\">╭───────────────────────────────────────────────────── 📝 AI ─────────────────────────────────────────────────────╮</span>\n",
       "<span style=\"color: #c0c0c0; text-decoration-color: #c0c0c0\">│</span> Thank you for the clarification. I have sufficient information to proceed with researching the best vegan       <span style=\"color: #c0c0c0; text-decoration-color: #c0c0c0\">│</span>\n",
       "<span style=\"color: #c0c0c0; text-decoration-color: #c0c0c0\">│</span> protein sources in India, considering food quality. I will now begin the research.                              <span style=\"color: #c0c0c0; text-decoration-color: #c0c0c0\">│</span>\n",
       "<span style=\"color: #c0c0c0; text-decoration-color: #c0c0c0\">╰─────────────────────────────────────────────────────────────────────────────────────────────────────────────────╯</span>\n",
       "</pre>\n"
      ],
      "text/plain": [
       "\u001b[37m╭─\u001b[0m\u001b[37m────────────────────────────────────────────────────\u001b[0m\u001b[37m 📝 AI \u001b[0m\u001b[37m────────────────────────────────────────────────────\u001b[0m\u001b[37m─╮\u001b[0m\n",
       "\u001b[37m│\u001b[0m Thank you for the clarification. I have sufficient information to proceed with researching the best vegan       \u001b[37m│\u001b[0m\n",
       "\u001b[37m│\u001b[0m protein sources in India, considering food quality. I will now begin the research.                              \u001b[37m│\u001b[0m\n",
       "\u001b[37m╰─────────────────────────────────────────────────────────────────────────────────────────────────────────────────╯\u001b[0m\n"
      ]
     },
     "metadata": {},
     "output_type": "display_data"
    },
    {
     "data": {
      "text/html": [
       "<pre style=\"white-space:pre;overflow-x:auto;line-height:normal;font-family:Menlo,'DejaVu Sans Mono',consolas,'Courier New',monospace\"><span style=\"color: #000080; text-decoration-color: #000080\">╭─────────────────────────────────────────────────── 🧑 Human ────────────────────────────────────────────────────╮</span>\n",
       "<span style=\"color: #000080; text-decoration-color: #000080\">│</span> I want to research about the best book available in India.                                                      <span style=\"color: #000080; text-decoration-color: #000080\">│</span>\n",
       "<span style=\"color: #000080; text-decoration-color: #000080\">╰─────────────────────────────────────────────────────────────────────────────────────────────────────────────────╯</span>\n",
       "</pre>\n"
      ],
      "text/plain": [
       "\u001b[34m╭─\u001b[0m\u001b[34m──────────────────────────────────────────────────\u001b[0m\u001b[34m 🧑 Human \u001b[0m\u001b[34m───────────────────────────────────────────────────\u001b[0m\u001b[34m─╮\u001b[0m\n",
       "\u001b[34m│\u001b[0m I want to research about the best book available in India.                                                      \u001b[34m│\u001b[0m\n",
       "\u001b[34m╰─────────────────────────────────────────────────────────────────────────────────────────────────────────────────╯\u001b[0m\n"
      ]
     },
     "metadata": {},
     "output_type": "display_data"
    },
    {
     "data": {
      "text/html": [
       "<pre style=\"white-space:pre;overflow-x:auto;line-height:normal;font-family:Menlo,'DejaVu Sans Mono',consolas,'Courier New',monospace\"><span style=\"color: #c0c0c0; text-decoration-color: #c0c0c0\">╭───────────────────────────────────────────────────── 📝 AI ─────────────────────────────────────────────────────╮</span>\n",
       "<span style=\"color: #c0c0c0; text-decoration-color: #c0c0c0\">│</span> Could you please specify what kind of book you are interested in? For example, are you looking for fiction,     <span style=\"color: #c0c0c0; text-decoration-color: #c0c0c0\">│</span>\n",
       "<span style=\"color: #c0c0c0; text-decoration-color: #c0c0c0\">│</span> non-fiction, a specific genre, or something else?                                                               <span style=\"color: #c0c0c0; text-decoration-color: #c0c0c0\">│</span>\n",
       "<span style=\"color: #c0c0c0; text-decoration-color: #c0c0c0\">╰─────────────────────────────────────────────────────────────────────────────────────────────────────────────────╯</span>\n",
       "</pre>\n"
      ],
      "text/plain": [
       "\u001b[37m╭─\u001b[0m\u001b[37m────────────────────────────────────────────────────\u001b[0m\u001b[37m 📝 AI \u001b[0m\u001b[37m────────────────────────────────────────────────────\u001b[0m\u001b[37m─╮\u001b[0m\n",
       "\u001b[37m│\u001b[0m Could you please specify what kind of book you are interested in? For example, are you looking for fiction,     \u001b[37m│\u001b[0m\n",
       "\u001b[37m│\u001b[0m non-fiction, a specific genre, or something else?                                                               \u001b[37m│\u001b[0m\n",
       "\u001b[37m╰─────────────────────────────────────────────────────────────────────────────────────────────────────────────────╯\u001b[0m\n"
      ]
     },
     "metadata": {},
     "output_type": "display_data"
    },
    {
     "data": {
      "text/html": [
       "<pre style=\"white-space:pre;overflow-x:auto;line-height:normal;font-family:Menlo,'DejaVu Sans Mono',consolas,'Courier New',monospace\"><span style=\"color: #000080; text-decoration-color: #000080\">╭─────────────────────────────────────────────────── 🧑 Human ────────────────────────────────────────────────────╮</span>\n",
       "<span style=\"color: #000080; text-decoration-color: #000080\">│</span> Let's examine book content about spirituality and astronomical science in India.                                <span style=\"color: #000080; text-decoration-color: #000080\">│</span>\n",
       "<span style=\"color: #000080; text-decoration-color: #000080\">╰─────────────────────────────────────────────────────────────────────────────────────────────────────────────────╯</span>\n",
       "</pre>\n"
      ],
      "text/plain": [
       "\u001b[34m╭─\u001b[0m\u001b[34m──────────────────────────────────────────────────\u001b[0m\u001b[34m 🧑 Human \u001b[0m\u001b[34m───────────────────────────────────────────────────\u001b[0m\u001b[34m─╮\u001b[0m\n",
       "\u001b[34m│\u001b[0m Let's examine book content about spirituality and astronomical science in India.                                \u001b[34m│\u001b[0m\n",
       "\u001b[34m╰─────────────────────────────────────────────────────────────────────────────────────────────────────────────────╯\u001b[0m\n"
      ]
     },
     "metadata": {},
     "output_type": "display_data"
    },
    {
     "data": {
      "text/html": [
       "<pre style=\"white-space:pre;overflow-x:auto;line-height:normal;font-family:Menlo,'DejaVu Sans Mono',consolas,'Courier New',monospace\"><span style=\"color: #c0c0c0; text-decoration-color: #c0c0c0\">╭───────────────────────────────────────────────────── 📝 AI ─────────────────────────────────────────────────────╮</span>\n",
       "<span style=\"color: #c0c0c0; text-decoration-color: #c0c0c0\">│</span> Thank you for providing the details. I have sufficient information to proceed with researching the best books   <span style=\"color: #c0c0c0; text-decoration-color: #c0c0c0\">│</span>\n",
       "<span style=\"color: #c0c0c0; text-decoration-color: #c0c0c0\">│</span> on spirituality and astronomical science available in India. I will now begin the research.                     <span style=\"color: #c0c0c0; text-decoration-color: #c0c0c0\">│</span>\n",
       "<span style=\"color: #c0c0c0; text-decoration-color: #c0c0c0\">╰─────────────────────────────────────────────────────────────────────────────────────────────────────────────────╯</span>\n",
       "</pre>\n"
      ],
      "text/plain": [
       "\u001b[37m╭─\u001b[0m\u001b[37m────────────────────────────────────────────────────\u001b[0m\u001b[37m 📝 AI \u001b[0m\u001b[37m────────────────────────────────────────────────────\u001b[0m\u001b[37m─╮\u001b[0m\n",
       "\u001b[37m│\u001b[0m Thank you for providing the details. I have sufficient information to proceed with researching the best books   \u001b[37m│\u001b[0m\n",
       "\u001b[37m│\u001b[0m on spirituality and astronomical science available in India. I will now begin the research.                     \u001b[37m│\u001b[0m\n",
       "\u001b[37m╰─────────────────────────────────────────────────────────────────────────────────────────────────────────────────╯\u001b[0m\n"
      ]
     },
     "metadata": {},
     "output_type": "display_data"
    }
   ],
   "source": [
    "result = scope.invoke({\"messages\": [HumanMessage(content=\"Let's examine book content about spirituality and astronomical science in India.\")]}, config=thread)\n",
    "format_messages(result['messages'])"
   ]
  },
  {
   "cell_type": "code",
   "execution_count": 16,
   "id": "7d9f6a6f",
   "metadata": {},
   "outputs": [
    {
     "data": {
      "text/html": [
       "<pre style=\"white-space:pre;overflow-x:auto;line-height:normal;font-family:Menlo,'DejaVu Sans Mono',consolas,'Courier New',monospace\">What are the highest-rated books on spirituality and astronomical science available in India, considering the      \n",
       "content and quality of information presented?                                                                      \n",
       "</pre>\n"
      ],
      "text/plain": [
       "What are the highest-rated books on spirituality and astronomical science available in India, considering the      \n",
       "content and quality of information presented?                                                                      \n"
      ]
     },
     "execution_count": 16,
     "metadata": {},
     "output_type": "execute_result"
    }
   ],
   "source": [
    "Markdown(result[\"research_brief\"])"
   ]
  },
  {
   "cell_type": "code",
   "execution_count": null,
   "id": "a1d263ec-b6f8-432e-b45a-fb08f091c7eb",
   "metadata": {},
   "outputs": [],
   "source": []
  }
 ],
 "metadata": {
  "kernelspec": {
   "display_name": "Python [conda env:base] *",
   "language": "python",
   "name": "conda-base-py"
  },
  "language_info": {
   "codemirror_mode": {
    "name": "ipython",
    "version": 3
   },
   "file_extension": ".py",
   "mimetype": "text/x-python",
   "name": "python",
   "nbconvert_exporter": "python",
   "pygments_lexer": "ipython3",
   "version": "3.12.7"
  }
 },
 "nbformat": 4,
 "nbformat_minor": 5
}
