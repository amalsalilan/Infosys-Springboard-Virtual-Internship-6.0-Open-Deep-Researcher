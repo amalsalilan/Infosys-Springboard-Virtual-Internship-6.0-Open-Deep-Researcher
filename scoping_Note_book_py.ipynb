{
  "nbformat": 4,
  "nbformat_minor": 0,
  "metadata": {
    "colab": {
      "provenance": []
    },
    "kernelspec": {
      "name": "python3",
      "display_name": "Python 3"
    },
    "language_info": {
      "name": "python"
    }
  },
  "cells": [
    {
      "cell_type": "code",
      "execution_count": null,
      "metadata": {
        "id": "fPwYWb5aaQhD"
      },
      "outputs": [],
      "source": [
        "!pip install langgraph langchain-core langchain typing_extensions pydantic rich google-generativeai graphviz langchain-google-genai\n"
      ]
    },
    {
      "cell_type": "code",
      "source": [
        "!pip install google-genai"
      ],
      "metadata": {
        "id": "PuhYQfsVacuL"
      },
      "execution_count": null,
      "outputs": []
    },
    {
      "cell_type": "code",
      "source": [
        "# Imports & Setup\n",
        "import os, json, operator, getpass\n",
        "from datetime import datetime\n",
        "from typing_extensions import Optional, Annotated, Sequence, Literal\n",
        "from pydantic import BaseModel, Field\n",
        "\n",
        "from rich.console import Console\n",
        "from rich.panel import Panel\n",
        "from rich.text import Text\n",
        "from rich.markdown import Markdown\n",
        "\n",
        "console = Console()\n",
        "\n",
        "from langchain_core.messages import BaseMessage, HumanMessage, AIMessage, get_buffer_string\n",
        "from langgraph.graph import MessagesState, StateGraph, START, END\n",
        "from langgraph.graph.message import add_messages\n",
        "from langgraph.types import Command\n",
        "from langgraph.checkpoint.memory import InMemorySaver\n",
        "from langchain_google_genai import ChatGoogleGenerativeAI\n",
        "from IPython.display import Image, display\n",
        "\n",
        "import google.generativeai as genai\n",
        "from getpass import getpass\n",
        "\n",
        "# Enter API key securely\n",
        "os.environ[\"GOOGLE_API_KEY\"] = getpass(\"Enter your Google API Key: \")\n",
        "\n",
        "# Configure the library\n",
        "genai.configure(api_key=os.environ[\"GOOGLE_API_KEY\"])\n",
        "\n",
        "# Initialize the model\n",
        "model = genai.GenerativeModel(\"gemini-1.5-flash\")\n"
      ],
      "metadata": {
        "id": "ntgde0VSbNY4"
      },
      "execution_count": null,
      "outputs": []
    },
    {
      "cell_type": "code",
      "source": [
        "# UI Helper Functions\n",
        "def show_prompt(prompt_text: str, title: str = \"Prompt\", border_style: str = \"blue\"):\n",
        "    \"\"\"Nicely display prompts with highlighting.\"\"\"\n",
        "    formatted_text = Text(prompt_text)\n",
        "    formatted_text.highlight_regex(r'<[^>]+>', style=\"bold blue\")\n",
        "    formatted_text.highlight_regex(r'##[^#\\n]+', style=\"bold magenta\")\n",
        "    formatted_text.highlight_regex(r'###[^#\\n]+', style=\"bold cyan\")\n",
        "    console.print(Panel(formatted_text, title=f\"[bold green]{title}[/bold green]\", border_style=border_style, padding=(1,2)))\n",
        "\n",
        "def format_message_content(message):\n",
        "    parts, tool_calls_processed = [], False\n",
        "    if isinstance(message.content, str):\n",
        "        parts.append(message.content)\n",
        "    elif isinstance(message.content, list):\n",
        "        for item in message.content:\n",
        "            if item.get('type') == 'text':\n",
        "                parts.append(item['text'])\n",
        "            elif item.get('type') == 'tool_use':\n",
        "                parts.append(f\"\\n Tool Call: {item['name']}\")\n",
        "                parts.append(f\"   Args: {json.dumps(item['input'], indent=2)}\")\n",
        "                parts.append(f\"   ID: {item.get('id', 'N/A')}\")\n",
        "                tool_calls_processed = True\n",
        "    else:\n",
        "        parts.append(str(message.content))\n",
        "    if not tool_calls_processed and hasattr(message, 'tool_calls') and message.tool_calls:\n",
        "        for tool_call in message.tool_calls:\n",
        "            parts.append(f\"\\n Tool Call: {tool_call['name']}\")\n",
        "            parts.append(f\"   Args: {json.dumps(tool_call['args'], indent=2)}\")\n",
        "            parts.append(f\"   ID: {tool_call['id']}\")\n",
        "    return \"\\n\".join(parts)\n",
        "\n",
        "def format_messages(messages):\n",
        "    for m in messages:\n",
        "        msg_type = m.__class__.__name__.replace('Message','')\n",
        "        content = format_message_content(m)\n",
        "        if msg_type == 'Human':\n",
        "            console.print(Panel(content, title=\"Human\", border_style=\"blue\"))\n",
        "        elif msg_type == 'Ai':\n",
        "            console.print(Panel(content, title=\"Assistant\", border_style=\"green\"))\n",
        "        elif msg_type == 'Tool':\n",
        "            console.print(Panel(content, title=\"Tool Output\", border_style=\"yellow\"))\n",
        "        else:\n",
        "            console.print(Panel(content, title=f\"{msg_type}\", border_style=\"white\"))"
      ],
      "metadata": {
        "id": "te-rC4OybgFM"
      },
      "execution_count": 5,
      "outputs": []
    },
    {
      "cell_type": "code",
      "source": [
        "# Prompt Templates\n",
        "clarify_with_user_instructions = \"\"\"\n",
        "These are the messages that have been exchanged so far from the user asking for the report:\n",
        "<Messages>\n",
        "{messages}\n",
        "</Messages>\n",
        "\n",
        "Today's date is {date}.\n",
        "\n",
        "Assess whether you need to ask a clarifying question, or if the user has already provided enough information for you to start research.\n",
        "\n",
        "Return JSON with:\n",
        "- \"{{\\\"need_clarification\\\"}}\": true/false\n",
        "- \"{{\\\"question\\\"}}\": string (if clarification needed)\n",
        "- \"{{\\\"verification\\\"}}\": string (if enough info)\n",
        "\"\"\""
      ],
      "metadata": {
        "id": "ZSDW3re9bmA0"
      },
      "execution_count": 6,
      "outputs": []
    },
    {
      "cell_type": "code",
      "source": [
        "# State & Schemas\n",
        "class AgentInputState(MessagesState): pass\n",
        "\n",
        "class AgentState(MessagesState):\n",
        "    research_brief: Optional[str]\n",
        "    supervisor_messages: Annotated[Sequence[BaseMessage], add_messages]\n",
        "    raw_notes: Annotated[list[str], operator.add] = []\n",
        "    notes: Annotated[list[str], operator.add] = []\n",
        "    final_report: str\n",
        "\n",
        "class ClarifyWithUser(BaseModel):\n",
        "    need_clarification: bool\n",
        "    question: str\n",
        "    verification: str\n",
        "\n",
        "class ResearchQuestion(BaseModel):\n",
        "    research_brief: str\n"
      ],
      "metadata": {
        "id": "-wpOpqYubpzz"
      },
      "execution_count": 7,
      "outputs": []
    },
    {
      "cell_type": "code",
      "source": [
        "# Utilities\n",
        "def get_today_str() -> str:\n",
        "    dt = datetime.now()\n",
        "    return f\"{dt.strftime('%a %b')} {dt.day}, {dt.strftime('%Y')}\"\n"
      ],
      "metadata": {
        "id": "M5phWGqMbtwn"
      },
      "execution_count": 8,
      "outputs": []
    },
    {
      "cell_type": "code",
      "source": [
        "# Workflow Nodes\n",
        "def clarify_with_user(state: AgentState) -> Command[Literal[\"write_research_brief\", \"__end__\"]]:\n",
        "    import re, json\n",
        "\n",
        "    prompt = f\"\"\"\n",
        "    These are the messages that have been exchanged so far from the user asking for the report:\n",
        "    <Messages>\n",
        "    {get_buffer_string(messages=state['messages'])}\n",
        "    </Messages>\n",
        "\n",
        "    Today's date is {get_today_str()}.\n",
        "\n",
        "    Assess whether you need to ask a clarifying question, or if the user has already provided enough information for you to start research.\n",
        "\n",
        "    Return JSON with:\n",
        "    {{\n",
        "      \"need_clarification\": true/false,\n",
        "      \"question\": \"...\",\n",
        "      \"verification\": \"...\"\n",
        "    }}\n",
        "    \"\"\"\n",
        "\n",
        "    response = model.generate_content(contents=prompt)\n",
        "    output_text = response.text\n",
        "\n",
        "    match = re.search(r\"\\{.*\\}\", output_text, re.DOTALL)\n",
        "    if match:\n",
        "        try:\n",
        "            parsed = json.loads(match.group())\n",
        "        except json.JSONDecodeError:\n",
        "            return Command(goto=END, update={\"messages\":[AIMessage(content=\"Clarification step failed (JSON decode error).\")]})\n",
        "    else:\n",
        "        return Command(goto=END, update={\"messages\":[AIMessage(content=\"Clarification step failed (No JSON found).\")]})\n",
        "\n",
        "    if parsed.get(\"need_clarification\"):\n",
        "        return Command(goto=END, update={\"messages\":[AIMessage(content=parsed.get(\"question\", \"Need clarification\"))]})\n",
        "    else:\n",
        "        return Command(goto=\"write_research_brief\", update={\"messages\":[AIMessage(content=parsed.get(\"verification\", \"Proceeding with research brief\"))]})\n",
        "\n",
        "def write_research_brief(state: AgentState) -> Command[Literal[\"__end__\"]]:\n",
        "    import re, json\n",
        "\n",
        "    user_topic = state['messages'][-1].content  # last user input\n",
        "\n",
        "    prompt = f\"\"\"\n",
        "    You are a research assistant. Write a research brief about the following topic: {user_topic}.\n",
        "    Return only valid JSON in the format:\n",
        "    {{\n",
        "      \"date\": \"{get_today_str()}\",\n",
        "      \"title\": \"...\",\n",
        "      \"problem_statement\": \"...\",\n",
        "      \"key_questions\": [\"...\", \"...\", \"...\"],\n",
        "      \"potential_sources\": [\"...\", \"...\", \"...\"]\n",
        "    }}\n",
        "    \"\"\"\n",
        "\n",
        "    response = model.generate_content(contents=prompt)\n",
        "    output_text = response.text\n",
        "\n",
        "    match = re.search(r\"\\{.*\\}\", output_text, re.DOTALL)\n",
        "    if match:\n",
        "        try:\n",
        "            parsed = json.loads(match.group())\n",
        "\n",
        "            # Always make sure date is included at the top\n",
        "            parsed = {\n",
        "                \"date\": get_today_str(),\n",
        "                \"title\": parsed.get(\"title\", \"\"),\n",
        "                \"problem_statement\": parsed.get(\"problem_statement\", \"\"),\n",
        "                \"key_questions\": parsed.get(\"key_questions\", []),\n",
        "                \"potential_sources\": parsed.get(\"potential_sources\", [])\n",
        "            }\n",
        "\n",
        "            return Command(\n",
        "                goto=END,\n",
        "                update={\n",
        "                    \"research_brief\": json.dumps(parsed, indent=2),\n",
        "                    \"messages\": [AIMessage(content=\"Research brief generated successfully \")]\n",
        "                }\n",
        "            )\n",
        "        except json.JSONDecodeError:\n",
        "            return Command(goto=END, update={\"messages\":[AIMessage(content=\"Error: Failed to parse JSON\")]})\n",
        "    else:\n",
        "        return Command(goto=END, update={\"messages\":[AIMessage(content=\"Error: No JSON found in response\")]})\n",
        "\n"
      ],
      "metadata": {
        "id": "_9CKdTifbw5b"
      },
      "execution_count": 13,
      "outputs": []
    },
    {
      "cell_type": "code",
      "source": [
        "# Graph Build\n",
        "deep_researcher_builder = StateGraph(AgentState, input_schema=AgentInputState)\n",
        "deep_researcher_builder.add_node(\"clarify_with_user\", clarify_with_user)\n",
        "deep_researcher_builder.add_node(\"write_research_brief\", write_research_brief)\n",
        "deep_researcher_builder.add_edge(START, \"clarify_with_user\")\n",
        "deep_researcher_builder.add_edge(\"write_research_brief\", END)\n",
        "\n",
        "checkpointer = InMemorySaver()\n",
        "scope = deep_researcher_builder.compile(checkpointer=checkpointer)"
      ],
      "metadata": {
        "id": "-9vOjhyzb1mC"
      },
      "execution_count": 14,
      "outputs": []
    },
    {
      "cell_type": "code",
      "source": [
        "# Visualize workflow\n",
        "display(Image(scope.get_graph(xray=True).draw_mermaid_png()))"
      ],
      "metadata": {
        "colab": {
          "base_uri": "https://localhost:8080/",
          "height": 350
        },
        "id": "LV3YZMRgb5e7",
        "outputId": "3a089a7a-7f36-4879-f44d-7fd76c3dcc06"
      },
      "execution_count": 15,
      "outputs": [
        {
          "output_type": "display_data",
          "data": {
            "image/png": "[encoded data removed]",
            "text/plain": [
              "<IPython.core.display.Image object>"
            ]
          },
          "metadata": {}
        }
      ]
    },
    {
      "cell_type": "code",
      "source": [
        "# Interactive Demo with Rich Panel\n",
        "import json\n",
        "from IPython.display import display, Markdown\n",
        "from datetime import datetime\n",
        "\n",
        "# Interactive Demo\n",
        "while True:\n",
        "    user_topic = input(\"\\nEnter your research topic (or type 'exit' to quit): \")\n",
        "    if user_topic.lower() == \"exit\":\n",
        "        break\n",
        "\n",
        "    thread = {\"configurable\": {\"thread_id\": \"1\"}}\n",
        "    result = scope.invoke({\"messages\":[HumanMessage(content=user_topic)]}, config=thread)\n",
        "\n",
        "    format_messages(result['messages'])\n",
        "\n",
        "    if \"research_brief\" in result:\n",
        "        # Parse JSON\n",
        "        brief_json = json.loads(result[\"research_brief\"])\n",
        "\n",
        "        # Extract fields\n",
        "        title = brief_json.get(\"title\", \"Untitled\")\n",
        "        problem = brief_json.get(\"problem_statement\", \"N/A\")\n",
        "        questions = brief_json.get(\"key_questions\", [])\n",
        "        sources = brief_json.get(\"sources\", [])\n",
        "\n",
        "        # Today’s date\n",
        "        today = datetime.today().strftime(\"%Y-%m-%d\")\n",
        "\n",
        "        # -------- View 1: Pretty JSON --------\n",
        "        formatted_json = json.dumps(brief_json, indent=2)\n",
        "        display(Markdown(f\"**Date:** {today}\\n\\n### Raw JSON Research Brief\\n```json\\n{formatted_json}\\n```\"))\n",
        "\n",
        "        # -------- View 2: Clean Markdown Report --------\n",
        "        md_output = f\"\"\"\n",
        "**Date:** {today}\n",
        "\n",
        "### Research Brief: {title}\n",
        "\n",
        "**Problem Statement**\n",
        "{problem}\n",
        "\n",
        "**Key Questions**\n",
        "\"\"\"\n",
        "        for q in questions:\n",
        "            md_output += f\"- {q}\\n\"\n",
        "\n",
        "        md_output += \"\\n**Sources**\\n\"\n",
        "        for s in sources:\n",
        "            md_output += f\"- {s}\\n\"\n",
        "\n",
        "        display(Markdown(md_output))\n"
      ],
      "metadata": {
        "colab": {
          "base_uri": "https://localhost:8080/",
          "height": 1000
        },
        "id": "NJXyGiWub9ld",
        "outputId": "5c9adb82-1951-4717-a544-3b092e1f4787"
      },
      "execution_count": 17,
      "outputs": [
        {
          "data": {
            "text/html": [
              "<pre style=\"white-space:pre;overflow-x:auto;line-height:normal;font-family:Menlo,'DejaVu Sans Mono',consolas,'Courier New',monospace\"><span style=\"color: #000080; text-decoration-color: #000080\">╭───────────────────────────────────────────────────── Human ─────────────────────────────────────────────────────╮</span>\n",
              "<span style=\"color: #000080; text-decoration-color: #000080\">│</span> Aritficial Intelligence                                                                                         <span style=\"color: #000080; text-decoration-color: #000080\">│</span>\n",
              "<span style=\"color: #000080; text-decoration-color: #000080\">╰─────────────────────────────────────────────────────────────────────────────────────────────────────────────────╯</span>\n",
              "</pre>\n"
            ],
            "text/plain": [
              "\u001b[34m╭─\u001b[0m\u001b[34m────────────────────────────────────────────────────\u001b[0m\u001b[34m Human \u001b[0m\u001b[34m────────────────────────────────────────────────────\u001b[0m\u001b[34m─╮\u001b[0m\n",
              "\u001b[34m│\u001b[0m Aritficial Intelligence                                                                                         \u001b[34m│\u001b[0m\n",
              "\u001b[34m╰─────────────────────────────────────────────────────────────────────────────────────────────────────────────────╯\u001b[0m\n"
            ]
          },
          "metadata": {},
          "output_type": "display_data"
        },
        {
          "data": {
            "text/html": [
              "<pre style=\"white-space:pre;overflow-x:auto;line-height:normal;font-family:Menlo,'DejaVu Sans Mono',consolas,'Courier New',monospace\"><span style=\"color: #c0c0c0; text-decoration-color: #c0c0c0\">╭────────────────────────────────────────────────────── AI ───────────────────────────────────────────────────────╮</span>\n",
              "<span style=\"color: #c0c0c0; text-decoration-color: #c0c0c0\">│</span> Could you please clarify what kind of report you need on Artificial Intelligence?  For example, are you         <span style=\"color: #c0c0c0; text-decoration-color: #c0c0c0\">│</span>\n",
              "<span style=\"color: #c0c0c0; text-decoration-color: #c0c0c0\">│</span> interested in a market analysis, a technological overview, ethical considerations, or something else?           <span style=\"color: #c0c0c0; text-decoration-color: #c0c0c0\">│</span>\n",
              "<span style=\"color: #c0c0c0; text-decoration-color: #c0c0c0\">╰─────────────────────────────────────────────────────────────────────────────────────────────────────────────────╯</span>\n",
              "</pre>\n"
            ],
            "text/plain": [
              "\u001b[37m╭─\u001b[0m\u001b[37m─────────────────────────────────────────────────────\u001b[0m\u001b[37m AI \u001b[0m\u001b[37m──────────────────────────────────────────────────────\u001b[0m\u001b[37m─╮\u001b[0m\n",
              "\u001b[37m│\u001b[0m Could you please clarify what kind of report you need on Artificial Intelligence?  For example, are you         \u001b[37m│\u001b[0m\n",
              "\u001b[37m│\u001b[0m interested in a market analysis, a technological overview, ethical considerations, or something else?           \u001b[37m│\u001b[0m\n",
              "\u001b[37m╰─────────────────────────────────────────────────────────────────────────────────────────────────────────────────╯\u001b[0m\n"
            ]
          },
          "metadata": {},
          "output_type": "display_data"
        },
        {
          "data": {
            "text/html": [
              "<pre style=\"white-space:pre;overflow-x:auto;line-height:normal;font-family:Menlo,'DejaVu Sans Mono',consolas,'Courier New',monospace\"><span style=\"color: #000080; text-decoration-color: #000080\">╭───────────────────────────────────────────────────── Human ─────────────────────────────────────────────────────╮</span>\n",
              "<span style=\"color: #000080; text-decoration-color: #000080\">│</span> ethical considerations                                                                                          <span style=\"color: #000080; text-decoration-color: #000080\">│</span>\n",
              "<span style=\"color: #000080; text-decoration-color: #000080\">╰─────────────────────────────────────────────────────────────────────────────────────────────────────────────────╯</span>\n",
              "</pre>\n"
            ],
            "text/plain": [
              "\u001b[34m╭─\u001b[0m\u001b[34m────────────────────────────────────────────────────\u001b[0m\u001b[34m Human \u001b[0m\u001b[34m────────────────────────────────────────────────────\u001b[0m\u001b[34m─╮\u001b[0m\n",
              "\u001b[34m│\u001b[0m ethical considerations                                                                                          \u001b[34m│\u001b[0m\n",
              "\u001b[34m╰─────────────────────────────────────────────────────────────────────────────────────────────────────────────────╯\u001b[0m\n"
            ]
          },
          "metadata": {},
          "output_type": "display_data"
        },
        {
          "data": {
            "text/html": [
              "<pre style=\"white-space:pre;overflow-x:auto;line-height:normal;font-family:Menlo,'DejaVu Sans Mono',consolas,'Courier New',monospace\"><span style=\"color: #c0c0c0; text-decoration-color: #c0c0c0\">╭────────────────────────────────────────────────────── AI ───────────────────────────────────────────────────────╮</span>\n",
              "<span style=\"color: #c0c0c0; text-decoration-color: #c0c0c0\">│</span> Regarding the ethical considerations of Artificial Intelligence, could you please specify which aspects are of  <span style=\"color: #c0c0c0; text-decoration-color: #c0c0c0\">│</span>\n",
              "<span style=\"color: #c0c0c0; text-decoration-color: #c0c0c0\">│</span> most interest?  For example, are you interested in bias in algorithms, job displacement, autonomous weapons,    <span style=\"color: #c0c0c0; text-decoration-color: #c0c0c0\">│</span>\n",
              "<span style=\"color: #c0c0c0; text-decoration-color: #c0c0c0\">│</span> privacy concerns, or a broader overview?                                                                        <span style=\"color: #c0c0c0; text-decoration-color: #c0c0c0\">│</span>\n",
              "<span style=\"color: #c0c0c0; text-decoration-color: #c0c0c0\">╰─────────────────────────────────────────────────────────────────────────────────────────────────────────────────╯</span>\n",
              "</pre>\n"
            ],
            "text/plain": [
              "\u001b[37m╭─\u001b[0m\u001b[37m─────────────────────────────────────────────────────\u001b[0m\u001b[37m AI \u001b[0m\u001b[37m──────────────────────────────────────────────────────\u001b[0m\u001b[37m─╮\u001b[0m\n",
              "\u001b[37m│\u001b[0m Regarding the ethical considerations of Artificial Intelligence, could you please specify which aspects are of  \u001b[37m│\u001b[0m\n",
              "\u001b[37m│\u001b[0m most interest?  For example, are you interested in bias in algorithms, job displacement, autonomous weapons,    \u001b[37m│\u001b[0m\n",
              "\u001b[37m│\u001b[0m privacy concerns, or a broader overview?                                                                        \u001b[37m│\u001b[0m\n",
              "\u001b[37m╰─────────────────────────────────────────────────────────────────────────────────────────────────────────────────╯\u001b[0m\n"
            ]
          },
          "metadata": {},
          "output_type": "display_data"
        },
        {
          "data": {
            "text/html": [
              "<pre style=\"white-space:pre;overflow-x:auto;line-height:normal;font-family:Menlo,'DejaVu Sans Mono',consolas,'Courier New',monospace\"><span style=\"color: #000080; text-decoration-color: #000080\">╭───────────────────────────────────────────────────── Human ─────────────────────────────────────────────────────╮</span>\n",
              "<span style=\"color: #000080; text-decoration-color: #000080\">│</span> autonomous vehicles                                                                                             <span style=\"color: #000080; text-decoration-color: #000080\">│</span>\n",
              "<span style=\"color: #000080; text-decoration-color: #000080\">╰─────────────────────────────────────────────────────────────────────────────────────────────────────────────────╯</span>\n",
              "</pre>\n"
            ],
            "text/plain": [
              "\u001b[34m╭─\u001b[0m\u001b[34m────────────────────────────────────────────────────\u001b[0m\u001b[34m Human \u001b[0m\u001b[34m────────────────────────────────────────────────────\u001b[0m\u001b[34m─╮\u001b[0m\n",
              "\u001b[34m│\u001b[0m autonomous vehicles                                                                                             \u001b[34m│\u001b[0m\n",
              "\u001b[34m╰─────────────────────────────────────────────────────────────────────────────────────────────────────────────────╯\u001b[0m\n"
            ]
          },
          "metadata": {},
          "output_type": "display_data"
        },
        {
          "data": {
            "text/html": [
              "<pre style=\"white-space:pre;overflow-x:auto;line-height:normal;font-family:Menlo,'DejaVu Sans Mono',consolas,'Courier New',monospace\"><span style=\"color: #c0c0c0; text-decoration-color: #c0c0c0\">╭────────────────────────────────────────────────────── AI ───────────────────────────────────────────────────────╮</span>\n",
              "<span style=\"color: #c0c0c0; text-decoration-color: #c0c0c0\">│</span> Regarding autonomous vehicles, what specific ethical considerations are you most interested in? For example,    <span style=\"color: #c0c0c0; text-decoration-color: #c0c0c0\">│</span>\n",
              "<span style=\"color: #c0c0c0; text-decoration-color: #c0c0c0\">│</span> are you interested in liability in accidents, the ethical implications of programming moral decision-making in  <span style=\"color: #c0c0c0; text-decoration-color: #c0c0c0\">│</span>\n",
              "<span style=\"color: #c0c0c0; text-decoration-color: #c0c0c0\">│</span> self-driving cars,  the impact on employment in the transportation sector, or data privacy related to vehicle   <span style=\"color: #c0c0c0; text-decoration-color: #c0c0c0\">│</span>\n",
              "<span style=\"color: #c0c0c0; text-decoration-color: #c0c0c0\">│</span> operation and location?                                                                                         <span style=\"color: #c0c0c0; text-decoration-color: #c0c0c0\">│</span>\n",
              "<span style=\"color: #c0c0c0; text-decoration-color: #c0c0c0\">╰─────────────────────────────────────────────────────────────────────────────────────────────────────────────────╯</span>\n",
              "</pre>\n"
            ],
            "text/plain": [
              "\u001b[37m╭─\u001b[0m\u001b[37m─────────────────────────────────────────────────────\u001b[0m\u001b[37m AI \u001b[0m\u001b[37m──────────────────────────────────────────────────────\u001b[0m\u001b[37m─╮\u001b[0m\n",
              "\u001b[37m│\u001b[0m Regarding autonomous vehicles, what specific ethical considerations are you most interested in? For example,    \u001b[37m│\u001b[0m\n",
              "\u001b[37m│\u001b[0m are you interested in liability in accidents, the ethical implications of programming moral decision-making in  \u001b[37m│\u001b[0m\n",
              "\u001b[37m│\u001b[0m self-driving cars,  the impact on employment in the transportation sector, or data privacy related to vehicle   \u001b[37m│\u001b[0m\n",
              "\u001b[37m│\u001b[0m operation and location?                                                                                         \u001b[37m│\u001b[0m\n",
              "\u001b[37m╰─────────────────────────────────────────────────────────────────────────────────────────────────────────────────╯\u001b[0m\n"
            ]
          },
          "metadata": {},
          "output_type": "display_data"
        },
        {
          "data": {
            "text/html": [
              "<pre style=\"white-space:pre;overflow-x:auto;line-height:normal;font-family:Menlo,'DejaVu Sans Mono',consolas,'Courier New',monospace\"><span style=\"color: #000080; text-decoration-color: #000080\">╭───────────────────────────────────────────────────── Human ─────────────────────────────────────────────────────╮</span>\n",
              "<span style=\"color: #000080; text-decoration-color: #000080\">│</span> just give me a general overview                                                                                 <span style=\"color: #000080; text-decoration-color: #000080\">│</span>\n",
              "<span style=\"color: #000080; text-decoration-color: #000080\">╰─────────────────────────────────────────────────────────────────────────────────────────────────────────────────╯</span>\n",
              "</pre>\n"
            ],
            "text/plain": [
              "\u001b[34m╭─\u001b[0m\u001b[34m────────────────────────────────────────────────────\u001b[0m\u001b[34m Human \u001b[0m\u001b[34m────────────────────────────────────────────────────\u001b[0m\u001b[34m─╮\u001b[0m\n",
              "\u001b[34m│\u001b[0m just give me a general overview                                                                                 \u001b[34m│\u001b[0m\n",
              "\u001b[34m╰─────────────────────────────────────────────────────────────────────────────────────────────────────────────────╯\u001b[0m\n"
            ]
          },
          "metadata": {},
          "output_type": "display_data"
        },
        {
          "data": {
            "text/html": [
              "<pre style=\"white-space:pre;overflow-x:auto;line-height:normal;font-family:Menlo,'DejaVu Sans Mono',consolas,'Courier New',monospace\"><span style=\"color: #c0c0c0; text-decoration-color: #c0c0c0\">╭────────────────────────────────────────────────────── AI ───────────────────────────────────────────────────────╮</span>\n",
              "<span style=\"color: #c0c0c0; text-decoration-color: #c0c0c0\">│</span> Regarding the ethical considerations of autonomous vehicles,  should the overview focus on specific             <span style=\"color: #c0c0c0; text-decoration-color: #c0c0c0\">│</span>\n",
              "<span style=\"color: #c0c0c0; text-decoration-color: #c0c0c0\">│</span> applications (e.g., passenger cars, trucking) or provide a broader overview encompassing all types of           <span style=\"color: #c0c0c0; text-decoration-color: #c0c0c0\">│</span>\n",
              "<span style=\"color: #c0c0c0; text-decoration-color: #c0c0c0\">│</span> autonomous vehicles?                                                                                            <span style=\"color: #c0c0c0; text-decoration-color: #c0c0c0\">│</span>\n",
              "<span style=\"color: #c0c0c0; text-decoration-color: #c0c0c0\">╰─────────────────────────────────────────────────────────────────────────────────────────────────────────────────╯</span>\n",
              "</pre>\n"
            ],
            "text/plain": [
              "\u001b[37m╭─\u001b[0m\u001b[37m─────────────────────────────────────────────────────\u001b[0m\u001b[37m AI \u001b[0m\u001b[37m──────────────────────────────────────────────────────\u001b[0m\u001b[37m─╮\u001b[0m\n",
              "\u001b[37m│\u001b[0m Regarding the ethical considerations of autonomous vehicles,  should the overview focus on specific             \u001b[37m│\u001b[0m\n",
              "\u001b[37m│\u001b[0m applications (e.g., passenger cars, trucking) or provide a broader overview encompassing all types of           \u001b[37m│\u001b[0m\n",
              "\u001b[37m│\u001b[0m autonomous vehicles?                                                                                            \u001b[37m│\u001b[0m\n",
              "\u001b[37m╰─────────────────────────────────────────────────────────────────────────────────────────────────────────────────╯\u001b[0m\n"
            ]
          },
          "metadata": {},
          "output_type": "display_data"
        },
        {
          "data": {
            "text/html": [
              "<pre style=\"white-space:pre;overflow-x:auto;line-height:normal;font-family:Menlo,'DejaVu Sans Mono',consolas,'Courier New',monospace\"><span style=\"color: #000080; text-decoration-color: #000080\">╭───────────────────────────────────────────────────── Human ─────────────────────────────────────────────────────╮</span>\n",
              "<span style=\"color: #000080; text-decoration-color: #000080\">│</span> provide a broader overview encompassing all types of           │ │ autonomous vehicles?                         <span style=\"color: #000080; text-decoration-color: #000080\">│</span>\n",
              "<span style=\"color: #000080; text-decoration-color: #000080\">╰─────────────────────────────────────────────────────────────────────────────────────────────────────────────────╯</span>\n",
              "</pre>\n"
            ],
            "text/plain": [
              "\u001b[34m╭─\u001b[0m\u001b[34m────────────────────────────────────────────────────\u001b[0m\u001b[34m Human \u001b[0m\u001b[34m────────────────────────────────────────────────────\u001b[0m\u001b[34m─╮\u001b[0m\n",
              "\u001b[34m│\u001b[0m provide a broader overview encompassing all types of           │ │ autonomous vehicles?                         \u001b[34m│\u001b[0m\n",
              "\u001b[34m╰─────────────────────────────────────────────────────────────────────────────────────────────────────────────────╯\u001b[0m\n"
            ]
          },
          "metadata": {},
          "output_type": "display_data"
        },
        {
          "data": {
            "text/html": [
              "<pre style=\"white-space:pre;overflow-x:auto;line-height:normal;font-family:Menlo,'DejaVu Sans Mono',consolas,'Courier New',monospace\"><span style=\"color: #c0c0c0; text-decoration-color: #c0c0c0\">╭────────────────────────────────────────────────────── AI ───────────────────────────────────────────────────────╮</span>\n",
              "<span style=\"color: #c0c0c0; text-decoration-color: #c0c0c0\">│</span> The user has sufficiently narrowed down their request to a general overview of the ethical considerations of    <span style=\"color: #c0c0c0; text-decoration-color: #c0c0c0\">│</span>\n",
              "<span style=\"color: #c0c0c0; text-decoration-color: #c0c0c0\">│</span> all types of autonomous vehicles.  No further clarifying questions are needed before beginning research.        <span style=\"color: #c0c0c0; text-decoration-color: #c0c0c0\">│</span>\n",
              "<span style=\"color: #c0c0c0; text-decoration-color: #c0c0c0\">╰─────────────────────────────────────────────────────────────────────────────────────────────────────────────────╯</span>\n",
              "</pre>\n"
            ],
            "text/plain": [
              "\u001b[37m╭─\u001b[0m\u001b[37m─────────────────────────────────────────────────────\u001b[0m\u001b[37m AI \u001b[0m\u001b[37m──────────────────────────────────────────────────────\u001b[0m\u001b[37m─╮\u001b[0m\n",
              "\u001b[37m│\u001b[0m The user has sufficiently narrowed down their request to a general overview of the ethical considerations of    \u001b[37m│\u001b[0m\n",
              "\u001b[37m│\u001b[0m all types of autonomous vehicles.  No further clarifying questions are needed before beginning research.        \u001b[37m│\u001b[0m\n",
              "\u001b[37m╰─────────────────────────────────────────────────────────────────────────────────────────────────────────────────╯\u001b[0m\n"
            ]
          },
          "metadata": {},
          "output_type": "display_data"
        },
        {
          "data": {
            "text/html": [
              "<pre style=\"white-space:pre;overflow-x:auto;line-height:normal;font-family:Menlo,'DejaVu Sans Mono',consolas,'Courier New',monospace\"><span style=\"color: #c0c0c0; text-decoration-color: #c0c0c0\">╭────────────────────────────────────────────────────── AI ───────────────────────────────────────────────────────╮</span>\n",
              "<span style=\"color: #c0c0c0; text-decoration-color: #c0c0c0\">│</span> Research brief generated successfully                                                                           <span style=\"color: #c0c0c0; text-decoration-color: #c0c0c0\">│</span>\n",
              "<span style=\"color: #c0c0c0; text-decoration-color: #c0c0c0\">╰─────────────────────────────────────────────────────────────────────────────────────────────────────────────────╯</span>\n",
              "</pre>\n"
            ],
            "text/plain": [
              "\u001b[37m╭─\u001b[0m\u001b[37m─────────────────────────────────────────────────────\u001b[0m\u001b[37m AI \u001b[0m\u001b[37m──────────────────────────────────────────────────────\u001b[0m\u001b[37m─╮\u001b[0m\n",
              "\u001b[37m│\u001b[0m Research brief generated successfully                                                                           \u001b[37m│\u001b[0m\n",
              "\u001b[37m╰─────────────────────────────────────────────────────────────────────────────────────────────────────────────────╯\u001b[0m\n"
            ]
          },
          "metadata": {},
          "output_type": "display_data"
        },
        {
          "data": {
            "text/html": [
              "<pre style=\"white-space:pre;overflow-x:auto;line-height:normal;font-family:Menlo,'DejaVu Sans Mono',consolas,'Courier New',monospace\"><span style=\"color: #000080; text-decoration-color: #000080\">╭───────────────────────────────────────────────────── Human ─────────────────────────────────────────────────────╮</span>\n",
              "<span style=\"color: #000080; text-decoration-color: #000080\">│</span> Artificial Intelligence                                                                                         <span style=\"color: #000080; text-decoration-color: #000080\">│</span>\n",
              "<span style=\"color: #000080; text-decoration-color: #000080\">╰─────────────────────────────────────────────────────────────────────────────────────────────────────────────────╯</span>\n",
              "</pre>\n"
            ],
            "text/plain": [
              "\u001b[34m╭─\u001b[0m\u001b[34m────────────────────────────────────────────────────\u001b[0m\u001b[34m Human \u001b[0m\u001b[34m────────────────────────────────────────────────────\u001b[0m\u001b[34m─╮\u001b[0m\n",
              "\u001b[34m│\u001b[0m Artificial Intelligence                                                                                         \u001b[34m│\u001b[0m\n",
              "\u001b[34m╰─────────────────────────────────────────────────────────────────────────────────────────────────────────────────╯\u001b[0m\n"
            ]
          },
          "metadata": {},
          "output_type": "display_data"
        },
        {
          "data": {
            "text/html": [
              "<pre style=\"white-space:pre;overflow-x:auto;line-height:normal;font-family:Menlo,'DejaVu Sans Mono',consolas,'Courier New',monospace\"><span style=\"color: #c0c0c0; text-decoration-color: #c0c0c0\">╭────────────────────────────────────────────────────── AI ───────────────────────────────────────────────────────╮</span>\n",
              "<span style=\"color: #c0c0c0; text-decoration-color: #c0c0c0\">│</span> The conversation log shows the AI successfully guided the user to specify their request to 'a general overview  <span style=\"color: #c0c0c0; text-decoration-color: #c0c0c0\">│</span>\n",
              "<span style=\"color: #c0c0c0; text-decoration-color: #c0c0c0\">│</span> of the ethical considerations of all types of autonomous vehicles'. The AI explicitly stated that no further    <span style=\"color: #c0c0c0; text-decoration-color: #c0c0c0\">│</span>\n",
              "<span style=\"color: #c0c0c0; text-decoration-color: #c0c0c0\">│</span> clarifying questions are needed before beginning research.  The final user message 'Artificial Intelligence'    <span style=\"color: #c0c0c0; text-decoration-color: #c0c0c0\">│</span>\n",
              "<span style=\"color: #c0c0c0; text-decoration-color: #c0c0c0\">│</span> appears to be unrelated and can be ignored as it's a repetition of an earlier topic.                            <span style=\"color: #c0c0c0; text-decoration-color: #c0c0c0\">│</span>\n",
              "<span style=\"color: #c0c0c0; text-decoration-color: #c0c0c0\">╰─────────────────────────────────────────────────────────────────────────────────────────────────────────────────╯</span>\n",
              "</pre>\n"
            ],
            "text/plain": [
              "\u001b[37m╭─\u001b[0m\u001b[37m─────────────────────────────────────────────────────\u001b[0m\u001b[37m AI \u001b[0m\u001b[37m──────────────────────────────────────────────────────\u001b[0m\u001b[37m─╮\u001b[0m\n",
              "\u001b[37m│\u001b[0m The conversation log shows the AI successfully guided the user to specify their request to 'a general overview  \u001b[37m│\u001b[0m\n",
              "\u001b[37m│\u001b[0m of the ethical considerations of all types of autonomous vehicles'. The AI explicitly stated that no further    \u001b[37m│\u001b[0m\n",
              "\u001b[37m│\u001b[0m clarifying questions are needed before beginning research.  The final user message 'Artificial Intelligence'    \u001b[37m│\u001b[0m\n",
              "\u001b[37m│\u001b[0m appears to be unrelated and can be ignored as it's a repetition of an earlier topic.                            \u001b[37m│\u001b[0m\n",
              "\u001b[37m╰─────────────────────────────────────────────────────────────────────────────────────────────────────────────────╯\u001b[0m\n"
            ]
          },
          "metadata": {},
          "output_type": "display_data"
        },
        {
          "data": {
            "text/html": [
              "<pre style=\"white-space:pre;overflow-x:auto;line-height:normal;font-family:Menlo,'DejaVu Sans Mono',consolas,'Courier New',monospace\"><span style=\"color: #c0c0c0; text-decoration-color: #c0c0c0\">╭────────────────────────────────────────────────────── AI ───────────────────────────────────────────────────────╮</span>\n",
              "<span style=\"color: #c0c0c0; text-decoration-color: #c0c0c0\">│</span> Research brief generated successfully                                                                           <span style=\"color: #c0c0c0; text-decoration-color: #c0c0c0\">│</span>\n",
              "<span style=\"color: #c0c0c0; text-decoration-color: #c0c0c0\">╰─────────────────────────────────────────────────────────────────────────────────────────────────────────────────╯</span>\n",
              "</pre>\n"
            ],
            "text/plain": [
              "\u001b[37m╭─\u001b[0m\u001b[37m─────────────────────────────────────────────────────\u001b[0m\u001b[37m AI \u001b[0m\u001b[37m──────────────────────────────────────────────────────\u001b[0m\u001b[37m─╮\u001b[0m\n",
              "\u001b[37m│\u001b[0m Research brief generated successfully                                                                           \u001b[37m│\u001b[0m\n",
              "\u001b[37m╰─────────────────────────────────────────────────────────────────────────────────────────────────────────────────╯\u001b[0m\n"
            ]
          },
          "metadata": {},
          "output_type": "display_data"
        },
        {
          "data": {
            "text/markdown": "**Date:** 2025-09-09\n\n### Raw JSON Research Brief\n```json\n{\n  \"date\": \"Tue Sep 9, 2025\",\n  \"title\": \"Ethical Considerations of Autonomous Vehicles: A General Overview\",\n  \"problem_statement\": \"To comprehensively analyze and synthesize the ethical considerations surrounding the development, deployment, and use of all types of autonomous vehicles (AVs), encompassing various technological approaches and operational contexts.\",\n  \"key_questions\": [\n    \"What are the primary ethical dilemmas posed by the potential for accidents and harm caused by AVs, including issues of liability, responsibility, and algorithmic bias?\",\n    \"How do different ethical frameworks (e.g., utilitarianism, deontology, virtue ethics) inform the design and regulation of AVs, particularly regarding decision-making algorithms and safety protocols?\",\n    \"What are the societal and economic implications of widespread AV adoption, including impacts on employment, accessibility, and social equity, and how can these be ethically addressed?\",\n    \"What are the legal and regulatory challenges in establishing clear lines of accountability and responsibility for AV accidents and malfunctions, and how can ethical principles be integrated into legal frameworks?\",\n    \"How can ethical considerations be effectively integrated into the design, testing, and deployment processes of AVs to ensure responsible innovation and mitigate potential harms?\"\n  ],\n  \"potential_sources\": [\n    \"The National Highway Traffic Safety Administration (NHTSA) reports and guidelines on autonomous vehicles\",\n    \"Academic journals and publications on ethics and AI, focusing on autonomous systems (e.g., Science, Nature, Ethics & Information Technology)\",\n    \"Reports and publications from organizations such as the IEEE, ACM, and AAAI on ethical guidelines for AI and robotics\",\n    \"Legal scholarship and case law related to product liability and negligence in the context of autonomous vehicles\",\n    \"Governmental reports and policy documents on autonomous vehicle regulation and safety standards (e.g., from the European Union, the United States, etc.)\"\n  ]\n}\n```",
            "text/plain": [
              "<IPython.core.display.Markdown object>"
            ]
          },
          "metadata": {},
          "output_type": "display_data"
        },
        {
          "data": {
            "text/markdown": "\n**Date:** 2025-09-09\n\n### Research Brief: Ethical Considerations of Autonomous Vehicles: A General Overview\n\n**Problem Statement**  \nTo comprehensively analyze and synthesize the ethical considerations surrounding the development, deployment, and use of all types of autonomous vehicles (AVs), encompassing various technological approaches and operational contexts.\n\n**Key Questions**\n- What are the primary ethical dilemmas posed by the potential for accidents and harm caused by AVs, including issues of liability, responsibility, and algorithmic bias?\n- How do different ethical frameworks (e.g., utilitarianism, deontology, virtue ethics) inform the design and regulation of AVs, particularly regarding decision-making algorithms and safety protocols?\n- What are the societal and economic implications of widespread AV adoption, including impacts on employment, accessibility, and social equity, and how can these be ethically addressed?\n- What are the legal and regulatory challenges in establishing clear lines of accountability and responsibility for AV accidents and malfunctions, and how can ethical principles be integrated into legal frameworks?\n- How can ethical considerations be effectively integrated into the design, testing, and deployment processes of AVs to ensure responsible innovation and mitigate potential harms?\n\n**Sources**\n",
            "text/plain": [
              "<IPython.core.display.Markdown object>"
            ]
          },
          "metadata": {},
          "output_type": "display_data"
        },
        {
          "name": "stdout",
          "output_type": "stream",
          "text": [
            "\n",
            "Enter your research topic (or type 'exit' to quit): exit\n"
          ]
        }
      ]
    }
  ]
}