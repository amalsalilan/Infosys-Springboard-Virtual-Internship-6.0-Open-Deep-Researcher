{
  "cells": [
    {
      "cell_type": "code",
      "execution_count": 20,
      "metadata": {
        "id": "s9tmDIoOWBSN"
      },
      "outputs": [],
      "source": [
        "!pip install -q langchain langchain-google-genai langgraph rich python-dotenv pydantic typing_extensions tenacity tavily-python sqlite-utils langgraph-checkpoint-sqlite"
      ]
    },
    {
      "cell_type": "code",
      "execution_count": 21,
      "metadata": {
        "id": "jAicNhrZjvej"
      },
      "outputs": [],
      "source": [
        "# Run this cell next\n",
        "import os\n",
        "from rich.console import Console\n",
        "from rich.panel import Panel\n",
        "from rich.text import Text\n",
        "from rich.markdown import Markdown\n",
        "from rich.table import Table\n",
        "import json, time, sqlite3, operator\n",
        "from typing_extensions import Optional, Annotated, Sequence, Literal\n",
        "from pydantic import BaseModel, Field\n",
        "from langchain_core.messages import BaseMessage, HumanMessage, AIMessage, SystemMessage, get_buffer_string\n",
        "from langgraph.graph import MessagesState, StateGraph, START, END\n",
        "from langgraph.graph.message import add_messages\n",
        "from langgraph.types import Command\n",
        "from datetime import datetime\n",
        "from langchain.chat_models import init_chat_model\n",
        "from IPython.display import Image, display\n",
        "from langgraph.checkpoint.memory import InMemorySaver\n",
        "\n",
        "console = Console()\n",
        "\n",
        "# Set your Google GenAI key (or put it into Colab environment). If already set, will use it.\n",
        "if not os.environ.get(\"GOOGLE_API_KEY\"):\n",
        "    # prompt (you can paste your key into the input)\n",
        "    os.environ[\"GOOGLE_API_KEY\"] = input(\"Enter GOOGLE_API_KEY (paste and press Enter): \").strip()\n",
        "\n",
        "# initialize model (keeps same model name you used)\n",
        "model = init_chat_model(\"gemini-2.5-flash-lite\", model_provider=\"google_genai\", temperature=0)\n"
      ]
    },
    {
      "cell_type": "code",
      "execution_count": 22,
      "metadata": {
        "id": "AHtzB7aGj9Wu"
      },
      "outputs": [],
      "source": [
        "# Utility: date function (you already had this)\n",
        "def get_today_str() -> str:\n",
        "    dt = datetime.now()\n",
        "    return f\"{dt.strftime('%a %b')} {dt.day}, {dt.strftime('%Y')}\"\n",
        "\n",
        "# UI helpers (Rich)\n",
        "def show_prompt(prompt_text: str, title: str = \"Prompt\", border_style: str = \"blue\"):\n",
        "    formatted_text = Text(prompt_text)\n",
        "    formatted_text.highlight_regex(r'<[^>]+>', style=\"bold blue\")\n",
        "    formatted_text.highlight_regex(r'##[^#\\n]+', style=\"bold magenta\")\n",
        "    formatted_text.highlight_regex(r'###[^#\\n]+', style=\"bold cyan\")\n",
        "    console.print(Panel(formatted_text, title=f\"[bold green]{title}[/bold green]\", border_style=border_style, padding=(1,2)))\n",
        "\n",
        "def format_message_content(message):\n",
        "    parts, tool_calls_processed = [], False\n",
        "    if isinstance(message.content, str):\n",
        "        parts.append(message.content)\n",
        "    elif isinstance(message.content, list):\n",
        "        for item in message.content:\n",
        "            if item.get('type') == 'text':\n",
        "                parts.append(item['text'])\n",
        "            elif item.get('type') == 'tool_use':\n",
        "                parts.append(f\"\\n🔧 Tool Call: {item['name']}\")\n",
        "                parts.append(f\"   Args: {json.dumps(item['input'], indent=2)}\")\n",
        "                tool_calls_processed = True\n",
        "    else:\n",
        "        parts.append(str(message.content))\n",
        "\n",
        "    if not tool_calls_processed and hasattr(message, 'tool_calls') and message.tool_calls:\n",
        "        for tool_call in message.tool_calls:\n",
        "            parts.append(f\"\\n🔧 Tool Call: {tool_call['name']}\")\n",
        "            parts.append(f\"   Args: {json.dumps(tool_call['args'], indent=2)}\")\n",
        "\n",
        "    return \"\\n\".join(parts)\n",
        "\n",
        "def format_messages(messages):\n",
        "    for m in messages:\n",
        "        msg_type = m.__class__.__name__.replace('Message','')\n",
        "        content = format_message_content(m)\n",
        "        border_styles = {\"Human\":\"blue\",\"Ai\":\"green\",\"Tool\":\"yellow\"}\n",
        "        title_icons = {\"Human\":\" Human\",\"Ai\":\" Assistant\",\"Tool\":\" Tool Output\"}\n",
        "        console.print(Panel(content, title=title_icons.get(msg_type,\" Other\"), border_style=border_styles.get(msg_type,\"white\")))\n"
      ]
    },
    {
      "cell_type": "code",
      "execution_count": 23,
      "metadata": {
        "id": "qo7hSXoZm3sB"
      },
      "outputs": [],
      "source": [
        "# Metrics + invocation helpers (silent until end)\n",
        "def get_conversation_metrics(messages):\n",
        "    human_msgs = [m for m in messages if m.__class__.__name__==\"HumanMessage\"]\n",
        "    ai_msgs = [m for m in messages if m.__class__.__name__==\"AIMessage\"]\n",
        "    return {\n",
        "        \"total_messages\": len(messages),\n",
        "        \"human_count\": len(human_msgs),\n",
        "        \"ai_count\": len(ai_msgs),\n",
        "        \"avg_human_length\": sum(len(m.content) for m in human_msgs)/max(1,len(human_msgs)),\n",
        "        \"avg_ai_length\": sum(len(m.content) for m in ai_msgs)/max(1,len(ai_msgs)),\n",
        "    }\n",
        "\n",
        "def specificity_score(text):\n",
        "    keywords = [\"specific\",\"example\",\"detail\",\"data\",\"report\"]\n",
        "    return sum(k in text.lower() for k in keywords)/len(keywords)\n",
        "\n",
        "def log_metrics_to_sqlite(run_id, metrics: dict):\n",
        "    # optional persistence (silent)\n",
        "    conn = sqlite3.connect(\"research_agent.sqlite\")\n",
        "    c = conn.cursor()\n",
        "    c.execute(\"\"\"CREATE TABLE IF NOT EXISTS metrics (run_id TEXT, key TEXT, value REAL)\"\"\")\n",
        "    for k,v in metrics.items():\n",
        "        c.execute(\"INSERT INTO metrics VALUES (?,?,?)\", (run_id, k, float(v) if isinstance(v,(int,float)) else str(v)))\n",
        "    conn.commit()\n",
        "    conn.close()\n",
        "\n",
        "def timed_invoke_model(chat_model, msgs):\n",
        "    \"\"\"Helper for direct model.invoke calls (not used for the graph nodes, but kept if needed).\"\"\"\n",
        "    start = time.time()\n",
        "    resp = chat_model.invoke(msgs)\n",
        "    elapsed = round(time.time() - start, 3)\n",
        "    return resp, elapsed\n",
        "\n",
        "def run_with_metrics(run_id, scope_obj, messages_for_scope, config, return_metrics=True):\n",
        "    \"\"\"\n",
        "    Execute the StateGraph (scope) with the provided messages list.\n",
        "    Returns (result, metrics) if return_metrics True.\n",
        "    Does NOT print metrics.\n",
        "    \"\"\"\n",
        "    start = time.time()\n",
        "    try:\n",
        "        result = scope_obj.invoke({\"messages\": messages_for_scope}, config=config)\n",
        "    except Exception as e:\n",
        "        # safe fallback\n",
        "        result = {\"messages\": [AIMessage(content=f\"Internal error: {e}\")]}\n",
        "    end = time.time()\n",
        "    duration = round(end - start, 3)\n",
        "\n",
        "    # compute metrics (basic)\n",
        "    metrics = {\n",
        "        \"run_id\": run_id,\n",
        "        \"start_time\": start,\n",
        "        \"end_time\": end,\n",
        "        \"duration_sec\": duration,\n",
        "        \"num_messages_sent\": len(messages_for_scope),\n",
        "        \"num_ai_messages\": sum(1 for m in result.get(\"messages\",[]) if m.__class__.__name__==\"AIMessage\"),\n",
        "        \"num_human_messages\": sum(1 for m in result.get(\"messages\",[]) if m.__class__.__name__==\"HumanMessage\")\n",
        "    }\n",
        "\n",
        "    # optional persist\n",
        "    try:\n",
        "        log_metrics_to_sqlite(run_id, metrics)\n",
        "    except Exception:\n",
        "        pass\n",
        "\n",
        "    if return_metrics:\n",
        "        return result, metrics\n",
        "    else:\n",
        "        # legacy printing (not used in our interactive flow)\n",
        "        print(\"Metrics:\", metrics)\n",
        "        return result\n"
      ]
    },
    {
      "cell_type": "code",
      "execution_count": 24,
      "metadata": {
        "id": "XrZp9Pt0m-Xm"
      },
      "outputs": [],
      "source": [
        "clarify_with_user_instructions = \"\"\"\n",
        "These are the messages that have been exchanged so far from the user asking for the report:\n",
        "<Messages>\n",
        "{messages}\n",
        "</Messages>\n",
        "\n",
        "Today's date is {date}.\n",
        "\n",
        "IMPORTANT (date): In the JSON you return include a field \"date\" set to the current date EXACTLY as \"{date}\".\n",
        "Do not output extra text outside the JSON. The model's JSON must include these keys:\n",
        "\"need_clarification\": boolean,\n",
        "\"question\": \"<question to ask the user to clarify the report scope>\",\n",
        "\"verification\": \"<verification message we will use to start research>\",\n",
        "\"date\": \"<the current date as provided above>\"\n",
        "\n",
        "If you need to ask a clarifying question, return:\n",
        "{{\"need_clarification\": true, \"question\":\"<your question>\", \"verification\":\"\", \"date\":\"{date}\"}}\n",
        "\n",
        "If you do not need clarification, return:\n",
        "{{\"need_clarification\": false, \"question\":\"\", \"verification\":\"<acknowledgement>\",\"date\":\"{date}\"}}\n",
        "\"\"\"\n",
        "\n",
        "transform_messages_into_research_topic_prompt = \"\"\"\n",
        "You will be given messages exchanged so far:\n",
        "<Messages>\n",
        "{messages}\n",
        "</Messages>\n",
        "\n",
        "Today's date is {date}.\n",
        "\n",
        "Return a JSON object with two keys:\n",
        "- \"research_brief\": a single, specific, actionable research brief (use the first person).\n",
        "- \"date\": the current date EXACTLY as \"{date}\".\n",
        "\n",
        "Example:\n",
        "{{\"research_brief\":\"I want X, Y, Z...\", \"date\":\"{date}\"}}\n",
        "\"\"\"\n"
      ]
    },
    {
      "cell_type": "code",
      "execution_count": 25,
      "metadata": {
        "colab": {
          "base_uri": "https://localhost:8080/",
          "height": 437
        },
        "id": "Gsvn14h1nbbg",
        "outputId": "3696e361-1a5c-4ee3-dd07-ff69a0a066ad"
      },
      "outputs": [
        {
          "output_type": "display_data",
          "data": {
            "text/plain": [
              "\u001b[34m╭─\u001b[0m\u001b[34m───────────────────────────────────────\u001b[0m\u001b[34m \u001b[0m\u001b[1;32mClarify with User Instructions\u001b[0m\u001b[34m \u001b[0m\u001b[34m────────────────────────────────────────\u001b[0m\u001b[34m─╮\u001b[0m\n",
              "\u001b[34m│\u001b[0m                                                                                                                 \u001b[34m│\u001b[0m\n",
              "\u001b[34m│\u001b[0m                                                                                                                 \u001b[34m│\u001b[0m\n",
              "\u001b[34m│\u001b[0m  These are the messages that have been exchanged so far from the user asking for the report:                    \u001b[34m│\u001b[0m\n",
              "\u001b[34m│\u001b[0m  \u001b[1;34m<Messages>\u001b[0m                                                                                                     \u001b[34m│\u001b[0m\n",
              "\u001b[34m│\u001b[0m  (conversation buffer)                                                                                          \u001b[34m│\u001b[0m\n",
              "\u001b[34m│\u001b[0m  \u001b[1;34m</Messages>\u001b[0m                                                                                                    \u001b[34m│\u001b[0m\n",
              "\u001b[34m│\u001b[0m                                                                                                                 \u001b[34m│\u001b[0m\n",
              "\u001b[34m│\u001b[0m  Today's date is Wed Sep 17, 2025.                                                                              \u001b[34m│\u001b[0m\n",
              "\u001b[34m│\u001b[0m                                                                                                                 \u001b[34m│\u001b[0m\n",
              "\u001b[34m│\u001b[0m  IMPORTANT (date): In the JSON you return include a field \"date\" set to the current date EXACTLY as \"Wed Sep    \u001b[34m│\u001b[0m\n",
              "\u001b[34m│\u001b[0m  17, 2025\".                                                                                                     \u001b[34m│\u001b[0m\n",
              "\u001b[34m│\u001b[0m  Do not output extra text outside the JSON. The model's JSON must include these keys:                           \u001b[34m│\u001b[0m\n",
              "\u001b[34m│\u001b[0m  \"need_clarification\": boolean,                                                                                 \u001b[34m│\u001b[0m\n",
              "\u001b[34m│\u001b[0m  \"question\": \"\u001b[1;34m<question to ask the user to clarify the report scope>\u001b[0m\",                                          \u001b[34m│\u001b[0m\n",
              "\u001b[34m│\u001b[0m  \"verification\": \"\u001b[1;34m<verification message we will use to start research>\u001b[0m\",                                        \u001b[34m│\u001b[0m\n",
              "\u001b[34m│\u001b[0m  \"date\": \"\u001b[1;34m<the current date as provided above>\u001b[0m\"                                                                 \u001b[34m│\u001b[0m\n",
              "\u001b[34m│\u001b[0m                                                                                                                 \u001b[34m│\u001b[0m\n",
              "\u001b[34m│\u001b[0m  If you need to ask a clarifying question, return:                                                              \u001b[34m│\u001b[0m\n",
              "\u001b[34m│\u001b[0m  {\"need_clarification\": true, \"question\":\"\u001b[1;34m<your question>\u001b[0m\", \"verification\":\"\", \"date\":\"Wed Sep 17, 2025\"}       \u001b[34m│\u001b[0m\n",
              "\u001b[34m│\u001b[0m                                                                                                                 \u001b[34m│\u001b[0m\n",
              "\u001b[34m│\u001b[0m  If you do not need clarification, return:                                                                      \u001b[34m│\u001b[0m\n",
              "\u001b[34m│\u001b[0m  {\"need_clarification\": false, \"question\":\"\", \"verification\":\"\u001b[1;34m<acknowledgement>\u001b[0m\",\"date\":\"Wed Sep 17, 2025\"}     \u001b[34m│\u001b[0m\n",
              "\u001b[34m│\u001b[0m                                                                                                                 \u001b[34m│\u001b[0m\n",
              "\u001b[34m│\u001b[0m                                                                                                                 \u001b[34m│\u001b[0m\n",
              "\u001b[34m╰─────────────────────────────────────────────────────────────────────────────────────────────────────────────────╯\u001b[0m\n"
            ],
            "text/html": [
              "<pre style=\"white-space:pre;overflow-x:auto;line-height:normal;font-family:Menlo,'DejaVu Sans Mono',consolas,'Courier New',monospace\"><span style=\"color: #000080; text-decoration-color: #000080\">╭──────────────────────────────────────── </span><span style=\"color: #008000; text-decoration-color: #008000; font-weight: bold\">Clarify with User Instructions</span><span style=\"color: #000080; text-decoration-color: #000080\"> ─────────────────────────────────────────╮</span>\n",
              "<span style=\"color: #000080; text-decoration-color: #000080\">│</span>                                                                                                                 <span style=\"color: #000080; text-decoration-color: #000080\">│</span>\n",
              "<span style=\"color: #000080; text-decoration-color: #000080\">│</span>                                                                                                                 <span style=\"color: #000080; text-decoration-color: #000080\">│</span>\n",
              "<span style=\"color: #000080; text-decoration-color: #000080\">│</span>  These are the messages that have been exchanged so far from the user asking for the report:                    <span style=\"color: #000080; text-decoration-color: #000080\">│</span>\n",
              "<span style=\"color: #000080; text-decoration-color: #000080\">│</span>  <span style=\"color: #000080; text-decoration-color: #000080; font-weight: bold\">&lt;Messages&gt;</span>                                                                                                     <span style=\"color: #000080; text-decoration-color: #000080\">│</span>\n",
              "<span style=\"color: #000080; text-decoration-color: #000080\">│</span>  (conversation buffer)                                                                                          <span style=\"color: #000080; text-decoration-color: #000080\">│</span>\n",
              "<span style=\"color: #000080; text-decoration-color: #000080\">│</span>  <span style=\"color: #000080; text-decoration-color: #000080; font-weight: bold\">&lt;/Messages&gt;</span>                                                                                                    <span style=\"color: #000080; text-decoration-color: #000080\">│</span>\n",
              "<span style=\"color: #000080; text-decoration-color: #000080\">│</span>                                                                                                                 <span style=\"color: #000080; text-decoration-color: #000080\">│</span>\n",
              "<span style=\"color: #000080; text-decoration-color: #000080\">│</span>  Today's date is Wed Sep 17, 2025.                                                                              <span style=\"color: #000080; text-decoration-color: #000080\">│</span>\n",
              "<span style=\"color: #000080; text-decoration-color: #000080\">│</span>                                                                                                                 <span style=\"color: #000080; text-decoration-color: #000080\">│</span>\n",
              "<span style=\"color: #000080; text-decoration-color: #000080\">│</span>  IMPORTANT (date): In the JSON you return include a field \"date\" set to the current date EXACTLY as \"Wed Sep    <span style=\"color: #000080; text-decoration-color: #000080\">│</span>\n",
              "<span style=\"color: #000080; text-decoration-color: #000080\">│</span>  17, 2025\".                                                                                                     <span style=\"color: #000080; text-decoration-color: #000080\">│</span>\n",
              "<span style=\"color: #000080; text-decoration-color: #000080\">│</span>  Do not output extra text outside the JSON. The model's JSON must include these keys:                           <span style=\"color: #000080; text-decoration-color: #000080\">│</span>\n",
              "<span style=\"color: #000080; text-decoration-color: #000080\">│</span>  \"need_clarification\": boolean,                                                                                 <span style=\"color: #000080; text-decoration-color: #000080\">│</span>\n",
              "<span style=\"color: #000080; text-decoration-color: #000080\">│</span>  \"question\": \"<span style=\"color: #000080; text-decoration-color: #000080; font-weight: bold\">&lt;question to ask the user to clarify the report scope&gt;</span>\",                                          <span style=\"color: #000080; text-decoration-color: #000080\">│</span>\n",
              "<span style=\"color: #000080; text-decoration-color: #000080\">│</span>  \"verification\": \"<span style=\"color: #000080; text-decoration-color: #000080; font-weight: bold\">&lt;verification message we will use to start research&gt;</span>\",                                        <span style=\"color: #000080; text-decoration-color: #000080\">│</span>\n",
              "<span style=\"color: #000080; text-decoration-color: #000080\">│</span>  \"date\": \"<span style=\"color: #000080; text-decoration-color: #000080; font-weight: bold\">&lt;the current date as provided above&gt;</span>\"                                                                 <span style=\"color: #000080; text-decoration-color: #000080\">│</span>\n",
              "<span style=\"color: #000080; text-decoration-color: #000080\">│</span>                                                                                                                 <span style=\"color: #000080; text-decoration-color: #000080\">│</span>\n",
              "<span style=\"color: #000080; text-decoration-color: #000080\">│</span>  If you need to ask a clarifying question, return:                                                              <span style=\"color: #000080; text-decoration-color: #000080\">│</span>\n",
              "<span style=\"color: #000080; text-decoration-color: #000080\">│</span>  {\"need_clarification\": true, \"question\":\"<span style=\"color: #000080; text-decoration-color: #000080; font-weight: bold\">&lt;your question&gt;</span>\", \"verification\":\"\", \"date\":\"Wed Sep 17, 2025\"}       <span style=\"color: #000080; text-decoration-color: #000080\">│</span>\n",
              "<span style=\"color: #000080; text-decoration-color: #000080\">│</span>                                                                                                                 <span style=\"color: #000080; text-decoration-color: #000080\">│</span>\n",
              "<span style=\"color: #000080; text-decoration-color: #000080\">│</span>  If you do not need clarification, return:                                                                      <span style=\"color: #000080; text-decoration-color: #000080\">│</span>\n",
              "<span style=\"color: #000080; text-decoration-color: #000080\">│</span>  {\"need_clarification\": false, \"question\":\"\", \"verification\":\"<span style=\"color: #000080; text-decoration-color: #000080; font-weight: bold\">&lt;acknowledgement&gt;</span>\",\"date\":\"Wed Sep 17, 2025\"}     <span style=\"color: #000080; text-decoration-color: #000080\">│</span>\n",
              "<span style=\"color: #000080; text-decoration-color: #000080\">│</span>                                                                                                                 <span style=\"color: #000080; text-decoration-color: #000080\">│</span>\n",
              "<span style=\"color: #000080; text-decoration-color: #000080\">│</span>                                                                                                                 <span style=\"color: #000080; text-decoration-color: #000080\">│</span>\n",
              "<span style=\"color: #000080; text-decoration-color: #000080\">╰─────────────────────────────────────────────────────────────────────────────────────────────────────────────────╯</span>\n",
              "</pre>\n"
            ]
          },
          "metadata": {}
        }
      ],
      "source": [
        "clarify_with_user_instructions = \"\"\"\n",
        "These are the messages that have been exchanged so far from the user asking for the report:\n",
        "<Messages>\n",
        "{messages}\n",
        "</Messages>\n",
        "\n",
        "Today's date is {date}.\n",
        "\n",
        "IMPORTANT (date): In the JSON you return include a field \"date\" set to the current date EXACTLY as \"{date}\".\n",
        "Do not output extra text outside the JSON. The model's JSON must include these keys:\n",
        "\"need_clarification\": boolean,\n",
        "\"question\": \"<question to ask the user to clarify the report scope>\",\n",
        "\"verification\": \"<verification message we will use to start research>\",\n",
        "\"date\": \"<the current date as provided above>\"\n",
        "\n",
        "If you need to ask a clarifying question, return:\n",
        "{{\"need_clarification\": true, \"question\":\"<your question>\", \"verification\":\"\", \"date\":\"{date}\"}}\n",
        "\n",
        "If you do not need clarification, return:\n",
        "{{\"need_clarification\": false, \"question\":\"\", \"verification\":\"<acknowledgement>\",\"date\":\"{date}\"}}\n",
        "\"\"\"\n",
        "\n",
        "# show prompt header for reference\n",
        "show_prompt(clarify_with_user_instructions.format(messages=\"(conversation buffer)\", date=get_today_str()), \"Clarify with User Instructions\")"
      ]
    },
    {
      "cell_type": "code",
      "execution_count": 26,
      "metadata": {
        "id": "C7iwCsGEnrvR"
      },
      "outputs": [],
      "source": [
        "class AgentInputState(MessagesState): pass\n",
        "\n",
        "class AgentState(MessagesState):\n",
        "    research_brief: Optional[str]\n",
        "    supervisor_messages: Annotated[Sequence[BaseMessage], add_messages]\n",
        "    raw_notes: Annotated[list[str], operator.add] = []\n",
        "    notes: Annotated[list[str], operator.add] = []\n",
        "    final_report: str = \"\"\n",
        "\n",
        "class ClarifyWithUser(BaseModel):\n",
        "    need_clarification: bool = Field(...)\n",
        "    question: str = Field(...)\n",
        "    verification: str = Field(...)\n",
        "\n",
        "class ResearchQuestion(BaseModel):\n",
        "    research_brief: str = Field(...)\n"
      ]
    },
    {
      "cell_type": "code",
      "execution_count": 28,
      "metadata": {
        "id": "lY86Zy_sn8zx"
      },
      "outputs": [],
      "source": [
        "transform_messages_into_research_topic_prompt = \"\"\"\n",
        "You will be given messages exchanged so far:\n",
        "<Messages>\n",
        "{messages}\n",
        "</Messages>\n",
        "\n",
        "Today's date is {date}.\n",
        "\n",
        "Return a JSON object with two keys:\n",
        "- \"research_brief\": a single, specific, actionable research brief (use the first person).\n",
        "- \"date\": the current date EXACTLY as \"{date}\".\n",
        "\n",
        "Example:\n",
        "{{\"research_brief\":\"I want X, Y, Z...\", \"date\":\"{date}\"}}\n",
        "\"\"\"\n",
        "\n",
        "# IMPORTANT: nodes no longer display metrics in the node functions.\n",
        "def clarify_with_user(state: AgentState) -> Command[Literal[\"write_research_brief\", \"__end__\"]]:\n",
        "    structured_output_model = model.with_structured_output(ClarifyWithUser)\n",
        "\n",
        "    # Provide the date explicitly as system instruction so model sees it (and we also prepend it below)\n",
        "    system_msg = SystemMessage(content=f\"Date instruction: When responding, start your assistant message with a line exactly 'Date: {get_today_str()}'.\")\n",
        "\n",
        "    # Human prompt includes conversation buffer and date\n",
        "    user_prompt = HumanMessage(content=clarify_with_user_instructions.format(\n",
        "        messages=get_buffer_string(messages=state[\"messages\"]),\n",
        "        date=get_today_str()\n",
        "    ))\n",
        "\n",
        "    # Invoke model (structured output)\n",
        "    response = structured_output_model.invoke([system_msg, user_prompt])\n",
        "\n",
        "    # Build the AI message content starting with the date (guaranteed)\n",
        "    if response.need_clarification:\n",
        "        ai_text = f\"Date: {get_today_str()}\\n{response.question}\"\n",
        "        return Command(goto=END, update={\"messages\": [AIMessage(content=ai_text)]})\n",
        "    else:\n",
        "        ai_text = f\"Date: {get_today_str()}\\n{response.verification}\"\n",
        "        return Command(goto=\"write_research_brief\", update={\"messages\": [AIMessage(content=ai_text)]})\n",
        "\n",
        "def write_research_brief(state: AgentState):\n",
        "    structured_output_model = model.with_structured_output(ResearchQuestion)\n",
        "\n",
        "    system_msg = SystemMessage(content=f\"Date instruction: When responding, start your assistant message with a line exactly 'Date: {get_today_str()}'.\")\n",
        "\n",
        "    user_prompt = HumanMessage(content=transform_messages_into_research_topic_prompt.format(\n",
        "        messages=get_buffer_string(state.get(\"messages\", [])),\n",
        "        date=get_today_str()\n",
        "    ))\n",
        "\n",
        "    response = structured_output_model.invoke([system_msg, user_prompt])\n",
        "\n",
        "    # Ensure research brief starts with date\n",
        "    research_with_date = f\"Date: {get_today_str()}\\n{response.research_brief}\"\n",
        "\n",
        "    return {\n",
        "        \"research_brief\": research_with_date,\n",
        "        \"supervisor_messages\": [HumanMessage(content=f\"{research_with_date}.\")]\n",
        "    }"
      ]
    },
    {
      "cell_type": "code",
      "execution_count": 29,
      "metadata": {
        "colab": {
          "base_uri": "https://localhost:8080/",
          "height": 350
        },
        "id": "g0IDfFK6n_yK",
        "outputId": "677746ee-db5e-4c28-c296-4f1e9e4e8c13"
      },
      "outputs": [
        {
          "output_type": "display_data",
          "data": {
            "image/png": "[encoded data removed]",
            "text/plain": [
              "<IPython.core.display.Image object>"
            ]
          },
          "metadata": {}
        }
      ],
      "source": [
        "deep_researcher_builder = StateGraph(AgentState, input_schema=AgentInputState)\n",
        "deep_researcher_builder.add_node(\"clarify_with_user\", clarify_with_user)\n",
        "deep_researcher_builder.add_node(\"write_research_brief\", write_research_brief)\n",
        "deep_researcher_builder.add_edge(START, \"clarify_with_user\")\n",
        "deep_researcher_builder.add_edge(\"write_research_brief\", END)\n",
        "\n",
        "# Use an in-memory saver for demo; persistent option available\n",
        "checkpointer = InMemorySaver()\n",
        "scope = deep_researcher_builder.compile(checkpointer=checkpointer)\n",
        "\n",
        "# visualize graph (optional, will render in notebook)\n",
        "display(Image(scope.get_graph(xray=True).draw_mermaid_png()))\n"
      ]
    },
    {
      "cell_type": "code",
      "execution_count": 30,
      "metadata": {
        "id": "KeTgle8_oD1K"
      },
      "outputs": [],
      "source": [
        "# conversation state (keep these global in your notebook)\n",
        "thread = {\"configurable\": {\"thread_id\": \"chatbot_001\"}}\n",
        "conversation_history = []   # list[BaseMessage]\n",
        "metrics_log = []            # list[dict]\n",
        "\n",
        "def run_research_agent_turn(user_text: str):\n",
        "    \"\"\"\n",
        "    Run one user turn in the notebook. Returns the scope result.\n",
        "    Metrics are collected and appended to metrics_log silently.\n",
        "    \"\"\"\n",
        "    human_msg = HumanMessage(content=user_text)\n",
        "    # Append user message into conversation buffer\n",
        "    conversation_history.append(human_msg)\n",
        "\n",
        "    # Build messages to send to the StateGraph (we pass the whole conversation history)\n",
        "    messages_for_scope = conversation_history.copy()\n",
        "\n",
        "    # Run the graph (silent metrics returned)\n",
        "    result, run_metrics = run_with_metrics(\n",
        "        run_id=f\"turn_{len(metrics_log)+1}\",\n",
        "        scope_obj=scope,\n",
        "        messages_for_scope=messages_for_scope,\n",
        "        config=thread,\n",
        "        return_metrics=True\n",
        "    )\n",
        "\n",
        "    # attach a readable timestamp\n",
        "    run_metrics[\"turn_timestamp\"] = get_today_str()\n",
        "    metrics_log.append(run_metrics)\n",
        "\n",
        "    # Display assistant messages (these come from the graph nodes)\n",
        "    format_messages(result.get('messages', []))\n",
        "\n",
        "    # If a research brief was produced by the workflow, display it as markdown\n",
        "    if \"research_brief\" in result:\n",
        "        console.print(\"\\n[bold blue]🔹 Research Brief Generated:[/bold blue]\")\n",
        "        display(Markdown(result[\"research_brief\"]))\n",
        "\n",
        "    # Append AI messages from this result into conversation_history so next turn includes them\n",
        "    ai_msgs = [m for m in result.get('messages', []) if isinstance(m, AIMessage)]\n",
        "    conversation_history.extend(ai_msgs)\n",
        "\n",
        "    return result\n"
      ]
    },
    {
      "cell_type": "code",
      "execution_count": 31,
      "metadata": {
        "colab": {
          "base_uri": "https://localhost:8080/",
          "height": 1000
        },
        "id": "OvccmmFfoHA1",
        "outputId": "748924d6-af11-4f7e-d433-586d436dad20"
      },
      "outputs": [
        {
          "output_type": "display_data",
          "data": {
            "text/plain": [
              "\u001b[1;32mResearch Agent Chatbot started on Wed Sep \u001b[0m\u001b[1;32m17\u001b[0m\u001b[1;32m, \u001b[0m\u001b[1;32m2025\u001b[0m\n"
            ],
            "text/html": [
              "<pre style=\"white-space:pre;overflow-x:auto;line-height:normal;font-family:Menlo,'DejaVu Sans Mono',consolas,'Courier New',monospace\"><span style=\"color: #008000; text-decoration-color: #008000; font-weight: bold\">Research Agent Chatbot started on Wed Sep </span><span style=\"color: #008000; text-decoration-color: #008000; font-weight: bold\">17</span><span style=\"color: #008000; text-decoration-color: #008000; font-weight: bold\">, </span><span style=\"color: #008000; text-decoration-color: #008000; font-weight: bold\">2025</span>\n",
              "</pre>\n"
            ]
          },
          "metadata": {}
        },
        {
          "output_type": "display_data",
          "data": {
            "text/plain": [
              "\u001b[1;32mType \u001b[0m\u001b[1;32m'exit'\u001b[0m\u001b[1;32m or \u001b[0m\u001b[1;32m'quit'\u001b[0m\u001b[1;32m to end the chat and show metrics.\u001b[0m\n",
              "\n"
            ],
            "text/html": [
              "<pre style=\"white-space:pre;overflow-x:auto;line-height:normal;font-family:Menlo,'DejaVu Sans Mono',consolas,'Courier New',monospace\"><span style=\"color: #008000; text-decoration-color: #008000; font-weight: bold\">Type </span><span style=\"color: #008000; text-decoration-color: #008000; font-weight: bold\">'exit'</span><span style=\"color: #008000; text-decoration-color: #008000; font-weight: bold\"> or </span><span style=\"color: #008000; text-decoration-color: #008000; font-weight: bold\">'quit'</span><span style=\"color: #008000; text-decoration-color: #008000; font-weight: bold\"> to end the chat and show metrics.</span>\n",
              "\n",
              "</pre>\n"
            ]
          },
          "metadata": {}
        },
        {
          "name": "stdout",
          "output_type": "stream",
          "text": [
            "You: best cake in bangalore\n"
          ]
        },
        {
          "output_type": "display_data",
          "data": {
            "text/plain": [
              "\u001b[1;36mDate: Wed Sep \u001b[0m\u001b[1;36m17\u001b[0m\u001b[1;36m, \u001b[0m\u001b[1;36m2025\u001b[0m\n"
            ],
            "text/html": [
              "<pre style=\"white-space:pre;overflow-x:auto;line-height:normal;font-family:Menlo,'DejaVu Sans Mono',consolas,'Courier New',monospace\"><span style=\"color: #008080; text-decoration-color: #008080; font-weight: bold\">Date: Wed Sep </span><span style=\"color: #008080; text-decoration-color: #008080; font-weight: bold\">17</span><span style=\"color: #008080; text-decoration-color: #008080; font-weight: bold\">, </span><span style=\"color: #008080; text-decoration-color: #008080; font-weight: bold\">2025</span>\n",
              "</pre>\n"
            ]
          },
          "metadata": {}
        },
        {
          "output_type": "display_data",
          "data": {
            "text/plain": [
              "\u001b[34m╭─\u001b[0m\u001b[34m───────────────────────────────────────────────────\u001b[0m\u001b[34m  Human \u001b[0m\u001b[34m────────────────────────────────────────────────────\u001b[0m\u001b[34m─╮\u001b[0m\n",
              "\u001b[34m│\u001b[0m best cake in bangalore                                                                                          \u001b[34m│\u001b[0m\n",
              "\u001b[34m╰─────────────────────────────────────────────────────────────────────────────────────────────────────────────────╯\u001b[0m\n"
            ],
            "text/html": [
              "<pre style=\"white-space:pre;overflow-x:auto;line-height:normal;font-family:Menlo,'DejaVu Sans Mono',consolas,'Courier New',monospace\"><span style=\"color: #000080; text-decoration-color: #000080\">╭────────────────────────────────────────────────────  Human ─────────────────────────────────────────────────────╮</span>\n",
              "<span style=\"color: #000080; text-decoration-color: #000080\">│</span> best cake in bangalore                                                                                          <span style=\"color: #000080; text-decoration-color: #000080\">│</span>\n",
              "<span style=\"color: #000080; text-decoration-color: #000080\">╰─────────────────────────────────────────────────────────────────────────────────────────────────────────────────╯</span>\n",
              "</pre>\n"
            ]
          },
          "metadata": {}
        },
        {
          "output_type": "display_data",
          "data": {
            "text/plain": [
              "\u001b[37m╭─\u001b[0m\u001b[37m───────────────────────────────────────────────────\u001b[0m\u001b[37m  Other \u001b[0m\u001b[37m────────────────────────────────────────────────────\u001b[0m\u001b[37m─╮\u001b[0m\n",
              "\u001b[37m│\u001b[0m Date: Wed Sep 17, 2025                                                                                          \u001b[37m│\u001b[0m\n",
              "\u001b[37m│\u001b[0m What kind of report are you looking for? Are you looking for a list of the best cake shops in Bangalore, or     \u001b[37m│\u001b[0m\n",
              "\u001b[37m│\u001b[0m perhaps a recipe for a cake that is popular in Bangalore?                                                       \u001b[37m│\u001b[0m\n",
              "\u001b[37m╰─────────────────────────────────────────────────────────────────────────────────────────────────────────────────╯\u001b[0m\n"
            ],
            "text/html": [
              "<pre style=\"white-space:pre;overflow-x:auto;line-height:normal;font-family:Menlo,'DejaVu Sans Mono',consolas,'Courier New',monospace\"><span style=\"color: #c0c0c0; text-decoration-color: #c0c0c0\">╭────────────────────────────────────────────────────  Other ─────────────────────────────────────────────────────╮</span>\n",
              "<span style=\"color: #c0c0c0; text-decoration-color: #c0c0c0\">│</span> Date: Wed Sep 17, 2025                                                                                          <span style=\"color: #c0c0c0; text-decoration-color: #c0c0c0\">│</span>\n",
              "<span style=\"color: #c0c0c0; text-decoration-color: #c0c0c0\">│</span> What kind of report are you looking for? Are you looking for a list of the best cake shops in Bangalore, or     <span style=\"color: #c0c0c0; text-decoration-color: #c0c0c0\">│</span>\n",
              "<span style=\"color: #c0c0c0; text-decoration-color: #c0c0c0\">│</span> perhaps a recipe for a cake that is popular in Bangalore?                                                       <span style=\"color: #c0c0c0; text-decoration-color: #c0c0c0\">│</span>\n",
              "<span style=\"color: #c0c0c0; text-decoration-color: #c0c0c0\">╰─────────────────────────────────────────────────────────────────────────────────────────────────────────────────╯</span>\n",
              "</pre>\n"
            ]
          },
          "metadata": {}
        },
        {
          "name": "stdout",
          "output_type": "stream",
          "text": [
            "You: │ best bakeries with chocolate blueberry cake   \n"
          ]
        },
        {
          "output_type": "display_data",
          "data": {
            "text/plain": [
              "\u001b[1;36mDate: Wed Sep \u001b[0m\u001b[1;36m17\u001b[0m\u001b[1;36m, \u001b[0m\u001b[1;36m2025\u001b[0m\n"
            ],
            "text/html": [
              "<pre style=\"white-space:pre;overflow-x:auto;line-height:normal;font-family:Menlo,'DejaVu Sans Mono',consolas,'Courier New',monospace\"><span style=\"color: #008080; text-decoration-color: #008080; font-weight: bold\">Date: Wed Sep </span><span style=\"color: #008080; text-decoration-color: #008080; font-weight: bold\">17</span><span style=\"color: #008080; text-decoration-color: #008080; font-weight: bold\">, </span><span style=\"color: #008080; text-decoration-color: #008080; font-weight: bold\">2025</span>\n",
              "</pre>\n"
            ]
          },
          "metadata": {}
        },
        {
          "output_type": "display_data",
          "data": {
            "text/plain": [
              "\u001b[34m╭─\u001b[0m\u001b[34m───────────────────────────────────────────────────\u001b[0m\u001b[34m  Human \u001b[0m\u001b[34m────────────────────────────────────────────────────\u001b[0m\u001b[34m─╮\u001b[0m\n",
              "\u001b[34m│\u001b[0m best cake in bangalore                                                                                          \u001b[34m│\u001b[0m\n",
              "\u001b[34m╰─────────────────────────────────────────────────────────────────────────────────────────────────────────────────╯\u001b[0m\n"
            ],
            "text/html": [
              "<pre style=\"white-space:pre;overflow-x:auto;line-height:normal;font-family:Menlo,'DejaVu Sans Mono',consolas,'Courier New',monospace\"><span style=\"color: #000080; text-decoration-color: #000080\">╭────────────────────────────────────────────────────  Human ─────────────────────────────────────────────────────╮</span>\n",
              "<span style=\"color: #000080; text-decoration-color: #000080\">│</span> best cake in bangalore                                                                                          <span style=\"color: #000080; text-decoration-color: #000080\">│</span>\n",
              "<span style=\"color: #000080; text-decoration-color: #000080\">╰─────────────────────────────────────────────────────────────────────────────────────────────────────────────────╯</span>\n",
              "</pre>\n"
            ]
          },
          "metadata": {}
        },
        {
          "output_type": "display_data",
          "data": {
            "text/plain": [
              "\u001b[37m╭─\u001b[0m\u001b[37m───────────────────────────────────────────────────\u001b[0m\u001b[37m  Other \u001b[0m\u001b[37m────────────────────────────────────────────────────\u001b[0m\u001b[37m─╮\u001b[0m\n",
              "\u001b[37m│\u001b[0m Date: Wed Sep 17, 2025                                                                                          \u001b[37m│\u001b[0m\n",
              "\u001b[37m│\u001b[0m What kind of report are you looking for? Are you looking for a list of the best cake shops in Bangalore, or     \u001b[37m│\u001b[0m\n",
              "\u001b[37m│\u001b[0m perhaps a recipe for a cake that is popular in Bangalore?                                                       \u001b[37m│\u001b[0m\n",
              "\u001b[37m╰─────────────────────────────────────────────────────────────────────────────────────────────────────────────────╯\u001b[0m\n"
            ],
            "text/html": [
              "<pre style=\"white-space:pre;overflow-x:auto;line-height:normal;font-family:Menlo,'DejaVu Sans Mono',consolas,'Courier New',monospace\"><span style=\"color: #c0c0c0; text-decoration-color: #c0c0c0\">╭────────────────────────────────────────────────────  Other ─────────────────────────────────────────────────────╮</span>\n",
              "<span style=\"color: #c0c0c0; text-decoration-color: #c0c0c0\">│</span> Date: Wed Sep 17, 2025                                                                                          <span style=\"color: #c0c0c0; text-decoration-color: #c0c0c0\">│</span>\n",
              "<span style=\"color: #c0c0c0; text-decoration-color: #c0c0c0\">│</span> What kind of report are you looking for? Are you looking for a list of the best cake shops in Bangalore, or     <span style=\"color: #c0c0c0; text-decoration-color: #c0c0c0\">│</span>\n",
              "<span style=\"color: #c0c0c0; text-decoration-color: #c0c0c0\">│</span> perhaps a recipe for a cake that is popular in Bangalore?                                                       <span style=\"color: #c0c0c0; text-decoration-color: #c0c0c0\">│</span>\n",
              "<span style=\"color: #c0c0c0; text-decoration-color: #c0c0c0\">╰─────────────────────────────────────────────────────────────────────────────────────────────────────────────────╯</span>\n",
              "</pre>\n"
            ]
          },
          "metadata": {}
        },
        {
          "output_type": "display_data",
          "data": {
            "text/plain": [
              "\u001b[34m╭─\u001b[0m\u001b[34m───────────────────────────────────────────────────\u001b[0m\u001b[34m  Human \u001b[0m\u001b[34m────────────────────────────────────────────────────\u001b[0m\u001b[34m─╮\u001b[0m\n",
              "\u001b[34m│\u001b[0m │ best bakeries with chocolate blueberry cake                                                                   \u001b[34m│\u001b[0m\n",
              "\u001b[34m╰─────────────────────────────────────────────────────────────────────────────────────────────────────────────────╯\u001b[0m\n"
            ],
            "text/html": [
              "<pre style=\"white-space:pre;overflow-x:auto;line-height:normal;font-family:Menlo,'DejaVu Sans Mono',consolas,'Courier New',monospace\"><span style=\"color: #000080; text-decoration-color: #000080\">╭────────────────────────────────────────────────────  Human ─────────────────────────────────────────────────────╮</span>\n",
              "<span style=\"color: #000080; text-decoration-color: #000080\">│</span> │ best bakeries with chocolate blueberry cake                                                                   <span style=\"color: #000080; text-decoration-color: #000080\">│</span>\n",
              "<span style=\"color: #000080; text-decoration-color: #000080\">╰─────────────────────────────────────────────────────────────────────────────────────────────────────────────────╯</span>\n",
              "</pre>\n"
            ]
          },
          "metadata": {}
        },
        {
          "output_type": "display_data",
          "data": {
            "text/plain": [
              "\u001b[37m╭─\u001b[0m\u001b[37m───────────────────────────────────────────────────\u001b[0m\u001b[37m  Other \u001b[0m\u001b[37m────────────────────────────────────────────────────\u001b[0m\u001b[37m─╮\u001b[0m\n",
              "\u001b[37m│\u001b[0m Date: Wed Sep 17, 2025                                                                                          \u001b[37m│\u001b[0m\n",
              "\u001b[37m│\u001b[0m I will search for bakeries with chocolate blueberry cake in Bangalore.                                          \u001b[37m│\u001b[0m\n",
              "\u001b[37m╰─────────────────────────────────────────────────────────────────────────────────────────────────────────────────╯\u001b[0m\n"
            ],
            "text/html": [
              "<pre style=\"white-space:pre;overflow-x:auto;line-height:normal;font-family:Menlo,'DejaVu Sans Mono',consolas,'Courier New',monospace\"><span style=\"color: #c0c0c0; text-decoration-color: #c0c0c0\">╭────────────────────────────────────────────────────  Other ─────────────────────────────────────────────────────╮</span>\n",
              "<span style=\"color: #c0c0c0; text-decoration-color: #c0c0c0\">│</span> Date: Wed Sep 17, 2025                                                                                          <span style=\"color: #c0c0c0; text-decoration-color: #c0c0c0\">│</span>\n",
              "<span style=\"color: #c0c0c0; text-decoration-color: #c0c0c0\">│</span> I will search for bakeries with chocolate blueberry cake in Bangalore.                                          <span style=\"color: #c0c0c0; text-decoration-color: #c0c0c0\">│</span>\n",
              "<span style=\"color: #c0c0c0; text-decoration-color: #c0c0c0\">╰─────────────────────────────────────────────────────────────────────────────────────────────────────────────────╯</span>\n",
              "</pre>\n"
            ]
          },
          "metadata": {}
        },
        {
          "output_type": "display_data",
          "data": {
            "text/plain": [
              "\n",
              "\u001b[1;34m🔹 Research Brief Generated:\u001b[0m\n"
            ],
            "text/html": [
              "<pre style=\"white-space:pre;overflow-x:auto;line-height:normal;font-family:Menlo,'DejaVu Sans Mono',consolas,'Courier New',monospace\">\n",
              "<span style=\"color: #000080; text-decoration-color: #000080; font-weight: bold\">🔹 Research Brief Generated:</span>\n",
              "</pre>\n"
            ]
          },
          "metadata": {}
        },
        {
          "output_type": "display_data",
          "data": {
            "text/plain": [
              "Date: Wed Sep 17, 2025 I want to find the best bakeries in Bangalore that offer chocolate blueberry cake.          \n"
            ],
            "text/html": [
              "<pre style=\"white-space:pre;overflow-x:auto;line-height:normal;font-family:Menlo,'DejaVu Sans Mono',consolas,'Courier New',monospace\">Date: Wed Sep 17, 2025 I want to find the best bakeries in Bangalore that offer chocolate blueberry cake.          \n",
              "</pre>\n"
            ]
          },
          "metadata": {}
        },
        {
          "name": "stdout",
          "output_type": "stream",
          "text": [
            "You: Here are the prices for the cakes at the bakeries in Bangalore that offer or are known for a chocolate            blueberry cake:  Cakeday Bakehouse: Their chocolate blueberry cake is priced at Rs. 449.  Aubree Haute            Chocolaterie: The Eggless Blueberry cake is priced at ₹ 940.  SMOOR: The Perfect Blueberry Cheesecake is priced   at ₹ 1,533 for a half kilogram. The price of their blueberry crumble cake is not available online.  Liliyum       Patisserie: Their Blueberry Tea Cake is priced at Rs. 675, and their celebration Blueberry cake ranges from Rs. 1,195 to Rs. 3,295.  Please note that prices can vary based on size and customization.\n"
          ]
        },
        {
          "output_type": "display_data",
          "data": {
            "text/plain": [
              "\u001b[1;36mDate: Wed Sep \u001b[0m\u001b[1;36m17\u001b[0m\u001b[1;36m, \u001b[0m\u001b[1;36m2025\u001b[0m\n"
            ],
            "text/html": [
              "<pre style=\"white-space:pre;overflow-x:auto;line-height:normal;font-family:Menlo,'DejaVu Sans Mono',consolas,'Courier New',monospace\"><span style=\"color: #008080; text-decoration-color: #008080; font-weight: bold\">Date: Wed Sep </span><span style=\"color: #008080; text-decoration-color: #008080; font-weight: bold\">17</span><span style=\"color: #008080; text-decoration-color: #008080; font-weight: bold\">, </span><span style=\"color: #008080; text-decoration-color: #008080; font-weight: bold\">2025</span>\n",
              "</pre>\n"
            ]
          },
          "metadata": {}
        },
        {
          "output_type": "display_data",
          "data": {
            "text/plain": [
              "\u001b[34m╭─\u001b[0m\u001b[34m───────────────────────────────────────────────────\u001b[0m\u001b[34m  Human \u001b[0m\u001b[34m────────────────────────────────────────────────────\u001b[0m\u001b[34m─╮\u001b[0m\n",
              "\u001b[34m│\u001b[0m best cake in bangalore                                                                                          \u001b[34m│\u001b[0m\n",
              "\u001b[34m╰─────────────────────────────────────────────────────────────────────────────────────────────────────────────────╯\u001b[0m\n"
            ],
            "text/html": [
              "<pre style=\"white-space:pre;overflow-x:auto;line-height:normal;font-family:Menlo,'DejaVu Sans Mono',consolas,'Courier New',monospace\"><span style=\"color: #000080; text-decoration-color: #000080\">╭────────────────────────────────────────────────────  Human ─────────────────────────────────────────────────────╮</span>\n",
              "<span style=\"color: #000080; text-decoration-color: #000080\">│</span> best cake in bangalore                                                                                          <span style=\"color: #000080; text-decoration-color: #000080\">│</span>\n",
              "<span style=\"color: #000080; text-decoration-color: #000080\">╰─────────────────────────────────────────────────────────────────────────────────────────────────────────────────╯</span>\n",
              "</pre>\n"
            ]
          },
          "metadata": {}
        },
        {
          "output_type": "display_data",
          "data": {
            "text/plain": [
              "\u001b[37m╭─\u001b[0m\u001b[37m───────────────────────────────────────────────────\u001b[0m\u001b[37m  Other \u001b[0m\u001b[37m────────────────────────────────────────────────────\u001b[0m\u001b[37m─╮\u001b[0m\n",
              "\u001b[37m│\u001b[0m Date: Wed Sep 17, 2025                                                                                          \u001b[37m│\u001b[0m\n",
              "\u001b[37m│\u001b[0m What kind of report are you looking for? Are you looking for a list of the best cake shops in Bangalore, or     \u001b[37m│\u001b[0m\n",
              "\u001b[37m│\u001b[0m perhaps a recipe for a cake that is popular in Bangalore?                                                       \u001b[37m│\u001b[0m\n",
              "\u001b[37m╰─────────────────────────────────────────────────────────────────────────────────────────────────────────────────╯\u001b[0m\n"
            ],
            "text/html": [
              "<pre style=\"white-space:pre;overflow-x:auto;line-height:normal;font-family:Menlo,'DejaVu Sans Mono',consolas,'Courier New',monospace\"><span style=\"color: #c0c0c0; text-decoration-color: #c0c0c0\">╭────────────────────────────────────────────────────  Other ─────────────────────────────────────────────────────╮</span>\n",
              "<span style=\"color: #c0c0c0; text-decoration-color: #c0c0c0\">│</span> Date: Wed Sep 17, 2025                                                                                          <span style=\"color: #c0c0c0; text-decoration-color: #c0c0c0\">│</span>\n",
              "<span style=\"color: #c0c0c0; text-decoration-color: #c0c0c0\">│</span> What kind of report are you looking for? Are you looking for a list of the best cake shops in Bangalore, or     <span style=\"color: #c0c0c0; text-decoration-color: #c0c0c0\">│</span>\n",
              "<span style=\"color: #c0c0c0; text-decoration-color: #c0c0c0\">│</span> perhaps a recipe for a cake that is popular in Bangalore?                                                       <span style=\"color: #c0c0c0; text-decoration-color: #c0c0c0\">│</span>\n",
              "<span style=\"color: #c0c0c0; text-decoration-color: #c0c0c0\">╰─────────────────────────────────────────────────────────────────────────────────────────────────────────────────╯</span>\n",
              "</pre>\n"
            ]
          },
          "metadata": {}
        },
        {
          "output_type": "display_data",
          "data": {
            "text/plain": [
              "\u001b[34m╭─\u001b[0m\u001b[34m───────────────────────────────────────────────────\u001b[0m\u001b[34m  Human \u001b[0m\u001b[34m────────────────────────────────────────────────────\u001b[0m\u001b[34m─╮\u001b[0m\n",
              "\u001b[34m│\u001b[0m │ best bakeries with chocolate blueberry cake                                                                   \u001b[34m│\u001b[0m\n",
              "\u001b[34m╰─────────────────────────────────────────────────────────────────────────────────────────────────────────────────╯\u001b[0m\n"
            ],
            "text/html": [
              "<pre style=\"white-space:pre;overflow-x:auto;line-height:normal;font-family:Menlo,'DejaVu Sans Mono',consolas,'Courier New',monospace\"><span style=\"color: #000080; text-decoration-color: #000080\">╭────────────────────────────────────────────────────  Human ─────────────────────────────────────────────────────╮</span>\n",
              "<span style=\"color: #000080; text-decoration-color: #000080\">│</span> │ best bakeries with chocolate blueberry cake                                                                   <span style=\"color: #000080; text-decoration-color: #000080\">│</span>\n",
              "<span style=\"color: #000080; text-decoration-color: #000080\">╰─────────────────────────────────────────────────────────────────────────────────────────────────────────────────╯</span>\n",
              "</pre>\n"
            ]
          },
          "metadata": {}
        },
        {
          "output_type": "display_data",
          "data": {
            "text/plain": [
              "\u001b[37m╭─\u001b[0m\u001b[37m───────────────────────────────────────────────────\u001b[0m\u001b[37m  Other \u001b[0m\u001b[37m────────────────────────────────────────────────────\u001b[0m\u001b[37m─╮\u001b[0m\n",
              "\u001b[37m│\u001b[0m Date: Wed Sep 17, 2025                                                                                          \u001b[37m│\u001b[0m\n",
              "\u001b[37m│\u001b[0m I will search for bakeries with chocolate blueberry cake in Bangalore.                                          \u001b[37m│\u001b[0m\n",
              "\u001b[37m╰─────────────────────────────────────────────────────────────────────────────────────────────────────────────────╯\u001b[0m\n"
            ],
            "text/html": [
              "<pre style=\"white-space:pre;overflow-x:auto;line-height:normal;font-family:Menlo,'DejaVu Sans Mono',consolas,'Courier New',monospace\"><span style=\"color: #c0c0c0; text-decoration-color: #c0c0c0\">╭────────────────────────────────────────────────────  Other ─────────────────────────────────────────────────────╮</span>\n",
              "<span style=\"color: #c0c0c0; text-decoration-color: #c0c0c0\">│</span> Date: Wed Sep 17, 2025                                                                                          <span style=\"color: #c0c0c0; text-decoration-color: #c0c0c0\">│</span>\n",
              "<span style=\"color: #c0c0c0; text-decoration-color: #c0c0c0\">│</span> I will search for bakeries with chocolate blueberry cake in Bangalore.                                          <span style=\"color: #c0c0c0; text-decoration-color: #c0c0c0\">│</span>\n",
              "<span style=\"color: #c0c0c0; text-decoration-color: #c0c0c0\">╰─────────────────────────────────────────────────────────────────────────────────────────────────────────────────╯</span>\n",
              "</pre>\n"
            ]
          },
          "metadata": {}
        },
        {
          "output_type": "display_data",
          "data": {
            "text/plain": [
              "\u001b[34m╭─\u001b[0m\u001b[34m───────────────────────────────────────────────────\u001b[0m\u001b[34m  Human \u001b[0m\u001b[34m────────────────────────────────────────────────────\u001b[0m\u001b[34m─╮\u001b[0m\n",
              "\u001b[34m│\u001b[0m Here are the prices for the cakes at the bakeries in Bangalore that offer or are known for a chocolate          \u001b[34m│\u001b[0m\n",
              "\u001b[34m│\u001b[0m blueberry cake:  Cakeday Bakehouse: Their chocolate blueberry cake is priced at Rs. 449.  Aubree Haute          \u001b[34m│\u001b[0m\n",
              "\u001b[34m│\u001b[0m Chocolaterie: The Eggless Blueberry cake is priced at ₹ 940.  SMOOR: The Perfect Blueberry Cheesecake is priced \u001b[34m│\u001b[0m\n",
              "\u001b[34m│\u001b[0m at ₹ 1,533 for a half kilogram. The price of their blueberry crumble cake is not available online.  Liliyum     \u001b[34m│\u001b[0m\n",
              "\u001b[34m│\u001b[0m Patisserie: Their Blueberry Tea Cake is priced at Rs. 675, and their celebration Blueberry cake ranges from Rs. \u001b[34m│\u001b[0m\n",
              "\u001b[34m│\u001b[0m 1,195 to Rs. 3,295.  Please note that prices can vary based on size and customization.                          \u001b[34m│\u001b[0m\n",
              "\u001b[34m╰─────────────────────────────────────────────────────────────────────────────────────────────────────────────────╯\u001b[0m\n"
            ],
            "text/html": [
              "<pre style=\"white-space:pre;overflow-x:auto;line-height:normal;font-family:Menlo,'DejaVu Sans Mono',consolas,'Courier New',monospace\"><span style=\"color: #000080; text-decoration-color: #000080\">╭────────────────────────────────────────────────────  Human ─────────────────────────────────────────────────────╮</span>\n",
              "<span style=\"color: #000080; text-decoration-color: #000080\">│</span> Here are the prices for the cakes at the bakeries in Bangalore that offer or are known for a chocolate          <span style=\"color: #000080; text-decoration-color: #000080\">│</span>\n",
              "<span style=\"color: #000080; text-decoration-color: #000080\">│</span> blueberry cake:  Cakeday Bakehouse: Their chocolate blueberry cake is priced at Rs. 449.  Aubree Haute          <span style=\"color: #000080; text-decoration-color: #000080\">│</span>\n",
              "<span style=\"color: #000080; text-decoration-color: #000080\">│</span> Chocolaterie: The Eggless Blueberry cake is priced at ₹ 940.  SMOOR: The Perfect Blueberry Cheesecake is priced <span style=\"color: #000080; text-decoration-color: #000080\">│</span>\n",
              "<span style=\"color: #000080; text-decoration-color: #000080\">│</span> at ₹ 1,533 for a half kilogram. The price of their blueberry crumble cake is not available online.  Liliyum     <span style=\"color: #000080; text-decoration-color: #000080\">│</span>\n",
              "<span style=\"color: #000080; text-decoration-color: #000080\">│</span> Patisserie: Their Blueberry Tea Cake is priced at Rs. 675, and their celebration Blueberry cake ranges from Rs. <span style=\"color: #000080; text-decoration-color: #000080\">│</span>\n",
              "<span style=\"color: #000080; text-decoration-color: #000080\">│</span> 1,195 to Rs. 3,295.  Please note that prices can vary based on size and customization.                          <span style=\"color: #000080; text-decoration-color: #000080\">│</span>\n",
              "<span style=\"color: #000080; text-decoration-color: #000080\">╰─────────────────────────────────────────────────────────────────────────────────────────────────────────────────╯</span>\n",
              "</pre>\n"
            ]
          },
          "metadata": {}
        },
        {
          "output_type": "display_data",
          "data": {
            "text/plain": [
              "\u001b[37m╭─\u001b[0m\u001b[37m───────────────────────────────────────────────────\u001b[0m\u001b[37m  Other \u001b[0m\u001b[37m────────────────────────────────────────────────────\u001b[0m\u001b[37m─╮\u001b[0m\n",
              "\u001b[37m│\u001b[0m Date: Wed Sep 17, 2025                                                                                          \u001b[37m│\u001b[0m\n",
              "\u001b[37m│\u001b[0m I have provided the prices for chocolate blueberry cakes at various bakeries in Bangalore. Is there anything    \u001b[37m│\u001b[0m\n",
              "\u001b[37m│\u001b[0m else I can help you with regarding this?                                                                        \u001b[37m│\u001b[0m\n",
              "\u001b[37m╰─────────────────────────────────────────────────────────────────────────────────────────────────────────────────╯\u001b[0m\n"
            ],
            "text/html": [
              "<pre style=\"white-space:pre;overflow-x:auto;line-height:normal;font-family:Menlo,'DejaVu Sans Mono',consolas,'Courier New',monospace\"><span style=\"color: #c0c0c0; text-decoration-color: #c0c0c0\">╭────────────────────────────────────────────────────  Other ─────────────────────────────────────────────────────╮</span>\n",
              "<span style=\"color: #c0c0c0; text-decoration-color: #c0c0c0\">│</span> Date: Wed Sep 17, 2025                                                                                          <span style=\"color: #c0c0c0; text-decoration-color: #c0c0c0\">│</span>\n",
              "<span style=\"color: #c0c0c0; text-decoration-color: #c0c0c0\">│</span> I have provided the prices for chocolate blueberry cakes at various bakeries in Bangalore. Is there anything    <span style=\"color: #c0c0c0; text-decoration-color: #c0c0c0\">│</span>\n",
              "<span style=\"color: #c0c0c0; text-decoration-color: #c0c0c0\">│</span> else I can help you with regarding this?                                                                        <span style=\"color: #c0c0c0; text-decoration-color: #c0c0c0\">│</span>\n",
              "<span style=\"color: #c0c0c0; text-decoration-color: #c0c0c0\">╰─────────────────────────────────────────────────────────────────────────────────────────────────────────────────╯</span>\n",
              "</pre>\n"
            ]
          },
          "metadata": {}
        },
        {
          "output_type": "display_data",
          "data": {
            "text/plain": [
              "\n",
              "\u001b[1;34m🔹 Research Brief Generated:\u001b[0m\n"
            ],
            "text/html": [
              "<pre style=\"white-space:pre;overflow-x:auto;line-height:normal;font-family:Menlo,'DejaVu Sans Mono',consolas,'Courier New',monospace\">\n",
              "<span style=\"color: #000080; text-decoration-color: #000080; font-weight: bold\">🔹 Research Brief Generated:</span>\n",
              "</pre>\n"
            ]
          },
          "metadata": {}
        },
        {
          "output_type": "display_data",
          "data": {
            "text/plain": [
              "Date: Wed Sep 17, 2025 I want to know the most popular cake flavors in Bangalore.                                  \n"
            ],
            "text/html": [
              "<pre style=\"white-space:pre;overflow-x:auto;line-height:normal;font-family:Menlo,'DejaVu Sans Mono',consolas,'Courier New',monospace\">Date: Wed Sep 17, 2025 I want to know the most popular cake flavors in Bangalore.                                  \n",
              "</pre>\n"
            ]
          },
          "metadata": {}
        },
        {
          "name": "stdout",
          "output_type": "stream",
          "text": [
            "You: free from artifical coloring \n"
          ]
        },
        {
          "output_type": "display_data",
          "data": {
            "text/plain": [
              "\u001b[1;36mDate: Wed Sep \u001b[0m\u001b[1;36m17\u001b[0m\u001b[1;36m, \u001b[0m\u001b[1;36m2025\u001b[0m\n"
            ],
            "text/html": [
              "<pre style=\"white-space:pre;overflow-x:auto;line-height:normal;font-family:Menlo,'DejaVu Sans Mono',consolas,'Courier New',monospace\"><span style=\"color: #008080; text-decoration-color: #008080; font-weight: bold\">Date: Wed Sep </span><span style=\"color: #008080; text-decoration-color: #008080; font-weight: bold\">17</span><span style=\"color: #008080; text-decoration-color: #008080; font-weight: bold\">, </span><span style=\"color: #008080; text-decoration-color: #008080; font-weight: bold\">2025</span>\n",
              "</pre>\n"
            ]
          },
          "metadata": {}
        },
        {
          "output_type": "display_data",
          "data": {
            "text/plain": [
              "\u001b[34m╭─\u001b[0m\u001b[34m───────────────────────────────────────────────────\u001b[0m\u001b[34m  Human \u001b[0m\u001b[34m────────────────────────────────────────────────────\u001b[0m\u001b[34m─╮\u001b[0m\n",
              "\u001b[34m│\u001b[0m best cake in bangalore                                                                                          \u001b[34m│\u001b[0m\n",
              "\u001b[34m╰─────────────────────────────────────────────────────────────────────────────────────────────────────────────────╯\u001b[0m\n"
            ],
            "text/html": [
              "<pre style=\"white-space:pre;overflow-x:auto;line-height:normal;font-family:Menlo,'DejaVu Sans Mono',consolas,'Courier New',monospace\"><span style=\"color: #000080; text-decoration-color: #000080\">╭────────────────────────────────────────────────────  Human ─────────────────────────────────────────────────────╮</span>\n",
              "<span style=\"color: #000080; text-decoration-color: #000080\">│</span> best cake in bangalore                                                                                          <span style=\"color: #000080; text-decoration-color: #000080\">│</span>\n",
              "<span style=\"color: #000080; text-decoration-color: #000080\">╰─────────────────────────────────────────────────────────────────────────────────────────────────────────────────╯</span>\n",
              "</pre>\n"
            ]
          },
          "metadata": {}
        },
        {
          "output_type": "display_data",
          "data": {
            "text/plain": [
              "\u001b[37m╭─\u001b[0m\u001b[37m───────────────────────────────────────────────────\u001b[0m\u001b[37m  Other \u001b[0m\u001b[37m────────────────────────────────────────────────────\u001b[0m\u001b[37m─╮\u001b[0m\n",
              "\u001b[37m│\u001b[0m Date: Wed Sep 17, 2025                                                                                          \u001b[37m│\u001b[0m\n",
              "\u001b[37m│\u001b[0m What kind of report are you looking for? Are you looking for a list of the best cake shops in Bangalore, or     \u001b[37m│\u001b[0m\n",
              "\u001b[37m│\u001b[0m perhaps a recipe for a cake that is popular in Bangalore?                                                       \u001b[37m│\u001b[0m\n",
              "\u001b[37m╰─────────────────────────────────────────────────────────────────────────────────────────────────────────────────╯\u001b[0m\n"
            ],
            "text/html": [
              "<pre style=\"white-space:pre;overflow-x:auto;line-height:normal;font-family:Menlo,'DejaVu Sans Mono',consolas,'Courier New',monospace\"><span style=\"color: #c0c0c0; text-decoration-color: #c0c0c0\">╭────────────────────────────────────────────────────  Other ─────────────────────────────────────────────────────╮</span>\n",
              "<span style=\"color: #c0c0c0; text-decoration-color: #c0c0c0\">│</span> Date: Wed Sep 17, 2025                                                                                          <span style=\"color: #c0c0c0; text-decoration-color: #c0c0c0\">│</span>\n",
              "<span style=\"color: #c0c0c0; text-decoration-color: #c0c0c0\">│</span> What kind of report are you looking for? Are you looking for a list of the best cake shops in Bangalore, or     <span style=\"color: #c0c0c0; text-decoration-color: #c0c0c0\">│</span>\n",
              "<span style=\"color: #c0c0c0; text-decoration-color: #c0c0c0\">│</span> perhaps a recipe for a cake that is popular in Bangalore?                                                       <span style=\"color: #c0c0c0; text-decoration-color: #c0c0c0\">│</span>\n",
              "<span style=\"color: #c0c0c0; text-decoration-color: #c0c0c0\">╰─────────────────────────────────────────────────────────────────────────────────────────────────────────────────╯</span>\n",
              "</pre>\n"
            ]
          },
          "metadata": {}
        },
        {
          "output_type": "display_data",
          "data": {
            "text/plain": [
              "\u001b[34m╭─\u001b[0m\u001b[34m───────────────────────────────────────────────────\u001b[0m\u001b[34m  Human \u001b[0m\u001b[34m────────────────────────────────────────────────────\u001b[0m\u001b[34m─╮\u001b[0m\n",
              "\u001b[34m│\u001b[0m │ best bakeries with chocolate blueberry cake                                                                   \u001b[34m│\u001b[0m\n",
              "\u001b[34m╰─────────────────────────────────────────────────────────────────────────────────────────────────────────────────╯\u001b[0m\n"
            ],
            "text/html": [
              "<pre style=\"white-space:pre;overflow-x:auto;line-height:normal;font-family:Menlo,'DejaVu Sans Mono',consolas,'Courier New',monospace\"><span style=\"color: #000080; text-decoration-color: #000080\">╭────────────────────────────────────────────────────  Human ─────────────────────────────────────────────────────╮</span>\n",
              "<span style=\"color: #000080; text-decoration-color: #000080\">│</span> │ best bakeries with chocolate blueberry cake                                                                   <span style=\"color: #000080; text-decoration-color: #000080\">│</span>\n",
              "<span style=\"color: #000080; text-decoration-color: #000080\">╰─────────────────────────────────────────────────────────────────────────────────────────────────────────────────╯</span>\n",
              "</pre>\n"
            ]
          },
          "metadata": {}
        },
        {
          "output_type": "display_data",
          "data": {
            "text/plain": [
              "\u001b[37m╭─\u001b[0m\u001b[37m───────────────────────────────────────────────────\u001b[0m\u001b[37m  Other \u001b[0m\u001b[37m────────────────────────────────────────────────────\u001b[0m\u001b[37m─╮\u001b[0m\n",
              "\u001b[37m│\u001b[0m Date: Wed Sep 17, 2025                                                                                          \u001b[37m│\u001b[0m\n",
              "\u001b[37m│\u001b[0m I will search for bakeries with chocolate blueberry cake in Bangalore.                                          \u001b[37m│\u001b[0m\n",
              "\u001b[37m╰─────────────────────────────────────────────────────────────────────────────────────────────────────────────────╯\u001b[0m\n"
            ],
            "text/html": [
              "<pre style=\"white-space:pre;overflow-x:auto;line-height:normal;font-family:Menlo,'DejaVu Sans Mono',consolas,'Courier New',monospace\"><span style=\"color: #c0c0c0; text-decoration-color: #c0c0c0\">╭────────────────────────────────────────────────────  Other ─────────────────────────────────────────────────────╮</span>\n",
              "<span style=\"color: #c0c0c0; text-decoration-color: #c0c0c0\">│</span> Date: Wed Sep 17, 2025                                                                                          <span style=\"color: #c0c0c0; text-decoration-color: #c0c0c0\">│</span>\n",
              "<span style=\"color: #c0c0c0; text-decoration-color: #c0c0c0\">│</span> I will search for bakeries with chocolate blueberry cake in Bangalore.                                          <span style=\"color: #c0c0c0; text-decoration-color: #c0c0c0\">│</span>\n",
              "<span style=\"color: #c0c0c0; text-decoration-color: #c0c0c0\">╰─────────────────────────────────────────────────────────────────────────────────────────────────────────────────╯</span>\n",
              "</pre>\n"
            ]
          },
          "metadata": {}
        },
        {
          "output_type": "display_data",
          "data": {
            "text/plain": [
              "\u001b[34m╭─\u001b[0m\u001b[34m───────────────────────────────────────────────────\u001b[0m\u001b[34m  Human \u001b[0m\u001b[34m────────────────────────────────────────────────────\u001b[0m\u001b[34m─╮\u001b[0m\n",
              "\u001b[34m│\u001b[0m Here are the prices for the cakes at the bakeries in Bangalore that offer or are known for a chocolate          \u001b[34m│\u001b[0m\n",
              "\u001b[34m│\u001b[0m blueberry cake:  Cakeday Bakehouse: Their chocolate blueberry cake is priced at Rs. 449.  Aubree Haute          \u001b[34m│\u001b[0m\n",
              "\u001b[34m│\u001b[0m Chocolaterie: The Eggless Blueberry cake is priced at ₹ 940.  SMOOR: The Perfect Blueberry Cheesecake is priced \u001b[34m│\u001b[0m\n",
              "\u001b[34m│\u001b[0m at ₹ 1,533 for a half kilogram. The price of their blueberry crumble cake is not available online.  Liliyum     \u001b[34m│\u001b[0m\n",
              "\u001b[34m│\u001b[0m Patisserie: Their Blueberry Tea Cake is priced at Rs. 675, and their celebration Blueberry cake ranges from Rs. \u001b[34m│\u001b[0m\n",
              "\u001b[34m│\u001b[0m 1,195 to Rs. 3,295.  Please note that prices can vary based on size and customization.                          \u001b[34m│\u001b[0m\n",
              "\u001b[34m╰─────────────────────────────────────────────────────────────────────────────────────────────────────────────────╯\u001b[0m\n"
            ],
            "text/html": [
              "<pre style=\"white-space:pre;overflow-x:auto;line-height:normal;font-family:Menlo,'DejaVu Sans Mono',consolas,'Courier New',monospace\"><span style=\"color: #000080; text-decoration-color: #000080\">╭────────────────────────────────────────────────────  Human ─────────────────────────────────────────────────────╮</span>\n",
              "<span style=\"color: #000080; text-decoration-color: #000080\">│</span> Here are the prices for the cakes at the bakeries in Bangalore that offer or are known for a chocolate          <span style=\"color: #000080; text-decoration-color: #000080\">│</span>\n",
              "<span style=\"color: #000080; text-decoration-color: #000080\">│</span> blueberry cake:  Cakeday Bakehouse: Their chocolate blueberry cake is priced at Rs. 449.  Aubree Haute          <span style=\"color: #000080; text-decoration-color: #000080\">│</span>\n",
              "<span style=\"color: #000080; text-decoration-color: #000080\">│</span> Chocolaterie: The Eggless Blueberry cake is priced at ₹ 940.  SMOOR: The Perfect Blueberry Cheesecake is priced <span style=\"color: #000080; text-decoration-color: #000080\">│</span>\n",
              "<span style=\"color: #000080; text-decoration-color: #000080\">│</span> at ₹ 1,533 for a half kilogram. The price of their blueberry crumble cake is not available online.  Liliyum     <span style=\"color: #000080; text-decoration-color: #000080\">│</span>\n",
              "<span style=\"color: #000080; text-decoration-color: #000080\">│</span> Patisserie: Their Blueberry Tea Cake is priced at Rs. 675, and their celebration Blueberry cake ranges from Rs. <span style=\"color: #000080; text-decoration-color: #000080\">│</span>\n",
              "<span style=\"color: #000080; text-decoration-color: #000080\">│</span> 1,195 to Rs. 3,295.  Please note that prices can vary based on size and customization.                          <span style=\"color: #000080; text-decoration-color: #000080\">│</span>\n",
              "<span style=\"color: #000080; text-decoration-color: #000080\">╰─────────────────────────────────────────────────────────────────────────────────────────────────────────────────╯</span>\n",
              "</pre>\n"
            ]
          },
          "metadata": {}
        },
        {
          "output_type": "display_data",
          "data": {
            "text/plain": [
              "\u001b[37m╭─\u001b[0m\u001b[37m───────────────────────────────────────────────────\u001b[0m\u001b[37m  Other \u001b[0m\u001b[37m────────────────────────────────────────────────────\u001b[0m\u001b[37m─╮\u001b[0m\n",
              "\u001b[37m│\u001b[0m Date: Wed Sep 17, 2025                                                                                          \u001b[37m│\u001b[0m\n",
              "\u001b[37m│\u001b[0m I have provided the prices for chocolate blueberry cakes at various bakeries in Bangalore. Is there anything    \u001b[37m│\u001b[0m\n",
              "\u001b[37m│\u001b[0m else I can help you with regarding this?                                                                        \u001b[37m│\u001b[0m\n",
              "\u001b[37m╰─────────────────────────────────────────────────────────────────────────────────────────────────────────────────╯\u001b[0m\n"
            ],
            "text/html": [
              "<pre style=\"white-space:pre;overflow-x:auto;line-height:normal;font-family:Menlo,'DejaVu Sans Mono',consolas,'Courier New',monospace\"><span style=\"color: #c0c0c0; text-decoration-color: #c0c0c0\">╭────────────────────────────────────────────────────  Other ─────────────────────────────────────────────────────╮</span>\n",
              "<span style=\"color: #c0c0c0; text-decoration-color: #c0c0c0\">│</span> Date: Wed Sep 17, 2025                                                                                          <span style=\"color: #c0c0c0; text-decoration-color: #c0c0c0\">│</span>\n",
              "<span style=\"color: #c0c0c0; text-decoration-color: #c0c0c0\">│</span> I have provided the prices for chocolate blueberry cakes at various bakeries in Bangalore. Is there anything    <span style=\"color: #c0c0c0; text-decoration-color: #c0c0c0\">│</span>\n",
              "<span style=\"color: #c0c0c0; text-decoration-color: #c0c0c0\">│</span> else I can help you with regarding this?                                                                        <span style=\"color: #c0c0c0; text-decoration-color: #c0c0c0\">│</span>\n",
              "<span style=\"color: #c0c0c0; text-decoration-color: #c0c0c0\">╰─────────────────────────────────────────────────────────────────────────────────────────────────────────────────╯</span>\n",
              "</pre>\n"
            ]
          },
          "metadata": {}
        },
        {
          "output_type": "display_data",
          "data": {
            "text/plain": [
              "\u001b[34m╭─\u001b[0m\u001b[34m───────────────────────────────────────────────────\u001b[0m\u001b[34m  Human \u001b[0m\u001b[34m────────────────────────────────────────────────────\u001b[0m\u001b[34m─╮\u001b[0m\n",
              "\u001b[34m│\u001b[0m free from artifical coloring                                                                                    \u001b[34m│\u001b[0m\n",
              "\u001b[34m╰─────────────────────────────────────────────────────────────────────────────────────────────────────────────────╯\u001b[0m\n"
            ],
            "text/html": [
              "<pre style=\"white-space:pre;overflow-x:auto;line-height:normal;font-family:Menlo,'DejaVu Sans Mono',consolas,'Courier New',monospace\"><span style=\"color: #000080; text-decoration-color: #000080\">╭────────────────────────────────────────────────────  Human ─────────────────────────────────────────────────────╮</span>\n",
              "<span style=\"color: #000080; text-decoration-color: #000080\">│</span> free from artifical coloring                                                                                    <span style=\"color: #000080; text-decoration-color: #000080\">│</span>\n",
              "<span style=\"color: #000080; text-decoration-color: #000080\">╰─────────────────────────────────────────────────────────────────────────────────────────────────────────────────╯</span>\n",
              "</pre>\n"
            ]
          },
          "metadata": {}
        },
        {
          "output_type": "display_data",
          "data": {
            "text/plain": [
              "\u001b[37m╭─\u001b[0m\u001b[37m───────────────────────────────────────────────────\u001b[0m\u001b[37m  Other \u001b[0m\u001b[37m────────────────────────────────────────────────────\u001b[0m\u001b[37m─╮\u001b[0m\n",
              "\u001b[37m│\u001b[0m Date: Wed Sep 17, 2025                                                                                          \u001b[37m│\u001b[0m\n",
              "\u001b[37m│\u001b[0m Are you looking for bakeries that are free from artificial coloring, or are you looking for chocolate blueberry \u001b[37m│\u001b[0m\n",
              "\u001b[37m│\u001b[0m cakes that are free from artificial coloring?                                                                   \u001b[37m│\u001b[0m\n",
              "\u001b[37m╰─────────────────────────────────────────────────────────────────────────────────────────────────────────────────╯\u001b[0m\n"
            ],
            "text/html": [
              "<pre style=\"white-space:pre;overflow-x:auto;line-height:normal;font-family:Menlo,'DejaVu Sans Mono',consolas,'Courier New',monospace\"><span style=\"color: #c0c0c0; text-decoration-color: #c0c0c0\">╭────────────────────────────────────────────────────  Other ─────────────────────────────────────────────────────╮</span>\n",
              "<span style=\"color: #c0c0c0; text-decoration-color: #c0c0c0\">│</span> Date: Wed Sep 17, 2025                                                                                          <span style=\"color: #c0c0c0; text-decoration-color: #c0c0c0\">│</span>\n",
              "<span style=\"color: #c0c0c0; text-decoration-color: #c0c0c0\">│</span> Are you looking for bakeries that are free from artificial coloring, or are you looking for chocolate blueberry <span style=\"color: #c0c0c0; text-decoration-color: #c0c0c0\">│</span>\n",
              "<span style=\"color: #c0c0c0; text-decoration-color: #c0c0c0\">│</span> cakes that are free from artificial coloring?                                                                   <span style=\"color: #c0c0c0; text-decoration-color: #c0c0c0\">│</span>\n",
              "<span style=\"color: #c0c0c0; text-decoration-color: #c0c0c0\">╰─────────────────────────────────────────────────────────────────────────────────────────────────────────────────╯</span>\n",
              "</pre>\n"
            ]
          },
          "metadata": {}
        },
        {
          "output_type": "display_data",
          "data": {
            "text/plain": [
              "\n",
              "\u001b[1;34m🔹 Research Brief Generated:\u001b[0m\n"
            ],
            "text/html": [
              "<pre style=\"white-space:pre;overflow-x:auto;line-height:normal;font-family:Menlo,'DejaVu Sans Mono',consolas,'Courier New',monospace\">\n",
              "<span style=\"color: #000080; text-decoration-color: #000080; font-weight: bold\">🔹 Research Brief Generated:</span>\n",
              "</pre>\n"
            ]
          },
          "metadata": {}
        },
        {
          "output_type": "display_data",
          "data": {
            "text/plain": [
              "Date: Wed Sep 17, 2025 I want to know the most popular cake flavors in Bangalore.                                  \n"
            ],
            "text/html": [
              "<pre style=\"white-space:pre;overflow-x:auto;line-height:normal;font-family:Menlo,'DejaVu Sans Mono',consolas,'Courier New',monospace\">Date: Wed Sep 17, 2025 I want to know the most popular cake flavors in Bangalore.                                  \n",
              "</pre>\n"
            ]
          },
          "metadata": {}
        },
        {
          "name": "stdout",
          "output_type": "stream",
          "text": [
            "You: exit\n"
          ]
        },
        {
          "output_type": "display_data",
          "data": {
            "text/plain": [
              "\u001b[1;31mChatbot session ended.\u001b[0m\n",
              "\n"
            ],
            "text/html": [
              "<pre style=\"white-space:pre;overflow-x:auto;line-height:normal;font-family:Menlo,'DejaVu Sans Mono',consolas,'Courier New',monospace\"><span style=\"color: #800000; text-decoration-color: #800000; font-weight: bold\">Chatbot session ended.</span>\n",
              "\n",
              "</pre>\n"
            ]
          },
          "metadata": {}
        },
        {
          "output_type": "display_data",
          "data": {
            "text/plain": [
              "\n",
              "\u001b[1;35m📊 Session Metrics Summary \u001b[0m\u001b[1;35m(\u001b[0m\u001b[1;35mall turns\u001b[0m\u001b[1;35m)\u001b[0m\n"
            ],
            "text/html": [
              "<pre style=\"white-space:pre;overflow-x:auto;line-height:normal;font-family:Menlo,'DejaVu Sans Mono',consolas,'Courier New',monospace\">\n",
              "<span style=\"color: #800080; text-decoration-color: #800080; font-weight: bold\">📊 Session Metrics Summary (all turns)</span>\n",
              "</pre>\n"
            ]
          },
          "metadata": {}
        },
        {
          "output_type": "display_data",
          "data": {
            "text/plain": [
              "\n",
              "\u001b[1;33mTurn \u001b[0m\u001b[1;33m1\u001b[0m\u001b[1;33m Metrics:\u001b[0m\n"
            ],
            "text/html": [
              "<pre style=\"white-space:pre;overflow-x:auto;line-height:normal;font-family:Menlo,'DejaVu Sans Mono',consolas,'Courier New',monospace\">\n",
              "<span style=\"color: #808000; text-decoration-color: #808000; font-weight: bold\">Turn </span><span style=\"color: #808000; text-decoration-color: #808000; font-weight: bold\">1</span><span style=\"color: #808000; text-decoration-color: #808000; font-weight: bold\"> Metrics:</span>\n",
              "</pre>\n"
            ]
          },
          "metadata": {}
        },
        {
          "output_type": "display_data",
          "data": {
            "text/plain": [
              "run_id: turn_1\n"
            ],
            "text/html": [
              "<pre style=\"white-space:pre;overflow-x:auto;line-height:normal;font-family:Menlo,'DejaVu Sans Mono',consolas,'Courier New',monospace\">run_id: turn_1\n",
              "</pre>\n"
            ]
          },
          "metadata": {}
        },
        {
          "output_type": "display_data",
          "data": {
            "text/plain": [
              "start_time: \u001b[1;36m1758129947.4118707\u001b[0m\n"
            ],
            "text/html": [
              "<pre style=\"white-space:pre;overflow-x:auto;line-height:normal;font-family:Menlo,'DejaVu Sans Mono',consolas,'Courier New',monospace\">start_time: <span style=\"color: #008080; text-decoration-color: #008080; font-weight: bold\">1758129947.4118707</span>\n",
              "</pre>\n"
            ]
          },
          "metadata": {}
        },
        {
          "output_type": "display_data",
          "data": {
            "text/plain": [
              "end_time: \u001b[1;36m1758129948.4330037\u001b[0m\n"
            ],
            "text/html": [
              "<pre style=\"white-space:pre;overflow-x:auto;line-height:normal;font-family:Menlo,'DejaVu Sans Mono',consolas,'Courier New',monospace\">end_time: <span style=\"color: #008080; text-decoration-color: #008080; font-weight: bold\">1758129948.4330037</span>\n",
              "</pre>\n"
            ]
          },
          "metadata": {}
        },
        {
          "output_type": "display_data",
          "data": {
            "text/plain": [
              "duration_sec: \u001b[1;36m1.021\u001b[0m\n"
            ],
            "text/html": [
              "<pre style=\"white-space:pre;overflow-x:auto;line-height:normal;font-family:Menlo,'DejaVu Sans Mono',consolas,'Courier New',monospace\">duration_sec: <span style=\"color: #008080; text-decoration-color: #008080; font-weight: bold\">1.021</span>\n",
              "</pre>\n"
            ]
          },
          "metadata": {}
        },
        {
          "output_type": "display_data",
          "data": {
            "text/plain": [
              "num_messages_sent: \u001b[1;36m1\u001b[0m\n"
            ],
            "text/html": [
              "<pre style=\"white-space:pre;overflow-x:auto;line-height:normal;font-family:Menlo,'DejaVu Sans Mono',consolas,'Courier New',monospace\">num_messages_sent: <span style=\"color: #008080; text-decoration-color: #008080; font-weight: bold\">1</span>\n",
              "</pre>\n"
            ]
          },
          "metadata": {}
        },
        {
          "output_type": "display_data",
          "data": {
            "text/plain": [
              "num_ai_messages: \u001b[1;36m1\u001b[0m\n"
            ],
            "text/html": [
              "<pre style=\"white-space:pre;overflow-x:auto;line-height:normal;font-family:Menlo,'DejaVu Sans Mono',consolas,'Courier New',monospace\">num_ai_messages: <span style=\"color: #008080; text-decoration-color: #008080; font-weight: bold\">1</span>\n",
              "</pre>\n"
            ]
          },
          "metadata": {}
        },
        {
          "output_type": "display_data",
          "data": {
            "text/plain": [
              "num_human_messages: \u001b[1;36m1\u001b[0m\n"
            ],
            "text/html": [
              "<pre style=\"white-space:pre;overflow-x:auto;line-height:normal;font-family:Menlo,'DejaVu Sans Mono',consolas,'Courier New',monospace\">num_human_messages: <span style=\"color: #008080; text-decoration-color: #008080; font-weight: bold\">1</span>\n",
              "</pre>\n"
            ]
          },
          "metadata": {}
        },
        {
          "output_type": "display_data",
          "data": {
            "text/plain": [
              "turn_timestamp: Wed Sep \u001b[1;36m17\u001b[0m, \u001b[1;36m2025\u001b[0m\n"
            ],
            "text/html": [
              "<pre style=\"white-space:pre;overflow-x:auto;line-height:normal;font-family:Menlo,'DejaVu Sans Mono',consolas,'Courier New',monospace\">turn_timestamp: Wed Sep <span style=\"color: #008080; text-decoration-color: #008080; font-weight: bold\">17</span>, <span style=\"color: #008080; text-decoration-color: #008080; font-weight: bold\">2025</span>\n",
              "</pre>\n"
            ]
          },
          "metadata": {}
        },
        {
          "output_type": "display_data",
          "data": {
            "text/plain": [
              "\n",
              "\u001b[1;33mTurn \u001b[0m\u001b[1;33m2\u001b[0m\u001b[1;33m Metrics:\u001b[0m\n"
            ],
            "text/html": [
              "<pre style=\"white-space:pre;overflow-x:auto;line-height:normal;font-family:Menlo,'DejaVu Sans Mono',consolas,'Courier New',monospace\">\n",
              "<span style=\"color: #808000; text-decoration-color: #808000; font-weight: bold\">Turn </span><span style=\"color: #808000; text-decoration-color: #808000; font-weight: bold\">2</span><span style=\"color: #808000; text-decoration-color: #808000; font-weight: bold\"> Metrics:</span>\n",
              "</pre>\n"
            ]
          },
          "metadata": {}
        },
        {
          "output_type": "display_data",
          "data": {
            "text/plain": [
              "run_id: turn_2\n"
            ],
            "text/html": [
              "<pre style=\"white-space:pre;overflow-x:auto;line-height:normal;font-family:Menlo,'DejaVu Sans Mono',consolas,'Courier New',monospace\">run_id: turn_2\n",
              "</pre>\n"
            ]
          },
          "metadata": {}
        },
        {
          "output_type": "display_data",
          "data": {
            "text/plain": [
              "start_time: \u001b[1;36m1758129991.092389\u001b[0m\n"
            ],
            "text/html": [
              "<pre style=\"white-space:pre;overflow-x:auto;line-height:normal;font-family:Menlo,'DejaVu Sans Mono',consolas,'Courier New',monospace\">start_time: <span style=\"color: #008080; text-decoration-color: #008080; font-weight: bold\">1758129991.092389</span>\n",
              "</pre>\n"
            ]
          },
          "metadata": {}
        },
        {
          "output_type": "display_data",
          "data": {
            "text/plain": [
              "end_time: \u001b[1;36m1758129992.526602\u001b[0m\n"
            ],
            "text/html": [
              "<pre style=\"white-space:pre;overflow-x:auto;line-height:normal;font-family:Menlo,'DejaVu Sans Mono',consolas,'Courier New',monospace\">end_time: <span style=\"color: #008080; text-decoration-color: #008080; font-weight: bold\">1758129992.526602</span>\n",
              "</pre>\n"
            ]
          },
          "metadata": {}
        },
        {
          "output_type": "display_data",
          "data": {
            "text/plain": [
              "duration_sec: \u001b[1;36m1.434\u001b[0m\n"
            ],
            "text/html": [
              "<pre style=\"white-space:pre;overflow-x:auto;line-height:normal;font-family:Menlo,'DejaVu Sans Mono',consolas,'Courier New',monospace\">duration_sec: <span style=\"color: #008080; text-decoration-color: #008080; font-weight: bold\">1.434</span>\n",
              "</pre>\n"
            ]
          },
          "metadata": {}
        },
        {
          "output_type": "display_data",
          "data": {
            "text/plain": [
              "num_messages_sent: \u001b[1;36m3\u001b[0m\n"
            ],
            "text/html": [
              "<pre style=\"white-space:pre;overflow-x:auto;line-height:normal;font-family:Menlo,'DejaVu Sans Mono',consolas,'Courier New',monospace\">num_messages_sent: <span style=\"color: #008080; text-decoration-color: #008080; font-weight: bold\">3</span>\n",
              "</pre>\n"
            ]
          },
          "metadata": {}
        },
        {
          "output_type": "display_data",
          "data": {
            "text/plain": [
              "num_ai_messages: \u001b[1;36m2\u001b[0m\n"
            ],
            "text/html": [
              "<pre style=\"white-space:pre;overflow-x:auto;line-height:normal;font-family:Menlo,'DejaVu Sans Mono',consolas,'Courier New',monospace\">num_ai_messages: <span style=\"color: #008080; text-decoration-color: #008080; font-weight: bold\">2</span>\n",
              "</pre>\n"
            ]
          },
          "metadata": {}
        },
        {
          "output_type": "display_data",
          "data": {
            "text/plain": [
              "num_human_messages: \u001b[1;36m2\u001b[0m\n"
            ],
            "text/html": [
              "<pre style=\"white-space:pre;overflow-x:auto;line-height:normal;font-family:Menlo,'DejaVu Sans Mono',consolas,'Courier New',monospace\">num_human_messages: <span style=\"color: #008080; text-decoration-color: #008080; font-weight: bold\">2</span>\n",
              "</pre>\n"
            ]
          },
          "metadata": {}
        },
        {
          "output_type": "display_data",
          "data": {
            "text/plain": [
              "turn_timestamp: Wed Sep \u001b[1;36m17\u001b[0m, \u001b[1;36m2025\u001b[0m\n"
            ],
            "text/html": [
              "<pre style=\"white-space:pre;overflow-x:auto;line-height:normal;font-family:Menlo,'DejaVu Sans Mono',consolas,'Courier New',monospace\">turn_timestamp: Wed Sep <span style=\"color: #008080; text-decoration-color: #008080; font-weight: bold\">17</span>, <span style=\"color: #008080; text-decoration-color: #008080; font-weight: bold\">2025</span>\n",
              "</pre>\n"
            ]
          },
          "metadata": {}
        },
        {
          "output_type": "display_data",
          "data": {
            "text/plain": [
              "\n",
              "\u001b[1;33mTurn \u001b[0m\u001b[1;33m3\u001b[0m\u001b[1;33m Metrics:\u001b[0m\n"
            ],
            "text/html": [
              "<pre style=\"white-space:pre;overflow-x:auto;line-height:normal;font-family:Menlo,'DejaVu Sans Mono',consolas,'Courier New',monospace\">\n",
              "<span style=\"color: #808000; text-decoration-color: #808000; font-weight: bold\">Turn </span><span style=\"color: #808000; text-decoration-color: #808000; font-weight: bold\">3</span><span style=\"color: #808000; text-decoration-color: #808000; font-weight: bold\"> Metrics:</span>\n",
              "</pre>\n"
            ]
          },
          "metadata": {}
        },
        {
          "output_type": "display_data",
          "data": {
            "text/plain": [
              "run_id: turn_3\n"
            ],
            "text/html": [
              "<pre style=\"white-space:pre;overflow-x:auto;line-height:normal;font-family:Menlo,'DejaVu Sans Mono',consolas,'Courier New',monospace\">run_id: turn_3\n",
              "</pre>\n"
            ]
          },
          "metadata": {}
        },
        {
          "output_type": "display_data",
          "data": {
            "text/plain": [
              "start_time: \u001b[1;36m1758130084.5426457\u001b[0m\n"
            ],
            "text/html": [
              "<pre style=\"white-space:pre;overflow-x:auto;line-height:normal;font-family:Menlo,'DejaVu Sans Mono',consolas,'Courier New',monospace\">start_time: <span style=\"color: #008080; text-decoration-color: #008080; font-weight: bold\">1758130084.5426457</span>\n",
              "</pre>\n"
            ]
          },
          "metadata": {}
        },
        {
          "output_type": "display_data",
          "data": {
            "text/plain": [
              "end_time: \u001b[1;36m1758130086.0485315\u001b[0m\n"
            ],
            "text/html": [
              "<pre style=\"white-space:pre;overflow-x:auto;line-height:normal;font-family:Menlo,'DejaVu Sans Mono',consolas,'Courier New',monospace\">end_time: <span style=\"color: #008080; text-decoration-color: #008080; font-weight: bold\">1758130086.0485315</span>\n",
              "</pre>\n"
            ]
          },
          "metadata": {}
        },
        {
          "output_type": "display_data",
          "data": {
            "text/plain": [
              "duration_sec: \u001b[1;36m1.506\u001b[0m\n"
            ],
            "text/html": [
              "<pre style=\"white-space:pre;overflow-x:auto;line-height:normal;font-family:Menlo,'DejaVu Sans Mono',consolas,'Courier New',monospace\">duration_sec: <span style=\"color: #008080; text-decoration-color: #008080; font-weight: bold\">1.506</span>\n",
              "</pre>\n"
            ]
          },
          "metadata": {}
        },
        {
          "output_type": "display_data",
          "data": {
            "text/plain": [
              "num_messages_sent: \u001b[1;36m6\u001b[0m\n"
            ],
            "text/html": [
              "<pre style=\"white-space:pre;overflow-x:auto;line-height:normal;font-family:Menlo,'DejaVu Sans Mono',consolas,'Courier New',monospace\">num_messages_sent: <span style=\"color: #008080; text-decoration-color: #008080; font-weight: bold\">6</span>\n",
              "</pre>\n"
            ]
          },
          "metadata": {}
        },
        {
          "output_type": "display_data",
          "data": {
            "text/plain": [
              "num_ai_messages: \u001b[1;36m3\u001b[0m\n"
            ],
            "text/html": [
              "<pre style=\"white-space:pre;overflow-x:auto;line-height:normal;font-family:Menlo,'DejaVu Sans Mono',consolas,'Courier New',monospace\">num_ai_messages: <span style=\"color: #008080; text-decoration-color: #008080; font-weight: bold\">3</span>\n",
              "</pre>\n"
            ]
          },
          "metadata": {}
        },
        {
          "output_type": "display_data",
          "data": {
            "text/plain": [
              "num_human_messages: \u001b[1;36m3\u001b[0m\n"
            ],
            "text/html": [
              "<pre style=\"white-space:pre;overflow-x:auto;line-height:normal;font-family:Menlo,'DejaVu Sans Mono',consolas,'Courier New',monospace\">num_human_messages: <span style=\"color: #008080; text-decoration-color: #008080; font-weight: bold\">3</span>\n",
              "</pre>\n"
            ]
          },
          "metadata": {}
        },
        {
          "output_type": "display_data",
          "data": {
            "text/plain": [
              "turn_timestamp: Wed Sep \u001b[1;36m17\u001b[0m, \u001b[1;36m2025\u001b[0m\n"
            ],
            "text/html": [
              "<pre style=\"white-space:pre;overflow-x:auto;line-height:normal;font-family:Menlo,'DejaVu Sans Mono',consolas,'Courier New',monospace\">turn_timestamp: Wed Sep <span style=\"color: #008080; text-decoration-color: #008080; font-weight: bold\">17</span>, <span style=\"color: #008080; text-decoration-color: #008080; font-weight: bold\">2025</span>\n",
              "</pre>\n"
            ]
          },
          "metadata": {}
        },
        {
          "output_type": "display_data",
          "data": {
            "text/plain": [
              "\n",
              "\u001b[1;33mTurn \u001b[0m\u001b[1;33m4\u001b[0m\u001b[1;33m Metrics:\u001b[0m\n"
            ],
            "text/html": [
              "<pre style=\"white-space:pre;overflow-x:auto;line-height:normal;font-family:Menlo,'DejaVu Sans Mono',consolas,'Courier New',monospace\">\n",
              "<span style=\"color: #808000; text-decoration-color: #808000; font-weight: bold\">Turn </span><span style=\"color: #808000; text-decoration-color: #808000; font-weight: bold\">4</span><span style=\"color: #808000; text-decoration-color: #808000; font-weight: bold\"> Metrics:</span>\n",
              "</pre>\n"
            ]
          },
          "metadata": {}
        },
        {
          "output_type": "display_data",
          "data": {
            "text/plain": [
              "run_id: turn_4\n"
            ],
            "text/html": [
              "<pre style=\"white-space:pre;overflow-x:auto;line-height:normal;font-family:Menlo,'DejaVu Sans Mono',consolas,'Courier New',monospace\">run_id: turn_4\n",
              "</pre>\n"
            ]
          },
          "metadata": {}
        },
        {
          "output_type": "display_data",
          "data": {
            "text/plain": [
              "start_time: \u001b[1;36m1758130210.4592488\u001b[0m\n"
            ],
            "text/html": [
              "<pre style=\"white-space:pre;overflow-x:auto;line-height:normal;font-family:Menlo,'DejaVu Sans Mono',consolas,'Courier New',monospace\">start_time: <span style=\"color: #008080; text-decoration-color: #008080; font-weight: bold\">1758130210.4592488</span>\n",
              "</pre>\n"
            ]
          },
          "metadata": {}
        },
        {
          "output_type": "display_data",
          "data": {
            "text/plain": [
              "end_time: \u001b[1;36m1758130211.07089\u001b[0m\n"
            ],
            "text/html": [
              "<pre style=\"white-space:pre;overflow-x:auto;line-height:normal;font-family:Menlo,'DejaVu Sans Mono',consolas,'Courier New',monospace\">end_time: <span style=\"color: #008080; text-decoration-color: #008080; font-weight: bold\">1758130211.07089</span>\n",
              "</pre>\n"
            ]
          },
          "metadata": {}
        },
        {
          "output_type": "display_data",
          "data": {
            "text/plain": [
              "duration_sec: \u001b[1;36m0.612\u001b[0m\n"
            ],
            "text/html": [
              "<pre style=\"white-space:pre;overflow-x:auto;line-height:normal;font-family:Menlo,'DejaVu Sans Mono',consolas,'Courier New',monospace\">duration_sec: <span style=\"color: #008080; text-decoration-color: #008080; font-weight: bold\">0.612</span>\n",
              "</pre>\n"
            ]
          },
          "metadata": {}
        },
        {
          "output_type": "display_data",
          "data": {
            "text/plain": [
              "num_messages_sent: \u001b[1;36m10\u001b[0m\n"
            ],
            "text/html": [
              "<pre style=\"white-space:pre;overflow-x:auto;line-height:normal;font-family:Menlo,'DejaVu Sans Mono',consolas,'Courier New',monospace\">num_messages_sent: <span style=\"color: #008080; text-decoration-color: #008080; font-weight: bold\">10</span>\n",
              "</pre>\n"
            ]
          },
          "metadata": {}
        },
        {
          "output_type": "display_data",
          "data": {
            "text/plain": [
              "num_ai_messages: \u001b[1;36m4\u001b[0m\n"
            ],
            "text/html": [
              "<pre style=\"white-space:pre;overflow-x:auto;line-height:normal;font-family:Menlo,'DejaVu Sans Mono',consolas,'Courier New',monospace\">num_ai_messages: <span style=\"color: #008080; text-decoration-color: #008080; font-weight: bold\">4</span>\n",
              "</pre>\n"
            ]
          },
          "metadata": {}
        },
        {
          "output_type": "display_data",
          "data": {
            "text/plain": [
              "num_human_messages: \u001b[1;36m4\u001b[0m\n"
            ],
            "text/html": [
              "<pre style=\"white-space:pre;overflow-x:auto;line-height:normal;font-family:Menlo,'DejaVu Sans Mono',consolas,'Courier New',monospace\">num_human_messages: <span style=\"color: #008080; text-decoration-color: #008080; font-weight: bold\">4</span>\n",
              "</pre>\n"
            ]
          },
          "metadata": {}
        },
        {
          "output_type": "display_data",
          "data": {
            "text/plain": [
              "turn_timestamp: Wed Sep \u001b[1;36m17\u001b[0m, \u001b[1;36m2025\u001b[0m\n"
            ],
            "text/html": [
              "<pre style=\"white-space:pre;overflow-x:auto;line-height:normal;font-family:Menlo,'DejaVu Sans Mono',consolas,'Courier New',monospace\">turn_timestamp: Wed Sep <span style=\"color: #008080; text-decoration-color: #008080; font-weight: bold\">17</span>, <span style=\"color: #008080; text-decoration-color: #008080; font-weight: bold\">2025</span>\n",
              "</pre>\n"
            ]
          },
          "metadata": {}
        },
        {
          "output_type": "display_data",
          "data": {
            "text/plain": [
              "\n",
              "\u001b[1;32mTotal turns:\u001b[0m \u001b[1;36m4\u001b[0m\n"
            ],
            "text/html": [
              "<pre style=\"white-space:pre;overflow-x:auto;line-height:normal;font-family:Menlo,'DejaVu Sans Mono',consolas,'Courier New',monospace\">\n",
              "<span style=\"color: #008000; text-decoration-color: #008000; font-weight: bold\">Total turns:</span> <span style=\"color: #008080; text-decoration-color: #008080; font-weight: bold\">4</span>\n",
              "</pre>\n"
            ]
          },
          "metadata": {}
        },
        {
          "output_type": "display_data",
          "data": {
            "text/plain": [
              "\u001b[1;32mTotal duration \u001b[0m\u001b[1;32m(\u001b[0m\u001b[1;32ms\u001b[0m\u001b[1;32m)\u001b[0m\u001b[1;32m:\u001b[0m \u001b[1;36m4.573\u001b[0m\n"
            ],
            "text/html": [
              "<pre style=\"white-space:pre;overflow-x:auto;line-height:normal;font-family:Menlo,'DejaVu Sans Mono',consolas,'Courier New',monospace\"><span style=\"color: #008000; text-decoration-color: #008000; font-weight: bold\">Total duration (s):</span> <span style=\"color: #008080; text-decoration-color: #008080; font-weight: bold\">4.573</span>\n",
              "</pre>\n"
            ]
          },
          "metadata": {}
        },
        {
          "output_type": "display_data",
          "data": {
            "text/plain": [
              "\u001b[1;32mAverage duration \u001b[0m\u001b[1;32m(\u001b[0m\u001b[1;32ms\u001b[0m\u001b[1;32m)\u001b[0m\u001b[1;32m:\u001b[0m \u001b[1;36m1.143\u001b[0m\n"
            ],
            "text/html": [
              "<pre style=\"white-space:pre;overflow-x:auto;line-height:normal;font-family:Menlo,'DejaVu Sans Mono',consolas,'Courier New',monospace\"><span style=\"color: #008000; text-decoration-color: #008000; font-weight: bold\">Average duration (s):</span> <span style=\"color: #008080; text-decoration-color: #008080; font-weight: bold\">1.143</span>\n",
              "</pre>\n"
            ]
          },
          "metadata": {}
        }
      ],
      "source": [
        "console.print(f\"[bold green]Research Agent Chatbot started on {get_today_str()}[/bold green]\")\n",
        "console.print(\"[bold green]Type 'exit' or 'quit' to end the chat and show metrics.[/bold green]\\n\")\n",
        "\n",
        "while True:\n",
        "    user_text = input(\"You: \").strip()\n",
        "    if user_text.lower() in (\"exit\",\"quit\"):\n",
        "        console.print(\"[bold red]Chatbot session ended.[/bold red]\\n\")\n",
        "        break\n",
        "\n",
        "    # show date in the notebook UI (optional)\n",
        "    console.print(f\"[bold cyan]Date: {get_today_str()}[/bold cyan]\")\n",
        "\n",
        "    # Run one turn\n",
        "    _ = run_research_agent_turn(user_text)\n",
        "\n",
        "# After the loop ends, show the metrics summary once\n",
        "console.print(\"\\n[bold magenta]📊 Session Metrics Summary (all turns)[/bold magenta]\")\n",
        "\n",
        "# print per-turn metrics\n",
        "for i, m in enumerate(metrics_log, 1):\n",
        "    console.print(f\"\\n[bold yellow]Turn {i} Metrics:[/bold yellow]\")\n",
        "    for k, v in m.items():\n",
        "        console.print(f\"{k}: {v}\")\n",
        "\n",
        "# Aggregate summary (optional)\n",
        "if metrics_log:\n",
        "    total_duration = sum(m.get(\"duration_sec\",0) for m in metrics_log)\n",
        "    avg_duration = round(total_duration / len(metrics_log), 3)\n",
        "    total_turns = len(metrics_log)\n",
        "    console.print(f\"\\n[bold green]Total turns:[/bold green] {total_turns}\")\n",
        "    console.print(f\"[bold green]Total duration (s):[/bold green] {round(total_duration,3)}\")\n",
        "    console.print(f\"[bold green]Average duration (s):[/bold green] {avg_duration}\")\n"
      ]
    }
  ],
  "metadata": {
    "colab": {
      "provenance": []
    },
    "kernelspec": {
      "display_name": "Python 3",
      "name": "python3"
    },
    "language_info": {
      "name": "python"
    }
  },
  "nbformat": 4,
  "nbformat_minor": 0
}