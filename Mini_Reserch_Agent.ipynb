{
  "nbformat": 4,
  "nbformat_minor": 0,
  "metadata": {
    "colab": {
      "provenance": []
    },
    "kernelspec": {
      "name": "python3",
      "display_name": "Python 3"
    },
    "language_info": {
      "name": "python"
    }
  },
  "cells": [
    {
      "cell_type": "code",
      "execution_count": null,
      "metadata": {
        "id": "nDVm9sDMxbWQ",
        "colab": {
          "base_uri": "https://localhost:8080/"
        },
        "outputId": "ff4c4b54-ffea-4cc3-b81d-9b0da2279ba7"
      },
      "outputs": [
        {
          "output_type": "stream",
          "name": "stdout",
          "text": [
            "\u001b[?25l   \u001b[90m━━━━━━━━━━━━━━━━━━━━━━━━━━━━━━━━━━━━━━━━\u001b[0m \u001b[32m0.0/49.4 kB\u001b[0m \u001b[31m?\u001b[0m eta \u001b[36m-:--:--\u001b[0m\r\u001b[2K   \u001b[90m━━━━━━━━━━━━━━━━━━━━━━━━━━━━━━━━━━━━━━━━\u001b[0m \u001b[32m49.4/49.4 kB\u001b[0m \u001b[31m992.8 kB/s\u001b[0m eta \u001b[36m0:00:00\u001b[0m\n",
            "\u001b[?25h\u001b[?25l   \u001b[90m━━━━━━━━━━━━━━━━━━━━━━━━━━━━━━━━━━━━━━━━\u001b[0m \u001b[32m0.0/1.4 MB\u001b[0m \u001b[31m?\u001b[0m eta \u001b[36m-:--:--\u001b[0m\r\u001b[2K   \u001b[91m━━━━━━━━━━━━━━━━━━━━━━━━━━━━━━━━━━━━━━━\u001b[0m\u001b[91m╸\u001b[0m \u001b[32m1.4/1.4 MB\u001b[0m \u001b[31m67.6 MB/s\u001b[0m eta \u001b[36m0:00:01\u001b[0m\r\u001b[2K   \u001b[90m━━━━━━━━━━━━━━━━━━━━━━━━━━━━━━━━━━━━━━━━\u001b[0m \u001b[32m1.4/1.4 MB\u001b[0m \u001b[31m25.4 MB/s\u001b[0m eta \u001b[36m0:00:00\u001b[0m\n",
            "\u001b[?25h\u001b[31mERROR: pip's dependency resolver does not currently take into account all the packages that are installed. This behaviour is the source of the following dependency conflicts.\n",
            "google-generativeai 0.8.5 requires google-ai-generativelanguage==0.6.15, but you have google-ai-generativelanguage 0.6.18 which is incompatible.\u001b[0m\u001b[31m\n",
            "\u001b[0m"
          ]
        }
      ],
      "source": [
        "!pip -q install -U langchain langchain-google-genai pydantic python-dotenv"
      ]
    },
    {
      "cell_type": "code",
      "source": [
        "from google.colab import files\n",
        "uploaded = files.upload()"
      ],
      "metadata": {
        "colab": {
          "base_uri": "https://localhost:8080/",
          "height": 72
        },
        "id": "6x_iDI0tx5xx",
        "outputId": "53f2c64e-cbee-470d-8d4a-e669267d7d04"
      },
      "execution_count": null,
      "outputs": [
        {
          "output_type": "display_data",
          "data": {
            "text/plain": [
              "<IPython.core.display.HTML object>"
            ],
            "text/html": [
              "\n",
              "     <input type=\"file\" id=\"files-8406792a-a6a1-4507-bf2a-a0fe4db0b5e7\" name=\"files[]\" multiple disabled\n",
              "        style=\"border:none\" />\n",
              "     <output id=\"result-8406792a-a6a1-4507-bf2a-a0fe4db0b5e7\">\n",
              "      Upload widget is only available when the cell has been executed in the\n",
              "      current browser session. Please rerun this cell to enable.\n",
              "      </output>\n",
              "      <script>// Copyright 2017 Google LLC\n",
              "//\n",
              "// Licensed under the Apache License, Version 2.0 (the \"License\");\n",
              "// you may not use this file except in compliance with the License.\n",
              "// You may obtain a copy of the License at\n",
              "//\n",
              "//      http://www.apache.org/licenses/LICENSE-2.0\n",
              "//\n",
              "// Unless required by applicable law or agreed to in writing, software\n",
              "// distributed under the License is distributed on an \"AS IS\" BASIS,\n",
              "// WITHOUT WARRANTIES OR CONDITIONS OF ANY KIND, either express or implied.\n",
              "// See the License for the specific language governing permissions and\n",
              "// limitations under the License.\n",
              "\n",
              "/**\n",
              " * @fileoverview Helpers for google.colab Python module.\n",
              " */\n",
              "(function(scope) {\n",
              "function span(text, styleAttributes = {}) {\n",
              "  const element = document.createElement('span');\n",
              "  element.textContent = text;\n",
              "  for (const key of Object.keys(styleAttributes)) {\n",
              "    element.style[key] = styleAttributes[key];\n",
              "  }\n",
              "  return element;\n",
              "}\n",
              "\n",
              "// Max number of bytes which will be uploaded at a time.\n",
              "const MAX_PAYLOAD_SIZE = 100 * 1024;\n",
              "\n",
              "function _uploadFiles(inputId, outputId) {\n",
              "  const steps = uploadFilesStep(inputId, outputId);\n",
              "  const outputElement = document.getElementById(outputId);\n",
              "  // Cache steps on the outputElement to make it available for the next call\n",
              "  // to uploadFilesContinue from Python.\n",
              "  outputElement.steps = steps;\n",
              "\n",
              "  return _uploadFilesContinue(outputId);\n",
              "}\n",
              "\n",
              "// This is roughly an async generator (not supported in the browser yet),\n",
              "// where there are multiple asynchronous steps and the Python side is going\n",
              "// to poll for completion of each step.\n",
              "// This uses a Promise to block the python side on completion of each step,\n",
              "// then passes the result of the previous step as the input to the next step.\n",
              "function _uploadFilesContinue(outputId) {\n",
              "  const outputElement = document.getElementById(outputId);\n",
              "  const steps = outputElement.steps;\n",
              "\n",
              "  const next = steps.next(outputElement.lastPromiseValue);\n",
              "  return Promise.resolve(next.value.promise).then((value) => {\n",
              "    // Cache the last promise value to make it available to the next\n",
              "    // step of the generator.\n",
              "    outputElement.lastPromiseValue = value;\n",
              "    return next.value.response;\n",
              "  });\n",
              "}\n",
              "\n",
              "/**\n",
              " * Generator function which is called between each async step of the upload\n",
              " * process.\n",
              " * @param {string} inputId Element ID of the input file picker element.\n",
              " * @param {string} outputId Element ID of the output display.\n",
              " * @return {!Iterable<!Object>} Iterable of next steps.\n",
              " */\n",
              "function* uploadFilesStep(inputId, outputId) {\n",
              "  const inputElement = document.getElementById(inputId);\n",
              "  inputElement.disabled = false;\n",
              "\n",
              "  const outputElement = document.getElementById(outputId);\n",
              "  outputElement.innerHTML = '';\n",
              "\n",
              "  const pickedPromise = new Promise((resolve) => {\n",
              "    inputElement.addEventListener('change', (e) => {\n",
              "      resolve(e.target.files);\n",
              "    });\n",
              "  });\n",
              "\n",
              "  const cancel = document.createElement('button');\n",
              "  inputElement.parentElement.appendChild(cancel);\n",
              "  cancel.textContent = 'Cancel upload';\n",
              "  const cancelPromise = new Promise((resolve) => {\n",
              "    cancel.onclick = () => {\n",
              "      resolve(null);\n",
              "    };\n",
              "  });\n",
              "\n",
              "  // Wait for the user to pick the files.\n",
              "  const files = yield {\n",
              "    promise: Promise.race([pickedPromise, cancelPromise]),\n",
              "    response: {\n",
              "      action: 'starting',\n",
              "    }\n",
              "  };\n",
              "\n",
              "  cancel.remove();\n",
              "\n",
              "  // Disable the input element since further picks are not allowed.\n",
              "  inputElement.disabled = true;\n",
              "\n",
              "  if (!files) {\n",
              "    return {\n",
              "      response: {\n",
              "        action: 'complete',\n",
              "      }\n",
              "    };\n",
              "  }\n",
              "\n",
              "  for (const file of files) {\n",
              "    const li = document.createElement('li');\n",
              "    li.append(span(file.name, {fontWeight: 'bold'}));\n",
              "    li.append(span(\n",
              "        `(${file.type || 'n/a'}) - ${file.size} bytes, ` +\n",
              "        `last modified: ${\n",
              "            file.lastModifiedDate ? file.lastModifiedDate.toLocaleDateString() :\n",
              "                                    'n/a'} - `));\n",
              "    const percent = span('0% done');\n",
              "    li.appendChild(percent);\n",
              "\n",
              "    outputElement.appendChild(li);\n",
              "\n",
              "    const fileDataPromise = new Promise((resolve) => {\n",
              "      const reader = new FileReader();\n",
              "      reader.onload = (e) => {\n",
              "        resolve(e.target.result);\n",
              "      };\n",
              "      reader.readAsArrayBuffer(file);\n",
              "    });\n",
              "    // Wait for the data to be ready.\n",
              "    let fileData = yield {\n",
              "      promise: fileDataPromise,\n",
              "      response: {\n",
              "        action: 'continue',\n",
              "      }\n",
              "    };\n",
              "\n",
              "    // Use a chunked sending to avoid message size limits. See b/62115660.\n",
              "    let position = 0;\n",
              "    do {\n",
              "      const length = Math.min(fileData.byteLength - position, MAX_PAYLOAD_SIZE);\n",
              "      const chunk = new Uint8Array(fileData, position, length);\n",
              "      position += length;\n",
              "\n",
              "      const base64 = btoa(String.fromCharCode.apply(null, chunk));\n",
              "      yield {\n",
              "        response: {\n",
              "          action: 'append',\n",
              "          file: file.name,\n",
              "          data: base64,\n",
              "        },\n",
              "      };\n",
              "\n",
              "      let percentDone = fileData.byteLength === 0 ?\n",
              "          100 :\n",
              "          Math.round((position / fileData.byteLength) * 100);\n",
              "      percent.textContent = `${percentDone}% done`;\n",
              "\n",
              "    } while (position < fileData.byteLength);\n",
              "  }\n",
              "\n",
              "  // All done.\n",
              "  yield {\n",
              "    response: {\n",
              "      action: 'complete',\n",
              "    }\n",
              "  };\n",
              "}\n",
              "\n",
              "scope.google = scope.google || {};\n",
              "scope.google.colab = scope.google.colab || {};\n",
              "scope.google.colab._files = {\n",
              "  _uploadFiles,\n",
              "  _uploadFilesContinue,\n",
              "};\n",
              "})(self);\n",
              "</script> "
            ]
          },
          "metadata": {}
        },
        {
          "output_type": "stream",
          "name": "stdout",
          "text": [
            "Saving .env to .env\n"
          ]
        }
      ]
    },
    {
      "cell_type": "code",
      "source": [
        "!ls -la"
      ],
      "metadata": {
        "colab": {
          "base_uri": "https://localhost:8080/"
        },
        "id": "kPZ0L7rWyEM1",
        "outputId": "688eee33-d4a7-47e5-93fe-33ce6b4e7dfe"
      },
      "execution_count": null,
      "outputs": [
        {
          "output_type": "stream",
          "name": "stdout",
          "text": [
            "total 20\n",
            "drwxr-xr-x 1 root root 4096 Aug 28 10:21 .\n",
            "drwxr-xr-x 1 root root 4096 Aug 28 10:18 ..\n",
            "drwxr-xr-x 4 root root 4096 Aug 26 19:08 .config\n",
            "-rw-r--r-- 1 root root   54 Aug 28 10:21 .env\n",
            "drwxr-xr-x 1 root root 4096 Aug 26 19:08 sample_data\n"
          ]
        }
      ]
    },
    {
      "cell_type": "code",
      "source": [
        "from dotenv import load_dotenv, find_dotenv\n",
        "import os\n",
        "\n",
        "load_dotenv(find_dotenv())\n",
        "\n",
        "key = os.getenv(\"GOOGLE_API_KEY\")\n",
        "print(\"API Key loaded?\", bool(key))\n",
        "print(\"Key prefix:\", (key[:6] + \"…\") if key else None)"
      ],
      "metadata": {
        "colab": {
          "base_uri": "https://localhost:8080/"
        },
        "id": "b-mUsAcQyJWC",
        "outputId": "19214d9a-e7e3-4535-b2e8-0fad7d9941cb"
      },
      "execution_count": null,
      "outputs": [
        {
          "output_type": "stream",
          "name": "stdout",
          "text": [
            "API Key loaded? True\n",
            "Key prefix: AIzaSy…\n"
          ]
        }
      ]
    },
    {
      "cell_type": "code",
      "source": [
        "import sys\n",
        "from typing import List\n",
        "from pydantic import BaseModel, ValidationError, field_validator\n",
        "from langchain_core.output_parsers import PydanticOutputParser\n",
        "from langchain_core.prompts import ChatPromptTemplate\n",
        "from langchain_google_genai import ChatGoogleGenerativeAI\n",
        "\n",
        "from datetime import datetime\n",
        "\n",
        "class ResearchBrief(BaseModel):\n",
        "    title: str\n",
        "    problem_statement: str\n",
        "    key_questions: List[str]\n",
        "    method_brief: List[str]\n",
        "    deliverables: List[str]\n",
        "    generated_at: str  # field for date & time\n",
        "\n",
        "    @field_validator(\"problem_statement\")\n",
        "    @classmethod\n",
        "    def max_two_sentences(cls, v: str) -> str:\n",
        "        count = sum(v.count(ch) for ch in \".!?\")\n",
        "        if count > 2:\n",
        "            raise ValueError(\"problem_statement must be <= 2 sentences\")\n",
        "        return v.strip()\n",
        "\n",
        "    @field_validator(\"key_questions\")\n",
        "    @classmethod\n",
        "    def q_len(cls, v: List[str]) -> List[str]:\n",
        "        if not (1 <= len(v) <= 3):\n",
        "            raise ValueError(\"key_questions must have 1–3 items\")\n",
        "        return [s.strip() for s in v]\n",
        "\n",
        "    @field_validator(\"method_brief\")\n",
        "    @classmethod\n",
        "    def m_len(cls, v: List[str]) -> List[str]:\n",
        "        if not (2 <= len(v) <= 4):\n",
        "            raise ValueError(\"method_brief must have 2–4 items\")\n",
        "        return [s.strip() for s in v]\n",
        "\n",
        "    @field_validator(\"deliverables\")\n",
        "    @classmethod\n",
        "    def d_len(cls, v: List[str]) -> List[str]:\n",
        "        if not (2 <= len(v) <= 3):\n",
        "            raise ValueError(\"deliverables must have 2–3 items\")\n",
        "        return [s.strip() for s in v]\n"
      ],
      "metadata": {
        "id": "kBgI4gyUI4DQ"
      },
      "execution_count": null,
      "outputs": []
    },
    {
      "cell_type": "code",
      "source": [
        "def add_timestamp(brief: ResearchBrief) -> ResearchBrief:\n",
        "    brief.generated_at = datetime.now().strftime(\"%Y-%m-%d\")\n",
        "    return brief"
      ],
      "metadata": {
        "id": "UVaNkdL9VxpS"
      },
      "execution_count": null,
      "outputs": []
    },
    {
      "cell_type": "code",
      "source": [
        "def require_api_key():\n",
        "    if not os.getenv(\"GOOGLE_API_KEY\"):\n",
        "        raise RuntimeError(\n",
        "            \"Missing GOOGLE_API_KEY. Set it using:\\n\"\n",
        "            \"os.environ['GOOGLE_API_KEY'] = 'your_key_here'\"\n",
        "        )\n",
        "\n",
        "def build_chain():\n",
        "    parser = PydanticOutputParser(pydantic_object=ResearchBrief)\n",
        "\n",
        "    system_rules = (\n",
        "        \"You write ultra-concise, practical research briefs.\\n\"\n",
        "        \"Return ONLY JSON that matches this schema:\\n{format_instructions}\\n\"\n",
        "        \"Rules:\\n\"\n",
        "        \"- Keep 'problem_statement' to <= 2 sentences.\\n\"\n",
        "        \"- 'key_questions' has 1–3 items.\\n\"\n",
        "        \"- 'method_brief' has 2–4 items.\\n\"\n",
        "        \"- 'deliverables' has 2–3 items.\\n\"\n",
        "        \"- Do NOT include date or time (will be added later).\\n\"\n",
        "        \"No markdown, no extra keys, no commentary.\"\n",
        "    )\n",
        "\n",
        "    prompt = (\n",
        "        ChatPromptTemplate\n",
        "        .from_messages([\n",
        "            (\"system\", system_rules),\n",
        "            (\"human\", \"Topic: {topic}\")\n",
        "        ])\n",
        "        .partial(format_instructions=parser.get_format_instructions())\n",
        "    )\n",
        "\n",
        "    model = ChatGoogleGenerativeAI(\n",
        "        model=\"gemini-1.5-flash\",\n",
        "        temperature=0,\n",
        "        max_retries=2,\n",
        "    )\n",
        "\n",
        "\n",
        "    return prompt | model | parser | add_timestamp\n",
        "\n",
        "\n",
        "def to_markdown(brief: ResearchBrief) -> str:\n",
        "    lines = []\n",
        "    lines.append(f\"# {brief.title}\")\n",
        "    lines.append(f\"**Generated At:** {brief.generated_at}\")\n",
        "    lines.append(f\"**Problem:** {brief.problem_statement}\")\n",
        "    lines.append(\"**Key Questions:**\")\n",
        "    lines.extend(f\"- {q}\" for q in brief.key_questions)\n",
        "    lines.append(\"**Method (brief):**\")\n",
        "    lines.extend(f\"- {m}\" for m in brief.method_brief)\n",
        "    lines.append(\"**Deliverables:**\")\n",
        "    lines.extend(f\"- {d}\" for d in brief.deliverables)\n",
        "    return \"\\n\".join(lines)\n",
        "\n"
      ],
      "metadata": {
        "id": "OtEo5GPPJCIc"
      },
      "execution_count": null,
      "outputs": []
    },
    {
      "cell_type": "code",
      "source": [
        "require_api_key()\n",
        "topic = input(\"Enter a research topic: \").strip()\n",
        "\n",
        "if not topic:\n",
        "    print(\"ERROR: Topic cannot be empty.\", file=sys.stderr)\n",
        "else:\n",
        "    try:\n",
        "        chain = build_chain()\n",
        "        brief: ResearchBrief = chain.invoke({\"topic\": topic})\n",
        "\n",
        "        print(\"\\n JSON Output:\")\n",
        "        print(brief.model_dump_json(indent=2, ensure_ascii=False))\n",
        "\n",
        "    except ValidationError as ve:\n",
        "        print(\"ERROR: Model returned invalid JSON.\", file=sys.stderr)\n",
        "        print(ve, file=sys.stderr)\n",
        "    except Exception as e:\n",
        "        print(f\"ERROR: {e}\", file=sys.stderr)\n"
      ],
      "metadata": {
        "colab": {
          "base_uri": "https://localhost:8080/"
        },
        "id": "ggxHTJCEJJDd",
        "outputId": "b17b395c-1601-4719-8972-07a419b7f14e"
      },
      "execution_count": null,
      "outputs": [
        {
          "output_type": "stream",
          "name": "stdout",
          "text": [
            "Enter a research topic: Ai impact on human\n",
            "\n",
            " JSON Output:\n"
          ]
        },
        {
          "output_type": "stream",
          "name": "stderr",
          "text": [
            "ERROR: BaseModel.model_dump_json() got an unexpected keyword argument 'ensure_ascii'\n"
          ]
        }
      ]
    },
    {
      "cell_type": "code",
      "source": [
        "import json\n",
        "from datetime import datetime\n",
        "\n",
        "current_time = datetime.now().strftime(\"%Y-%m-%d\")\n",
        "\n",
        "result = chain.invoke({\"topic\": topic})\n",
        "\n",
        "output_data = result.model_dump()\n",
        "output_data[\"generated at\"] = current_time\n",
        "\n",
        "json_output = json.dumps(output_data, indent=2, ensure_ascii=False)\n",
        "print(\"JSON Output:\")\n",
        "print(json_output)\n",
        "\n",
        "md_output = to_markdown(result)\n",
        "md_output += f\"\\n\\n**Generated on:** {current_time}\"\n",
        "\n",
        "print(\"\\nMarkdown Output:\")\n",
        "print(md_output)\n"
      ],
      "metadata": {
        "colab": {
          "base_uri": "https://localhost:8080/"
        },
        "id": "ChF8C4wYP0_b",
        "outputId": "e225d828-989d-44ef-eca6-a272660cba81"
      },
      "execution_count": null,
      "outputs": [
        {
          "output_type": "stream",
          "name": "stdout",
          "text": [
            "JSON Output:\n",
            "{\n",
            "  \"title\": \"AI Impact on Human Labor\",\n",
            "  \"problem_statement\": \"AI-driven automation is rapidly changing the job market.  This research will assess the extent and nature of this impact on human workers.\",\n",
            "  \"key_questions\": [\n",
            "    \"How will AI affect employment rates across various sectors?\",\n",
            "    \"What types of jobs are most susceptible to automation?\",\n",
            "    \"What retraining and upskilling initiatives are needed?\"\n",
            "  ],\n",
            "  \"method_brief\": [\n",
            "    \"Literature review of existing studies on AI and employment.\",\n",
            "    \"Statistical analysis of job market trends and AI adoption rates.\",\n",
            "    \"Case studies of companies implementing AI and their workforce adjustments.\",\n",
            "    \"Interviews with workers in AI-affected industries.\"\n",
            "  ],\n",
            "  \"deliverables\": [\n",
            "    \"A report summarizing the findings of the research.\",\n",
            "    \"Policy recommendations for mitigating negative impacts of AI on employment.\",\n",
            "    \"A presentation of key findings for stakeholders.\"\n",
            "  ],\n",
            "  \"generated_at\": \"2025-08-28\",\n",
            "  \"generated at\": \"2025-08-28\"\n",
            "}\n",
            "\n",
            "Markdown Output:\n",
            "# AI Impact on Human Labor\n",
            "**Generated At:** 2025-08-28\n",
            "**Problem:** AI-driven automation is rapidly changing the job market.  This research will assess the extent and nature of this impact on human workers.\n",
            "**Key Questions:**\n",
            "- How will AI affect employment rates across various sectors?\n",
            "- What types of jobs are most susceptible to automation?\n",
            "- What retraining and upskilling initiatives are needed?\n",
            "**Method (brief):**\n",
            "- Literature review of existing studies on AI and employment.\n",
            "- Statistical analysis of job market trends and AI adoption rates.\n",
            "- Case studies of companies implementing AI and their workforce adjustments.\n",
            "- Interviews with workers in AI-affected industries.\n",
            "**Deliverables:**\n",
            "- A report summarizing the findings of the research.\n",
            "- Policy recommendations for mitigating negative impacts of AI on employment.\n",
            "- A presentation of key findings for stakeholders.\n",
            "\n",
            "**Generated on:** 2025-08-28\n"
          ]
        }
      ]
    }
  ]
}