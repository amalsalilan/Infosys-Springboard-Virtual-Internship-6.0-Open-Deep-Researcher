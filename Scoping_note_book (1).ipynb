{
  "nbformat": 4,
  "nbformat_minor": 0,
  "metadata": {
    "colab": {
      "provenance": []
    },
    "kernelspec": {
      "name": "python3",
      "display_name": "Python 3"
    },
    "language_info": {
      "name": "python"
    }
  },
  "cells": [
    {
      "cell_type": "code",
      "execution_count": 1,
      "metadata": {
        "colab": {
          "base_uri": "https://localhost:8080/"
        },
        "id": "te3vLLOvvNa9",
        "outputId": "7e927e43-9f31-4ea4-be7c-ca4518996c75"
      },
      "outputs": [
        {
          "output_type": "stream",
          "name": "stdout",
          "text": [
            "Requirement already satisfied: langgraph in /usr/local/lib/python3.12/dist-packages (0.6.7)\n",
            "Requirement already satisfied: langchain-core in /usr/local/lib/python3.12/dist-packages (0.3.75)\n",
            "Requirement already satisfied: langchain in /usr/local/lib/python3.12/dist-packages (0.3.27)\n",
            "Requirement already satisfied: typing_extensions in /usr/local/lib/python3.12/dist-packages (4.15.0)\n",
            "Requirement already satisfied: pydantic in /usr/local/lib/python3.12/dist-packages (2.11.7)\n",
            "Requirement already satisfied: rich in /usr/local/lib/python3.12/dist-packages (13.9.4)\n",
            "Requirement already satisfied: google-generativeai in /usr/local/lib/python3.12/dist-packages (0.8.5)\n",
            "Requirement already satisfied: graphviz in /usr/local/lib/python3.12/dist-packages (0.21)\n",
            "Requirement already satisfied: langchain-google-genai in /usr/local/lib/python3.12/dist-packages (2.0.10)\n",
            "Requirement already satisfied: langgraph-checkpoint<3.0.0,>=2.1.0 in /usr/local/lib/python3.12/dist-packages (from langgraph) (2.1.1)\n",
            "Requirement already satisfied: langgraph-prebuilt<0.7.0,>=0.6.0 in /usr/local/lib/python3.12/dist-packages (from langgraph) (0.6.4)\n",
            "Requirement already satisfied: langgraph-sdk<0.3.0,>=0.2.2 in /usr/local/lib/python3.12/dist-packages (from langgraph) (0.2.7)\n",
            "Requirement already satisfied: xxhash>=3.5.0 in /usr/local/lib/python3.12/dist-packages (from langgraph) (3.5.0)\n",
            "Requirement already satisfied: langsmith>=0.3.45 in /usr/local/lib/python3.12/dist-packages (from langchain-core) (0.4.27)\n",
            "Requirement already satisfied: tenacity!=8.4.0,<10.0.0,>=8.1.0 in /usr/local/lib/python3.12/dist-packages (from langchain-core) (8.5.0)\n",
            "Requirement already satisfied: jsonpatch<2.0,>=1.33 in /usr/local/lib/python3.12/dist-packages (from langchain-core) (1.33)\n",
            "Requirement already satisfied: PyYAML>=5.3 in /usr/local/lib/python3.12/dist-packages (from langchain-core) (6.0.2)\n",
            "Requirement already satisfied: packaging>=23.2 in /usr/local/lib/python3.12/dist-packages (from langchain-core) (25.0)\n",
            "Requirement already satisfied: langchain-text-splitters<1.0.0,>=0.3.9 in /usr/local/lib/python3.12/dist-packages (from langchain) (0.3.11)\n",
            "Requirement already satisfied: SQLAlchemy<3,>=1.4 in /usr/local/lib/python3.12/dist-packages (from langchain) (2.0.43)\n",
            "Requirement already satisfied: requests<3,>=2 in /usr/local/lib/python3.12/dist-packages (from langchain) (2.32.4)\n",
            "Requirement already satisfied: annotated-types>=0.6.0 in /usr/local/lib/python3.12/dist-packages (from pydantic) (0.7.0)\n",
            "Requirement already satisfied: pydantic-core==2.33.2 in /usr/local/lib/python3.12/dist-packages (from pydantic) (2.33.2)\n",
            "Requirement already satisfied: typing-inspection>=0.4.0 in /usr/local/lib/python3.12/dist-packages (from pydantic) (0.4.1)\n",
            "Requirement already satisfied: markdown-it-py>=2.2.0 in /usr/local/lib/python3.12/dist-packages (from rich) (4.0.0)\n",
            "Requirement already satisfied: pygments<3.0.0,>=2.13.0 in /usr/local/lib/python3.12/dist-packages (from rich) (2.19.2)\n",
            "Requirement already satisfied: google-ai-generativelanguage==0.6.15 in /usr/local/lib/python3.12/dist-packages (from google-generativeai) (0.6.15)\n",
            "Requirement already satisfied: google-api-core in /usr/local/lib/python3.12/dist-packages (from google-generativeai) (2.25.1)\n",
            "Requirement already satisfied: google-api-python-client in /usr/local/lib/python3.12/dist-packages (from google-generativeai) (2.181.0)\n",
            "Requirement already satisfied: google-auth>=2.15.0 in /usr/local/lib/python3.12/dist-packages (from google-generativeai) (2.38.0)\n",
            "Requirement already satisfied: protobuf in /usr/local/lib/python3.12/dist-packages (from google-generativeai) (5.29.5)\n",
            "Requirement already satisfied: tqdm in /usr/local/lib/python3.12/dist-packages (from google-generativeai) (4.67.1)\n",
            "Requirement already satisfied: proto-plus<2.0.0dev,>=1.22.3 in /usr/local/lib/python3.12/dist-packages (from google-ai-generativelanguage==0.6.15->google-generativeai) (1.26.1)\n",
            "Requirement already satisfied: filetype<2.0.0,>=1.2.0 in /usr/local/lib/python3.12/dist-packages (from langchain-google-genai) (1.2.0)\n",
            "Requirement already satisfied: googleapis-common-protos<2.0.0,>=1.56.2 in /usr/local/lib/python3.12/dist-packages (from google-api-core->google-generativeai) (1.70.0)\n",
            "Requirement already satisfied: cachetools<6.0,>=2.0.0 in /usr/local/lib/python3.12/dist-packages (from google-auth>=2.15.0->google-generativeai) (5.5.2)\n",
            "Requirement already satisfied: pyasn1-modules>=0.2.1 in /usr/local/lib/python3.12/dist-packages (from google-auth>=2.15.0->google-generativeai) (0.4.2)\n",
            "Requirement already satisfied: rsa<5,>=3.1.4 in /usr/local/lib/python3.12/dist-packages (from google-auth>=2.15.0->google-generativeai) (4.9.1)\n",
            "Requirement already satisfied: jsonpointer>=1.9 in /usr/local/lib/python3.12/dist-packages (from jsonpatch<2.0,>=1.33->langchain-core) (3.0.0)\n",
            "Requirement already satisfied: ormsgpack>=1.10.0 in /usr/local/lib/python3.12/dist-packages (from langgraph-checkpoint<3.0.0,>=2.1.0->langgraph) (1.10.0)\n",
            "Requirement already satisfied: httpx>=0.25.2 in /usr/local/lib/python3.12/dist-packages (from langgraph-sdk<0.3.0,>=0.2.2->langgraph) (0.28.1)\n",
            "Requirement already satisfied: orjson>=3.10.1 in /usr/local/lib/python3.12/dist-packages (from langgraph-sdk<0.3.0,>=0.2.2->langgraph) (3.11.3)\n",
            "Requirement already satisfied: requests-toolbelt>=1.0.0 in /usr/local/lib/python3.12/dist-packages (from langsmith>=0.3.45->langchain-core) (1.0.0)\n",
            "Requirement already satisfied: zstandard>=0.23.0 in /usr/local/lib/python3.12/dist-packages (from langsmith>=0.3.45->langchain-core) (0.24.0)\n",
            "Requirement already satisfied: mdurl~=0.1 in /usr/local/lib/python3.12/dist-packages (from markdown-it-py>=2.2.0->rich) (0.1.2)\n",
            "Requirement already satisfied: charset_normalizer<4,>=2 in /usr/local/lib/python3.12/dist-packages (from requests<3,>=2->langchain) (3.4.3)\n",
            "Requirement already satisfied: idna<4,>=2.5 in /usr/local/lib/python3.12/dist-packages (from requests<3,>=2->langchain) (3.10)\n",
            "Requirement already satisfied: urllib3<3,>=1.21.1 in /usr/local/lib/python3.12/dist-packages (from requests<3,>=2->langchain) (2.5.0)\n",
            "Requirement already satisfied: certifi>=2017.4.17 in /usr/local/lib/python3.12/dist-packages (from requests<3,>=2->langchain) (2025.8.3)\n",
            "Requirement already satisfied: greenlet>=1 in /usr/local/lib/python3.12/dist-packages (from SQLAlchemy<3,>=1.4->langchain) (3.2.4)\n",
            "Requirement already satisfied: httplib2<1.0.0,>=0.19.0 in /usr/local/lib/python3.12/dist-packages (from google-api-python-client->google-generativeai) (0.30.0)\n",
            "Requirement already satisfied: google-auth-httplib2<1.0.0,>=0.2.0 in /usr/local/lib/python3.12/dist-packages (from google-api-python-client->google-generativeai) (0.2.0)\n",
            "Requirement already satisfied: uritemplate<5,>=3.0.1 in /usr/local/lib/python3.12/dist-packages (from google-api-python-client->google-generativeai) (4.2.0)\n",
            "Requirement already satisfied: grpcio<2.0.0,>=1.33.2 in /usr/local/lib/python3.12/dist-packages (from google-api-core[grpc]!=2.0.*,!=2.1.*,!=2.10.*,!=2.2.*,!=2.3.*,!=2.4.*,!=2.5.*,!=2.6.*,!=2.7.*,!=2.8.*,!=2.9.*,<3.0.0dev,>=1.34.1->google-ai-generativelanguage==0.6.15->google-generativeai) (1.74.0)\n",
            "Requirement already satisfied: grpcio-status<2.0.0,>=1.33.2 in /usr/local/lib/python3.12/dist-packages (from google-api-core[grpc]!=2.0.*,!=2.1.*,!=2.10.*,!=2.2.*,!=2.3.*,!=2.4.*,!=2.5.*,!=2.6.*,!=2.7.*,!=2.8.*,!=2.9.*,<3.0.0dev,>=1.34.1->google-ai-generativelanguage==0.6.15->google-generativeai) (1.71.2)\n",
            "Requirement already satisfied: pyparsing<4,>=3.0.4 in /usr/local/lib/python3.12/dist-packages (from httplib2<1.0.0,>=0.19.0->google-api-python-client->google-generativeai) (3.2.3)\n",
            "Requirement already satisfied: anyio in /usr/local/lib/python3.12/dist-packages (from httpx>=0.25.2->langgraph-sdk<0.3.0,>=0.2.2->langgraph) (4.10.0)\n",
            "Requirement already satisfied: httpcore==1.* in /usr/local/lib/python3.12/dist-packages (from httpx>=0.25.2->langgraph-sdk<0.3.0,>=0.2.2->langgraph) (1.0.9)\n",
            "Requirement already satisfied: h11>=0.16 in /usr/local/lib/python3.12/dist-packages (from httpcore==1.*->httpx>=0.25.2->langgraph-sdk<0.3.0,>=0.2.2->langgraph) (0.16.0)\n",
            "Requirement already satisfied: pyasn1<0.7.0,>=0.6.1 in /usr/local/lib/python3.12/dist-packages (from pyasn1-modules>=0.2.1->google-auth>=2.15.0->google-generativeai) (0.6.1)\n",
            "Requirement already satisfied: sniffio>=1.1 in /usr/local/lib/python3.12/dist-packages (from anyio->httpx>=0.25.2->langgraph-sdk<0.3.0,>=0.2.2->langgraph) (1.3.1)\n"
          ]
        }
      ],
      "source": [
        "!pip install langgraph langchain-core langchain typing_extensions pydantic rich google-generativeai graphviz langchain-google-genai"
      ]
    },
    {
      "cell_type": "code",
      "source": [
        "!pip install google-genai"
      ],
      "metadata": {
        "colab": {
          "base_uri": "https://localhost:8080/"
        },
        "id": "ykuUjCUJvZMC",
        "outputId": "dd3a72a1-4990-429f-ddd0-b861683c6518"
      },
      "execution_count": 2,
      "outputs": [
        {
          "output_type": "stream",
          "name": "stdout",
          "text": [
            "Requirement already satisfied: google-genai in /usr/local/lib/python3.12/dist-packages (1.34.0)\n",
            "Requirement already satisfied: anyio<5.0.0,>=4.8.0 in /usr/local/lib/python3.12/dist-packages (from google-genai) (4.10.0)\n",
            "Requirement already satisfied: google-auth<3.0.0,>=2.14.1 in /usr/local/lib/python3.12/dist-packages (from google-genai) (2.38.0)\n",
            "Requirement already satisfied: httpx<1.0.0,>=0.28.1 in /usr/local/lib/python3.12/dist-packages (from google-genai) (0.28.1)\n",
            "Requirement already satisfied: pydantic<3.0.0,>=2.0.0 in /usr/local/lib/python3.12/dist-packages (from google-genai) (2.11.7)\n",
            "Requirement already satisfied: requests<3.0.0,>=2.28.1 in /usr/local/lib/python3.12/dist-packages (from google-genai) (2.32.4)\n",
            "Requirement already satisfied: tenacity<9.2.0,>=8.2.3 in /usr/local/lib/python3.12/dist-packages (from google-genai) (8.5.0)\n",
            "Requirement already satisfied: websockets<15.1.0,>=13.0.0 in /usr/local/lib/python3.12/dist-packages (from google-genai) (15.0.1)\n",
            "Requirement already satisfied: typing-extensions<5.0.0,>=4.11.0 in /usr/local/lib/python3.12/dist-packages (from google-genai) (4.15.0)\n",
            "Requirement already satisfied: idna>=2.8 in /usr/local/lib/python3.12/dist-packages (from anyio<5.0.0,>=4.8.0->google-genai) (3.10)\n",
            "Requirement already satisfied: sniffio>=1.1 in /usr/local/lib/python3.12/dist-packages (from anyio<5.0.0,>=4.8.0->google-genai) (1.3.1)\n",
            "Requirement already satisfied: cachetools<6.0,>=2.0.0 in /usr/local/lib/python3.12/dist-packages (from google-auth<3.0.0,>=2.14.1->google-genai) (5.5.2)\n",
            "Requirement already satisfied: pyasn1-modules>=0.2.1 in /usr/local/lib/python3.12/dist-packages (from google-auth<3.0.0,>=2.14.1->google-genai) (0.4.2)\n",
            "Requirement already satisfied: rsa<5,>=3.1.4 in /usr/local/lib/python3.12/dist-packages (from google-auth<3.0.0,>=2.14.1->google-genai) (4.9.1)\n",
            "Requirement already satisfied: certifi in /usr/local/lib/python3.12/dist-packages (from httpx<1.0.0,>=0.28.1->google-genai) (2025.8.3)\n",
            "Requirement already satisfied: httpcore==1.* in /usr/local/lib/python3.12/dist-packages (from httpx<1.0.0,>=0.28.1->google-genai) (1.0.9)\n",
            "Requirement already satisfied: h11>=0.16 in /usr/local/lib/python3.12/dist-packages (from httpcore==1.*->httpx<1.0.0,>=0.28.1->google-genai) (0.16.0)\n",
            "Requirement already satisfied: annotated-types>=0.6.0 in /usr/local/lib/python3.12/dist-packages (from pydantic<3.0.0,>=2.0.0->google-genai) (0.7.0)\n",
            "Requirement already satisfied: pydantic-core==2.33.2 in /usr/local/lib/python3.12/dist-packages (from pydantic<3.0.0,>=2.0.0->google-genai) (2.33.2)\n",
            "Requirement already satisfied: typing-inspection>=0.4.0 in /usr/local/lib/python3.12/dist-packages (from pydantic<3.0.0,>=2.0.0->google-genai) (0.4.1)\n",
            "Requirement already satisfied: charset_normalizer<4,>=2 in /usr/local/lib/python3.12/dist-packages (from requests<3.0.0,>=2.28.1->google-genai) (3.4.3)\n",
            "Requirement already satisfied: urllib3<3,>=1.21.1 in /usr/local/lib/python3.12/dist-packages (from requests<3.0.0,>=2.28.1->google-genai) (2.5.0)\n",
            "Requirement already satisfied: pyasn1<0.7.0,>=0.6.1 in /usr/local/lib/python3.12/dist-packages (from pyasn1-modules>=0.2.1->google-auth<3.0.0,>=2.14.1->google-genai) (0.6.1)\n"
          ]
        }
      ]
    },
    {
      "cell_type": "code",
      "source": [
        "# Imports & Setup\n",
        "import os, json, operator, getpass\n",
        "from datetime import datetime\n",
        "from typing_extensions import Optional, Annotated, Sequence, Literal\n",
        "from pydantic import BaseModel, Field\n",
        "\n",
        "from rich.console import Console\n",
        "from rich.panel import Panel\n",
        "from rich.text import Text\n",
        "from rich.markdown import Markdown\n",
        "\n",
        "console = Console()\n",
        "\n",
        "from langchain_core.messages import BaseMessage, HumanMessage, AIMessage, get_buffer_string\n",
        "from langgraph.graph import MessagesState, StateGraph, START, END\n",
        "from langgraph.graph.message import add_messages\n",
        "from langgraph.types import Command\n",
        "from langgraph.checkpoint.memory import InMemorySaver\n",
        "from langchain_google_genai import ChatGoogleGenerativeAI\n",
        "from IPython.display import Image, display\n",
        "\n",
        "import google.generativeai as genai\n",
        "from getpass import getpass\n",
        "\n",
        "# Enter API key securely\n",
        "os.environ[\"GOOGLE_API_KEY\"] = getpass(\"Enter your Google API Key: \")\n",
        "\n",
        "# Configure the library\n",
        "genai.configure(api_key=os.environ[\"GOOGLE_API_KEY\"])\n",
        "\n",
        "# Initialize the model\n",
        "model = genai.GenerativeModel(\"models/gemini-2.5-flash\"\n",
        ")"
      ],
      "metadata": {
        "colab": {
          "base_uri": "https://localhost:8080/"
        },
        "id": "DJzJk7i3vfH_",
        "outputId": "43979711-9d5c-4559-eff1-724556916ee1"
      },
      "execution_count": 33,
      "outputs": [
        {
          "name": "stdout",
          "output_type": "stream",
          "text": [
            "Enter your Google API Key: ··········\n"
          ]
        }
      ]
    },
    {
      "cell_type": "code",
      "source": [
        "# UI Helper Functions\n",
        "def show_prompt(prompt_text: str, title: str = \"Prompt\", border_style: str = \"blue\"):\n",
        "    \"\"\"Nicely display prompts with highlighting.\"\"\"\n",
        "    formatted_text = Text(prompt_text)\n",
        "    formatted_text.highlight_regex(r'<[^>]+>', style=\"bold blue\")\n",
        "    formatted_text.highlight_regex(r'##[^#\\n]+', style=\"bold magenta\")\n",
        "    formatted_text.highlight_regex(r'###[^#\\n]+', style=\"bold cyan\")\n",
        "    console.print(Panel(formatted_text, title=f\"[bold green]{title}[/bold green]\", border_style=border_style, padding=(1,2)))\n",
        "\n",
        "def format_message_content(message):\n",
        "    parts, tool_calls_processed = [], False\n",
        "    if isinstance(message.content, str):\n",
        "        parts.append(message.content)\n",
        "    elif isinstance(message.content, list):\n",
        "        for item in message.content:\n",
        "            if item.get('type') == 'text':\n",
        "                parts.append(item['text'])\n",
        "            elif item.get('type') == 'tool_use':\n",
        "                parts.append(f\"\\n Tool Call: {item['name']}\")\n",
        "                parts.append(f\"   Args: {json.dumps(item['input'], indent=2)}\")\n",
        "                parts.append(f\"   ID: {item.get('id', 'N/A')}\")\n",
        "                tool_calls_processed = True\n",
        "    else:\n",
        "        parts.append(str(message.content))\n",
        "    if not tool_calls_processed and hasattr(message, 'tool_calls') and message.tool_calls:\n",
        "        for tool_call in message.tool_calls:\n",
        "            parts.append(f\"\\n Tool Call: {tool_call['name']}\")\n",
        "            parts.append(f\"   Args: {json.dumps(tool_call['args'], indent=2)}\")\n",
        "            parts.append(f\"   ID: {tool_call['id']}\")\n",
        "    return \"\\n\".join(parts)\n",
        "\n",
        "def format_messages(messages):\n",
        "    for m in messages:\n",
        "        msg_type = m.__class__.__name__.replace('Message','')\n",
        "        content = format_message_content(m)\n",
        "        if msg_type == 'Human':\n",
        "            console.print(Panel(content, title=\"Human\", border_style=\"blue\"))\n",
        "        elif msg_type == 'Ai':\n",
        "            console.print(Panel(content, title=\"Assistant\", border_style=\"green\"))\n",
        "        elif msg_type == 'Tool':\n",
        "            console.print(Panel(content, title=\"Tool Output\", border_style=\"yellow\"))\n",
        "        else:\n",
        "            console.print(Panel(content, title=f\"{msg_type}\", border_style=\"white\"))"
      ],
      "metadata": {
        "id": "WINAmxyZvf2E"
      },
      "execution_count": 34,
      "outputs": []
    },
    {
      "cell_type": "code",
      "source": [
        "# Prompt Templates\n",
        "clarify_with_user_instructions = \"\"\"\n",
        "These are the messages that have been exchanged so far from the user asking for the report:\n",
        "<Messages>\n",
        "{messages}\n",
        "</Messages>\n",
        "\n",
        "Today's date is {date}.\n",
        "\n",
        "Assess whether you need to ask a clarifying question, or if the user has already provided enough information for you to start research.\n",
        "\n",
        "Return JSON with:\n",
        "- \"{{\\\"need_clarification\\\"}}\": true/false\n",
        "- \"{{\\\"question\\\"}}\": string (if clarification needed)\n",
        "- \"{{\\\"verification\\\"}}\": string (if enough info)\n",
        "\"\"\""
      ],
      "metadata": {
        "id": "naf-UqyAvju3"
      },
      "execution_count": 35,
      "outputs": []
    },
    {
      "cell_type": "code",
      "source": [
        "# State & Schemas\n",
        "class AgentInputState(MessagesState): pass\n",
        "\n",
        "class AgentState(MessagesState):\n",
        "    research_brief: Optional[str]\n",
        "    supervisor_messages: Annotated[Sequence[BaseMessage], add_messages]\n",
        "    raw_notes: Annotated[list[str], operator.add] = []\n",
        "    notes: Annotated[list[str], operator.add] = []\n",
        "    final_report: str\n",
        "\n",
        "class ClarifyWithUser(BaseModel):\n",
        "    need_clarification: bool\n",
        "    question: str\n",
        "    verification: str\n",
        "\n",
        "class ResearchQuestion(BaseModel):\n",
        "    research_brief: str\n"
      ],
      "metadata": {
        "id": "3GyLYHmRvoq8"
      },
      "execution_count": 36,
      "outputs": []
    },
    {
      "cell_type": "code",
      "source": [
        "# Utilities\n",
        "def get_today_str() -> str:\n",
        "    dt = datetime.now()\n",
        "    return f\"{dt.strftime('%a %b')} {dt.day}, {dt.strftime('%Y')}\""
      ],
      "metadata": {
        "id": "SIHy_qxsvrze"
      },
      "execution_count": 37,
      "outputs": []
    },
    {
      "cell_type": "code",
      "source": [
        "# Workflow Nodes\n",
        "def clarify_with_user(state: AgentState) -> Command[Literal[\"write_research_brief\", \"__end__\"]]:\n",
        "    import re, json\n",
        "\n",
        "    prompt = f\"\"\"\n",
        "    These are the messages that have been exchanged so far from the user asking for the report:\n",
        "    <Messages>\n",
        "    {get_buffer_string(messages=state['messages'])}\n",
        "    </Messages>\n",
        "\n",
        "    Today's date is {get_today_str()}.\n",
        "\n",
        "    Assess whether you need to ask a clarifying question, or if the user has already provided enough information for you to start research.\n",
        "\n",
        "    Return JSON with:\n",
        "    {{\n",
        "      \"need_clarification\": true/false,\n",
        "      \"question\": \"...\",\n",
        "      \"verification\": \"...\"\n",
        "    }}\n",
        "    \"\"\"\n",
        "\n",
        "    response = model.generate_content(contents=prompt)\n",
        "    output_text = response.text\n",
        "\n",
        "    match = re.search(r\"\\{.*\\}\", output_text, re.DOTALL)\n",
        "    if match:\n",
        "        try:\n",
        "            parsed = json.loads(match.group())\n",
        "        except json.JSONDecodeError:\n",
        "            return Command(goto=END, update={\"messages\":[AIMessage(content=\"Clarification step failed (JSON decode error).\")]})\n",
        "    else:\n",
        "        return Command(goto=END, update={\"messages\":[AIMessage(content=\"Clarification step failed (No JSON found).\")]})\n",
        "\n",
        "    if parsed.get(\"need_clarification\"):\n",
        "        # Stay in clarify_with_user until enough info is gathered\n",
        "        return Command(update={\"messages\":[AIMessage(content=parsed.get(\"question\", \"Need clarification\"))]})\n",
        "    else:\n",
        "        # When enough info is provided, move to write_research_brief\n",
        "        return Command(goto=\"write_research_brief\", update={\"messages\":[AIMessage(content=parsed.get(\"verification\", \"Proceeding with research brief\"))]})\n",
        "\n",
        "\n",
        "def write_research_brief(state: AgentState) -> Command[Literal[\"__end__\"]]:\n",
        "    import re, json\n",
        "\n",
        "    user_topic = state['messages'][-1].content  # last user input\n",
        "\n",
        "    prompt = f\"\"\"\n",
        "    You are a research assistant. Write a research brief about the following topic: {user_topic}.\n",
        "    Return only valid JSON in the format:\n",
        "    {{\n",
        "      \"title\": \"...\",\n",
        "      \"date\": \"{get_today_str()}\",\n",
        "      \"problem_statement\": \"...\",\n",
        "      \"key_questions\": [\"...\", \"...\", \"...\"],\n",
        "      }}\n",
        "    \"\"\"\n",
        "\n",
        "    response = model.generate_content(contents=prompt)\n",
        "    output_text = response.text\n",
        "\n",
        "    match = re.search(r\"\\{.*\\}\", output_text, re.DOTALL)\n",
        "    if match:\n",
        "        try:\n",
        "            parsed = json.loads(match.group())\n",
        "\n",
        "            # Always make sure date is included at the top\n",
        "            parsed = {\n",
        "                \"title\": parsed.get(\"title\", \"\"),\n",
        "                \"date\": get_today_str(),\n",
        "                \"problem_statement\": parsed.get(\"problem_statement\", \"\"),\n",
        "                \"key_questions\": parsed.get(\"key_questions\", []),\n",
        "\n",
        "            }\n",
        "\n",
        "            return Command(\n",
        "                goto=END,\n",
        "                update={\n",
        "                    \"research_brief\": json.dumps(parsed, indent=2),\n",
        "                    \"messages\": [AIMessage(content=\"Research brief generated successfully \")]\n",
        "                }\n",
        "            )\n",
        "        except json.JSONDecodeError:\n",
        "            return Command(goto=END, update={\"messages\":[AIMessage(content=\"Error: Failed to parse JSON\")]})\n",
        "    else:\n",
        "        return Command(goto=END, update={\"messages\":[AIMessage(content=\"Error: No JSON found in response\")]})"
      ],
      "metadata": {
        "id": "S0NsfpgsvubU"
      },
      "execution_count": 38,
      "outputs": []
    },
    {
      "cell_type": "code",
      "source": [
        "# Graph Build\n",
        "deep_researcher_builder = StateGraph(AgentState, input_schema=AgentInputState)\n",
        "deep_researcher_builder.add_node(\"clarify_with_user\", clarify_with_user)\n",
        "deep_researcher_builder.add_node(\"write_research_brief\", write_research_brief)\n",
        "deep_researcher_builder.add_edge(START, \"clarify_with_user\")\n",
        "deep_researcher_builder.add_edge(\"write_research_brief\", END)\n",
        "\n",
        "checkpointer = InMemorySaver()\n",
        "scope = deep_researcher_builder.compile(checkpointer=checkpointer)"
      ],
      "metadata": {
        "id": "62ff0mHNvyeb"
      },
      "execution_count": 39,
      "outputs": []
    },
    {
      "cell_type": "code",
      "source": [
        "# Visualize workflow\n",
        "display(Image(scope.get_graph(xray=True).draw_mermaid_png()))"
      ],
      "metadata": {
        "colab": {
          "base_uri": "https://localhost:8080/",
          "height": 350
        },
        "id": "vUsrhxxDv1qs",
        "outputId": "227347f3-5ac3-44b6-b799-8d19fac30e0e"
      },
      "execution_count": 40,
      "outputs": [
        {
          "output_type": "display_data",
          "data": {
            "image/png": "[encoded data removed]",
            "text/plain": [
              "<IPython.core.display.Image object>"
            ]
          },
          "metadata": {}
        }
      ]
    },
    {
      "cell_type": "code",
      "source": [
        "# Interactive Demo with Rich Panel\n",
        "import json\n",
        "from IPython.display import display, Markdown\n",
        "from datetime import datetime\n",
        "\n",
        "# Interactive Demo\n",
        "while True:\n",
        "    user_topic = input(\"\\nEnter your research topic (or type 'exit' to quit): \")\n",
        "    if user_topic.lower() == \"exit\":\n",
        "        break\n",
        "\n",
        "    thread = {\"configurable\": {\"thread_id\": \"1\"}}\n",
        "    result = scope.invoke({\"messages\":[HumanMessage(content=user_topic)]}, config=thread)\n",
        "\n",
        "    format_messages(result['messages'])\n",
        "\n",
        "    if \"research_brief\" in result:\n",
        "        # Parse JSON\n",
        "        brief_json = json.loads(result[\"research_brief\"])\n",
        "\n",
        "        # Extract fields\n",
        "        title = brief_json.get(\"title\", \"Untitled\")\n",
        "        problem = brief_json.get(\"problem_statement\", \"N/A\")\n",
        "        questions = brief_json.get(\"key_questions\", [])\n",
        "\n",
        "\n",
        "        # Today’s date\n",
        "        today = datetime.today().strftime(\"%Y-%m-%d\")\n",
        "\n",
        "         # -------- View 1: Clean Markdown Report (No Sources) --------\n",
        "        md_output = f\"\"\"\n",
        "### Research Brief: {title}\n",
        "\n",
        "**Date:** {today}\n",
        "\n",
        "**Problem Statement**\n",
        "{problem}\n",
        "\n",
        "**Key Questions**\n",
        "\"\"\"\n",
        "        for q in questions:\n",
        "            md_output += f\"- {q}\\n\"\n",
        "\n",
        "        display(Markdown(md_output))\n",
        "\n",
        "        # -------- View 2: Pretty JSON (No Sources) --------\n",
        "        formatted_json = json.dumps(brief_json, indent=2)\n",
        "        display(Markdown(f\"### Raw JSON Research Brief\\n```json\\n{formatted_json}\\n```\"))"
      ],
      "metadata": {
        "colab": {
          "base_uri": "https://localhost:8080/",
          "height": 1000
        },
        "id": "6NvTSIDXv7uc",
        "outputId": "d694d48e-d536-4fe9-c2d3-ea68f24f242d"
      },
      "execution_count": 41,
      "outputs": [
        {
          "name": "stdout",
          "output_type": "stream",
          "text": [
            "\n",
            "Enter your research topic (or type 'exit' to quit): Role of Satellites\n"
          ]
        },
        {
          "output_type": "display_data",
          "data": {
            "text/plain": [
              "\u001b[34m╭─\u001b[0m\u001b[34m────────────────────────────────────────────────────\u001b[0m\u001b[34m Human \u001b[0m\u001b[34m────────────────────────────────────────────────────\u001b[0m\u001b[34m─╮\u001b[0m\n",
              "\u001b[34m│\u001b[0m Role of Satellites                                                                                              \u001b[34m│\u001b[0m\n",
              "\u001b[34m╰─────────────────────────────────────────────────────────────────────────────────────────────────────────────────╯\u001b[0m\n"
            ],
            "text/html": [
              "<pre style=\"white-space:pre;overflow-x:auto;line-height:normal;font-family:Menlo,'DejaVu Sans Mono',consolas,'Courier New',monospace\"><span style=\"color: #000080; text-decoration-color: #000080\">╭───────────────────────────────────────────────────── Human ─────────────────────────────────────────────────────╮</span>\n",
              "<span style=\"color: #000080; text-decoration-color: #000080\">│</span> Role of Satellites                                                                                              <span style=\"color: #000080; text-decoration-color: #000080\">│</span>\n",
              "<span style=\"color: #000080; text-decoration-color: #000080\">╰─────────────────────────────────────────────────────────────────────────────────────────────────────────────────╯</span>\n",
              "</pre>\n"
            ]
          },
          "metadata": {}
        },
        {
          "output_type": "display_data",
          "data": {
            "text/plain": [
              "\u001b[37m╭─\u001b[0m\u001b[37m─────────────────────────────────────────────────────\u001b[0m\u001b[37m AI \u001b[0m\u001b[37m──────────────────────────────────────────────────────\u001b[0m\u001b[37m─╮\u001b[0m\n",
              "\u001b[37m│\u001b[0m To provide you with the most relevant information, could you please specify which aspects of the 'Role of       \u001b[37m│\u001b[0m\n",
              "\u001b[37m│\u001b[0m Satellites' you're most interested in? For example, are you looking for their role in communication,            \u001b[37m│\u001b[0m\n",
              "\u001b[37m│\u001b[0m navigation, Earth observation, scientific research, military applications, or something else?                   \u001b[37m│\u001b[0m\n",
              "\u001b[37m╰─────────────────────────────────────────────────────────────────────────────────────────────────────────────────╯\u001b[0m\n"
            ],
            "text/html": [
              "<pre style=\"white-space:pre;overflow-x:auto;line-height:normal;font-family:Menlo,'DejaVu Sans Mono',consolas,'Courier New',monospace\"><span style=\"color: #c0c0c0; text-decoration-color: #c0c0c0\">╭────────────────────────────────────────────────────── AI ───────────────────────────────────────────────────────╮</span>\n",
              "<span style=\"color: #c0c0c0; text-decoration-color: #c0c0c0\">│</span> To provide you with the most relevant information, could you please specify which aspects of the 'Role of       <span style=\"color: #c0c0c0; text-decoration-color: #c0c0c0\">│</span>\n",
              "<span style=\"color: #c0c0c0; text-decoration-color: #c0c0c0\">│</span> Satellites' you're most interested in? For example, are you looking for their role in communication,            <span style=\"color: #c0c0c0; text-decoration-color: #c0c0c0\">│</span>\n",
              "<span style=\"color: #c0c0c0; text-decoration-color: #c0c0c0\">│</span> navigation, Earth observation, scientific research, military applications, or something else?                   <span style=\"color: #c0c0c0; text-decoration-color: #c0c0c0\">│</span>\n",
              "<span style=\"color: #c0c0c0; text-decoration-color: #c0c0c0\">╰─────────────────────────────────────────────────────────────────────────────────────────────────────────────────╯</span>\n",
              "</pre>\n"
            ]
          },
          "metadata": {}
        },
        {
          "name": "stdout",
          "output_type": "stream",
          "text": [
            "\n",
            "Enter your research topic (or type 'exit' to quit): role in Earth observation\n"
          ]
        },
        {
          "output_type": "display_data",
          "data": {
            "text/plain": [
              "\u001b[34m╭─\u001b[0m\u001b[34m────────────────────────────────────────────────────\u001b[0m\u001b[34m Human \u001b[0m\u001b[34m────────────────────────────────────────────────────\u001b[0m\u001b[34m─╮\u001b[0m\n",
              "\u001b[34m│\u001b[0m Role of Satellites                                                                                              \u001b[34m│\u001b[0m\n",
              "\u001b[34m╰─────────────────────────────────────────────────────────────────────────────────────────────────────────────────╯\u001b[0m\n"
            ],
            "text/html": [
              "<pre style=\"white-space:pre;overflow-x:auto;line-height:normal;font-family:Menlo,'DejaVu Sans Mono',consolas,'Courier New',monospace\"><span style=\"color: #000080; text-decoration-color: #000080\">╭───────────────────────────────────────────────────── Human ─────────────────────────────────────────────────────╮</span>\n",
              "<span style=\"color: #000080; text-decoration-color: #000080\">│</span> Role of Satellites                                                                                              <span style=\"color: #000080; text-decoration-color: #000080\">│</span>\n",
              "<span style=\"color: #000080; text-decoration-color: #000080\">╰─────────────────────────────────────────────────────────────────────────────────────────────────────────────────╯</span>\n",
              "</pre>\n"
            ]
          },
          "metadata": {}
        },
        {
          "output_type": "display_data",
          "data": {
            "text/plain": [
              "\u001b[37m╭─\u001b[0m\u001b[37m─────────────────────────────────────────────────────\u001b[0m\u001b[37m AI \u001b[0m\u001b[37m──────────────────────────────────────────────────────\u001b[0m\u001b[37m─╮\u001b[0m\n",
              "\u001b[37m│\u001b[0m To provide you with the most relevant information, could you please specify which aspects of the 'Role of       \u001b[37m│\u001b[0m\n",
              "\u001b[37m│\u001b[0m Satellites' you're most interested in? For example, are you looking for their role in communication,            \u001b[37m│\u001b[0m\n",
              "\u001b[37m│\u001b[0m navigation, Earth observation, scientific research, military applications, or something else?                   \u001b[37m│\u001b[0m\n",
              "\u001b[37m╰─────────────────────────────────────────────────────────────────────────────────────────────────────────────────╯\u001b[0m\n"
            ],
            "text/html": [
              "<pre style=\"white-space:pre;overflow-x:auto;line-height:normal;font-family:Menlo,'DejaVu Sans Mono',consolas,'Courier New',monospace\"><span style=\"color: #c0c0c0; text-decoration-color: #c0c0c0\">╭────────────────────────────────────────────────────── AI ───────────────────────────────────────────────────────╮</span>\n",
              "<span style=\"color: #c0c0c0; text-decoration-color: #c0c0c0\">│</span> To provide you with the most relevant information, could you please specify which aspects of the 'Role of       <span style=\"color: #c0c0c0; text-decoration-color: #c0c0c0\">│</span>\n",
              "<span style=\"color: #c0c0c0; text-decoration-color: #c0c0c0\">│</span> Satellites' you're most interested in? For example, are you looking for their role in communication,            <span style=\"color: #c0c0c0; text-decoration-color: #c0c0c0\">│</span>\n",
              "<span style=\"color: #c0c0c0; text-decoration-color: #c0c0c0\">│</span> navigation, Earth observation, scientific research, military applications, or something else?                   <span style=\"color: #c0c0c0; text-decoration-color: #c0c0c0\">│</span>\n",
              "<span style=\"color: #c0c0c0; text-decoration-color: #c0c0c0\">╰─────────────────────────────────────────────────────────────────────────────────────────────────────────────────╯</span>\n",
              "</pre>\n"
            ]
          },
          "metadata": {}
        },
        {
          "output_type": "display_data",
          "data": {
            "text/plain": [
              "\u001b[34m╭─\u001b[0m\u001b[34m────────────────────────────────────────────────────\u001b[0m\u001b[34m Human \u001b[0m\u001b[34m────────────────────────────────────────────────────\u001b[0m\u001b[34m─╮\u001b[0m\n",
              "\u001b[34m│\u001b[0m role in Earth observation                                                                                       \u001b[34m│\u001b[0m\n",
              "\u001b[34m╰─────────────────────────────────────────────────────────────────────────────────────────────────────────────────╯\u001b[0m\n"
            ],
            "text/html": [
              "<pre style=\"white-space:pre;overflow-x:auto;line-height:normal;font-family:Menlo,'DejaVu Sans Mono',consolas,'Courier New',monospace\"><span style=\"color: #000080; text-decoration-color: #000080\">╭───────────────────────────────────────────────────── Human ─────────────────────────────────────────────────────╮</span>\n",
              "<span style=\"color: #000080; text-decoration-color: #000080\">│</span> role in Earth observation                                                                                       <span style=\"color: #000080; text-decoration-color: #000080\">│</span>\n",
              "<span style=\"color: #000080; text-decoration-color: #000080\">╰─────────────────────────────────────────────────────────────────────────────────────────────────────────────────╯</span>\n",
              "</pre>\n"
            ]
          },
          "metadata": {}
        },
        {
          "output_type": "display_data",
          "data": {
            "text/plain": [
              "\u001b[37m╭─\u001b[0m\u001b[37m─────────────────────────────────────────────────────\u001b[0m\u001b[37m AI \u001b[0m\u001b[37m──────────────────────────────────────────────────────\u001b[0m\u001b[37m─╮\u001b[0m\n",
              "\u001b[37m│\u001b[0m Earth observation is a broad field. To help me focus the report, could you specify which aspects of Earth       \u001b[37m│\u001b[0m\n",
              "\u001b[37m│\u001b[0m observation you are most interested in? For example, are you looking for their role in climate monitoring,      \u001b[37m│\u001b[0m\n",
              "\u001b[37m│\u001b[0m weather forecasting, environmental monitoring, land use mapping, disaster management, or a general overview of  \u001b[37m│\u001b[0m\n",
              "\u001b[37m│\u001b[0m all these areas?                                                                                                \u001b[37m│\u001b[0m\n",
              "\u001b[37m╰─────────────────────────────────────────────────────────────────────────────────────────────────────────────────╯\u001b[0m\n"
            ],
            "text/html": [
              "<pre style=\"white-space:pre;overflow-x:auto;line-height:normal;font-family:Menlo,'DejaVu Sans Mono',consolas,'Courier New',monospace\"><span style=\"color: #c0c0c0; text-decoration-color: #c0c0c0\">╭────────────────────────────────────────────────────── AI ───────────────────────────────────────────────────────╮</span>\n",
              "<span style=\"color: #c0c0c0; text-decoration-color: #c0c0c0\">│</span> Earth observation is a broad field. To help me focus the report, could you specify which aspects of Earth       <span style=\"color: #c0c0c0; text-decoration-color: #c0c0c0\">│</span>\n",
              "<span style=\"color: #c0c0c0; text-decoration-color: #c0c0c0\">│</span> observation you are most interested in? For example, are you looking for their role in climate monitoring,      <span style=\"color: #c0c0c0; text-decoration-color: #c0c0c0\">│</span>\n",
              "<span style=\"color: #c0c0c0; text-decoration-color: #c0c0c0\">│</span> weather forecasting, environmental monitoring, land use mapping, disaster management, or a general overview of  <span style=\"color: #c0c0c0; text-decoration-color: #c0c0c0\">│</span>\n",
              "<span style=\"color: #c0c0c0; text-decoration-color: #c0c0c0\">│</span> all these areas?                                                                                                <span style=\"color: #c0c0c0; text-decoration-color: #c0c0c0\">│</span>\n",
              "<span style=\"color: #c0c0c0; text-decoration-color: #c0c0c0\">╰─────────────────────────────────────────────────────────────────────────────────────────────────────────────────╯</span>\n",
              "</pre>\n"
            ]
          },
          "metadata": {}
        },
        {
          "name": "stdout",
          "output_type": "stream",
          "text": [
            "\n",
            "Enter your research topic (or type 'exit' to quit): a general overview of all these areas?\n"
          ]
        },
        {
          "output_type": "display_data",
          "data": {
            "text/plain": [
              "\u001b[34m╭─\u001b[0m\u001b[34m────────────────────────────────────────────────────\u001b[0m\u001b[34m Human \u001b[0m\u001b[34m────────────────────────────────────────────────────\u001b[0m\u001b[34m─╮\u001b[0m\n",
              "\u001b[34m│\u001b[0m Role of Satellites                                                                                              \u001b[34m│\u001b[0m\n",
              "\u001b[34m╰─────────────────────────────────────────────────────────────────────────────────────────────────────────────────╯\u001b[0m\n"
            ],
            "text/html": [
              "<pre style=\"white-space:pre;overflow-x:auto;line-height:normal;font-family:Menlo,'DejaVu Sans Mono',consolas,'Courier New',monospace\"><span style=\"color: #000080; text-decoration-color: #000080\">╭───────────────────────────────────────────────────── Human ─────────────────────────────────────────────────────╮</span>\n",
              "<span style=\"color: #000080; text-decoration-color: #000080\">│</span> Role of Satellites                                                                                              <span style=\"color: #000080; text-decoration-color: #000080\">│</span>\n",
              "<span style=\"color: #000080; text-decoration-color: #000080\">╰─────────────────────────────────────────────────────────────────────────────────────────────────────────────────╯</span>\n",
              "</pre>\n"
            ]
          },
          "metadata": {}
        },
        {
          "output_type": "display_data",
          "data": {
            "text/plain": [
              "\u001b[37m╭─\u001b[0m\u001b[37m─────────────────────────────────────────────────────\u001b[0m\u001b[37m AI \u001b[0m\u001b[37m──────────────────────────────────────────────────────\u001b[0m\u001b[37m─╮\u001b[0m\n",
              "\u001b[37m│\u001b[0m To provide you with the most relevant information, could you please specify which aspects of the 'Role of       \u001b[37m│\u001b[0m\n",
              "\u001b[37m│\u001b[0m Satellites' you're most interested in? For example, are you looking for their role in communication,            \u001b[37m│\u001b[0m\n",
              "\u001b[37m│\u001b[0m navigation, Earth observation, scientific research, military applications, or something else?                   \u001b[37m│\u001b[0m\n",
              "\u001b[37m╰─────────────────────────────────────────────────────────────────────────────────────────────────────────────────╯\u001b[0m\n"
            ],
            "text/html": [
              "<pre style=\"white-space:pre;overflow-x:auto;line-height:normal;font-family:Menlo,'DejaVu Sans Mono',consolas,'Courier New',monospace\"><span style=\"color: #c0c0c0; text-decoration-color: #c0c0c0\">╭────────────────────────────────────────────────────── AI ───────────────────────────────────────────────────────╮</span>\n",
              "<span style=\"color: #c0c0c0; text-decoration-color: #c0c0c0\">│</span> To provide you with the most relevant information, could you please specify which aspects of the 'Role of       <span style=\"color: #c0c0c0; text-decoration-color: #c0c0c0\">│</span>\n",
              "<span style=\"color: #c0c0c0; text-decoration-color: #c0c0c0\">│</span> Satellites' you're most interested in? For example, are you looking for their role in communication,            <span style=\"color: #c0c0c0; text-decoration-color: #c0c0c0\">│</span>\n",
              "<span style=\"color: #c0c0c0; text-decoration-color: #c0c0c0\">│</span> navigation, Earth observation, scientific research, military applications, or something else?                   <span style=\"color: #c0c0c0; text-decoration-color: #c0c0c0\">│</span>\n",
              "<span style=\"color: #c0c0c0; text-decoration-color: #c0c0c0\">╰─────────────────────────────────────────────────────────────────────────────────────────────────────────────────╯</span>\n",
              "</pre>\n"
            ]
          },
          "metadata": {}
        },
        {
          "output_type": "display_data",
          "data": {
            "text/plain": [
              "\u001b[34m╭─\u001b[0m\u001b[34m────────────────────────────────────────────────────\u001b[0m\u001b[34m Human \u001b[0m\u001b[34m────────────────────────────────────────────────────\u001b[0m\u001b[34m─╮\u001b[0m\n",
              "\u001b[34m│\u001b[0m role in Earth observation                                                                                       \u001b[34m│\u001b[0m\n",
              "\u001b[34m╰─────────────────────────────────────────────────────────────────────────────────────────────────────────────────╯\u001b[0m\n"
            ],
            "text/html": [
              "<pre style=\"white-space:pre;overflow-x:auto;line-height:normal;font-family:Menlo,'DejaVu Sans Mono',consolas,'Courier New',monospace\"><span style=\"color: #000080; text-decoration-color: #000080\">╭───────────────────────────────────────────────────── Human ─────────────────────────────────────────────────────╮</span>\n",
              "<span style=\"color: #000080; text-decoration-color: #000080\">│</span> role in Earth observation                                                                                       <span style=\"color: #000080; text-decoration-color: #000080\">│</span>\n",
              "<span style=\"color: #000080; text-decoration-color: #000080\">╰─────────────────────────────────────────────────────────────────────────────────────────────────────────────────╯</span>\n",
              "</pre>\n"
            ]
          },
          "metadata": {}
        },
        {
          "output_type": "display_data",
          "data": {
            "text/plain": [
              "\u001b[37m╭─\u001b[0m\u001b[37m─────────────────────────────────────────────────────\u001b[0m\u001b[37m AI \u001b[0m\u001b[37m──────────────────────────────────────────────────────\u001b[0m\u001b[37m─╮\u001b[0m\n",
              "\u001b[37m│\u001b[0m Earth observation is a broad field. To help me focus the report, could you specify which aspects of Earth       \u001b[37m│\u001b[0m\n",
              "\u001b[37m│\u001b[0m observation you are most interested in? For example, are you looking for their role in climate monitoring,      \u001b[37m│\u001b[0m\n",
              "\u001b[37m│\u001b[0m weather forecasting, environmental monitoring, land use mapping, disaster management, or a general overview of  \u001b[37m│\u001b[0m\n",
              "\u001b[37m│\u001b[0m all these areas?                                                                                                \u001b[37m│\u001b[0m\n",
              "\u001b[37m╰─────────────────────────────────────────────────────────────────────────────────────────────────────────────────╯\u001b[0m\n"
            ],
            "text/html": [
              "<pre style=\"white-space:pre;overflow-x:auto;line-height:normal;font-family:Menlo,'DejaVu Sans Mono',consolas,'Courier New',monospace\"><span style=\"color: #c0c0c0; text-decoration-color: #c0c0c0\">╭────────────────────────────────────────────────────── AI ───────────────────────────────────────────────────────╮</span>\n",
              "<span style=\"color: #c0c0c0; text-decoration-color: #c0c0c0\">│</span> Earth observation is a broad field. To help me focus the report, could you specify which aspects of Earth       <span style=\"color: #c0c0c0; text-decoration-color: #c0c0c0\">│</span>\n",
              "<span style=\"color: #c0c0c0; text-decoration-color: #c0c0c0\">│</span> observation you are most interested in? For example, are you looking for their role in climate monitoring,      <span style=\"color: #c0c0c0; text-decoration-color: #c0c0c0\">│</span>\n",
              "<span style=\"color: #c0c0c0; text-decoration-color: #c0c0c0\">│</span> weather forecasting, environmental monitoring, land use mapping, disaster management, or a general overview of  <span style=\"color: #c0c0c0; text-decoration-color: #c0c0c0\">│</span>\n",
              "<span style=\"color: #c0c0c0; text-decoration-color: #c0c0c0\">│</span> all these areas?                                                                                                <span style=\"color: #c0c0c0; text-decoration-color: #c0c0c0\">│</span>\n",
              "<span style=\"color: #c0c0c0; text-decoration-color: #c0c0c0\">╰─────────────────────────────────────────────────────────────────────────────────────────────────────────────────╯</span>\n",
              "</pre>\n"
            ]
          },
          "metadata": {}
        },
        {
          "output_type": "display_data",
          "data": {
            "text/plain": [
              "\u001b[34m╭─\u001b[0m\u001b[34m────────────────────────────────────────────────────\u001b[0m\u001b[34m Human \u001b[0m\u001b[34m────────────────────────────────────────────────────\u001b[0m\u001b[34m─╮\u001b[0m\n",
              "\u001b[34m│\u001b[0m a general overview of all these areas?                                                                          \u001b[34m│\u001b[0m\n",
              "\u001b[34m╰─────────────────────────────────────────────────────────────────────────────────────────────────────────────────╯\u001b[0m\n"
            ],
            "text/html": [
              "<pre style=\"white-space:pre;overflow-x:auto;line-height:normal;font-family:Menlo,'DejaVu Sans Mono',consolas,'Courier New',monospace\"><span style=\"color: #000080; text-decoration-color: #000080\">╭───────────────────────────────────────────────────── Human ─────────────────────────────────────────────────────╮</span>\n",
              "<span style=\"color: #000080; text-decoration-color: #000080\">│</span> a general overview of all these areas?                                                                          <span style=\"color: #000080; text-decoration-color: #000080\">│</span>\n",
              "<span style=\"color: #000080; text-decoration-color: #000080\">╰─────────────────────────────────────────────────────────────────────────────────────────────────────────────────╯</span>\n",
              "</pre>\n"
            ]
          },
          "metadata": {}
        },
        {
          "output_type": "display_data",
          "data": {
            "text/plain": [
              "\u001b[37m╭─\u001b[0m\u001b[37m─────────────────────────────────────────────────────\u001b[0m\u001b[37m AI \u001b[0m\u001b[37m──────────────────────────────────────────────────────\u001b[0m\u001b[37m─╮\u001b[0m\n",
              "\u001b[37m│\u001b[0m The user has clearly specified they want a 'general overview of all these areas' (climate monitoring, weather   \u001b[37m│\u001b[0m\n",
              "\u001b[37m│\u001b[0m forecasting, environmental monitoring, land use mapping, disaster management) regarding the role of satellites  \u001b[37m│\u001b[0m\n",
              "\u001b[37m│\u001b[0m in Earth observation. This provides sufficient scope to begin the research.                                     \u001b[37m│\u001b[0m\n",
              "\u001b[37m╰─────────────────────────────────────────────────────────────────────────────────────────────────────────────────╯\u001b[0m\n"
            ],
            "text/html": [
              "<pre style=\"white-space:pre;overflow-x:auto;line-height:normal;font-family:Menlo,'DejaVu Sans Mono',consolas,'Courier New',monospace\"><span style=\"color: #c0c0c0; text-decoration-color: #c0c0c0\">╭────────────────────────────────────────────────────── AI ───────────────────────────────────────────────────────╮</span>\n",
              "<span style=\"color: #c0c0c0; text-decoration-color: #c0c0c0\">│</span> The user has clearly specified they want a 'general overview of all these areas' (climate monitoring, weather   <span style=\"color: #c0c0c0; text-decoration-color: #c0c0c0\">│</span>\n",
              "<span style=\"color: #c0c0c0; text-decoration-color: #c0c0c0\">│</span> forecasting, environmental monitoring, land use mapping, disaster management) regarding the role of satellites  <span style=\"color: #c0c0c0; text-decoration-color: #c0c0c0\">│</span>\n",
              "<span style=\"color: #c0c0c0; text-decoration-color: #c0c0c0\">│</span> in Earth observation. This provides sufficient scope to begin the research.                                     <span style=\"color: #c0c0c0; text-decoration-color: #c0c0c0\">│</span>\n",
              "<span style=\"color: #c0c0c0; text-decoration-color: #c0c0c0\">╰─────────────────────────────────────────────────────────────────────────────────────────────────────────────────╯</span>\n",
              "</pre>\n"
            ]
          },
          "metadata": {}
        },
        {
          "output_type": "display_data",
          "data": {
            "text/plain": [
              "\u001b[37m╭─\u001b[0m\u001b[37m─────────────────────────────────────────────────────\u001b[0m\u001b[37m AI \u001b[0m\u001b[37m──────────────────────────────────────────────────────\u001b[0m\u001b[37m─╮\u001b[0m\n",
              "\u001b[37m│\u001b[0m Research brief generated successfully                                                                           \u001b[37m│\u001b[0m\n",
              "\u001b[37m╰─────────────────────────────────────────────────────────────────────────────────────────────────────────────────╯\u001b[0m\n"
            ],
            "text/html": [
              "<pre style=\"white-space:pre;overflow-x:auto;line-height:normal;font-family:Menlo,'DejaVu Sans Mono',consolas,'Courier New',monospace\"><span style=\"color: #c0c0c0; text-decoration-color: #c0c0c0\">╭────────────────────────────────────────────────────── AI ───────────────────────────────────────────────────────╮</span>\n",
              "<span style=\"color: #c0c0c0; text-decoration-color: #c0c0c0\">│</span> Research brief generated successfully                                                                           <span style=\"color: #c0c0c0; text-decoration-color: #c0c0c0\">│</span>\n",
              "<span style=\"color: #c0c0c0; text-decoration-color: #c0c0c0\">╰─────────────────────────────────────────────────────────────────────────────────────────────────────────────────╯</span>\n",
              "</pre>\n"
            ]
          },
          "metadata": {}
        },
        {
          "output_type": "display_data",
          "data": {
            "text/plain": [
              "<IPython.core.display.Markdown object>"
            ],
            "text/markdown": "\n### Research Brief: Research Brief: The Multifaceted Role of Satellites in Earth Observation\n\n**Date:** 2025-09-17\n\n**Problem Statement**\nEffective management of Earth's natural resources, mitigation of climate change impacts, accurate weather prediction, and rapid disaster response all hinge upon access to consistent, comprehensive, and global observational data. Traditional ground-based methods often lack the spatial coverage, temporal resolution, and uniformity required to address these complex, interconnected challenges. Understanding the pivotal role of satellite technology in overcoming these data gaps and providing a holistic view of our planet is essential for informed decision-making and sustainable development.\n\n**Key Questions**\n- How do satellites contribute to global climate monitoring, including tracking essential climate variables such as sea level rise, ice sheet dynamics, and atmospheric greenhouse gas concentrations?\n- What is the impact of satellite-derived data on enhancing the accuracy and lead time of modern weather forecasting models, particularly for extreme weather events?\n- In what ways do satellites enable comprehensive environmental monitoring, from assessing deforestation and ocean health to tracking air quality and water resource changes?\n- How do satellite imagery and remote sensing data facilitate precise land use and land cover mapping, and what are its critical applications in urban planning, agriculture, and resource management?\n- What critical role do satellites play across all phases of disaster management, including early warning, damage assessment, and supporting humanitarian aid and recovery efforts?\n- What are the current technological limitations and emerging advancements in satellite-based Earth observation that will further enhance our capabilities across these diverse applications?\n"
          },
          "metadata": {}
        },
        {
          "output_type": "display_data",
          "data": {
            "text/plain": [
              "<IPython.core.display.Markdown object>"
            ],
            "text/markdown": "### Raw JSON Research Brief\n```json\n{\n  \"title\": \"Research Brief: The Multifaceted Role of Satellites in Earth Observation\",\n  \"date\": \"Wed Sep 17, 2025\",\n  \"problem_statement\": \"Effective management of Earth's natural resources, mitigation of climate change impacts, accurate weather prediction, and rapid disaster response all hinge upon access to consistent, comprehensive, and global observational data. Traditional ground-based methods often lack the spatial coverage, temporal resolution, and uniformity required to address these complex, interconnected challenges. Understanding the pivotal role of satellite technology in overcoming these data gaps and providing a holistic view of our planet is essential for informed decision-making and sustainable development.\",\n  \"key_questions\": [\n    \"How do satellites contribute to global climate monitoring, including tracking essential climate variables such as sea level rise, ice sheet dynamics, and atmospheric greenhouse gas concentrations?\",\n    \"What is the impact of satellite-derived data on enhancing the accuracy and lead time of modern weather forecasting models, particularly for extreme weather events?\",\n    \"In what ways do satellites enable comprehensive environmental monitoring, from assessing deforestation and ocean health to tracking air quality and water resource changes?\",\n    \"How do satellite imagery and remote sensing data facilitate precise land use and land cover mapping, and what are its critical applications in urban planning, agriculture, and resource management?\",\n    \"What critical role do satellites play across all phases of disaster management, including early warning, damage assessment, and supporting humanitarian aid and recovery efforts?\",\n    \"What are the current technological limitations and emerging advancements in satellite-based Earth observation that will further enhance our capabilities across these diverse applications?\"\n  ]\n}\n```"
          },
          "metadata": {}
        },
        {
          "name": "stdout",
          "output_type": "stream",
          "text": [
            "\n",
            "Enter your research topic (or type 'exit' to quit): exit\n"
          ]
        }
      ]
    }
  ]
}